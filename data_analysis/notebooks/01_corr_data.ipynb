{
 "cells": [
  {
   "cell_type": "markdown",
   "id": "305887702ef8d75b",
   "metadata": {},
   "source": [
    "En este notebook vamos a verificar la correlación de los datos para visualizar la relación entre las variables."
   ]
  },
  {
   "cell_type": "markdown",
   "id": "6a7586e849d66459",
   "metadata": {
    "editable": true,
    "slideshow": {
     "slide_type": ""
    },
    "tags": []
   },
   "source": [
    "## Librerías"
   ]
  },
  {
   "cell_type": "code",
   "execution_count": 1,
   "id": "3c52043b138cd0d2",
   "metadata": {
    "ExecuteTime": {
     "end_time": "2024-05-13T23:43:45.165546Z",
     "start_time": "2024-05-13T23:43:45.159240Z"
    }
   },
   "outputs": [],
   "source": [
    "import pandas as pd\n",
    "import numpy as np\n",
    "import os\n",
    "from pathlib import PurePath\n",
    "import matplotlib.pyplot as plt"
   ]
  },
  {
   "cell_type": "markdown",
   "id": "93cf23c92ae6f7aa",
   "metadata": {},
   "source": [
    "## Carga de datos"
   ]
  },
  {
   "cell_type": "markdown",
   "id": "fd7d97c3-3052-4ed7-bea4-2c97040560de",
   "metadata": {},
   "source": [
    "Datos modelados"
   ]
  },
  {
   "cell_type": "code",
   "execution_count": 2,
   "id": "cd9f55e4800e4c88",
   "metadata": {
    "ExecuteTime": {
     "end_time": "2024-05-13T23:33:00.288288Z",
     "start_time": "2024-05-13T23:33:00.282565Z"
    }
   },
   "outputs": [],
   "source": [
    "root = r\"../..\\data_analysis\\all_vars\\zafra2021\"\n",
    "root2 = r\"../..\\data_analysis\\all_vars\\zafra2022\""
   ]
  },
  {
   "cell_type": "markdown",
   "id": "ed5bf9a6-6d96-4554-8746-82fbb16ad1d9",
   "metadata": {},
   "source": [
    "Datos reales"
   ]
  },
  {
   "cell_type": "code",
   "execution_count": 3,
   "id": "eb4eceee-1247-4086-bb8b-d4f317515402",
   "metadata": {},
   "outputs": [],
   "source": [
    "reales21 = r\"../../datos/parcelas/ready_to_analyze/zafra2021/\"\n",
    "reales22 = r\"../../datos/parcelas/ready_to_analyze/zafra2022/\""
   ]
  },
  {
   "cell_type": "code",
   "execution_count": 21,
   "id": "25410a72edc86578",
   "metadata": {
    "ExecuteTime": {
     "end_time": "2024-05-13T23:33:01.103871Z",
     "start_time": "2024-05-13T23:33:00.877389Z"
    }
   },
   "outputs": [],
   "source": [
    "dfs_21_m = [(pd.read_csv(PurePath(root, f), parse_dates=True), int(f.split('.')[0].split('_')[1])) for f in os.listdir(root) if f.endswith(\".csv\")]\n",
    "dfs_22_m = [(pd.read_csv(PurePath(root2, f), parse_dates=True), int(f.split('.')[0].split('_')[1])) for f in os.listdir(root2) if f.endswith(\".csv\")]\n",
    "dfs_21_r = [(pd.read_csv(PurePath(reales21, f), parse_dates=True), int(f.split('.')[0].split('_')[1])) for f in os.listdir(reales21) if f.endswith(\".csv\")]\n",
    "dfs_22_r = [(pd.read_csv(PurePath(reales22, f), parse_dates=True), int(f.split('.')[0].split('_')[1])) for f in os.listdir(reales22) if f.endswith(\".csv\")]"
   ]
  },
  {
   "cell_type": "markdown",
   "id": "c8f9380630a50a5e",
   "metadata": {},
   "source": [
    "### Dfs para las variables resumidas"
   ]
  },
  {
   "cell_type": "code",
   "execution_count": 29,
   "id": "e09b4cae1582b1fb",
   "metadata": {
    "ExecuteTime": {
     "end_time": "2024-05-13T23:33:02.536811Z",
     "start_time": "2024-05-13T23:33:02.524619Z"
    }
   },
   "outputs": [],
   "source": [
    "zafra2021_r = pd.DataFrame(columns=[\n",
    "    'parcela',\n",
    "    'ndvi_max',\n",
    "    'ndvi_max_date',\n",
    "    'ndvi_mean',\n",
    "    'gndvi_max',\n",
    "    'gndvi_max_date',\n",
    "    'gndvi_mean',\n",
    "    'cire_max',\n",
    "    'cire_mean',\n",
    "    'ndre1_max',\n",
    "    'ndre1_mean',\n",
    "    'msi_mean'\n",
    "])\n",
    "\n",
    "zafra2021_m = pd.DataFrame(columns=[\n",
    "    'parcela',\n",
    "    'ndvi_max',\n",
    "    'ndvi_mean',\n",
    "    'ndvi_max_date',\n",
    "    'gndvi_max',\n",
    "    'gndvi_mean',\n",
    "    'gndvi_max_date',\n",
    "    'cire_max',\n",
    "    'cire_mean',\n",
    "    'ndre1_max',\n",
    "    'ndre1_mean',\n",
    "    'msi_mean',\n",
    "    'lluvia_acum',\n",
    "    'etc_acum'\n",
    "])\n",
    "\n",
    "zafra2022_r = pd.DataFrame(columns=[\n",
    "    'parcela',\n",
    "    'ndvi_max',\n",
    "    'ndvi_max_date',\n",
    "    'ndvi_mean',\n",
    "    'gndvi_max',\n",
    "    'gndvi_max_date',\n",
    "    'gndvi_mean',\n",
    "    'cire_max',\n",
    "    'cire_mean',\n",
    "    'ndre1_max',\n",
    "    'ndre1_mean',\n",
    "    'msi_mean'\n",
    "])\n",
    "\n",
    "zafra2022_m = pd.DataFrame(columns=[\n",
    "    'parcela',\n",
    "    'ndvi_max',\n",
    "    'ndvi_mean',\n",
    "    'ndvi_max_date',\n",
    "    'gndvi_max',\n",
    "    'gndvi_mean',\n",
    "    'gndvi_max_date',\n",
    "    'cire_max',\n",
    "    'cire_mean',\n",
    "    'ndre1_max',\n",
    "    'ndre1_mean',\n",
    "    'msi_mean',\n",
    "    'lluvia_acum',\n",
    "    'etc_acum'\n",
    "])"
   ]
  },
  {
   "cell_type": "markdown",
   "id": "3b952a8e089aec24",
   "metadata": {},
   "source": [
    "### Asignación de los datos"
   ]
  },
  {
   "cell_type": "code",
   "execution_count": 30,
   "id": "94265b65aa73618e",
   "metadata": {
    "ExecuteTime": {
     "end_time": "2024-05-13T23:33:10.801367Z",
     "start_time": "2024-05-13T23:33:10.657728Z"
    }
   },
   "outputs": [
    {
     "name": "stderr",
     "output_type": "stream",
     "text": [
      "C:\\Users\\vival\\AppData\\Local\\Temp\\ipykernel_12852\\1009053882.py:21: FutureWarning: The behavior of DataFrame concatenation with empty or all-NA entries is deprecated. In a future version, this will no longer exclude empty or all-NA columns when determining the result dtypes. To retain the old behavior, exclude the relevant entries before the concat operation.\n",
      "  zafra2021_m = zafra2021_m._append({\n",
      "C:\\Users\\vival\\AppData\\Local\\Temp\\ipykernel_12852\\1009053882.py:59: FutureWarning: The behavior of DataFrame concatenation with empty or all-NA entries is deprecated. In a future version, this will no longer exclude empty or all-NA columns when determining the result dtypes. To retain the old behavior, exclude the relevant entries before the concat operation.\n",
      "  zafra2022_m = zafra2022_m._append({\n",
      "C:\\Users\\vival\\AppData\\Local\\Temp\\ipykernel_12852\\1009053882.py:94: FutureWarning: The behavior of DataFrame concatenation with empty or all-NA entries is deprecated. In a future version, this will no longer exclude empty or all-NA columns when determining the result dtypes. To retain the old behavior, exclude the relevant entries before the concat operation.\n",
      "  zafra2021_r = zafra2021_r._append({\n",
      "C:\\Users\\vival\\AppData\\Local\\Temp\\ipykernel_12852\\1009053882.py:127: FutureWarning: The behavior of DataFrame concatenation with empty or all-NA entries is deprecated. In a future version, this will no longer exclude empty or all-NA columns when determining the result dtypes. To retain the old behavior, exclude the relevant entries before the concat operation.\n",
      "  zafra2022_r = zafra2022_r._append({\n"
     ]
    }
   ],
   "source": [
    "for i in dfs_21_m:\n",
    "    i[0]['Fecha'] = pd.to_datetime(i[0]['Fecha'])\n",
    "    parcela_id = i[1]\n",
    "    ndvi_max = i[0]['ndvi'].max()\n",
    "    ndvi_max_date_loc = i[0]['ndvi'].idxmax()\n",
    "    ndvi_max_date = i[0].loc[ndvi_max_date_loc, 'Fecha']\n",
    "    ndvi_mean = i[0]['ndvi'].mean()\n",
    "    gndvi_max = i[0]['gndvi'].max()\n",
    "    gndvi_max_date_loc = i[0]['gndvi'].idxmax()\n",
    "    gndvi_max_date = i[0].loc[gndvi_max_date_loc, 'Fecha']\n",
    "    gndvi_mean = i[0]['gndvi'].mean()\n",
    "    cire_max = i[0]['cire'].max()\n",
    "    cire_mean = i[0]['cire'].mean()\n",
    "    ndre1_max = i[0]['ndre1'].max()\n",
    "    ndre1_mean = i[0]['ndre1'].mean()\n",
    "    msi_mean = i[0]['msi'].mean()\n",
    "    lluvia = i[0]['precip'].sum()\n",
    "    etc_acum = i[0]['etc'].sum()\n",
    "    \n",
    "    \n",
    "    zafra2021_m = zafra2021_m._append({\n",
    "        'parcela': parcela_id,\n",
    "        'ndvi_max': ndvi_max,\n",
    "        'ndvi_max_date': ndvi_max_date,\n",
    "        'ndvi_mean': ndvi_mean,\n",
    "        'gndvi_max': gndvi_max,\n",
    "        'gndvi_max_date': gndvi_max_date,\n",
    "        'gndvi_mean': gndvi_mean,\n",
    "        'cire_max': cire_max,\n",
    "        'cire_mean': cire_mean,\n",
    "        'ndre1_max': ndre1_max,\n",
    "        'ndre1_mean': ndre1_mean,\n",
    "        'msi_mean': msi_mean,\n",
    "        'lluvia_acum': lluvia,\n",
    "        'etc_acum': etc_acum\n",
    "    }, ignore_index=True) \n",
    "    \n",
    "    \n",
    "for i in dfs_22_m:\n",
    "    i[0]['Fecha'] = pd.to_datetime(i[0]['Fecha'])\n",
    "    parcela_id = i[1]\n",
    "    ndvi_max = i[0]['ndvi'].max()\n",
    "    ndvi_max_date_loc = i[0]['ndvi'].idxmax()\n",
    "    ndvi_max_date = i[0].loc[ndvi_max_date_loc, 'Fecha']\n",
    "    ndvi_mean = i[0]['ndvi'].mean()\n",
    "    gndvi_max = i[0]['gndvi'].max()\n",
    "    gndvi_max_date_loc = i[0]['gndvi'].idxmax()\n",
    "    gndvi_max_date = i[0].loc[gndvi_max_date_loc, 'Fecha']\n",
    "    gndvi_mean = i[0]['gndvi'].mean()\n",
    "    cire_max = i[0]['cire'].max()\n",
    "    cire_mean = i[0]['cire'].mean()\n",
    "    ndre1_max = i[0]['ndre1'].max()\n",
    "    ndre1_mean = i[0]['ndre1'].mean()\n",
    "    msi_mean = i[0]['msi'].mean()\n",
    "    lluvia = i[0]['precip'].sum()\n",
    "    etc_acum = i[0]['etc'].sum()\n",
    "    \n",
    "    \n",
    "    zafra2022_m = zafra2022_m._append({\n",
    "        'parcela': parcela_id,\n",
    "        'ndvi_max': ndvi_max,\n",
    "        'ndvi_max_date': ndvi_max_date,\n",
    "        'ndvi_mean': ndvi_mean,\n",
    "        'gndvi_max': gndvi_max,\n",
    "        'gndvi_max_date': gndvi_max_date,\n",
    "        'gndvi_mean': gndvi_mean,\n",
    "        'cire_max': cire_max,\n",
    "        'cire_mean': cire_mean,\n",
    "        'ndre1_max': ndre1_max,\n",
    "        'ndre1_mean': ndre1_mean,\n",
    "        'msi_mean': msi_mean,\n",
    "        'lluvia_acum': lluvia,\n",
    "        'etc_acum': etc_acum\n",
    "    }, ignore_index=True)\n",
    "\n",
    "for i in dfs_21_r:\n",
    "    i[0]['Fecha'] = pd.to_datetime(i[0]['Fecha'])\n",
    "    parcela_id = i[1]\n",
    "    ndvi_max = i[0]['ndvi_mean'].max()\n",
    "    ndvi_max_date_loc = i[0]['ndvi_mean'].idxmax()\n",
    "    ndvi_max_date = i[0].loc[ndvi_max_date_loc, 'Fecha']\n",
    "    ndvi_mean = i[0]['ndvi_max'].mean()\n",
    "    gndvi_max = i[0]['gndvi_mean'].max()\n",
    "    gndvi_max_date_loc = i[0]['gndvi_mean'].idxmax()\n",
    "    gndvi_max_date = i[0].loc[gndvi_max_date_loc, 'Fecha']\n",
    "    gndvi_mean = i[0]['gndvi_mean'].mean()\n",
    "    cire_max = i[0]['cire_mean'].max()\n",
    "    cire_mean = i[0]['cire_mean'].mean()\n",
    "    ndre1_max = i[0]['ndre1_mean'].max()\n",
    "    ndre1_mean = i[0]['ndre1_mean'].mean()\n",
    "    msi_mean = i[0]['msi_mean'].mean()\n",
    "    \n",
    "    \n",
    "    zafra2021_r = zafra2021_r._append({\n",
    "        'parcela': parcela_id,\n",
    "        'ndvi_max': ndvi_max,\n",
    "        'ndvi_max_date': ndvi_max_date,\n",
    "        'ndvi_mean': ndvi_mean,\n",
    "        'gndvi_max': gndvi_max,\n",
    "        'gndvi_max_date': gndvi_max_date,\n",
    "        'gndvi_mean': gndvi_mean,\n",
    "        'cire_max': cire_max,\n",
    "        'cire_mean': cire_mean,\n",
    "        'ndre1_max': ndre1_max,\n",
    "        'ndre1_mean': ndre1_mean,\n",
    "        'msi_mean': msi_mean\n",
    "    }, ignore_index=True)\n",
    "\n",
    "for i in dfs_22_r:\n",
    "    i[0]['Fecha'] = pd.to_datetime(i[0]['Fecha'])\n",
    "    parcela_id = i[1]\n",
    "    ndvi_max = i[0]['ndvi_mean'].max()\n",
    "    ndvi_max_date_loc = i[0]['ndvi_mean'].idxmax()\n",
    "    ndvi_max_date = i[0].loc[ndvi_max_date_loc, 'Fecha']\n",
    "    ndvi_mean = i[0]['ndvi_mean'].mean()\n",
    "    gndvi_max = i[0]['gndvi_mean'].max()\n",
    "    gndvi_max_date_loc = i[0]['gndvi_mean'].idxmax()\n",
    "    gndvi_max_date = i[0].loc[gndvi_max_date_loc, 'Fecha']\n",
    "    gndvi_mean = i[0]['gndvi_mean'].mean()\n",
    "    cire_max = i[0]['cire_mean'].max()\n",
    "    cire_mean = i[0]['cire_mean'].mean()\n",
    "    ndre1_max = i[0]['ndre1_mean'].max()\n",
    "    ndre1_mean = i[0]['ndre1_mean'].mean()\n",
    "    msi_mean = i[0]['msi_mean'].mean()\n",
    "    \n",
    "    \n",
    "    zafra2022_r = zafra2022_r._append({\n",
    "        'parcela': parcela_id,\n",
    "        'ndvi_max': ndvi_max,\n",
    "        'ndvi_max_date': ndvi_max_date,\n",
    "        'ndvi_mean': ndvi_mean,\n",
    "        'gndvi_max': gndvi_max,\n",
    "        'gndvi_max_date': gndvi_max_date,\n",
    "        'gndvi_mean': gndvi_mean,\n",
    "        'cire_max': cire_max,\n",
    "        'cire_mean': cire_mean,\n",
    "        'ndre1_max': ndre1_max,\n",
    "        'ndre1_mean': ndre1_mean,\n",
    "        'msi_mean': msi_mean\n",
    "    }, ignore_index=True)"
   ]
  },
  {
   "cell_type": "code",
   "execution_count": 31,
   "id": "26aa575124d1d1f3",
   "metadata": {
    "ExecuteTime": {
     "end_time": "2024-05-13T23:33:16.836352Z",
     "start_time": "2024-05-13T23:33:16.826058Z"
    }
   },
   "outputs": [],
   "source": [
    "zafra2021_r['rendimiento'] = pd.Series([49, 80, 73, 33, 56, 62, 32, 64, 48, 53, 78, 81, 68, 73, 71])\n",
    "zafra2022_r['rendimiento'] = pd.Series([48, 75, 75, 30, 50, 60, 25, 60, 45, 50, 75, 75, 75, 75, 75])\n",
    "zafra2021_m['rendimiento'] = pd.Series([49, 80, 73, 33, 56, 62, 32, 64, 48, 53, 78, 81, 68, 73, 71])\n",
    "zafra2022_m['rendimiento'] = pd.Series([48, 75, 75, 30, 50, 60, 25, 60, 45, 50, 75, 75, 75, 75, 75])"
   ]
  },
  {
   "cell_type": "code",
   "execution_count": 35,
   "id": "8e442a99-b41d-4c21-b38c-aef0afd5e18a",
   "metadata": {},
   "outputs": [
    {
     "data": {
      "text/html": [
       "<div>\n",
       "<style scoped>\n",
       "    .dataframe tbody tr th:only-of-type {\n",
       "        vertical-align: middle;\n",
       "    }\n",
       "\n",
       "    .dataframe tbody tr th {\n",
       "        vertical-align: top;\n",
       "    }\n",
       "\n",
       "    .dataframe thead th {\n",
       "        text-align: right;\n",
       "    }\n",
       "</style>\n",
       "<table border=\"1\" class=\"dataframe\">\n",
       "  <thead>\n",
       "    <tr style=\"text-align: right;\">\n",
       "      <th></th>\n",
       "      <th>parcela</th>\n",
       "      <th>ndvi_max</th>\n",
       "      <th>ndvi_max_date</th>\n",
       "      <th>ndvi_mean</th>\n",
       "      <th>gndvi_max</th>\n",
       "      <th>gndvi_max_date</th>\n",
       "      <th>gndvi_mean</th>\n",
       "      <th>cire_max</th>\n",
       "      <th>cire_mean</th>\n",
       "      <th>ndre1_max</th>\n",
       "      <th>ndre1_mean</th>\n",
       "      <th>msi_mean</th>\n",
       "      <th>rendimiento</th>\n",
       "    </tr>\n",
       "  </thead>\n",
       "  <tbody>\n",
       "    <tr>\n",
       "      <th>0</th>\n",
       "      <td>1</td>\n",
       "      <td>0.722026</td>\n",
       "      <td>2021-07-20</td>\n",
       "      <td>0.659827</td>\n",
       "      <td>0.611195</td>\n",
       "      <td>2021-07-20</td>\n",
       "      <td>0.495580</td>\n",
       "      <td>2.137607</td>\n",
       "      <td>1.089279</td>\n",
       "      <td>0.437886</td>\n",
       "      <td>0.271793</td>\n",
       "      <td>0.973475</td>\n",
       "      <td>49</td>\n",
       "    </tr>\n",
       "    <tr>\n",
       "      <th>1</th>\n",
       "      <td>10</td>\n",
       "      <td>0.789002</td>\n",
       "      <td>2021-11-07</td>\n",
       "      <td>0.673109</td>\n",
       "      <td>0.674874</td>\n",
       "      <td>2021-10-18</td>\n",
       "      <td>0.551287</td>\n",
       "      <td>2.712167</td>\n",
       "      <td>1.652685</td>\n",
       "      <td>0.495965</td>\n",
       "      <td>0.342263</td>\n",
       "      <td>0.836552</td>\n",
       "      <td>80</td>\n",
       "    </tr>\n",
       "    <tr>\n",
       "      <th>2</th>\n",
       "      <td>11</td>\n",
       "      <td>0.784050</td>\n",
       "      <td>2021-10-18</td>\n",
       "      <td>0.668129</td>\n",
       "      <td>0.669851</td>\n",
       "      <td>2021-10-18</td>\n",
       "      <td>0.516115</td>\n",
       "      <td>2.934797</td>\n",
       "      <td>1.600793</td>\n",
       "      <td>0.501269</td>\n",
       "      <td>0.334255</td>\n",
       "      <td>0.831293</td>\n",
       "      <td>73</td>\n",
       "    </tr>\n",
       "    <tr>\n",
       "      <th>3</th>\n",
       "      <td>13</td>\n",
       "      <td>0.768197</td>\n",
       "      <td>2021-10-18</td>\n",
       "      <td>0.638861</td>\n",
       "      <td>0.643851</td>\n",
       "      <td>2021-10-18</td>\n",
       "      <td>0.493181</td>\n",
       "      <td>2.453825</td>\n",
       "      <td>1.358069</td>\n",
       "      <td>0.469358</td>\n",
       "      <td>0.312645</td>\n",
       "      <td>0.870845</td>\n",
       "      <td>33</td>\n",
       "    </tr>\n",
       "    <tr>\n",
       "      <th>4</th>\n",
       "      <td>14</td>\n",
       "      <td>0.770016</td>\n",
       "      <td>2021-07-20</td>\n",
       "      <td>0.723100</td>\n",
       "      <td>0.663564</td>\n",
       "      <td>2021-07-20</td>\n",
       "      <td>0.541100</td>\n",
       "      <td>3.027057</td>\n",
       "      <td>1.575675</td>\n",
       "      <td>0.502094</td>\n",
       "      <td>0.333062</td>\n",
       "      <td>0.822499</td>\n",
       "      <td>56</td>\n",
       "    </tr>\n",
       "    <tr>\n",
       "      <th>5</th>\n",
       "      <td>15</td>\n",
       "      <td>0.808480</td>\n",
       "      <td>2021-10-03</td>\n",
       "      <td>0.676693</td>\n",
       "      <td>0.689769</td>\n",
       "      <td>2021-10-03</td>\n",
       "      <td>0.521296</td>\n",
       "      <td>2.870582</td>\n",
       "      <td>1.506351</td>\n",
       "      <td>0.518706</td>\n",
       "      <td>0.333292</td>\n",
       "      <td>0.784162</td>\n",
       "      <td>62</td>\n",
       "    </tr>\n",
       "    <tr>\n",
       "      <th>6</th>\n",
       "      <td>16</td>\n",
       "      <td>0.711976</td>\n",
       "      <td>2021-06-10</td>\n",
       "      <td>0.611482</td>\n",
       "      <td>0.595419</td>\n",
       "      <td>2021-06-10</td>\n",
       "      <td>0.481766</td>\n",
       "      <td>2.020006</td>\n",
       "      <td>1.058378</td>\n",
       "      <td>0.432154</td>\n",
       "      <td>0.268726</td>\n",
       "      <td>0.946938</td>\n",
       "      <td>32</td>\n",
       "    </tr>\n",
       "    <tr>\n",
       "      <th>7</th>\n",
       "      <td>2</td>\n",
       "      <td>0.812483</td>\n",
       "      <td>2021-10-18</td>\n",
       "      <td>0.658499</td>\n",
       "      <td>0.693115</td>\n",
       "      <td>2021-10-18</td>\n",
       "      <td>0.488314</td>\n",
       "      <td>3.091810</td>\n",
       "      <td>1.353983</td>\n",
       "      <td>0.524393</td>\n",
       "      <td>0.304081</td>\n",
       "      <td>0.871917</td>\n",
       "      <td>64</td>\n",
       "    </tr>\n",
       "    <tr>\n",
       "      <th>8</th>\n",
       "      <td>3</td>\n",
       "      <td>0.709677</td>\n",
       "      <td>2021-06-05</td>\n",
       "      <td>0.654788</td>\n",
       "      <td>0.595402</td>\n",
       "      <td>2021-06-05</td>\n",
       "      <td>0.484713</td>\n",
       "      <td>2.016217</td>\n",
       "      <td>1.229935</td>\n",
       "      <td>0.433159</td>\n",
       "      <td>0.304236</td>\n",
       "      <td>0.916678</td>\n",
       "      <td>48</td>\n",
       "    </tr>\n",
       "    <tr>\n",
       "      <th>10</th>\n",
       "      <td>5</td>\n",
       "      <td>0.786533</td>\n",
       "      <td>2021-10-18</td>\n",
       "      <td>0.704063</td>\n",
       "      <td>0.677972</td>\n",
       "      <td>2021-10-18</td>\n",
       "      <td>0.535719</td>\n",
       "      <td>2.761417</td>\n",
       "      <td>1.503621</td>\n",
       "      <td>0.497870</td>\n",
       "      <td>0.328689</td>\n",
       "      <td>0.845076</td>\n",
       "      <td>78</td>\n",
       "    </tr>\n",
       "    <tr>\n",
       "      <th>11</th>\n",
       "      <td>6</td>\n",
       "      <td>0.760924</td>\n",
       "      <td>2021-10-18</td>\n",
       "      <td>0.695853</td>\n",
       "      <td>0.654772</td>\n",
       "      <td>2021-10-18</td>\n",
       "      <td>0.529127</td>\n",
       "      <td>2.314469</td>\n",
       "      <td>1.410946</td>\n",
       "      <td>0.459308</td>\n",
       "      <td>0.330115</td>\n",
       "      <td>0.818588</td>\n",
       "      <td>81</td>\n",
       "    </tr>\n",
       "    <tr>\n",
       "      <th>12</th>\n",
       "      <td>7</td>\n",
       "      <td>0.819193</td>\n",
       "      <td>2021-10-18</td>\n",
       "      <td>0.624349</td>\n",
       "      <td>0.701562</td>\n",
       "      <td>2021-10-18</td>\n",
       "      <td>0.528422</td>\n",
       "      <td>3.215447</td>\n",
       "      <td>1.541443</td>\n",
       "      <td>0.534600</td>\n",
       "      <td>0.315122</td>\n",
       "      <td>0.915879</td>\n",
       "      <td>68</td>\n",
       "    </tr>\n",
       "    <tr>\n",
       "      <th>13</th>\n",
       "      <td>8</td>\n",
       "      <td>0.735058</td>\n",
       "      <td>2021-10-18</td>\n",
       "      <td>0.627667</td>\n",
       "      <td>0.637815</td>\n",
       "      <td>2021-10-18</td>\n",
       "      <td>0.496427</td>\n",
       "      <td>2.142162</td>\n",
       "      <td>1.109767</td>\n",
       "      <td>0.439031</td>\n",
       "      <td>0.272768</td>\n",
       "      <td>0.919846</td>\n",
       "      <td>73</td>\n",
       "    </tr>\n",
       "    <tr>\n",
       "      <th>14</th>\n",
       "      <td>9</td>\n",
       "      <td>0.785432</td>\n",
       "      <td>2021-10-18</td>\n",
       "      <td>0.672071</td>\n",
       "      <td>0.673492</td>\n",
       "      <td>2021-11-07</td>\n",
       "      <td>0.512713</td>\n",
       "      <td>2.743240</td>\n",
       "      <td>1.345469</td>\n",
       "      <td>0.495375</td>\n",
       "      <td>0.304798</td>\n",
       "      <td>0.850867</td>\n",
       "      <td>71</td>\n",
       "    </tr>\n",
       "  </tbody>\n",
       "</table>\n",
       "</div>"
      ],
      "text/plain": [
       "   parcela  ndvi_max ndvi_max_date  ndvi_mean  gndvi_max gndvi_max_date  \\\n",
       "0        1  0.722026    2021-07-20   0.659827   0.611195     2021-07-20   \n",
       "1       10  0.789002    2021-11-07   0.673109   0.674874     2021-10-18   \n",
       "2       11  0.784050    2021-10-18   0.668129   0.669851     2021-10-18   \n",
       "3       13  0.768197    2021-10-18   0.638861   0.643851     2021-10-18   \n",
       "4       14  0.770016    2021-07-20   0.723100   0.663564     2021-07-20   \n",
       "5       15  0.808480    2021-10-03   0.676693   0.689769     2021-10-03   \n",
       "6       16  0.711976    2021-06-10   0.611482   0.595419     2021-06-10   \n",
       "7        2  0.812483    2021-10-18   0.658499   0.693115     2021-10-18   \n",
       "8        3  0.709677    2021-06-05   0.654788   0.595402     2021-06-05   \n",
       "10       5  0.786533    2021-10-18   0.704063   0.677972     2021-10-18   \n",
       "11       6  0.760924    2021-10-18   0.695853   0.654772     2021-10-18   \n",
       "12       7  0.819193    2021-10-18   0.624349   0.701562     2021-10-18   \n",
       "13       8  0.735058    2021-10-18   0.627667   0.637815     2021-10-18   \n",
       "14       9  0.785432    2021-10-18   0.672071   0.673492     2021-11-07   \n",
       "\n",
       "    gndvi_mean  cire_max  cire_mean  ndre1_max  ndre1_mean  msi_mean  \\\n",
       "0     0.495580  2.137607   1.089279   0.437886    0.271793  0.973475   \n",
       "1     0.551287  2.712167   1.652685   0.495965    0.342263  0.836552   \n",
       "2     0.516115  2.934797   1.600793   0.501269    0.334255  0.831293   \n",
       "3     0.493181  2.453825   1.358069   0.469358    0.312645  0.870845   \n",
       "4     0.541100  3.027057   1.575675   0.502094    0.333062  0.822499   \n",
       "5     0.521296  2.870582   1.506351   0.518706    0.333292  0.784162   \n",
       "6     0.481766  2.020006   1.058378   0.432154    0.268726  0.946938   \n",
       "7     0.488314  3.091810   1.353983   0.524393    0.304081  0.871917   \n",
       "8     0.484713  2.016217   1.229935   0.433159    0.304236  0.916678   \n",
       "10    0.535719  2.761417   1.503621   0.497870    0.328689  0.845076   \n",
       "11    0.529127  2.314469   1.410946   0.459308    0.330115  0.818588   \n",
       "12    0.528422  3.215447   1.541443   0.534600    0.315122  0.915879   \n",
       "13    0.496427  2.142162   1.109767   0.439031    0.272768  0.919846   \n",
       "14    0.512713  2.743240   1.345469   0.495375    0.304798  0.850867   \n",
       "\n",
       "    rendimiento  \n",
       "0            49  \n",
       "1            80  \n",
       "2            73  \n",
       "3            33  \n",
       "4            56  \n",
       "5            62  \n",
       "6            32  \n",
       "7            64  \n",
       "8            48  \n",
       "10           78  \n",
       "11           81  \n",
       "12           68  \n",
       "13           73  \n",
       "14           71  "
      ]
     },
     "execution_count": 35,
     "metadata": {},
     "output_type": "execute_result"
    }
   ],
   "source": [
    "zafra2021_r"
   ]
  },
  {
   "cell_type": "code",
   "execution_count": 34,
   "id": "9503c105-2e6e-486b-8544-d5e81770fc03",
   "metadata": {},
   "outputs": [],
   "source": [
    "zafra2021_m.drop(zafra2021_m[zafra2021_m['parcela'] == 4].index, inplace=True)\n",
    "zafra2021_r.drop(zafra2021_r[zafra2021_r['parcela'] == 4].index, inplace=True)"
   ]
  },
  {
   "cell_type": "markdown",
   "id": "dab93c5d-2672-4121-838c-c24c12cf1824",
   "metadata": {},
   "source": [
    "## Correlacion entre vis y rendimiento"
   ]
  },
  {
   "cell_type": "code",
   "execution_count": 36,
   "id": "ba384a84-704a-45e5-a414-bfc1a5718fbc",
   "metadata": {},
   "outputs": [
    {
     "data": {
      "text/html": [
       "<div>\n",
       "<style scoped>\n",
       "    .dataframe tbody tr th:only-of-type {\n",
       "        vertical-align: middle;\n",
       "    }\n",
       "\n",
       "    .dataframe tbody tr th {\n",
       "        vertical-align: top;\n",
       "    }\n",
       "\n",
       "    .dataframe thead th {\n",
       "        text-align: right;\n",
       "    }\n",
       "</style>\n",
       "<table border=\"1\" class=\"dataframe\">\n",
       "  <thead>\n",
       "    <tr style=\"text-align: right;\">\n",
       "      <th></th>\n",
       "      <th>parcela</th>\n",
       "      <th>ndvi_max</th>\n",
       "      <th>ndvi_max_date</th>\n",
       "      <th>ndvi_mean</th>\n",
       "      <th>gndvi_max</th>\n",
       "      <th>gndvi_max_date</th>\n",
       "      <th>gndvi_mean</th>\n",
       "      <th>cire_max</th>\n",
       "      <th>cire_mean</th>\n",
       "      <th>ndre1_max</th>\n",
       "      <th>ndre1_mean</th>\n",
       "      <th>msi_mean</th>\n",
       "      <th>rendimiento</th>\n",
       "    </tr>\n",
       "  </thead>\n",
       "  <tbody>\n",
       "    <tr>\n",
       "      <th>rendimiento</th>\n",
       "      <td>-0.277867</td>\n",
       "      <td>0.515016</td>\n",
       "      <td>0.685773</td>\n",
       "      <td>0.452768</td>\n",
       "      <td>0.633972</td>\n",
       "      <td>0.670068</td>\n",
       "      <td>0.669491</td>\n",
       "      <td>0.420673</td>\n",
       "      <td>0.539744</td>\n",
       "      <td>0.440057</td>\n",
       "      <td>0.508946</td>\n",
       "      <td>-0.498383</td>\n",
       "      <td>1.000000</td>\n",
       "    </tr>\n",
       "    <tr>\n",
       "      <th>ndvi_max_date</th>\n",
       "      <td>-0.025872</td>\n",
       "      <td>0.749001</td>\n",
       "      <td>1.000000</td>\n",
       "      <td>0.130279</td>\n",
       "      <td>0.783391</td>\n",
       "      <td>0.989507</td>\n",
       "      <td>0.460679</td>\n",
       "      <td>0.535480</td>\n",
       "      <td>0.538097</td>\n",
       "      <td>0.585509</td>\n",
       "      <td>0.471865</td>\n",
       "      <td>-0.515864</td>\n",
       "      <td>0.685773</td>\n",
       "    </tr>\n",
       "    <tr>\n",
       "      <th>gndvi_max_date</th>\n",
       "      <td>-0.031715</td>\n",
       "      <td>0.746225</td>\n",
       "      <td>0.989507</td>\n",
       "      <td>0.129341</td>\n",
       "      <td>0.782266</td>\n",
       "      <td>1.000000</td>\n",
       "      <td>0.412411</td>\n",
       "      <td>0.537602</td>\n",
       "      <td>0.493836</td>\n",
       "      <td>0.585040</td>\n",
       "      <td>0.429271</td>\n",
       "      <td>-0.508460</td>\n",
       "      <td>0.670068</td>\n",
       "    </tr>\n",
       "    <tr>\n",
       "      <th>gndvi_mean</th>\n",
       "      <td>0.182932</td>\n",
       "      <td>0.554969</td>\n",
       "      <td>0.460679</td>\n",
       "      <td>0.662107</td>\n",
       "      <td>0.626258</td>\n",
       "      <td>0.412411</td>\n",
       "      <td>1.000000</td>\n",
       "      <td>0.562959</td>\n",
       "      <td>0.831568</td>\n",
       "      <td>0.557277</td>\n",
       "      <td>0.788697</td>\n",
       "      <td>-0.649798</td>\n",
       "      <td>0.669491</td>\n",
       "    </tr>\n",
       "    <tr>\n",
       "      <th>gndvi_max</th>\n",
       "      <td>0.053897</td>\n",
       "      <td>0.982882</td>\n",
       "      <td>0.783391</td>\n",
       "      <td>0.348513</td>\n",
       "      <td>1.000000</td>\n",
       "      <td>0.782266</td>\n",
       "      <td>0.626258</td>\n",
       "      <td>0.917687</td>\n",
       "      <td>0.773912</td>\n",
       "      <td>0.948630</td>\n",
       "      <td>0.655047</td>\n",
       "      <td>-0.647277</td>\n",
       "      <td>0.633972</td>\n",
       "    </tr>\n",
       "    <tr>\n",
       "      <th>cire_mean</th>\n",
       "      <td>0.231588</td>\n",
       "      <td>0.772443</td>\n",
       "      <td>0.538097</td>\n",
       "      <td>0.568650</td>\n",
       "      <td>0.773912</td>\n",
       "      <td>0.493836</td>\n",
       "      <td>0.831568</td>\n",
       "      <td>0.797281</td>\n",
       "      <td>1.000000</td>\n",
       "      <td>0.794737</td>\n",
       "      <td>0.951226</td>\n",
       "      <td>-0.779813</td>\n",
       "      <td>0.539744</td>\n",
       "    </tr>\n",
       "    <tr>\n",
       "      <th>ndvi_max</th>\n",
       "      <td>0.088035</td>\n",
       "      <td>1.000000</td>\n",
       "      <td>0.749001</td>\n",
       "      <td>0.277318</td>\n",
       "      <td>0.982882</td>\n",
       "      <td>0.746225</td>\n",
       "      <td>0.554969</td>\n",
       "      <td>0.926830</td>\n",
       "      <td>0.772443</td>\n",
       "      <td>0.969385</td>\n",
       "      <td>0.655888</td>\n",
       "      <td>-0.626116</td>\n",
       "      <td>0.515016</td>\n",
       "    </tr>\n",
       "    <tr>\n",
       "      <th>ndre1_mean</th>\n",
       "      <td>0.213864</td>\n",
       "      <td>0.655888</td>\n",
       "      <td>0.471865</td>\n",
       "      <td>0.676043</td>\n",
       "      <td>0.655047</td>\n",
       "      <td>0.429271</td>\n",
       "      <td>0.788697</td>\n",
       "      <td>0.638019</td>\n",
       "      <td>0.951226</td>\n",
       "      <td>0.655846</td>\n",
       "      <td>1.000000</td>\n",
       "      <td>-0.872475</td>\n",
       "      <td>0.508946</td>\n",
       "    </tr>\n",
       "    <tr>\n",
       "      <th>ndvi_mean</th>\n",
       "      <td>-0.047991</td>\n",
       "      <td>0.277318</td>\n",
       "      <td>0.130279</td>\n",
       "      <td>1.000000</td>\n",
       "      <td>0.348513</td>\n",
       "      <td>0.129341</td>\n",
       "      <td>0.662107</td>\n",
       "      <td>0.356301</td>\n",
       "      <td>0.568650</td>\n",
       "      <td>0.320643</td>\n",
       "      <td>0.676043</td>\n",
       "      <td>-0.699430</td>\n",
       "      <td>0.452768</td>\n",
       "    </tr>\n",
       "    <tr>\n",
       "      <th>ndre1_max</th>\n",
       "      <td>0.115977</td>\n",
       "      <td>0.969385</td>\n",
       "      <td>0.585509</td>\n",
       "      <td>0.320643</td>\n",
       "      <td>0.948630</td>\n",
       "      <td>0.585040</td>\n",
       "      <td>0.557277</td>\n",
       "      <td>0.981941</td>\n",
       "      <td>0.794737</td>\n",
       "      <td>1.000000</td>\n",
       "      <td>0.655846</td>\n",
       "      <td>-0.592035</td>\n",
       "      <td>0.440057</td>\n",
       "    </tr>\n",
       "    <tr>\n",
       "      <th>cire_max</th>\n",
       "      <td>0.118241</td>\n",
       "      <td>0.926830</td>\n",
       "      <td>0.535480</td>\n",
       "      <td>0.356301</td>\n",
       "      <td>0.917687</td>\n",
       "      <td>0.537602</td>\n",
       "      <td>0.562959</td>\n",
       "      <td>1.000000</td>\n",
       "      <td>0.797281</td>\n",
       "      <td>0.981941</td>\n",
       "      <td>0.638019</td>\n",
       "      <td>-0.558187</td>\n",
       "      <td>0.420673</td>\n",
       "    </tr>\n",
       "    <tr>\n",
       "      <th>parcela</th>\n",
       "      <td>1.000000</td>\n",
       "      <td>0.088035</td>\n",
       "      <td>-0.025872</td>\n",
       "      <td>-0.047991</td>\n",
       "      <td>0.053897</td>\n",
       "      <td>-0.031715</td>\n",
       "      <td>0.182932</td>\n",
       "      <td>0.118241</td>\n",
       "      <td>0.231588</td>\n",
       "      <td>0.115977</td>\n",
       "      <td>0.213864</td>\n",
       "      <td>-0.380065</td>\n",
       "      <td>-0.277867</td>\n",
       "    </tr>\n",
       "    <tr>\n",
       "      <th>msi_mean</th>\n",
       "      <td>-0.380065</td>\n",
       "      <td>-0.626116</td>\n",
       "      <td>-0.515864</td>\n",
       "      <td>-0.699430</td>\n",
       "      <td>-0.647277</td>\n",
       "      <td>-0.508460</td>\n",
       "      <td>-0.649798</td>\n",
       "      <td>-0.558187</td>\n",
       "      <td>-0.779813</td>\n",
       "      <td>-0.592035</td>\n",
       "      <td>-0.872475</td>\n",
       "      <td>1.000000</td>\n",
       "      <td>-0.498383</td>\n",
       "    </tr>\n",
       "  </tbody>\n",
       "</table>\n",
       "</div>"
      ],
      "text/plain": [
       "                 parcela  ndvi_max  ndvi_max_date  ndvi_mean  gndvi_max  \\\n",
       "rendimiento    -0.277867  0.515016       0.685773   0.452768   0.633972   \n",
       "ndvi_max_date  -0.025872  0.749001       1.000000   0.130279   0.783391   \n",
       "gndvi_max_date -0.031715  0.746225       0.989507   0.129341   0.782266   \n",
       "gndvi_mean      0.182932  0.554969       0.460679   0.662107   0.626258   \n",
       "gndvi_max       0.053897  0.982882       0.783391   0.348513   1.000000   \n",
       "cire_mean       0.231588  0.772443       0.538097   0.568650   0.773912   \n",
       "ndvi_max        0.088035  1.000000       0.749001   0.277318   0.982882   \n",
       "ndre1_mean      0.213864  0.655888       0.471865   0.676043   0.655047   \n",
       "ndvi_mean      -0.047991  0.277318       0.130279   1.000000   0.348513   \n",
       "ndre1_max       0.115977  0.969385       0.585509   0.320643   0.948630   \n",
       "cire_max        0.118241  0.926830       0.535480   0.356301   0.917687   \n",
       "parcela         1.000000  0.088035      -0.025872  -0.047991   0.053897   \n",
       "msi_mean       -0.380065 -0.626116      -0.515864  -0.699430  -0.647277   \n",
       "\n",
       "                gndvi_max_date  gndvi_mean  cire_max  cire_mean  ndre1_max  \\\n",
       "rendimiento           0.670068    0.669491  0.420673   0.539744   0.440057   \n",
       "ndvi_max_date         0.989507    0.460679  0.535480   0.538097   0.585509   \n",
       "gndvi_max_date        1.000000    0.412411  0.537602   0.493836   0.585040   \n",
       "gndvi_mean            0.412411    1.000000  0.562959   0.831568   0.557277   \n",
       "gndvi_max             0.782266    0.626258  0.917687   0.773912   0.948630   \n",
       "cire_mean             0.493836    0.831568  0.797281   1.000000   0.794737   \n",
       "ndvi_max              0.746225    0.554969  0.926830   0.772443   0.969385   \n",
       "ndre1_mean            0.429271    0.788697  0.638019   0.951226   0.655846   \n",
       "ndvi_mean             0.129341    0.662107  0.356301   0.568650   0.320643   \n",
       "ndre1_max             0.585040    0.557277  0.981941   0.794737   1.000000   \n",
       "cire_max              0.537602    0.562959  1.000000   0.797281   0.981941   \n",
       "parcela              -0.031715    0.182932  0.118241   0.231588   0.115977   \n",
       "msi_mean             -0.508460   -0.649798 -0.558187  -0.779813  -0.592035   \n",
       "\n",
       "                ndre1_mean  msi_mean  rendimiento  \n",
       "rendimiento       0.508946 -0.498383     1.000000  \n",
       "ndvi_max_date     0.471865 -0.515864     0.685773  \n",
       "gndvi_max_date    0.429271 -0.508460     0.670068  \n",
       "gndvi_mean        0.788697 -0.649798     0.669491  \n",
       "gndvi_max         0.655047 -0.647277     0.633972  \n",
       "cire_mean         0.951226 -0.779813     0.539744  \n",
       "ndvi_max          0.655888 -0.626116     0.515016  \n",
       "ndre1_mean        1.000000 -0.872475     0.508946  \n",
       "ndvi_mean         0.676043 -0.699430     0.452768  \n",
       "ndre1_max         0.655846 -0.592035     0.440057  \n",
       "cire_max          0.638019 -0.558187     0.420673  \n",
       "parcela           0.213864 -0.380065    -0.277867  \n",
       "msi_mean         -0.872475  1.000000    -0.498383  "
      ]
     },
     "execution_count": 36,
     "metadata": {},
     "output_type": "execute_result"
    }
   ],
   "source": [
    "zafra2021_r.corr().sort_values(by='rendimiento', ascending=False)"
   ]
  },
  {
   "cell_type": "code",
   "execution_count": 37,
   "id": "28ba1ca1-b134-41f0-80fe-2706e8218a1a",
   "metadata": {},
   "outputs": [],
   "source": [
    "zafras_r = pd.concat([zafra2021_r, zafra2022_r])\n",
    "zafras_m = pd.concat([zafra2021_m, zafra2022_m])"
   ]
  },
  {
   "cell_type": "code",
   "execution_count": 38,
   "id": "edaf2f05-6fde-4ce6-8a50-58f3a142ccf6",
   "metadata": {},
   "outputs": [
    {
     "data": {
      "text/html": [
       "<div>\n",
       "<style scoped>\n",
       "    .dataframe tbody tr th:only-of-type {\n",
       "        vertical-align: middle;\n",
       "    }\n",
       "\n",
       "    .dataframe tbody tr th {\n",
       "        vertical-align: top;\n",
       "    }\n",
       "\n",
       "    .dataframe thead th {\n",
       "        text-align: right;\n",
       "    }\n",
       "</style>\n",
       "<table border=\"1\" class=\"dataframe\">\n",
       "  <thead>\n",
       "    <tr style=\"text-align: right;\">\n",
       "      <th></th>\n",
       "      <th>parcela</th>\n",
       "      <th>ndvi_max</th>\n",
       "      <th>ndvi_mean</th>\n",
       "      <th>ndvi_max_date</th>\n",
       "      <th>gndvi_max</th>\n",
       "      <th>gndvi_mean</th>\n",
       "      <th>gndvi_max_date</th>\n",
       "      <th>cire_max</th>\n",
       "      <th>cire_mean</th>\n",
       "      <th>ndre1_max</th>\n",
       "      <th>ndre1_mean</th>\n",
       "      <th>msi_mean</th>\n",
       "      <th>lluvia_acum</th>\n",
       "      <th>etc_acum</th>\n",
       "      <th>rendimiento</th>\n",
       "    </tr>\n",
       "  </thead>\n",
       "  <tbody>\n",
       "    <tr>\n",
       "      <th>rendimiento</th>\n",
       "      <td>-0.256700</td>\n",
       "      <td>0.712368</td>\n",
       "      <td>0.711938</td>\n",
       "      <td>-0.030268</td>\n",
       "      <td>0.754049</td>\n",
       "      <td>0.812203</td>\n",
       "      <td>-0.049221</td>\n",
       "      <td>0.742655</td>\n",
       "      <td>0.747743</td>\n",
       "      <td>0.721967</td>\n",
       "      <td>0.719456</td>\n",
       "      <td>-0.644771</td>\n",
       "      <td>0.099611</td>\n",
       "      <td>0.068264</td>\n",
       "      <td>1.000000</td>\n",
       "    </tr>\n",
       "    <tr>\n",
       "      <th>gndvi_mean</th>\n",
       "      <td>-0.004640</td>\n",
       "      <td>0.869555</td>\n",
       "      <td>0.929169</td>\n",
       "      <td>0.108617</td>\n",
       "      <td>0.862105</td>\n",
       "      <td>1.000000</td>\n",
       "      <td>0.089621</td>\n",
       "      <td>0.892149</td>\n",
       "      <td>0.937791</td>\n",
       "      <td>0.888161</td>\n",
       "      <td>0.927675</td>\n",
       "      <td>-0.838966</td>\n",
       "      <td>-0.119157</td>\n",
       "      <td>0.003670</td>\n",
       "      <td>0.812203</td>\n",
       "    </tr>\n",
       "    <tr>\n",
       "      <th>gndvi_max</th>\n",
       "      <td>0.033070</td>\n",
       "      <td>0.970149</td>\n",
       "      <td>0.796875</td>\n",
       "      <td>0.185725</td>\n",
       "      <td>1.000000</td>\n",
       "      <td>0.862105</td>\n",
       "      <td>0.175981</td>\n",
       "      <td>0.955638</td>\n",
       "      <td>0.904183</td>\n",
       "      <td>0.955696</td>\n",
       "      <td>0.847544</td>\n",
       "      <td>-0.704459</td>\n",
       "      <td>-0.145541</td>\n",
       "      <td>-0.028164</td>\n",
       "      <td>0.754049</td>\n",
       "    </tr>\n",
       "    <tr>\n",
       "      <th>cire_mean</th>\n",
       "      <td>0.005925</td>\n",
       "      <td>0.936679</td>\n",
       "      <td>0.926879</td>\n",
       "      <td>0.091572</td>\n",
       "      <td>0.904183</td>\n",
       "      <td>0.937791</td>\n",
       "      <td>0.085185</td>\n",
       "      <td>0.970314</td>\n",
       "      <td>1.000000</td>\n",
       "      <td>0.967624</td>\n",
       "      <td>0.973890</td>\n",
       "      <td>-0.851038</td>\n",
       "      <td>-0.097882</td>\n",
       "      <td>0.119340</td>\n",
       "      <td>0.747743</td>\n",
       "    </tr>\n",
       "    <tr>\n",
       "      <th>cire_max</th>\n",
       "      <td>0.009056</td>\n",
       "      <td>0.964173</td>\n",
       "      <td>0.843569</td>\n",
       "      <td>0.091311</td>\n",
       "      <td>0.955638</td>\n",
       "      <td>0.892149</td>\n",
       "      <td>0.086450</td>\n",
       "      <td>1.000000</td>\n",
       "      <td>0.970314</td>\n",
       "      <td>0.988050</td>\n",
       "      <td>0.907559</td>\n",
       "      <td>-0.765091</td>\n",
       "      <td>-0.071774</td>\n",
       "      <td>0.123005</td>\n",
       "      <td>0.742655</td>\n",
       "    </tr>\n",
       "    <tr>\n",
       "      <th>ndre1_max</th>\n",
       "      <td>0.041818</td>\n",
       "      <td>0.986781</td>\n",
       "      <td>0.873808</td>\n",
       "      <td>0.091874</td>\n",
       "      <td>0.955696</td>\n",
       "      <td>0.888161</td>\n",
       "      <td>0.086280</td>\n",
       "      <td>0.988050</td>\n",
       "      <td>0.967624</td>\n",
       "      <td>1.000000</td>\n",
       "      <td>0.928019</td>\n",
       "      <td>-0.807499</td>\n",
       "      <td>-0.080693</td>\n",
       "      <td>0.122095</td>\n",
       "      <td>0.721967</td>\n",
       "    </tr>\n",
       "    <tr>\n",
       "      <th>ndre1_mean</th>\n",
       "      <td>0.007358</td>\n",
       "      <td>0.905808</td>\n",
       "      <td>0.981332</td>\n",
       "      <td>0.104246</td>\n",
       "      <td>0.847544</td>\n",
       "      <td>0.927675</td>\n",
       "      <td>0.097299</td>\n",
       "      <td>0.907559</td>\n",
       "      <td>0.973890</td>\n",
       "      <td>0.928019</td>\n",
       "      <td>1.000000</td>\n",
       "      <td>-0.922938</td>\n",
       "      <td>-0.126512</td>\n",
       "      <td>0.094454</td>\n",
       "      <td>0.719456</td>\n",
       "    </tr>\n",
       "    <tr>\n",
       "      <th>ndvi_max</th>\n",
       "      <td>0.082920</td>\n",
       "      <td>1.000000</td>\n",
       "      <td>0.863926</td>\n",
       "      <td>0.113590</td>\n",
       "      <td>0.970149</td>\n",
       "      <td>0.869555</td>\n",
       "      <td>0.105463</td>\n",
       "      <td>0.964173</td>\n",
       "      <td>0.936679</td>\n",
       "      <td>0.986781</td>\n",
       "      <td>0.905808</td>\n",
       "      <td>-0.803622</td>\n",
       "      <td>-0.097949</td>\n",
       "      <td>0.058973</td>\n",
       "      <td>0.712368</td>\n",
       "    </tr>\n",
       "    <tr>\n",
       "      <th>ndvi_mean</th>\n",
       "      <td>0.024382</td>\n",
       "      <td>0.863926</td>\n",
       "      <td>1.000000</td>\n",
       "      <td>0.108607</td>\n",
       "      <td>0.796875</td>\n",
       "      <td>0.929169</td>\n",
       "      <td>0.096991</td>\n",
       "      <td>0.843569</td>\n",
       "      <td>0.926879</td>\n",
       "      <td>0.873808</td>\n",
       "      <td>0.981332</td>\n",
       "      <td>-0.955552</td>\n",
       "      <td>-0.137471</td>\n",
       "      <td>0.060527</td>\n",
       "      <td>0.711938</td>\n",
       "    </tr>\n",
       "    <tr>\n",
       "      <th>lluvia_acum</th>\n",
       "      <td>-0.054212</td>\n",
       "      <td>-0.097949</td>\n",
       "      <td>-0.137471</td>\n",
       "      <td>-0.973037</td>\n",
       "      <td>-0.145541</td>\n",
       "      <td>-0.119157</td>\n",
       "      <td>-0.971020</td>\n",
       "      <td>-0.071774</td>\n",
       "      <td>-0.097882</td>\n",
       "      <td>-0.080693</td>\n",
       "      <td>-0.126512</td>\n",
       "      <td>0.102055</td>\n",
       "      <td>1.000000</td>\n",
       "      <td>0.742668</td>\n",
       "      <td>0.099611</td>\n",
       "    </tr>\n",
       "    <tr>\n",
       "      <th>etc_acum</th>\n",
       "      <td>-0.056669</td>\n",
       "      <td>0.058973</td>\n",
       "      <td>0.060527</td>\n",
       "      <td>-0.717821</td>\n",
       "      <td>-0.028164</td>\n",
       "      <td>0.003670</td>\n",
       "      <td>-0.709691</td>\n",
       "      <td>0.123005</td>\n",
       "      <td>0.119340</td>\n",
       "      <td>0.122095</td>\n",
       "      <td>0.094454</td>\n",
       "      <td>-0.144748</td>\n",
       "      <td>0.742668</td>\n",
       "      <td>1.000000</td>\n",
       "      <td>0.068264</td>\n",
       "    </tr>\n",
       "    <tr>\n",
       "      <th>ndvi_max_date</th>\n",
       "      <td>-0.028840</td>\n",
       "      <td>0.113590</td>\n",
       "      <td>0.108607</td>\n",
       "      <td>1.000000</td>\n",
       "      <td>0.185725</td>\n",
       "      <td>0.108617</td>\n",
       "      <td>0.997956</td>\n",
       "      <td>0.091311</td>\n",
       "      <td>0.091572</td>\n",
       "      <td>0.091874</td>\n",
       "      <td>0.104246</td>\n",
       "      <td>-0.069807</td>\n",
       "      <td>-0.973037</td>\n",
       "      <td>-0.717821</td>\n",
       "      <td>-0.030268</td>\n",
       "    </tr>\n",
       "    <tr>\n",
       "      <th>gndvi_max_date</th>\n",
       "      <td>-0.033906</td>\n",
       "      <td>0.105463</td>\n",
       "      <td>0.096991</td>\n",
       "      <td>0.997956</td>\n",
       "      <td>0.175981</td>\n",
       "      <td>0.089621</td>\n",
       "      <td>1.000000</td>\n",
       "      <td>0.086450</td>\n",
       "      <td>0.085185</td>\n",
       "      <td>0.086280</td>\n",
       "      <td>0.097299</td>\n",
       "      <td>-0.061444</td>\n",
       "      <td>-0.971020</td>\n",
       "      <td>-0.709691</td>\n",
       "      <td>-0.049221</td>\n",
       "    </tr>\n",
       "    <tr>\n",
       "      <th>parcela</th>\n",
       "      <td>1.000000</td>\n",
       "      <td>0.082920</td>\n",
       "      <td>0.024382</td>\n",
       "      <td>-0.028840</td>\n",
       "      <td>0.033070</td>\n",
       "      <td>-0.004640</td>\n",
       "      <td>-0.033906</td>\n",
       "      <td>0.009056</td>\n",
       "      <td>0.005925</td>\n",
       "      <td>0.041818</td>\n",
       "      <td>0.007358</td>\n",
       "      <td>-0.130044</td>\n",
       "      <td>-0.054212</td>\n",
       "      <td>-0.056669</td>\n",
       "      <td>-0.256700</td>\n",
       "    </tr>\n",
       "    <tr>\n",
       "      <th>msi_mean</th>\n",
       "      <td>-0.130044</td>\n",
       "      <td>-0.803622</td>\n",
       "      <td>-0.955552</td>\n",
       "      <td>-0.069807</td>\n",
       "      <td>-0.704459</td>\n",
       "      <td>-0.838966</td>\n",
       "      <td>-0.061444</td>\n",
       "      <td>-0.765091</td>\n",
       "      <td>-0.851038</td>\n",
       "      <td>-0.807499</td>\n",
       "      <td>-0.922938</td>\n",
       "      <td>1.000000</td>\n",
       "      <td>0.102055</td>\n",
       "      <td>-0.144748</td>\n",
       "      <td>-0.644771</td>\n",
       "    </tr>\n",
       "  </tbody>\n",
       "</table>\n",
       "</div>"
      ],
      "text/plain": [
       "                 parcela  ndvi_max  ndvi_mean  ndvi_max_date  gndvi_max  \\\n",
       "rendimiento    -0.256700  0.712368   0.711938      -0.030268   0.754049   \n",
       "gndvi_mean     -0.004640  0.869555   0.929169       0.108617   0.862105   \n",
       "gndvi_max       0.033070  0.970149   0.796875       0.185725   1.000000   \n",
       "cire_mean       0.005925  0.936679   0.926879       0.091572   0.904183   \n",
       "cire_max        0.009056  0.964173   0.843569       0.091311   0.955638   \n",
       "ndre1_max       0.041818  0.986781   0.873808       0.091874   0.955696   \n",
       "ndre1_mean      0.007358  0.905808   0.981332       0.104246   0.847544   \n",
       "ndvi_max        0.082920  1.000000   0.863926       0.113590   0.970149   \n",
       "ndvi_mean       0.024382  0.863926   1.000000       0.108607   0.796875   \n",
       "lluvia_acum    -0.054212 -0.097949  -0.137471      -0.973037  -0.145541   \n",
       "etc_acum       -0.056669  0.058973   0.060527      -0.717821  -0.028164   \n",
       "ndvi_max_date  -0.028840  0.113590   0.108607       1.000000   0.185725   \n",
       "gndvi_max_date -0.033906  0.105463   0.096991       0.997956   0.175981   \n",
       "parcela         1.000000  0.082920   0.024382      -0.028840   0.033070   \n",
       "msi_mean       -0.130044 -0.803622  -0.955552      -0.069807  -0.704459   \n",
       "\n",
       "                gndvi_mean  gndvi_max_date  cire_max  cire_mean  ndre1_max  \\\n",
       "rendimiento       0.812203       -0.049221  0.742655   0.747743   0.721967   \n",
       "gndvi_mean        1.000000        0.089621  0.892149   0.937791   0.888161   \n",
       "gndvi_max         0.862105        0.175981  0.955638   0.904183   0.955696   \n",
       "cire_mean         0.937791        0.085185  0.970314   1.000000   0.967624   \n",
       "cire_max          0.892149        0.086450  1.000000   0.970314   0.988050   \n",
       "ndre1_max         0.888161        0.086280  0.988050   0.967624   1.000000   \n",
       "ndre1_mean        0.927675        0.097299  0.907559   0.973890   0.928019   \n",
       "ndvi_max          0.869555        0.105463  0.964173   0.936679   0.986781   \n",
       "ndvi_mean         0.929169        0.096991  0.843569   0.926879   0.873808   \n",
       "lluvia_acum      -0.119157       -0.971020 -0.071774  -0.097882  -0.080693   \n",
       "etc_acum          0.003670       -0.709691  0.123005   0.119340   0.122095   \n",
       "ndvi_max_date     0.108617        0.997956  0.091311   0.091572   0.091874   \n",
       "gndvi_max_date    0.089621        1.000000  0.086450   0.085185   0.086280   \n",
       "parcela          -0.004640       -0.033906  0.009056   0.005925   0.041818   \n",
       "msi_mean         -0.838966       -0.061444 -0.765091  -0.851038  -0.807499   \n",
       "\n",
       "                ndre1_mean  msi_mean  lluvia_acum  etc_acum  rendimiento  \n",
       "rendimiento       0.719456 -0.644771     0.099611  0.068264     1.000000  \n",
       "gndvi_mean        0.927675 -0.838966    -0.119157  0.003670     0.812203  \n",
       "gndvi_max         0.847544 -0.704459    -0.145541 -0.028164     0.754049  \n",
       "cire_mean         0.973890 -0.851038    -0.097882  0.119340     0.747743  \n",
       "cire_max          0.907559 -0.765091    -0.071774  0.123005     0.742655  \n",
       "ndre1_max         0.928019 -0.807499    -0.080693  0.122095     0.721967  \n",
       "ndre1_mean        1.000000 -0.922938    -0.126512  0.094454     0.719456  \n",
       "ndvi_max          0.905808 -0.803622    -0.097949  0.058973     0.712368  \n",
       "ndvi_mean         0.981332 -0.955552    -0.137471  0.060527     0.711938  \n",
       "lluvia_acum      -0.126512  0.102055     1.000000  0.742668     0.099611  \n",
       "etc_acum          0.094454 -0.144748     0.742668  1.000000     0.068264  \n",
       "ndvi_max_date     0.104246 -0.069807    -0.973037 -0.717821    -0.030268  \n",
       "gndvi_max_date    0.097299 -0.061444    -0.971020 -0.709691    -0.049221  \n",
       "parcela           0.007358 -0.130044    -0.054212 -0.056669    -0.256700  \n",
       "msi_mean         -0.922938  1.000000     0.102055 -0.144748    -0.644771  "
      ]
     },
     "execution_count": 38,
     "metadata": {},
     "output_type": "execute_result"
    }
   ],
   "source": [
    "zafras_m.corr().sort_values(by='rendimiento', ascending=False)"
   ]
  },
  {
   "cell_type": "markdown",
   "id": "26566cc8-03f6-40fb-8caf-2c71bd62367a",
   "metadata": {},
   "source": [
    "### Exportar datos"
   ]
  },
  {
   "cell_type": "code",
   "execution_count": 48,
   "id": "e7e330c5-4908-4dad-9bef-e37166b2cc10",
   "metadata": {},
   "outputs": [],
   "source": [
    "zafra2022_r.to_csv(r'../../results/yield_data/data/zafra22_real.csv', index=False)"
   ]
  },
  {
   "cell_type": "markdown",
   "id": "4a402a09-bfaa-455f-b93d-1d53158a4d59",
   "metadata": {},
   "source": [
    "### Imagenes de corr"
   ]
  },
  {
   "cell_type": "code",
   "execution_count": 42,
   "id": "8efafd08-e8a9-41d0-b09c-62f730bc50b8",
   "metadata": {},
   "outputs": [
    {
     "name": "stderr",
     "output_type": "stream",
     "text": [
      "<>:8: SyntaxWarning: invalid escape sequence '\\c'\n",
      "<>:8: SyntaxWarning: invalid escape sequence '\\c'\n",
      "C:\\Users\\vival\\AppData\\Local\\Temp\\ipykernel_12096\\2007735512.py:8: SyntaxWarning: invalid escape sequence '\\c'\n",
      "  plt.ylabel('Rendimiento $ton \\cdot ha^{-1}$')\n"
     ]
    },
    {
     "data": {
      "image/png": "[encoded data removed]",
      "text/plain": [
       "<Figure size 1000x1000 with 1 Axes>"
      ]
     },
     "metadata": {},
     "output_type": "display_data"
    }
   ],
   "source": [
    "main_var = 'lluvia_acum'\n",
    "ds = zafra2021_m\n",
    "ds2 = zafra2022_m\n",
    "plt.figure(figsize=(10, 10))\n",
    "plt.scatter(ds[main_var], ds['rendimiento'], color=(150/255, 0, 24/255), label='Reales', marker='D')\n",
    "plt.scatter(ds2[main_var], ds2['rendimiento'], color='royalblue', label='Modelados', marker='D')\n",
    "plt.xlabel(f'{main_var.upper()}')\n",
    "plt.ylabel('Rendimiento $ton \\cdot ha^{-1}$')\n",
    "plt.legend(loc='upper left')\n",
    "plt.tight_layout()\n",
    "#plt.savefig(rf'../../tesis_img/correlacion/{main_var}_juntos_rm.pdf', dpi=100, format='pdf')\n",
    "plt.show()"
   ]
  },
  {
   "cell_type": "code",
   "execution_count": null,
   "id": "ab2ec873acc58b97",
   "metadata": {
    "ExecuteTime": {
     "end_time": "2024-05-13T23:33:17.307382Z",
     "start_time": "2024-05-13T23:33:17.299155Z"
    }
   },
   "outputs": [],
   "source": [
    "zafra2021 = zafra2021.drop(9)"
   ]
  },
  {
   "cell_type": "code",
   "execution_count": null,
   "id": "384c0a174ea943f2",
   "metadata": {
    "ExecuteTime": {
     "end_time": "2024-05-13T23:33:18.241279Z",
     "start_time": "2024-05-13T23:33:18.215774Z"
    }
   },
   "outputs": [],
   "source": [
    "zafra2021"
   ]
  },
  {
   "cell_type": "code",
   "execution_count": null,
   "id": "205fef49086fe641",
   "metadata": {
    "ExecuteTime": {
     "end_time": "2024-05-12T03:21:24.545877Z",
     "start_time": "2024-05-12T03:21:24.523243Z"
    }
   },
   "outputs": [],
   "source": [
    "to_concat_21 = []\n",
    "for i in dfs_21:\n",
    "    i[0]['Fecha'] = pd.to_datetime(i[0]['Fecha'])\n",
    "    to_concat_21.append(i[0])\n",
    "    \n",
    "df_21 = pd.concat(to_concat_21, ignore_index=True, axis=0)"
   ]
  },
  {
   "cell_type": "code",
   "execution_count": null,
   "id": "3c1915790a24549c",
   "metadata": {
    "ExecuteTime": {
     "end_time": "2024-05-12T03:21:25.253235Z",
     "start_time": "2024-05-12T03:21:25.231314Z"
    }
   },
   "outputs": [],
   "source": [
    "to_concat_22 = []\n",
    "for i in dfs_22:\n",
    "    i[0]['Fecha'] = pd.to_datetime(i[0]['Fecha'])\n",
    "    to_concat_22.append(i[0])\n",
    "    \n",
    "df_22= pd.concat(to_concat_22, ignore_index=True, axis=0)"
   ]
  },
  {
   "cell_type": "code",
   "execution_count": null,
   "id": "976b911ff9bc537b",
   "metadata": {
    "ExecuteTime": {
     "end_time": "2024-05-12T03:21:26.487632Z",
     "start_time": "2024-05-12T03:21:26.425376Z"
    }
   },
   "outputs": [],
   "source": [
    "df_22.corr()"
   ]
  },
  {
   "cell_type": "code",
   "execution_count": null,
   "id": "1b692adb92113700",
   "metadata": {
    "ExecuteTime": {
     "end_time": "2024-05-13T23:33:28.782556Z",
     "start_time": "2024-05-13T23:33:28.775042Z"
    }
   },
   "outputs": [],
   "source": [
    "juntos = pd.concat([zafra2021, zafra2022], ignore_index=True, axis=0)"
   ]
  },
  {
   "cell_type": "code",
   "execution_count": null,
   "id": "9ce119225fa8f323",
   "metadata": {
    "ExecuteTime": {
     "end_time": "2024-05-13T23:33:29.213178Z",
     "start_time": "2024-05-13T23:33:29.186240Z"
    }
   },
   "outputs": [],
   "source": [
    "juntos.corr()"
   ]
  },
  {
   "cell_type": "code",
   "execution_count": null,
   "id": "eef6a0e3d5e8f7fe",
   "metadata": {
    "ExecuteTime": {
     "end_time": "2024-05-13T23:33:33.193075Z",
     "start_time": "2024-05-13T23:33:33.165028Z"
    }
   },
   "outputs": [],
   "source": [
    "juntos.corr(method='pearson')"
   ]
  },
  {
   "cell_type": "code",
   "execution_count": null,
   "id": "acd6103f212a9778",
   "metadata": {
    "ExecuteTime": {
     "end_time": "2024-05-10T23:41:19.496217Z",
     "start_time": "2024-05-10T23:41:19.470898Z"
    }
   },
   "outputs": [],
   "source": [
    "fechas = r\"C:\\Users\\Isai\\Documents\\Tesis\\code\\fechas_claves\\harvest.json\"\n",
    "fechas_df = pd.read_json(fechas)\n",
    "fechas_df"
   ]
  },
  {
   "cell_type": "code",
   "execution_count": null,
   "id": "a8517add33a72533",
   "metadata": {
    "ExecuteTime": {
     "end_time": "2024-05-10T23:41:19.512571Z",
     "start_time": "2024-05-10T23:41:19.498208Z"
    }
   },
   "outputs": [],
   "source": [
    "fechas_21 = pd.merge(fechas_df, zafra2021, left_on='id', right_on='parcela')"
   ]
  },
  {
   "cell_type": "code",
   "execution_count": null,
   "id": "c0cbfbeb4f4ba36c",
   "metadata": {
    "ExecuteTime": {
     "end_time": "2024-05-10T23:41:19.526860Z",
     "start_time": "2024-05-10T23:41:19.514567Z"
    }
   },
   "outputs": [],
   "source": [
    "fechas_juntos = pd.merge(fechas_21, zafra2022, left_on='parcela', right_on='parcela')"
   ]
  },
  {
   "cell_type": "code",
   "execution_count": null,
   "id": "860bb38467bb8019",
   "metadata": {
    "ExecuteTime": {
     "end_time": "2024-05-10T23:42:41.194923Z",
     "start_time": "2024-05-10T23:42:41.180070Z"
    }
   },
   "outputs": [],
   "source": [
    "fechas_juntos"
   ]
  },
  {
   "cell_type": "markdown",
   "id": "817551a79333caa5",
   "metadata": {},
   "source": [
    "## Correlación"
   ]
  },
  {
   "cell_type": "code",
   "execution_count": null,
   "id": "851fac23ad4af8b2",
   "metadata": {
    "ExecuteTime": {
     "end_time": "2024-05-12T03:22:27.169603Z",
     "start_time": "2024-05-12T03:22:26.563351Z"
    }
   },
   "outputs": [],
   "source": [
    "ids = juntos['parcela'].unique()\n",
    "palette = sns.color_palette(\"hsv\", len(ids))\n",
    "var = 'ndvi_mean'\n",
    "\n",
    "plt.figure(figsize=(10, 10))\n",
    "sns.scatterplot(data=juntos, x=var, y='rendimiento', color='royalblue')\n",
    "#plt.scatter(zafra2022['lluvia_acum'], zafra2022['rendimiento'])\n",
    "plt.title(f'{var.split('_')[0].upper()}')\n",
    "plt.tight_layout()\n",
    "#plt.legend(title='Parcela')\n",
    "# plt.text(0.9, 0.9, f'Correlación: {df2[\"ndvi\"].corr(df2[\"Fecha\"], method=\"pearson\"):3f}', fontsize=12)\n",
    "#plt.savefig(PurePath(r\"C:\\Users\\Isai\\Documents\\Tesis\\code\\revision\\img\\juntos\\corr\", f'{var}_rendimiento_21.png'), dpi=300)\n",
    "plt.show()"
   ]
  },
  {
   "cell_type": "markdown",
   "id": "92f2a3e36704fca2",
   "metadata": {},
   "source": [
    "## Correlación entre vis y climaticos"
   ]
  },
  {
   "cell_type": "code",
   "execution_count": null,
   "id": "e200319e8fcdc264",
   "metadata": {
    "ExecuteTime": {
     "end_time": "2024-05-10T23:41:20.142062Z",
     "start_time": "2024-05-10T23:41:20.133434Z"
    }
   },
   "outputs": [],
   "source": [
    "lr_z22 = r\"C:\\Users\\Isai\\Documents\\Tesis\\code\\data_analysis\\datos\\model_predicts\\zafra2022\"\n",
    "lr_z21 = r\"C:\\Users\\Isai\\Documents\\Tesis\\code\\data_analysis\\datos\\model_predicts\\zafra2021\""
   ]
  },
  {
   "cell_type": "markdown",
   "id": "48a26947181c1739",
   "metadata": {},
   "source": [
    "## Diferencia de fechas de cosecha"
   ]
  },
  {
   "cell_type": "code",
   "execution_count": null,
   "id": "8ab945dfe4aa6bd9",
   "metadata": {
    "ExecuteTime": {
     "end_time": "2024-05-10T23:41:20.153925Z",
     "start_time": "2024-05-10T23:41:20.147049Z"
    }
   },
   "outputs": [],
   "source": [
    "fechas_juntos = fechas_juntos[['id', 'start', 'mid', 'end', 'ndvi_max_date_x', 'gndvi_max_date_x', 'ndvi_max_date_y', 'gndvi_max_date_y']]"
   ]
  },
  {
   "cell_type": "code",
   "execution_count": null,
   "id": "5ff20cf626cf6835",
   "metadata": {
    "ExecuteTime": {
     "end_time": "2024-05-10T23:41:20.168744Z",
     "start_time": "2024-05-10T23:41:20.158914Z"
    }
   },
   "outputs": [],
   "source": [
    "fechas_juntos['start'] = pd.to_datetime(fechas_juntos['start'])\n",
    "fechas_juntos['mid'] = pd.to_datetime(fechas_juntos['mid'])\n",
    "fechas_juntos['end'] = pd.to_datetime(fechas_juntos['end'])\n"
   ]
  },
  {
   "cell_type": "code",
   "execution_count": null,
   "id": "10eb7c5d50172989",
   "metadata": {
    "ExecuteTime": {
     "end_time": "2024-05-10T23:41:20.184313Z",
     "start_time": "2024-05-10T23:41:20.171732Z"
    }
   },
   "outputs": [],
   "source": [
    "fechas_juntos"
   ]
  },
  {
   "cell_type": "code",
   "execution_count": null,
   "id": "8f38906ca16f299f",
   "metadata": {
    "ExecuteTime": {
     "end_time": "2024-05-10T23:41:20.205902Z",
     "start_time": "2024-05-10T23:41:20.187302Z"
    }
   },
   "outputs": [],
   "source": [
    "fechas_juntos['dias_z21_ndvi'] = abs(fechas_juntos['ndvi_max_date_x'] - fechas_juntos['mid']).dt.days\n",
    "fechas_juntos['dias_z21_gndvi'] = abs(fechas_juntos['gndvi_max_date_x'] - fechas_juntos['mid']).dt.days\n",
    "fechas_juntos['dias_z22_ndvi'] = abs(fechas_juntos['ndvi_max_date_y'] - fechas_juntos['end']).dt.days\n",
    "fechas_juntos['dias_z22_gndvi'] = abs(fechas_juntos['gndvi_max_date_y'] - fechas_juntos['end']).dt.days"
   ]
  },
  {
   "cell_type": "code",
   "execution_count": null,
   "id": "148b07676c1f57c6",
   "metadata": {
    "ExecuteTime": {
     "end_time": "2024-05-10T23:41:20.223431Z",
     "start_time": "2024-05-10T23:41:20.207897Z"
    }
   },
   "outputs": [],
   "source": [
    "fechas_juntos"
   ]
  },
  {
   "cell_type": "code",
   "execution_count": null,
   "id": "1bdfe110991e9088",
   "metadata": {
    "ExecuteTime": {
     "end_time": "2024-05-10T23:41:20.809473Z",
     "start_time": "2024-05-10T23:41:20.226416Z"
    }
   },
   "outputs": [],
   "source": [
    "plt.figure(figsize=(10, 5))\n",
    "\n",
    "# Barra para la diferencia entre fecha2 y fecha1\n",
    "plt.bar(fechas_juntos['id'], fechas_juntos['dias_z21_ndvi'], width=0.4, color='red', label='2022/2023', alpha=0.2)\n",
    "\n",
    "# Barra para la diferencia entre fecha4 y fecha\n",
    "plt.bar(fechas_juntos['id'], fechas_juntos['dias_z22_ndvi'], width=0.4, color='blue', alpha=0.15, label='2021/2022')\n",
    "\n",
    "plt.xlabel('Parcela')\n",
    "plt.ylabel('días')\n",
    "plt.title('Max ndvi date vs harvest')\n",
    "plt.legend()\n",
    "plt.grid(True)\n",
    "\n",
    "plt.tight_layout()\n",
    "#plt.savefig(PurePath(r\"C:\\Users\\Isai\\Documents\\Tesis\\code\\revision\\img\\juntos\\corr\", 'ndvi_harvest_dates_diff.png'), dpi=300)\n",
    "plt.show()"
   ]
  },
  {
   "cell_type": "markdown",
   "id": "4f213779c2d00cc2",
   "metadata": {},
   "source": [
    "## Regresión"
   ]
  },
  {
   "cell_type": "code",
   "execution_count": null,
   "id": "5879ec0edef217cc",
   "metadata": {
    "ExecuteTime": {
     "end_time": "2024-05-13T04:30:17.416918Z",
     "start_time": "2024-05-13T04:30:17.410857Z"
    }
   },
   "outputs": [],
   "source": [
    "independent_var = 'msi_mean'\n",
    "ds = zafra2021"
   ]
  },
  {
   "cell_type": "code",
   "execution_count": null,
   "id": "e0836e9d88861e5d",
   "metadata": {
    "ExecuteTime": {
     "end_time": "2024-05-13T04:30:17.969020Z",
     "start_time": "2024-05-13T04:30:17.951849Z"
    }
   },
   "outputs": [],
   "source": [
    "metadata, models = linear_reg_model(data=ds, columns=[independent_var, 'rendimiento'], max_degree=3)"
   ]
  },
  {
   "cell_type": "code",
   "execution_count": null,
   "id": "c54ba59608f7e488",
   "metadata": {
    "ExecuteTime": {
     "end_time": "2024-05-13T04:30:18.861070Z",
     "start_time": "2024-05-13T04:30:18.849890Z"
    }
   },
   "outputs": [],
   "source": [
    "metadata"
   ]
  },
  {
   "cell_type": "code",
   "execution_count": null,
   "id": "ac649826e9f27d9",
   "metadata": {
    "ExecuteTime": {
     "end_time": "2024-05-13T04:16:37.560565Z",
     "start_time": "2024-05-13T04:16:37.554530Z"
    }
   },
   "outputs": [],
   "source": [
    "x = ds[independent_var].values.reshape(-1, 1)\n",
    "y = ds['rendimiento'].values"
   ]
  },
  {
   "cell_type": "code",
   "execution_count": null,
   "id": "df88923f09e15e7e",
   "metadata": {
    "ExecuteTime": {
     "end_time": "2024-05-13T04:16:38.004893Z",
     "start_time": "2024-05-13T04:16:38.001603Z"
    }
   },
   "outputs": [],
   "source": [
    "linear_model = models[2]\n",
    "poly_features = linear_model[1]\n",
    "model = linear_model[0]"
   ]
  },
  {
   "cell_type": "code",
   "execution_count": null,
   "id": "83f2340e926e5647",
   "metadata": {
    "ExecuteTime": {
     "end_time": "2024-05-13T04:16:38.520835Z",
     "start_time": "2024-05-13T04:16:38.514264Z"
    }
   },
   "outputs": [],
   "source": [
    "x_poly = poly_features.fit_transform(x)\n",
    "y_pred = model.predict(sm.add_constant(x_poly))\n",
    "ds[f'{independent_var}_pred'] = y_pred"
   ]
  },
  {
   "cell_type": "markdown",
   "id": "60cc14d78153c050",
   "metadata": {},
   "source": [
    "## Figuras"
   ]
  },
  {
   "cell_type": "code",
   "execution_count": null,
   "id": "ce861299028fd3df",
   "metadata": {
    "ExecuteTime": {
     "end_time": "2024-05-13T04:16:48.038617Z",
     "start_time": "2024-05-13T04:16:46.673088Z"
    }
   },
   "outputs": [],
   "source": [
    "plt.figure(figsize=(10, 10))\n",
    "sns.scatterplot(data=ds, x=independent_var, y='rendimiento', label='Datos de entrada', color='forestgreen')\n",
    "sns.lineplot(data=ds, x=independent_var, y=f'{independent_var}_pred', label='Modelo', color='firebrick')\n",
    "plt.legend()\n",
    "plt.tight_layout()\n",
    "plt.savefig(PurePath(r'C:\\Users\\Isai\\Documents\\Tesis\\code\\revision\\img\\2021\\yield', f'{independent_var}_2021.png'), dpi=200)\n",
    "plt.show()"
   ]
  },
  {
   "cell_type": "markdown",
   "id": "8028f3c76c5cf8e6",
   "metadata": {},
   "source": [
    "## Regresion multiple"
   ]
  },
  {
   "cell_type": "code",
   "execution_count": null,
   "id": "c089e7d6fa0edab1",
   "metadata": {
    "ExecuteTime": {
     "end_time": "2024-05-13T23:45:13.216594Z",
     "start_time": "2024-05-13T23:45:13.212595Z"
    }
   },
   "outputs": [],
   "source": [
    "independent_vars = ['gndvi_mean', 'msi_mean', 'etc_acum']\n",
    "dependent_var = 'rendimiento'\n",
    "ds = zafra2022"
   ]
  },
  {
   "cell_type": "code",
   "execution_count": null,
   "id": "b0bd650a9c96b6c3",
   "metadata": {
    "ExecuteTime": {
     "end_time": "2024-05-13T23:45:13.749874Z",
     "start_time": "2024-05-13T23:45:13.742778Z"
    }
   },
   "outputs": [],
   "source": [
    "x = ds[independent_vars]\n",
    "y = ds[dependent_var]"
   ]
  },
  {
   "cell_type": "code",
   "execution_count": null,
   "id": "9dd24f4bae2ad4d7",
   "metadata": {
    "ExecuteTime": {
     "end_time": "2024-05-13T23:45:14.348155Z",
     "start_time": "2024-05-13T23:45:14.336909Z"
    }
   },
   "outputs": [],
   "source": [
    "x_train, x_test, y_train, y_test = train_test_split(x, y, test_size=0.2, random_state=42)"
   ]
  },
  {
   "cell_type": "code",
   "execution_count": null,
   "id": "f78789ac4dbb0fbf",
   "metadata": {
    "ExecuteTime": {
     "end_time": "2024-05-13T23:45:14.879364Z",
     "start_time": "2024-05-13T23:45:14.871289Z"
    }
   },
   "outputs": [],
   "source": [
    "model = sm.OLS(y_train, sm.add_constant(x_train)).fit()"
   ]
  },
  {
   "cell_type": "code",
   "execution_count": null,
   "id": "e4001604f708065a",
   "metadata": {
    "ExecuteTime": {
     "end_time": "2024-05-13T23:45:15.570580Z",
     "start_time": "2024-05-13T23:45:15.527539Z"
    }
   },
   "outputs": [],
   "source": [
    "model.summary()"
   ]
  },
  {
   "cell_type": "code",
   "execution_count": null,
   "id": "a110e92a6b2dc253",
   "metadata": {},
   "outputs": [],
   "source": []
  }
 ],
 "metadata": {
  "kernelspec": {
   "display_name": "tesis-venv",
   "language": "python",
   "name": "tesis-venv"
  },
  "language_info": {
   "codemirror_mode": {
    "name": "ipython",
    "version": 3
   },
   "file_extension": ".py",
   "mimetype": "text/x-python",
   "name": "python",
   "nbconvert_exporter": "python",
   "pygments_lexer": "ipython3",
   "version": "3.12.4"
  }
 },
 "nbformat": 4,
 "nbformat_minor": 5
}
