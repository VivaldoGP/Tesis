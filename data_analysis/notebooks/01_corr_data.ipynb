{
 "cells": [
  {
   "cell_type": "markdown",
   "id": "305887702ef8d75b",
   "metadata": {},
   "source": [
    "En este notebook vamos a verificar la correlación de los datos para visualizar la relación entre las variables."
   ]
  },
  {
   "cell_type": "markdown",
   "id": "6a7586e849d66459",
   "metadata": {
    "editable": true,
    "slideshow": {
     "slide_type": ""
    },
    "tags": []
   },
   "source": [
    "## Librerías"
   ]
  },
  {
   "cell_type": "code",
   "execution_count": 2,
   "id": "3c52043b138cd0d2",
   "metadata": {
    "ExecuteTime": {
     "end_time": "2024-05-13T23:43:45.165546Z",
     "start_time": "2024-05-13T23:43:45.159240Z"
    }
   },
   "outputs": [],
   "source": [
    "import pandas as pd\n",
    "import numpy as np\n",
    "import os\n",
    "from pathlib import PurePath\n",
    "import matplotlib.pyplot as plt"
   ]
  },
  {
   "cell_type": "markdown",
   "id": "93cf23c92ae6f7aa",
   "metadata": {},
   "source": [
    "## Carga de datos"
   ]
  },
  {
   "cell_type": "markdown",
   "id": "fd7d97c3-3052-4ed7-bea4-2c97040560de",
   "metadata": {},
   "source": [
    "Datos modelados"
   ]
  },
  {
   "cell_type": "code",
   "execution_count": 3,
   "id": "cd9f55e4800e4c88",
   "metadata": {
    "ExecuteTime": {
     "end_time": "2024-05-13T23:33:00.288288Z",
     "start_time": "2024-05-13T23:33:00.282565Z"
    }
   },
   "outputs": [],
   "source": [
    "root = r\"../..\\data_analysis\\all_vars\\zafra2021\"\n",
    "root2 = r\"../..\\data_analysis\\all_vars\\zafra2022\""
   ]
  },
  {
   "cell_type": "markdown",
   "id": "ed5bf9a6-6d96-4554-8746-82fbb16ad1d9",
   "metadata": {},
   "source": [
    "Datos reales"
   ]
  },
  {
   "cell_type": "code",
   "execution_count": 4,
   "id": "eb4eceee-1247-4086-bb8b-d4f317515402",
   "metadata": {},
   "outputs": [],
   "source": [
    "reales21 = r\"../../datos/parcelas/ready_to_analyze/zafra2021/\"\n",
    "reales22 = r\"../../datos/parcelas/ready_to_analyze/zafra2022/\""
   ]
  },
  {
   "cell_type": "code",
   "execution_count": 8,
   "id": "25410a72edc86578",
   "metadata": {
    "ExecuteTime": {
     "end_time": "2024-05-13T23:33:01.103871Z",
     "start_time": "2024-05-13T23:33:00.877389Z"
    }
   },
   "outputs": [],
   "source": [
    "dfs_21_m = [(pd.read_csv(PurePath(root, f), parse_dates=True), int(f.split('.')[0].split('_')[1])) for f in os.listdir(root) if f.endswith(\".csv\")]\n",
    "dfs_22_m = [(pd.read_csv(PurePath(root2, f), parse_dates=True), int(f.split('.')[0].split('_')[1])) for f in os.listdir(root2) if f.endswith(\".csv\")]\n",
    "dfs_21_r = [(pd.read_csv(PurePath(reales21, f), parse_dates=True), int(f.split('.')[0].split('_')[1])) for f in os.listdir(reales21) if f.endswith(\".csv\")]\n",
    "dfs_22_r = [(pd.read_csv(PurePath(reales22, f), parse_dates=True), int(f.split('.')[0].split('_')[1])) for f in os.listdir(reales22) if f.endswith(\".csv\")]"
   ]
  },
  {
   "cell_type": "markdown",
   "id": "c8f9380630a50a5e",
   "metadata": {},
   "source": [
    "### Dfs para las variables resumidas"
   ]
  },
  {
   "cell_type": "code",
   "execution_count": 9,
   "id": "e09b4cae1582b1fb",
   "metadata": {
    "ExecuteTime": {
     "end_time": "2024-05-13T23:33:02.536811Z",
     "start_time": "2024-05-13T23:33:02.524619Z"
    }
   },
   "outputs": [],
   "source": [
    "zafra2021_r = pd.DataFrame(columns=[\n",
    "    'parcela',\n",
    "    'ndvi_max',\n",
    "    'ndvi_max_date',\n",
    "    'ndvi_mean',\n",
    "    'gndvi_max',\n",
    "    'gndvi_max_date',\n",
    "    'gndvi_mean',\n",
    "    'cire_max',\n",
    "    'cire_mean',\n",
    "    'ndre1_max',\n",
    "    'ndre1_mean',\n",
    "    'msi_mean'\n",
    "])\n",
    "\n",
    "zafra2021_m = pd.DataFrame(columns=[\n",
    "    'parcela',\n",
    "    'ndvi_max',\n",
    "    'ndvi_mean',\n",
    "    'ndvi_max_date',\n",
    "    'gndvi_max',\n",
    "    'gndvi_mean',\n",
    "    'gndvi_max_date',\n",
    "    'cire_max',\n",
    "    'cire_mean',\n",
    "    'ndre1_max',\n",
    "    'ndre1_mean',\n",
    "    'msi_mean',\n",
    "    'lluvia_acum',\n",
    "    'etc_acum'\n",
    "])\n",
    "\n",
    "zafra2022_r = pd.DataFrame(columns=[\n",
    "    'parcela',\n",
    "    'ndvi_max',\n",
    "    'ndvi_max_date',\n",
    "    'ndvi_mean',\n",
    "    'gndvi_max',\n",
    "    'gndvi_max_date',\n",
    "    'gndvi_mean',\n",
    "    'cire_max',\n",
    "    'cire_mean',\n",
    "    'ndre1_max',\n",
    "    'ndre1_mean',\n",
    "    'msi_mean'\n",
    "])\n",
    "\n",
    "zafra2022_m = pd.DataFrame(columns=[\n",
    "    'parcela',\n",
    "    'ndvi_max',\n",
    "    'ndvi_mean',\n",
    "    'ndvi_max_date',\n",
    "    'gndvi_max',\n",
    "    'gndvi_mean',\n",
    "    'gndvi_max_date',\n",
    "    'cire_max',\n",
    "    'cire_mean',\n",
    "    'ndre1_max',\n",
    "    'ndre1_mean',\n",
    "    'msi_mean',\n",
    "    'lluvia_acum',\n",
    "    'etc_acum'\n",
    "])"
   ]
  },
  {
   "cell_type": "markdown",
   "id": "3b952a8e089aec24",
   "metadata": {},
   "source": [
    "### Asignación de los datos"
   ]
  },
  {
   "cell_type": "code",
   "execution_count": null,
   "id": "94265b65aa73618e",
   "metadata": {
    "ExecuteTime": {
     "end_time": "2024-05-13T23:33:10.801367Z",
     "start_time": "2024-05-13T23:33:10.657728Z"
    },
    "scrolled": true
   },
   "outputs": [],
   "source": [
    "for i in dfs_21_m:\n",
    "    i[0]['Fecha'] = pd.to_datetime(i[0]['Fecha'])\n",
    "    parcela_id = i[1]\n",
    "    ndvi_max = i[0]['ndvi'].max()\n",
    "    ndvi_max_date_loc = i[0]['ndvi'].idxmax()\n",
    "    ndvi_max_date = i[0].loc[ndvi_max_date_loc, 'Fecha']\n",
    "    ndvi_mean = i[0]['ndvi'].mean()\n",
    "    gndvi_max = i[0]['gndvi'].max()\n",
    "    gndvi_max_date_loc = i[0]['gndvi'].idxmax()\n",
    "    gndvi_max_date = i[0].loc[gndvi_max_date_loc, 'Fecha']\n",
    "    gndvi_mean = i[0]['gndvi'].mean()\n",
    "    cire_max = i[0]['cire'].max()\n",
    "    cire_mean = i[0]['cire'].mean()\n",
    "    ndre1_max = i[0]['ndre1'].max()\n",
    "    ndre1_mean = i[0]['ndre1'].mean()\n",
    "    msi_mean = i[0]['msi'].mean()\n",
    "    lluvia = i[0]['precip'].sum()\n",
    "    etc_acum = i[0]['etc'].sum()\n",
    "    \n",
    "    \n",
    "    zafra2021_m = zafra2021_m._append({\n",
    "        'parcela': parcela_id,\n",
    "        'ndvi_max': ndvi_max,\n",
    "        'ndvi_max_date': ndvi_max_date,\n",
    "        'ndvi_mean': ndvi_mean,\n",
    "        'gndvi_max': gndvi_max,\n",
    "        'gndvi_max_date': gndvi_max_date,\n",
    "        'gndvi_mean': gndvi_mean,\n",
    "        'cire_max': cire_max,\n",
    "        'cire_mean': cire_mean,\n",
    "        'ndre1_max': ndre1_max,\n",
    "        'ndre1_mean': ndre1_mean,\n",
    "        'msi_mean': msi_mean,\n",
    "        'lluvia_acum': lluvia,\n",
    "        'etc_acum': etc_acum\n",
    "    }, ignore_index=True) \n",
    "    \n",
    "    \n",
    "for i in dfs_22_m:\n",
    "    i[0]['Fecha'] = pd.to_datetime(i[0]['Fecha'])\n",
    "    parcela_id = i[1]\n",
    "    ndvi_max = i[0]['ndvi'].max()\n",
    "    ndvi_max_date_loc = i[0]['ndvi'].idxmax()\n",
    "    ndvi_max_date = i[0].loc[ndvi_max_date_loc, 'Fecha']\n",
    "    ndvi_mean = i[0]['ndvi'].mean()\n",
    "    gndvi_max = i[0]['gndvi'].max()\n",
    "    gndvi_max_date_loc = i[0]['gndvi'].idxmax()\n",
    "    gndvi_max_date = i[0].loc[gndvi_max_date_loc, 'Fecha']\n",
    "    gndvi_mean = i[0]['gndvi'].mean()\n",
    "    cire_max = i[0]['cire'].max()\n",
    "    cire_mean = i[0]['cire'].mean()\n",
    "    ndre1_max = i[0]['ndre1'].max()\n",
    "    ndre1_mean = i[0]['ndre1'].mean()\n",
    "    msi_mean = i[0]['msi'].mean()\n",
    "    lluvia = i[0]['precip'].sum()\n",
    "    etc_acum = i[0]['etc'].sum()\n",
    "    \n",
    "    \n",
    "    zafra2022_m = zafra2022_m._append({\n",
    "        'parcela': parcela_id,\n",
    "        'ndvi_max': ndvi_max,\n",
    "        'ndvi_max_date': ndvi_max_date,\n",
    "        'ndvi_mean': ndvi_mean,\n",
    "        'gndvi_max': gndvi_max,\n",
    "        'gndvi_max_date': gndvi_max_date,\n",
    "        'gndvi_mean': gndvi_mean,\n",
    "        'cire_max': cire_max,\n",
    "        'cire_mean': cire_mean,\n",
    "        'ndre1_max': ndre1_max,\n",
    "        'ndre1_mean': ndre1_mean,\n",
    "        'msi_mean': msi_mean,\n",
    "        'lluvia_acum': lluvia,\n",
    "        'etc_acum': etc_acum\n",
    "    }, ignore_index=True)\n",
    "\n",
    "for i in dfs_21_r:\n",
    "    i[0]['Fecha'] = pd.to_datetime(i[0]['Fecha'])\n",
    "    parcela_id = i[1]\n",
    "    ndvi_max = i[0]['ndvi_mean'].max()\n",
    "    ndvi_max_date_loc = i[0]['ndvi_mean'].idxmax()\n",
    "    ndvi_max_date = i[0].loc[ndvi_max_date_loc, 'Fecha']\n",
    "    ndvi_mean = i[0]['ndvi_max'].mean()\n",
    "    gndvi_max = i[0]['gndvi_mean'].max()\n",
    "    gndvi_max_date_loc = i[0]['gndvi_mean'].idxmax()\n",
    "    gndvi_max_date = i[0].loc[gndvi_max_date_loc, 'Fecha']\n",
    "    gndvi_mean = i[0]['gndvi_mean'].mean()\n",
    "    cire_max = i[0]['cire_mean'].max()\n",
    "    cire_mean = i[0]['cire_mean'].mean()\n",
    "    ndre1_max = i[0]['ndre1_mean'].max()\n",
    "    ndre1_mean = i[0]['ndre1_mean'].mean()\n",
    "    msi_mean = i[0]['msi_mean'].mean()\n",
    "    \n",
    "    \n",
    "    zafra2021_r = zafra2021_r._append({\n",
    "        'parcela': parcela_id,\n",
    "        'ndvi_max': ndvi_max,\n",
    "        'ndvi_max_date': ndvi_max_date,\n",
    "        'ndvi_mean': ndvi_mean,\n",
    "        'gndvi_max': gndvi_max,\n",
    "        'gndvi_max_date': gndvi_max_date,\n",
    "        'gndvi_mean': gndvi_mean,\n",
    "        'cire_max': cire_max,\n",
    "        'cire_mean': cire_mean,\n",
    "        'ndre1_max': ndre1_max,\n",
    "        'ndre1_mean': ndre1_mean,\n",
    "        'msi_mean': msi_mean\n",
    "    }, ignore_index=True)\n",
    "\n",
    "for i in dfs_22_r:\n",
    "    i[0]['Fecha'] = pd.to_datetime(i[0]['Fecha'])\n",
    "    parcela_id = i[1]\n",
    "    ndvi_max = i[0]['ndvi_mean'].max()\n",
    "    ndvi_max_date_loc = i[0]['ndvi_mean'].idxmax()\n",
    "    ndvi_max_date = i[0].loc[ndvi_max_date_loc, 'Fecha']\n",
    "    ndvi_mean = i[0]['ndvi_mean'].mean()\n",
    "    gndvi_max = i[0]['gndvi_mean'].max()\n",
    "    gndvi_max_date_loc = i[0]['gndvi_mean'].idxmax()\n",
    "    gndvi_max_date = i[0].loc[gndvi_max_date_loc, 'Fecha']\n",
    "    gndvi_mean = i[0]['gndvi_mean'].mean()\n",
    "    cire_max = i[0]['cire_mean'].max()\n",
    "    cire_mean = i[0]['cire_mean'].mean()\n",
    "    ndre1_max = i[0]['ndre1_mean'].max()\n",
    "    ndre1_mean = i[0]['ndre1_mean'].mean()\n",
    "    msi_mean = i[0]['msi_mean'].mean()\n",
    "    \n",
    "    \n",
    "    zafra2022_r = zafra2022_r._append({\n",
    "        'parcela': parcela_id,\n",
    "        'ndvi_max': ndvi_max,\n",
    "        'ndvi_max_date': ndvi_max_date,\n",
    "        'ndvi_mean': ndvi_mean,\n",
    "        'gndvi_max': gndvi_max,\n",
    "        'gndvi_max_date': gndvi_max_date,\n",
    "        'gndvi_mean': gndvi_mean,\n",
    "        'cire_max': cire_max,\n",
    "        'cire_mean': cire_mean,\n",
    "        'ndre1_max': ndre1_max,\n",
    "        'ndre1_mean': ndre1_mean,\n",
    "        'msi_mean': msi_mean\n",
    "    }, ignore_index=True)"
   ]
  },
  {
   "cell_type": "code",
   "execution_count": 11,
   "id": "26aa575124d1d1f3",
   "metadata": {
    "ExecuteTime": {
     "end_time": "2024-05-13T23:33:16.836352Z",
     "start_time": "2024-05-13T23:33:16.826058Z"
    }
   },
   "outputs": [],
   "source": [
    "zafra2021_r['rendimiento'] = pd.Series([49, 80, 73, 33, 56, 62, 32, 64, 48, 53, 78, 81, 68, 73, 71])\n",
    "zafra2022_r['rendimiento'] = pd.Series([48, 75, 75, 30, 50, 60, 25, 60, 45, 50, 75, 75, 75, 75, 75])\n",
    "zafra2021_m['rendimiento'] = pd.Series([49, 80, 73, 33, 56, 62, 32, 64, 48, 53, 78, 81, 68, 73, 71])\n",
    "zafra2022_m['rendimiento'] = pd.Series([48, 75, 75, 30, 50, 60, 25, 60, 45, 50, 75, 75, 75, 75, 75])"
   ]
  },
  {
   "cell_type": "code",
   "execution_count": 12,
   "id": "8e442a99-b41d-4c21-b38c-aef0afd5e18a",
   "metadata": {},
   "outputs": [
    {
     "data": {
      "text/html": [
       "<div>\n",
       "<style scoped>\n",
       "    .dataframe tbody tr th:only-of-type {\n",
       "        vertical-align: middle;\n",
       "    }\n",
       "\n",
       "    .dataframe tbody tr th {\n",
       "        vertical-align: top;\n",
       "    }\n",
       "\n",
       "    .dataframe thead th {\n",
       "        text-align: right;\n",
       "    }\n",
       "</style>\n",
       "<table border=\"1\" class=\"dataframe\">\n",
       "  <thead>\n",
       "    <tr style=\"text-align: right;\">\n",
       "      <th></th>\n",
       "      <th>parcela</th>\n",
       "      <th>ndvi_max</th>\n",
       "      <th>ndvi_mean</th>\n",
       "      <th>ndvi_max_date</th>\n",
       "      <th>gndvi_max</th>\n",
       "      <th>gndvi_mean</th>\n",
       "      <th>gndvi_max_date</th>\n",
       "      <th>cire_max</th>\n",
       "      <th>cire_mean</th>\n",
       "      <th>ndre1_max</th>\n",
       "      <th>ndre1_mean</th>\n",
       "      <th>msi_mean</th>\n",
       "      <th>lluvia_acum</th>\n",
       "      <th>etc_acum</th>\n",
       "      <th>rendimiento</th>\n",
       "    </tr>\n",
       "  </thead>\n",
       "  <tbody>\n",
       "    <tr>\n",
       "      <th>0</th>\n",
       "      <td>1</td>\n",
       "      <td>0.639388</td>\n",
       "      <td>0.518840</td>\n",
       "      <td>2021-09-08</td>\n",
       "      <td>0.555446</td>\n",
       "      <td>0.494246</td>\n",
       "      <td>2021-09-05</td>\n",
       "      <td>1.491534</td>\n",
       "      <td>1.078378</td>\n",
       "      <td>0.359214</td>\n",
       "      <td>0.269141</td>\n",
       "      <td>0.986845</td>\n",
       "      <td>886.59</td>\n",
       "      <td>1547.843815</td>\n",
       "      <td>49</td>\n",
       "    </tr>\n",
       "    <tr>\n",
       "      <th>1</th>\n",
       "      <td>10</td>\n",
       "      <td>0.778896</td>\n",
       "      <td>0.603871</td>\n",
       "      <td>2021-10-19</td>\n",
       "      <td>0.651088</td>\n",
       "      <td>0.557715</td>\n",
       "      <td>2021-10-26</td>\n",
       "      <td>2.428746</td>\n",
       "      <td>1.711993</td>\n",
       "      <td>0.483577</td>\n",
       "      <td>0.351977</td>\n",
       "      <td>0.812733</td>\n",
       "      <td>865.29</td>\n",
       "      <td>1437.081307</td>\n",
       "      <td>80</td>\n",
       "    </tr>\n",
       "    <tr>\n",
       "      <th>2</th>\n",
       "      <td>11</td>\n",
       "      <td>0.774628</td>\n",
       "      <td>0.600487</td>\n",
       "      <td>2021-10-15</td>\n",
       "      <td>0.644437</td>\n",
       "      <td>0.529991</td>\n",
       "      <td>2021-10-30</td>\n",
       "      <td>2.337409</td>\n",
       "      <td>1.664914</td>\n",
       "      <td>0.473826</td>\n",
       "      <td>0.350709</td>\n",
       "      <td>0.791751</td>\n",
       "      <td>870.38</td>\n",
       "      <td>1523.600081</td>\n",
       "      <td>73</td>\n",
       "    </tr>\n",
       "    <tr>\n",
       "      <th>3</th>\n",
       "      <td>13</td>\n",
       "      <td>0.749624</td>\n",
       "      <td>0.567972</td>\n",
       "      <td>2021-10-10</td>\n",
       "      <td>0.609883</td>\n",
       "      <td>0.497763</td>\n",
       "      <td>2021-10-16</td>\n",
       "      <td>2.067132</td>\n",
       "      <td>1.380441</td>\n",
       "      <td>0.450704</td>\n",
       "      <td>0.315813</td>\n",
       "      <td>0.871231</td>\n",
       "      <td>882.55</td>\n",
       "      <td>1652.076897</td>\n",
       "      <td>33</td>\n",
       "    </tr>\n",
       "    <tr>\n",
       "      <th>4</th>\n",
       "      <td>14</td>\n",
       "      <td>0.736724</td>\n",
       "      <td>0.586389</td>\n",
       "      <td>2021-10-28</td>\n",
       "      <td>0.622907</td>\n",
       "      <td>0.541745</td>\n",
       "      <td>2021-11-02</td>\n",
       "      <td>2.222235</td>\n",
       "      <td>1.586678</td>\n",
       "      <td>0.448558</td>\n",
       "      <td>0.334251</td>\n",
       "      <td>0.830791</td>\n",
       "      <td>883.66</td>\n",
       "      <td>1654.149154</td>\n",
       "      <td>56</td>\n",
       "    </tr>\n",
       "    <tr>\n",
       "      <th>5</th>\n",
       "      <td>15</td>\n",
       "      <td>0.761170</td>\n",
       "      <td>0.583999</td>\n",
       "      <td>2021-10-27</td>\n",
       "      <td>0.635993</td>\n",
       "      <td>0.515705</td>\n",
       "      <td>2021-10-28</td>\n",
       "      <td>2.249633</td>\n",
       "      <td>1.498147</td>\n",
       "      <td>0.463191</td>\n",
       "      <td>0.329882</td>\n",
       "      <td>0.786736</td>\n",
       "      <td>874.21</td>\n",
       "      <td>1823.325443</td>\n",
       "      <td>62</td>\n",
       "    </tr>\n",
       "    <tr>\n",
       "      <th>6</th>\n",
       "      <td>16</td>\n",
       "      <td>0.690574</td>\n",
       "      <td>0.533202</td>\n",
       "      <td>2021-09-28</td>\n",
       "      <td>0.585929</td>\n",
       "      <td>0.488970</td>\n",
       "      <td>2021-10-11</td>\n",
       "      <td>1.569502</td>\n",
       "      <td>1.094808</td>\n",
       "      <td>0.387107</td>\n",
       "      <td>0.278564</td>\n",
       "      <td>0.929199</td>\n",
       "      <td>855.78</td>\n",
       "      <td>1528.388572</td>\n",
       "      <td>32</td>\n",
       "    </tr>\n",
       "    <tr>\n",
       "      <th>7</th>\n",
       "      <td>2</td>\n",
       "      <td>0.718014</td>\n",
       "      <td>0.553124</td>\n",
       "      <td>2021-11-20</td>\n",
       "      <td>0.602333</td>\n",
       "      <td>0.494803</td>\n",
       "      <td>2021-12-27</td>\n",
       "      <td>2.004551</td>\n",
       "      <td>1.377613</td>\n",
       "      <td>0.428505</td>\n",
       "      <td>0.309207</td>\n",
       "      <td>0.858043</td>\n",
       "      <td>891.78</td>\n",
       "      <td>1949.070776</td>\n",
       "      <td>64</td>\n",
       "    </tr>\n",
       "    <tr>\n",
       "      <th>8</th>\n",
       "      <td>3</td>\n",
       "      <td>0.655046</td>\n",
       "      <td>0.562455</td>\n",
       "      <td>2021-09-08</td>\n",
       "      <td>0.552509</td>\n",
       "      <td>0.491808</td>\n",
       "      <td>2021-09-10</td>\n",
       "      <td>1.571292</td>\n",
       "      <td>1.264841</td>\n",
       "      <td>0.373836</td>\n",
       "      <td>0.310964</td>\n",
       "      <td>0.885991</td>\n",
       "      <td>909.90</td>\n",
       "      <td>1751.272413</td>\n",
       "      <td>48</td>\n",
       "    </tr>\n",
       "    <tr>\n",
       "      <th>9</th>\n",
       "      <td>4</td>\n",
       "      <td>0.728752</td>\n",
       "      <td>0.535107</td>\n",
       "      <td>2021-11-09</td>\n",
       "      <td>0.614246</td>\n",
       "      <td>0.477972</td>\n",
       "      <td>2021-11-22</td>\n",
       "      <td>2.125152</td>\n",
       "      <td>1.446675</td>\n",
       "      <td>0.436662</td>\n",
       "      <td>0.306796</td>\n",
       "      <td>0.938908</td>\n",
       "      <td>1470.42</td>\n",
       "      <td>2326.799884</td>\n",
       "      <td>53</td>\n",
       "    </tr>\n",
       "    <tr>\n",
       "      <th>10</th>\n",
       "      <td>5</td>\n",
       "      <td>0.742004</td>\n",
       "      <td>0.589714</td>\n",
       "      <td>2021-11-16</td>\n",
       "      <td>0.628688</td>\n",
       "      <td>0.536476</td>\n",
       "      <td>2021-11-18</td>\n",
       "      <td>2.239745</td>\n",
       "      <td>1.549928</td>\n",
       "      <td>0.451746</td>\n",
       "      <td>0.333653</td>\n",
       "      <td>0.841020</td>\n",
       "      <td>833.55</td>\n",
       "      <td>1246.914371</td>\n",
       "      <td>78</td>\n",
       "    </tr>\n",
       "    <tr>\n",
       "      <th>11</th>\n",
       "      <td>6</td>\n",
       "      <td>0.735055</td>\n",
       "      <td>0.604361</td>\n",
       "      <td>2021-11-27</td>\n",
       "      <td>0.624716</td>\n",
       "      <td>0.534593</td>\n",
       "      <td>2021-11-28</td>\n",
       "      <td>1.951556</td>\n",
       "      <td>1.453009</td>\n",
       "      <td>0.426878</td>\n",
       "      <td>0.336639</td>\n",
       "      <td>0.805000</td>\n",
       "      <td>879.25</td>\n",
       "      <td>1354.863154</td>\n",
       "      <td>81</td>\n",
       "    </tr>\n",
       "    <tr>\n",
       "      <th>12</th>\n",
       "      <td>7</td>\n",
       "      <td>0.788725</td>\n",
       "      <td>0.544569</td>\n",
       "      <td>2022-01-16</td>\n",
       "      <td>0.676757</td>\n",
       "      <td>0.517857</td>\n",
       "      <td>2022-01-16</td>\n",
       "      <td>2.432353</td>\n",
       "      <td>1.496918</td>\n",
       "      <td>0.471220</td>\n",
       "      <td>0.309434</td>\n",
       "      <td>0.947759</td>\n",
       "      <td>865.94</td>\n",
       "      <td>1319.780085</td>\n",
       "      <td>68</td>\n",
       "    </tr>\n",
       "    <tr>\n",
       "      <th>13</th>\n",
       "      <td>8</td>\n",
       "      <td>0.686594</td>\n",
       "      <td>0.548260</td>\n",
       "      <td>2021-11-12</td>\n",
       "      <td>0.578248</td>\n",
       "      <td>0.507028</td>\n",
       "      <td>2021-11-09</td>\n",
       "      <td>1.688712</td>\n",
       "      <td>1.187248</td>\n",
       "      <td>0.392871</td>\n",
       "      <td>0.289308</td>\n",
       "      <td>0.886454</td>\n",
       "      <td>891.90</td>\n",
       "      <td>1442.698155</td>\n",
       "      <td>73</td>\n",
       "    </tr>\n",
       "    <tr>\n",
       "      <th>14</th>\n",
       "      <td>9</td>\n",
       "      <td>0.748222</td>\n",
       "      <td>0.583963</td>\n",
       "      <td>2021-11-21</td>\n",
       "      <td>0.629679</td>\n",
       "      <td>0.527451</td>\n",
       "      <td>2021-11-19</td>\n",
       "      <td>2.123307</td>\n",
       "      <td>1.434272</td>\n",
       "      <td>0.445673</td>\n",
       "      <td>0.322488</td>\n",
       "      <td>0.809142</td>\n",
       "      <td>890.03</td>\n",
       "      <td>1443.496316</td>\n",
       "      <td>71</td>\n",
       "    </tr>\n",
       "  </tbody>\n",
       "</table>\n",
       "</div>"
      ],
      "text/plain": [
       "   parcela  ndvi_max  ndvi_mean ndvi_max_date  gndvi_max  gndvi_mean  \\\n",
       "0        1  0.639388   0.518840    2021-09-08   0.555446    0.494246   \n",
       "1       10  0.778896   0.603871    2021-10-19   0.651088    0.557715   \n",
       "2       11  0.774628   0.600487    2021-10-15   0.644437    0.529991   \n",
       "3       13  0.749624   0.567972    2021-10-10   0.609883    0.497763   \n",
       "4       14  0.736724   0.586389    2021-10-28   0.622907    0.541745   \n",
       "5       15  0.761170   0.583999    2021-10-27   0.635993    0.515705   \n",
       "6       16  0.690574   0.533202    2021-09-28   0.585929    0.488970   \n",
       "7        2  0.718014   0.553124    2021-11-20   0.602333    0.494803   \n",
       "8        3  0.655046   0.562455    2021-09-08   0.552509    0.491808   \n",
       "9        4  0.728752   0.535107    2021-11-09   0.614246    0.477972   \n",
       "10       5  0.742004   0.589714    2021-11-16   0.628688    0.536476   \n",
       "11       6  0.735055   0.604361    2021-11-27   0.624716    0.534593   \n",
       "12       7  0.788725   0.544569    2022-01-16   0.676757    0.517857   \n",
       "13       8  0.686594   0.548260    2021-11-12   0.578248    0.507028   \n",
       "14       9  0.748222   0.583963    2021-11-21   0.629679    0.527451   \n",
       "\n",
       "   gndvi_max_date  cire_max  cire_mean  ndre1_max  ndre1_mean  msi_mean  \\\n",
       "0      2021-09-05  1.491534   1.078378   0.359214    0.269141  0.986845   \n",
       "1      2021-10-26  2.428746   1.711993   0.483577    0.351977  0.812733   \n",
       "2      2021-10-30  2.337409   1.664914   0.473826    0.350709  0.791751   \n",
       "3      2021-10-16  2.067132   1.380441   0.450704    0.315813  0.871231   \n",
       "4      2021-11-02  2.222235   1.586678   0.448558    0.334251  0.830791   \n",
       "5      2021-10-28  2.249633   1.498147   0.463191    0.329882  0.786736   \n",
       "6      2021-10-11  1.569502   1.094808   0.387107    0.278564  0.929199   \n",
       "7      2021-12-27  2.004551   1.377613   0.428505    0.309207  0.858043   \n",
       "8      2021-09-10  1.571292   1.264841   0.373836    0.310964  0.885991   \n",
       "9      2021-11-22  2.125152   1.446675   0.436662    0.306796  0.938908   \n",
       "10     2021-11-18  2.239745   1.549928   0.451746    0.333653  0.841020   \n",
       "11     2021-11-28  1.951556   1.453009   0.426878    0.336639  0.805000   \n",
       "12     2022-01-16  2.432353   1.496918   0.471220    0.309434  0.947759   \n",
       "13     2021-11-09  1.688712   1.187248   0.392871    0.289308  0.886454   \n",
       "14     2021-11-19  2.123307   1.434272   0.445673    0.322488  0.809142   \n",
       "\n",
       "    lluvia_acum     etc_acum  rendimiento  \n",
       "0        886.59  1547.843815           49  \n",
       "1        865.29  1437.081307           80  \n",
       "2        870.38  1523.600081           73  \n",
       "3        882.55  1652.076897           33  \n",
       "4        883.66  1654.149154           56  \n",
       "5        874.21  1823.325443           62  \n",
       "6        855.78  1528.388572           32  \n",
       "7        891.78  1949.070776           64  \n",
       "8        909.90  1751.272413           48  \n",
       "9       1470.42  2326.799884           53  \n",
       "10       833.55  1246.914371           78  \n",
       "11       879.25  1354.863154           81  \n",
       "12       865.94  1319.780085           68  \n",
       "13       891.90  1442.698155           73  \n",
       "14       890.03  1443.496316           71  "
      ]
     },
     "execution_count": 12,
     "metadata": {},
     "output_type": "execute_result"
    }
   ],
   "source": [
    "zafra2021_m"
   ]
  },
  {
   "cell_type": "markdown",
   "id": "dab93c5d-2672-4121-838c-c24c12cf1824",
   "metadata": {},
   "source": [
    "## Correlacion entre vis y rendimiento"
   ]
  },
  {
   "cell_type": "code",
   "execution_count": 41,
   "id": "5a5b770e-ce5b-4596-8569-6490217ff810",
   "metadata": {},
   "outputs": [],
   "source": [
    "zafra2021_m.drop(9, inplace=True)"
   ]
  },
  {
   "cell_type": "code",
   "execution_count": 13,
   "id": "ba384a84-704a-45e5-a414-bfc1a5718fbc",
   "metadata": {},
   "outputs": [
    {
     "data": {
      "text/html": [
       "<div>\n",
       "<style scoped>\n",
       "    .dataframe tbody tr th:only-of-type {\n",
       "        vertical-align: middle;\n",
       "    }\n",
       "\n",
       "    .dataframe tbody tr th {\n",
       "        vertical-align: top;\n",
       "    }\n",
       "\n",
       "    .dataframe thead th {\n",
       "        text-align: right;\n",
       "    }\n",
       "</style>\n",
       "<table border=\"1\" class=\"dataframe\">\n",
       "  <thead>\n",
       "    <tr style=\"text-align: right;\">\n",
       "      <th></th>\n",
       "      <th>parcela</th>\n",
       "      <th>ndvi_max</th>\n",
       "      <th>ndvi_mean</th>\n",
       "      <th>ndvi_max_date</th>\n",
       "      <th>gndvi_max</th>\n",
       "      <th>gndvi_mean</th>\n",
       "      <th>gndvi_max_date</th>\n",
       "      <th>cire_max</th>\n",
       "      <th>cire_mean</th>\n",
       "      <th>ndre1_max</th>\n",
       "      <th>ndre1_mean</th>\n",
       "      <th>msi_mean</th>\n",
       "      <th>lluvia_acum</th>\n",
       "      <th>etc_acum</th>\n",
       "      <th>rendimiento</th>\n",
       "    </tr>\n",
       "  </thead>\n",
       "  <tbody>\n",
       "    <tr>\n",
       "      <th>rendimiento</th>\n",
       "      <td>-0.244834</td>\n",
       "      <td>0.897511</td>\n",
       "      <td>0.819388</td>\n",
       "      <td>-0.043654</td>\n",
       "      <td>0.944882</td>\n",
       "      <td>0.900155</td>\n",
       "      <td>-0.244136</td>\n",
       "      <td>0.895457</td>\n",
       "      <td>0.865186</td>\n",
       "      <td>0.895271</td>\n",
       "      <td>0.832812</td>\n",
       "      <td>-0.742574</td>\n",
       "      <td>0.289616</td>\n",
       "      <td>0.634149</td>\n",
       "      <td>1.000000</td>\n",
       "    </tr>\n",
       "    <tr>\n",
       "      <th>gndvi_max</th>\n",
       "      <td>-0.200687</td>\n",
       "      <td>0.972618</td>\n",
       "      <td>0.903552</td>\n",
       "      <td>-0.022391</td>\n",
       "      <td>1.000000</td>\n",
       "      <td>0.944367</td>\n",
       "      <td>-0.135355</td>\n",
       "      <td>0.967479</td>\n",
       "      <td>0.948452</td>\n",
       "      <td>0.971411</td>\n",
       "      <td>0.926798</td>\n",
       "      <td>-0.814278</td>\n",
       "      <td>0.143378</td>\n",
       "      <td>0.586374</td>\n",
       "      <td>0.944882</td>\n",
       "    </tr>\n",
       "    <tr>\n",
       "      <th>gndvi_mean</th>\n",
       "      <td>-0.121954</td>\n",
       "      <td>0.960979</td>\n",
       "      <td>0.970000</td>\n",
       "      <td>-0.222293</td>\n",
       "      <td>0.944367</td>\n",
       "      <td>1.000000</td>\n",
       "      <td>-0.339607</td>\n",
       "      <td>0.954849</td>\n",
       "      <td>0.974233</td>\n",
       "      <td>0.960906</td>\n",
       "      <td>0.969436</td>\n",
       "      <td>-0.908907</td>\n",
       "      <td>0.022081</td>\n",
       "      <td>0.623599</td>\n",
       "      <td>0.900155</td>\n",
       "    </tr>\n",
       "    <tr>\n",
       "      <th>ndvi_max</th>\n",
       "      <td>-0.161757</td>\n",
       "      <td>1.000000</td>\n",
       "      <td>0.960326</td>\n",
       "      <td>-0.090956</td>\n",
       "      <td>0.972618</td>\n",
       "      <td>0.960979</td>\n",
       "      <td>-0.186009</td>\n",
       "      <td>0.968004</td>\n",
       "      <td>0.975335</td>\n",
       "      <td>0.990315</td>\n",
       "      <td>0.975378</td>\n",
       "      <td>-0.901145</td>\n",
       "      <td>0.039097</td>\n",
       "      <td>0.573069</td>\n",
       "      <td>0.897511</td>\n",
       "    </tr>\n",
       "    <tr>\n",
       "      <th>cire_max</th>\n",
       "      <td>-0.182518</td>\n",
       "      <td>0.968004</td>\n",
       "      <td>0.915767</td>\n",
       "      <td>-0.181133</td>\n",
       "      <td>0.967479</td>\n",
       "      <td>0.954849</td>\n",
       "      <td>-0.217974</td>\n",
       "      <td>1.000000</td>\n",
       "      <td>0.987570</td>\n",
       "      <td>0.989462</td>\n",
       "      <td>0.952013</td>\n",
       "      <td>-0.838830</td>\n",
       "      <td>0.114614</td>\n",
       "      <td>0.664751</td>\n",
       "      <td>0.895457</td>\n",
       "    </tr>\n",
       "    <tr>\n",
       "      <th>ndre1_max</th>\n",
       "      <td>-0.190256</td>\n",
       "      <td>0.990315</td>\n",
       "      <td>0.944385</td>\n",
       "      <td>-0.141756</td>\n",
       "      <td>0.971411</td>\n",
       "      <td>0.960906</td>\n",
       "      <td>-0.202340</td>\n",
       "      <td>0.989462</td>\n",
       "      <td>0.989554</td>\n",
       "      <td>1.000000</td>\n",
       "      <td>0.974816</td>\n",
       "      <td>-0.875394</td>\n",
       "      <td>0.066125</td>\n",
       "      <td>0.631980</td>\n",
       "      <td>0.895271</td>\n",
       "    </tr>\n",
       "    <tr>\n",
       "      <th>cire_mean</th>\n",
       "      <td>-0.138653</td>\n",
       "      <td>0.975335</td>\n",
       "      <td>0.957771</td>\n",
       "      <td>-0.205957</td>\n",
       "      <td>0.948452</td>\n",
       "      <td>0.974233</td>\n",
       "      <td>-0.256695</td>\n",
       "      <td>0.987570</td>\n",
       "      <td>1.000000</td>\n",
       "      <td>0.989554</td>\n",
       "      <td>0.983525</td>\n",
       "      <td>-0.895764</td>\n",
       "      <td>0.008239</td>\n",
       "      <td>0.636465</td>\n",
       "      <td>0.865186</td>\n",
       "    </tr>\n",
       "    <tr>\n",
       "      <th>ndre1_mean</th>\n",
       "      <td>-0.126870</td>\n",
       "      <td>0.975378</td>\n",
       "      <td>0.988828</td>\n",
       "      <td>-0.147750</td>\n",
       "      <td>0.926798</td>\n",
       "      <td>0.969436</td>\n",
       "      <td>-0.208719</td>\n",
       "      <td>0.952013</td>\n",
       "      <td>0.983525</td>\n",
       "      <td>0.974816</td>\n",
       "      <td>1.000000</td>\n",
       "      <td>-0.943953</td>\n",
       "      <td>-0.095688</td>\n",
       "      <td>0.545796</td>\n",
       "      <td>0.832812</td>\n",
       "    </tr>\n",
       "    <tr>\n",
       "      <th>ndvi_mean</th>\n",
       "      <td>-0.103669</td>\n",
       "      <td>0.960326</td>\n",
       "      <td>1.000000</td>\n",
       "      <td>-0.163975</td>\n",
       "      <td>0.903552</td>\n",
       "      <td>0.970000</td>\n",
       "      <td>-0.248669</td>\n",
       "      <td>0.915767</td>\n",
       "      <td>0.957771</td>\n",
       "      <td>0.944385</td>\n",
       "      <td>0.988828</td>\n",
       "      <td>-0.967128</td>\n",
       "      <td>-0.110618</td>\n",
       "      <td>0.509146</td>\n",
       "      <td>0.819388</td>\n",
       "    </tr>\n",
       "    <tr>\n",
       "      <th>etc_acum</th>\n",
       "      <td>-0.321819</td>\n",
       "      <td>0.573069</td>\n",
       "      <td>0.509146</td>\n",
       "      <td>-0.680607</td>\n",
       "      <td>0.586374</td>\n",
       "      <td>0.623599</td>\n",
       "      <td>-0.675418</td>\n",
       "      <td>0.664751</td>\n",
       "      <td>0.636465</td>\n",
       "      <td>0.631980</td>\n",
       "      <td>0.545796</td>\n",
       "      <td>-0.453474</td>\n",
       "      <td>0.612617</td>\n",
       "      <td>1.000000</td>\n",
       "      <td>0.634149</td>\n",
       "    </tr>\n",
       "    <tr>\n",
       "      <th>lluvia_acum</th>\n",
       "      <td>-0.462260</td>\n",
       "      <td>0.039097</td>\n",
       "      <td>-0.110618</td>\n",
       "      <td>-0.328246</td>\n",
       "      <td>0.143378</td>\n",
       "      <td>0.022081</td>\n",
       "      <td>-0.298997</td>\n",
       "      <td>0.114614</td>\n",
       "      <td>0.008239</td>\n",
       "      <td>0.066125</td>\n",
       "      <td>-0.095688</td>\n",
       "      <td>0.163619</td>\n",
       "      <td>1.000000</td>\n",
       "      <td>0.612617</td>\n",
       "      <td>0.289616</td>\n",
       "    </tr>\n",
       "    <tr>\n",
       "      <th>ndvi_max_date</th>\n",
       "      <td>0.126590</td>\n",
       "      <td>-0.090956</td>\n",
       "      <td>-0.163975</td>\n",
       "      <td>1.000000</td>\n",
       "      <td>-0.022391</td>\n",
       "      <td>-0.222293</td>\n",
       "      <td>0.879435</td>\n",
       "      <td>-0.181133</td>\n",
       "      <td>-0.205957</td>\n",
       "      <td>-0.141756</td>\n",
       "      <td>-0.147750</td>\n",
       "      <td>0.154249</td>\n",
       "      <td>-0.328246</td>\n",
       "      <td>-0.680607</td>\n",
       "      <td>-0.043654</td>\n",
       "    </tr>\n",
       "    <tr>\n",
       "      <th>gndvi_max_date</th>\n",
       "      <td>0.053379</td>\n",
       "      <td>-0.186009</td>\n",
       "      <td>-0.248669</td>\n",
       "      <td>0.879435</td>\n",
       "      <td>-0.135355</td>\n",
       "      <td>-0.339607</td>\n",
       "      <td>1.000000</td>\n",
       "      <td>-0.217974</td>\n",
       "      <td>-0.256695</td>\n",
       "      <td>-0.202340</td>\n",
       "      <td>-0.208719</td>\n",
       "      <td>0.236891</td>\n",
       "      <td>-0.298997</td>\n",
       "      <td>-0.675418</td>\n",
       "      <td>-0.244136</td>\n",
       "    </tr>\n",
       "    <tr>\n",
       "      <th>parcela</th>\n",
       "      <td>1.000000</td>\n",
       "      <td>-0.161757</td>\n",
       "      <td>-0.103669</td>\n",
       "      <td>0.126590</td>\n",
       "      <td>-0.200687</td>\n",
       "      <td>-0.121954</td>\n",
       "      <td>0.053379</td>\n",
       "      <td>-0.182518</td>\n",
       "      <td>-0.138653</td>\n",
       "      <td>-0.190256</td>\n",
       "      <td>-0.126870</td>\n",
       "      <td>-0.017674</td>\n",
       "      <td>-0.462260</td>\n",
       "      <td>-0.321819</td>\n",
       "      <td>-0.244834</td>\n",
       "    </tr>\n",
       "    <tr>\n",
       "      <th>msi_mean</th>\n",
       "      <td>-0.017674</td>\n",
       "      <td>-0.901145</td>\n",
       "      <td>-0.967128</td>\n",
       "      <td>0.154249</td>\n",
       "      <td>-0.814278</td>\n",
       "      <td>-0.908907</td>\n",
       "      <td>0.236891</td>\n",
       "      <td>-0.838830</td>\n",
       "      <td>-0.895764</td>\n",
       "      <td>-0.875394</td>\n",
       "      <td>-0.943953</td>\n",
       "      <td>1.000000</td>\n",
       "      <td>0.163619</td>\n",
       "      <td>-0.453474</td>\n",
       "      <td>-0.742574</td>\n",
       "    </tr>\n",
       "  </tbody>\n",
       "</table>\n",
       "</div>"
      ],
      "text/plain": [
       "                 parcela  ndvi_max  ndvi_mean  ndvi_max_date  gndvi_max  \\\n",
       "rendimiento    -0.244834  0.897511   0.819388      -0.043654   0.944882   \n",
       "gndvi_max      -0.200687  0.972618   0.903552      -0.022391   1.000000   \n",
       "gndvi_mean     -0.121954  0.960979   0.970000      -0.222293   0.944367   \n",
       "ndvi_max       -0.161757  1.000000   0.960326      -0.090956   0.972618   \n",
       "cire_max       -0.182518  0.968004   0.915767      -0.181133   0.967479   \n",
       "ndre1_max      -0.190256  0.990315   0.944385      -0.141756   0.971411   \n",
       "cire_mean      -0.138653  0.975335   0.957771      -0.205957   0.948452   \n",
       "ndre1_mean     -0.126870  0.975378   0.988828      -0.147750   0.926798   \n",
       "ndvi_mean      -0.103669  0.960326   1.000000      -0.163975   0.903552   \n",
       "etc_acum       -0.321819  0.573069   0.509146      -0.680607   0.586374   \n",
       "lluvia_acum    -0.462260  0.039097  -0.110618      -0.328246   0.143378   \n",
       "ndvi_max_date   0.126590 -0.090956  -0.163975       1.000000  -0.022391   \n",
       "gndvi_max_date  0.053379 -0.186009  -0.248669       0.879435  -0.135355   \n",
       "parcela         1.000000 -0.161757  -0.103669       0.126590  -0.200687   \n",
       "msi_mean       -0.017674 -0.901145  -0.967128       0.154249  -0.814278   \n",
       "\n",
       "                gndvi_mean  gndvi_max_date  cire_max  cire_mean  ndre1_max  \\\n",
       "rendimiento       0.900155       -0.244136  0.895457   0.865186   0.895271   \n",
       "gndvi_max         0.944367       -0.135355  0.967479   0.948452   0.971411   \n",
       "gndvi_mean        1.000000       -0.339607  0.954849   0.974233   0.960906   \n",
       "ndvi_max          0.960979       -0.186009  0.968004   0.975335   0.990315   \n",
       "cire_max          0.954849       -0.217974  1.000000   0.987570   0.989462   \n",
       "ndre1_max         0.960906       -0.202340  0.989462   0.989554   1.000000   \n",
       "cire_mean         0.974233       -0.256695  0.987570   1.000000   0.989554   \n",
       "ndre1_mean        0.969436       -0.208719  0.952013   0.983525   0.974816   \n",
       "ndvi_mean         0.970000       -0.248669  0.915767   0.957771   0.944385   \n",
       "etc_acum          0.623599       -0.675418  0.664751   0.636465   0.631980   \n",
       "lluvia_acum       0.022081       -0.298997  0.114614   0.008239   0.066125   \n",
       "ndvi_max_date    -0.222293        0.879435 -0.181133  -0.205957  -0.141756   \n",
       "gndvi_max_date   -0.339607        1.000000 -0.217974  -0.256695  -0.202340   \n",
       "parcela          -0.121954        0.053379 -0.182518  -0.138653  -0.190256   \n",
       "msi_mean         -0.908907        0.236891 -0.838830  -0.895764  -0.875394   \n",
       "\n",
       "                ndre1_mean  msi_mean  lluvia_acum  etc_acum  rendimiento  \n",
       "rendimiento       0.832812 -0.742574     0.289616  0.634149     1.000000  \n",
       "gndvi_max         0.926798 -0.814278     0.143378  0.586374     0.944882  \n",
       "gndvi_mean        0.969436 -0.908907     0.022081  0.623599     0.900155  \n",
       "ndvi_max          0.975378 -0.901145     0.039097  0.573069     0.897511  \n",
       "cire_max          0.952013 -0.838830     0.114614  0.664751     0.895457  \n",
       "ndre1_max         0.974816 -0.875394     0.066125  0.631980     0.895271  \n",
       "cire_mean         0.983525 -0.895764     0.008239  0.636465     0.865186  \n",
       "ndre1_mean        1.000000 -0.943953    -0.095688  0.545796     0.832812  \n",
       "ndvi_mean         0.988828 -0.967128    -0.110618  0.509146     0.819388  \n",
       "etc_acum          0.545796 -0.453474     0.612617  1.000000     0.634149  \n",
       "lluvia_acum      -0.095688  0.163619     1.000000  0.612617     0.289616  \n",
       "ndvi_max_date    -0.147750  0.154249    -0.328246 -0.680607    -0.043654  \n",
       "gndvi_max_date   -0.208719  0.236891    -0.298997 -0.675418    -0.244136  \n",
       "parcela          -0.126870 -0.017674    -0.462260 -0.321819    -0.244834  \n",
       "msi_mean         -0.943953  1.000000     0.163619 -0.453474    -0.742574  "
      ]
     },
     "execution_count": 13,
     "metadata": {},
     "output_type": "execute_result"
    }
   ],
   "source": [
    "zafra2022_m.corr().sort_values(by='rendimiento', ascending=False)"
   ]
  },
  {
   "cell_type": "code",
   "execution_count": 14,
   "id": "28ba1ca1-b134-41f0-80fe-2706e8218a1a",
   "metadata": {},
   "outputs": [],
   "source": [
    "zafras_r = pd.concat([zafra2021_r, zafra2022_r])\n",
    "zafras_m = pd.concat([zafra2021_m, zafra2022_m])"
   ]
  },
  {
   "cell_type": "code",
   "execution_count": 31,
   "id": "edaf2f05-6fde-4ce6-8a50-58f3a142ccf6",
   "metadata": {},
   "outputs": [
    {
     "data": {
      "text/html": [
       "<div>\n",
       "<style scoped>\n",
       "    .dataframe tbody tr th:only-of-type {\n",
       "        vertical-align: middle;\n",
       "    }\n",
       "\n",
       "    .dataframe tbody tr th {\n",
       "        vertical-align: top;\n",
       "    }\n",
       "\n",
       "    .dataframe thead th {\n",
       "        text-align: right;\n",
       "    }\n",
       "</style>\n",
       "<table border=\"1\" class=\"dataframe\">\n",
       "  <thead>\n",
       "    <tr style=\"text-align: right;\">\n",
       "      <th></th>\n",
       "      <th>parcela</th>\n",
       "      <th>ndvi_max</th>\n",
       "      <th>ndvi_mean</th>\n",
       "      <th>ndvi_max_date</th>\n",
       "      <th>gndvi_max</th>\n",
       "      <th>gndvi_mean</th>\n",
       "      <th>gndvi_max_date</th>\n",
       "      <th>cire_max</th>\n",
       "      <th>cire_mean</th>\n",
       "      <th>ndre1_max</th>\n",
       "      <th>ndre1_mean</th>\n",
       "      <th>msi_mean</th>\n",
       "      <th>lluvia_acum</th>\n",
       "      <th>etc_acum</th>\n",
       "      <th>rendimiento</th>\n",
       "    </tr>\n",
       "  </thead>\n",
       "  <tbody>\n",
       "    <tr>\n",
       "      <th>rendimiento</th>\n",
       "      <td>-0.237461</td>\n",
       "      <td>0.710950</td>\n",
       "      <td>0.712662</td>\n",
       "      <td>-0.014743</td>\n",
       "      <td>0.753208</td>\n",
       "      <td>0.803078</td>\n",
       "      <td>-0.034011</td>\n",
       "      <td>0.736643</td>\n",
       "      <td>0.744075</td>\n",
       "      <td>0.719060</td>\n",
       "      <td>0.721310</td>\n",
       "      <td>-0.647193</td>\n",
       "      <td>0.001424</td>\n",
       "      <td>0.001429</td>\n",
       "      <td>1.000000</td>\n",
       "    </tr>\n",
       "    <tr>\n",
       "      <th>gndvi_mean</th>\n",
       "      <td>0.040511</td>\n",
       "      <td>0.842438</td>\n",
       "      <td>0.930081</td>\n",
       "      <td>0.149211</td>\n",
       "      <td>0.837840</td>\n",
       "      <td>1.000000</td>\n",
       "      <td>0.129392</td>\n",
       "      <td>0.851050</td>\n",
       "      <td>0.901630</td>\n",
       "      <td>0.855755</td>\n",
       "      <td>0.912490</td>\n",
       "      <td>-0.844046</td>\n",
       "      <td>-0.274377</td>\n",
       "      <td>-0.158768</td>\n",
       "      <td>0.803078</td>\n",
       "    </tr>\n",
       "    <tr>\n",
       "      <th>gndvi_max</th>\n",
       "      <td>0.036910</td>\n",
       "      <td>0.970108</td>\n",
       "      <td>0.786835</td>\n",
       "      <td>0.187273</td>\n",
       "      <td>1.000000</td>\n",
       "      <td>0.837840</td>\n",
       "      <td>0.177715</td>\n",
       "      <td>0.953950</td>\n",
       "      <td>0.903585</td>\n",
       "      <td>0.955311</td>\n",
       "      <td>0.846681</td>\n",
       "      <td>-0.696794</td>\n",
       "      <td>-0.115528</td>\n",
       "      <td>-0.037879</td>\n",
       "      <td>0.753208</td>\n",
       "    </tr>\n",
       "    <tr>\n",
       "      <th>cire_mean</th>\n",
       "      <td>0.004129</td>\n",
       "      <td>0.936373</td>\n",
       "      <td>0.907862</td>\n",
       "      <td>0.088417</td>\n",
       "      <td>0.903585</td>\n",
       "      <td>0.901630</td>\n",
       "      <td>0.082305</td>\n",
       "      <td>0.970063</td>\n",
       "      <td>1.000000</td>\n",
       "      <td>0.967598</td>\n",
       "      <td>0.970096</td>\n",
       "      <td>-0.834442</td>\n",
       "      <td>-0.057319</td>\n",
       "      <td>0.100670</td>\n",
       "      <td>0.744075</td>\n",
       "    </tr>\n",
       "    <tr>\n",
       "      <th>cire_max</th>\n",
       "      <td>0.003276</td>\n",
       "      <td>0.963028</td>\n",
       "      <td>0.821247</td>\n",
       "      <td>0.084080</td>\n",
       "      <td>0.953950</td>\n",
       "      <td>0.851050</td>\n",
       "      <td>0.079640</td>\n",
       "      <td>1.000000</td>\n",
       "      <td>0.970063</td>\n",
       "      <td>0.987590</td>\n",
       "      <td>0.901710</td>\n",
       "      <td>-0.745316</td>\n",
       "      <td>-0.022632</td>\n",
       "      <td>0.117675</td>\n",
       "      <td>0.736643</td>\n",
       "    </tr>\n",
       "    <tr>\n",
       "      <th>ndre1_mean</th>\n",
       "      <td>0.020451</td>\n",
       "      <td>0.904128</td>\n",
       "      <td>0.975228</td>\n",
       "      <td>0.115903</td>\n",
       "      <td>0.846681</td>\n",
       "      <td>0.912490</td>\n",
       "      <td>0.108647</td>\n",
       "      <td>0.901710</td>\n",
       "      <td>0.970096</td>\n",
       "      <td>0.924982</td>\n",
       "      <td>1.000000</td>\n",
       "      <td>-0.918663</td>\n",
       "      <td>-0.141928</td>\n",
       "      <td>0.027032</td>\n",
       "      <td>0.721310</td>\n",
       "    </tr>\n",
       "    <tr>\n",
       "      <th>ndre1_max</th>\n",
       "      <td>0.040747</td>\n",
       "      <td>0.986623</td>\n",
       "      <td>0.857211</td>\n",
       "      <td>0.089996</td>\n",
       "      <td>0.955311</td>\n",
       "      <td>0.855755</td>\n",
       "      <td>0.084613</td>\n",
       "      <td>0.987590</td>\n",
       "      <td>0.967598</td>\n",
       "      <td>1.000000</td>\n",
       "      <td>0.924982</td>\n",
       "      <td>-0.793051</td>\n",
       "      <td>-0.051426</td>\n",
       "      <td>0.098379</td>\n",
       "      <td>0.719060</td>\n",
       "    </tr>\n",
       "    <tr>\n",
       "      <th>ndvi_mean</th>\n",
       "      <td>0.055986</td>\n",
       "      <td>0.850820</td>\n",
       "      <td>1.000000</td>\n",
       "      <td>0.138208</td>\n",
       "      <td>0.786835</td>\n",
       "      <td>0.930081</td>\n",
       "      <td>0.125737</td>\n",
       "      <td>0.821247</td>\n",
       "      <td>0.907862</td>\n",
       "      <td>0.857211</td>\n",
       "      <td>0.975228</td>\n",
       "      <td>-0.957104</td>\n",
       "      <td>-0.232399</td>\n",
       "      <td>-0.069473</td>\n",
       "      <td>0.712662</td>\n",
       "    </tr>\n",
       "    <tr>\n",
       "      <th>ndvi_max</th>\n",
       "      <td>0.084269</td>\n",
       "      <td>1.000000</td>\n",
       "      <td>0.850820</td>\n",
       "      <td>0.114470</td>\n",
       "      <td>0.970108</td>\n",
       "      <td>0.842438</td>\n",
       "      <td>0.106490</td>\n",
       "      <td>0.963028</td>\n",
       "      <td>0.936373</td>\n",
       "      <td>0.986623</td>\n",
       "      <td>0.904128</td>\n",
       "      <td>-0.792452</td>\n",
       "      <td>-0.076202</td>\n",
       "      <td>0.037496</td>\n",
       "      <td>0.710950</td>\n",
       "    </tr>\n",
       "    <tr>\n",
       "      <th>etc_acum</th>\n",
       "      <td>-0.147827</td>\n",
       "      <td>0.037496</td>\n",
       "      <td>-0.069473</td>\n",
       "      <td>-0.666135</td>\n",
       "      <td>-0.037879</td>\n",
       "      <td>-0.158768</td>\n",
       "      <td>-0.656136</td>\n",
       "      <td>0.117675</td>\n",
       "      <td>0.100670</td>\n",
       "      <td>0.098379</td>\n",
       "      <td>0.027032</td>\n",
       "      <td>0.000254</td>\n",
       "      <td>0.846962</td>\n",
       "      <td>1.000000</td>\n",
       "      <td>0.001429</td>\n",
       "    </tr>\n",
       "    <tr>\n",
       "      <th>lluvia_acum</th>\n",
       "      <td>-0.162500</td>\n",
       "      <td>-0.076202</td>\n",
       "      <td>-0.232399</td>\n",
       "      <td>-0.765306</td>\n",
       "      <td>-0.115528</td>\n",
       "      <td>-0.274377</td>\n",
       "      <td>-0.759445</td>\n",
       "      <td>-0.022632</td>\n",
       "      <td>-0.057319</td>\n",
       "      <td>-0.051426</td>\n",
       "      <td>-0.141928</td>\n",
       "      <td>0.205013</td>\n",
       "      <td>1.000000</td>\n",
       "      <td>0.846962</td>\n",
       "      <td>0.001424</td>\n",
       "    </tr>\n",
       "    <tr>\n",
       "      <th>ndvi_max_date</th>\n",
       "      <td>0.001548</td>\n",
       "      <td>0.114470</td>\n",
       "      <td>0.138208</td>\n",
       "      <td>1.000000</td>\n",
       "      <td>0.187273</td>\n",
       "      <td>0.149211</td>\n",
       "      <td>0.997989</td>\n",
       "      <td>0.084080</td>\n",
       "      <td>0.088417</td>\n",
       "      <td>0.089996</td>\n",
       "      <td>0.115903</td>\n",
       "      <td>-0.099752</td>\n",
       "      <td>-0.765306</td>\n",
       "      <td>-0.666135</td>\n",
       "      <td>-0.014743</td>\n",
       "    </tr>\n",
       "    <tr>\n",
       "      <th>gndvi_max_date</th>\n",
       "      <td>-0.004619</td>\n",
       "      <td>0.106490</td>\n",
       "      <td>0.125737</td>\n",
       "      <td>0.997989</td>\n",
       "      <td>0.177715</td>\n",
       "      <td>0.129392</td>\n",
       "      <td>1.000000</td>\n",
       "      <td>0.079640</td>\n",
       "      <td>0.082305</td>\n",
       "      <td>0.084613</td>\n",
       "      <td>0.108647</td>\n",
       "      <td>-0.090415</td>\n",
       "      <td>-0.759445</td>\n",
       "      <td>-0.656136</td>\n",
       "      <td>-0.034011</td>\n",
       "    </tr>\n",
       "    <tr>\n",
       "      <th>parcela</th>\n",
       "      <td>1.000000</td>\n",
       "      <td>0.084269</td>\n",
       "      <td>0.055986</td>\n",
       "      <td>0.001548</td>\n",
       "      <td>0.036910</td>\n",
       "      <td>0.040511</td>\n",
       "      <td>-0.004619</td>\n",
       "      <td>0.003276</td>\n",
       "      <td>0.004129</td>\n",
       "      <td>0.040747</td>\n",
       "      <td>0.020451</td>\n",
       "      <td>-0.157342</td>\n",
       "      <td>-0.162500</td>\n",
       "      <td>-0.147827</td>\n",
       "      <td>-0.237461</td>\n",
       "    </tr>\n",
       "    <tr>\n",
       "      <th>msi_mean</th>\n",
       "      <td>-0.157342</td>\n",
       "      <td>-0.792452</td>\n",
       "      <td>-0.957104</td>\n",
       "      <td>-0.099752</td>\n",
       "      <td>-0.696794</td>\n",
       "      <td>-0.844046</td>\n",
       "      <td>-0.090415</td>\n",
       "      <td>-0.745316</td>\n",
       "      <td>-0.834442</td>\n",
       "      <td>-0.793051</td>\n",
       "      <td>-0.918663</td>\n",
       "      <td>1.000000</td>\n",
       "      <td>0.205013</td>\n",
       "      <td>0.000254</td>\n",
       "      <td>-0.647193</td>\n",
       "    </tr>\n",
       "  </tbody>\n",
       "</table>\n",
       "</div>"
      ],
      "text/plain": [
       "                 parcela  ndvi_max  ndvi_mean  ndvi_max_date  gndvi_max  \\\n",
       "rendimiento    -0.237461  0.710950   0.712662      -0.014743   0.753208   \n",
       "gndvi_mean      0.040511  0.842438   0.930081       0.149211   0.837840   \n",
       "gndvi_max       0.036910  0.970108   0.786835       0.187273   1.000000   \n",
       "cire_mean       0.004129  0.936373   0.907862       0.088417   0.903585   \n",
       "cire_max        0.003276  0.963028   0.821247       0.084080   0.953950   \n",
       "ndre1_mean      0.020451  0.904128   0.975228       0.115903   0.846681   \n",
       "ndre1_max       0.040747  0.986623   0.857211       0.089996   0.955311   \n",
       "ndvi_mean       0.055986  0.850820   1.000000       0.138208   0.786835   \n",
       "ndvi_max        0.084269  1.000000   0.850820       0.114470   0.970108   \n",
       "etc_acum       -0.147827  0.037496  -0.069473      -0.666135  -0.037879   \n",
       "lluvia_acum    -0.162500 -0.076202  -0.232399      -0.765306  -0.115528   \n",
       "ndvi_max_date   0.001548  0.114470   0.138208       1.000000   0.187273   \n",
       "gndvi_max_date -0.004619  0.106490   0.125737       0.997989   0.177715   \n",
       "parcela         1.000000  0.084269   0.055986       0.001548   0.036910   \n",
       "msi_mean       -0.157342 -0.792452  -0.957104      -0.099752  -0.696794   \n",
       "\n",
       "                gndvi_mean  gndvi_max_date  cire_max  cire_mean  ndre1_max  \\\n",
       "rendimiento       0.803078       -0.034011  0.736643   0.744075   0.719060   \n",
       "gndvi_mean        1.000000        0.129392  0.851050   0.901630   0.855755   \n",
       "gndvi_max         0.837840        0.177715  0.953950   0.903585   0.955311   \n",
       "cire_mean         0.901630        0.082305  0.970063   1.000000   0.967598   \n",
       "cire_max          0.851050        0.079640  1.000000   0.970063   0.987590   \n",
       "ndre1_mean        0.912490        0.108647  0.901710   0.970096   0.924982   \n",
       "ndre1_max         0.855755        0.084613  0.987590   0.967598   1.000000   \n",
       "ndvi_mean         0.930081        0.125737  0.821247   0.907862   0.857211   \n",
       "ndvi_max          0.842438        0.106490  0.963028   0.936373   0.986623   \n",
       "etc_acum         -0.158768       -0.656136  0.117675   0.100670   0.098379   \n",
       "lluvia_acum      -0.274377       -0.759445 -0.022632  -0.057319  -0.051426   \n",
       "ndvi_max_date     0.149211        0.997989  0.084080   0.088417   0.089996   \n",
       "gndvi_max_date    0.129392        1.000000  0.079640   0.082305   0.084613   \n",
       "parcela           0.040511       -0.004619  0.003276   0.004129   0.040747   \n",
       "msi_mean         -0.844046       -0.090415 -0.745316  -0.834442  -0.793051   \n",
       "\n",
       "                ndre1_mean  msi_mean  lluvia_acum  etc_acum  rendimiento  \n",
       "rendimiento       0.721310 -0.647193     0.001424  0.001429     1.000000  \n",
       "gndvi_mean        0.912490 -0.844046    -0.274377 -0.158768     0.803078  \n",
       "gndvi_max         0.846681 -0.696794    -0.115528 -0.037879     0.753208  \n",
       "cire_mean         0.970096 -0.834442    -0.057319  0.100670     0.744075  \n",
       "cire_max          0.901710 -0.745316    -0.022632  0.117675     0.736643  \n",
       "ndre1_mean        1.000000 -0.918663    -0.141928  0.027032     0.721310  \n",
       "ndre1_max         0.924982 -0.793051    -0.051426  0.098379     0.719060  \n",
       "ndvi_mean         0.975228 -0.957104    -0.232399 -0.069473     0.712662  \n",
       "ndvi_max          0.904128 -0.792452    -0.076202  0.037496     0.710950  \n",
       "etc_acum          0.027032  0.000254     0.846962  1.000000     0.001429  \n",
       "lluvia_acum      -0.141928  0.205013     1.000000  0.846962     0.001424  \n",
       "ndvi_max_date     0.115903 -0.099752    -0.765306 -0.666135    -0.014743  \n",
       "gndvi_max_date    0.108647 -0.090415    -0.759445 -0.656136    -0.034011  \n",
       "parcela           0.020451 -0.157342    -0.162500 -0.147827    -0.237461  \n",
       "msi_mean         -0.918663  1.000000     0.205013  0.000254    -0.647193  "
      ]
     },
     "execution_count": 31,
     "metadata": {},
     "output_type": "execute_result"
    }
   ],
   "source": [
    "zafras_m.corr().sort_values(by='rendimiento', ascending=False)"
   ]
  },
  {
   "cell_type": "markdown",
   "id": "26566cc8-03f6-40fb-8caf-2c71bd62367a",
   "metadata": {
    "jp-MarkdownHeadingCollapsed": true
   },
   "source": [
    "### Exportar datos"
   ]
  },
  {
   "cell_type": "code",
   "execution_count": 16,
   "id": "b09f6a38-4137-40a8-b819-e3c381923a8d",
   "metadata": {},
   "outputs": [],
   "source": [
    "zafra2021_r.drop(9, inplace=True)"
   ]
  },
  {
   "cell_type": "code",
   "execution_count": null,
   "id": "ab7f65f7-96bd-46d3-8445-17597ddc9280",
   "metadata": {},
   "outputs": [],
   "source": []
  },
  {
   "cell_type": "code",
   "execution_count": 24,
   "id": "e7e330c5-4908-4dad-9bef-e37166b2cc10",
   "metadata": {},
   "outputs": [],
   "source": [
    "zafras_r.to_csv(r'C:/Users/Isai/Documents/Tesis/code/results/yield_data/zafras_real.csv', index=False)"
   ]
  },
  {
   "cell_type": "markdown",
   "id": "4a402a09-bfaa-455f-b93d-1d53158a4d59",
   "metadata": {},
   "source": [
    "### Imagenes de corr"
   ]
  },
  {
   "cell_type": "code",
   "execution_count": 42,
   "id": "8efafd08-e8a9-41d0-b09c-62f730bc50b8",
   "metadata": {},
   "outputs": [
    {
     "name": "stderr",
     "output_type": "stream",
     "text": [
      "<>:8: SyntaxWarning: invalid escape sequence '\\c'\n",
      "<>:8: SyntaxWarning: invalid escape sequence '\\c'\n",
      "C:\\Users\\vival\\AppData\\Local\\Temp\\ipykernel_12096\\2007735512.py:8: SyntaxWarning: invalid escape sequence '\\c'\n",
      "  plt.ylabel('Rendimiento $ton \\cdot ha^{-1}$')\n"
     ]
    },
    {
     "data": {
      "image/png": "[encoded data removed]",
      "text/plain": [
       "<Figure size 1000x1000 with 1 Axes>"
      ]
     },
     "metadata": {},
     "output_type": "display_data"
    }
   ],
   "source": [
    "main_var = 'lluvia_acum'\n",
    "ds = zafra2021_m\n",
    "ds2 = zafra2022_m\n",
    "plt.figure(figsize=(10, 10))\n",
    "plt.scatter(ds[main_var], ds['rendimiento'], color=(150/255, 0, 24/255), label='Reales', marker='D')\n",
    "plt.scatter(ds2[main_var], ds2['rendimiento'], color='royalblue', label='Modelados', marker='D')\n",
    "plt.xlabel(f'{main_var.upper()}')\n",
    "plt.ylabel('Rendimiento $ton \\cdot ha^{-1}$')\n",
    "plt.legend(loc='upper left')\n",
    "plt.tight_layout()\n",
    "#plt.savefig(rf'../../tesis_img/correlacion/{main_var}_juntos_rm.pdf', dpi=100, format='pdf')\n",
    "plt.show()"
   ]
  },
  {
   "cell_type": "code",
   "execution_count": null,
   "id": "ab2ec873acc58b97",
   "metadata": {
    "ExecuteTime": {
     "end_time": "2024-05-13T23:33:17.307382Z",
     "start_time": "2024-05-13T23:33:17.299155Z"
    }
   },
   "outputs": [],
   "source": [
    "zafra2021 = zafra2021.drop(9)"
   ]
  },
  {
   "cell_type": "code",
   "execution_count": null,
   "id": "384c0a174ea943f2",
   "metadata": {
    "ExecuteTime": {
     "end_time": "2024-05-13T23:33:18.241279Z",
     "start_time": "2024-05-13T23:33:18.215774Z"
    }
   },
   "outputs": [],
   "source": [
    "zafra2021"
   ]
  },
  {
   "cell_type": "code",
   "execution_count": null,
   "id": "205fef49086fe641",
   "metadata": {
    "ExecuteTime": {
     "end_time": "2024-05-12T03:21:24.545877Z",
     "start_time": "2024-05-12T03:21:24.523243Z"
    }
   },
   "outputs": [],
   "source": [
    "to_concat_21 = []\n",
    "for i in dfs_21:\n",
    "    i[0]['Fecha'] = pd.to_datetime(i[0]['Fecha'])\n",
    "    to_concat_21.append(i[0])\n",
    "    \n",
    "df_21 = pd.concat(to_concat_21, ignore_index=True, axis=0)"
   ]
  },
  {
   "cell_type": "code",
   "execution_count": null,
   "id": "3c1915790a24549c",
   "metadata": {
    "ExecuteTime": {
     "end_time": "2024-05-12T03:21:25.253235Z",
     "start_time": "2024-05-12T03:21:25.231314Z"
    }
   },
   "outputs": [],
   "source": [
    "to_concat_22 = []\n",
    "for i in dfs_22:\n",
    "    i[0]['Fecha'] = pd.to_datetime(i[0]['Fecha'])\n",
    "    to_concat_22.append(i[0])\n",
    "    \n",
    "df_22= pd.concat(to_concat_22, ignore_index=True, axis=0)"
   ]
  },
  {
   "cell_type": "code",
   "execution_count": null,
   "id": "976b911ff9bc537b",
   "metadata": {
    "ExecuteTime": {
     "end_time": "2024-05-12T03:21:26.487632Z",
     "start_time": "2024-05-12T03:21:26.425376Z"
    }
   },
   "outputs": [],
   "source": [
    "df_22.corr()"
   ]
  },
  {
   "cell_type": "code",
   "execution_count": null,
   "id": "1b692adb92113700",
   "metadata": {
    "ExecuteTime": {
     "end_time": "2024-05-13T23:33:28.782556Z",
     "start_time": "2024-05-13T23:33:28.775042Z"
    }
   },
   "outputs": [],
   "source": [
    "juntos = pd.concat([zafra2021, zafra2022], ignore_index=True, axis=0)"
   ]
  },
  {
   "cell_type": "code",
   "execution_count": null,
   "id": "9ce119225fa8f323",
   "metadata": {
    "ExecuteTime": {
     "end_time": "2024-05-13T23:33:29.213178Z",
     "start_time": "2024-05-13T23:33:29.186240Z"
    }
   },
   "outputs": [],
   "source": [
    "juntos.corr()"
   ]
  },
  {
   "cell_type": "code",
   "execution_count": null,
   "id": "eef6a0e3d5e8f7fe",
   "metadata": {
    "ExecuteTime": {
     "end_time": "2024-05-13T23:33:33.193075Z",
     "start_time": "2024-05-13T23:33:33.165028Z"
    }
   },
   "outputs": [],
   "source": [
    "juntos.corr(method='pearson')"
   ]
  },
  {
   "cell_type": "code",
   "execution_count": null,
   "id": "acd6103f212a9778",
   "metadata": {
    "ExecuteTime": {
     "end_time": "2024-05-10T23:41:19.496217Z",
     "start_time": "2024-05-10T23:41:19.470898Z"
    }
   },
   "outputs": [],
   "source": [
    "fechas = r\"C:\\Users\\Isai\\Documents\\Tesis\\code\\fechas_claves\\harvest.json\"\n",
    "fechas_df = pd.read_json(fechas)\n",
    "fechas_df"
   ]
  },
  {
   "cell_type": "code",
   "execution_count": null,
   "id": "a8517add33a72533",
   "metadata": {
    "ExecuteTime": {
     "end_time": "2024-05-10T23:41:19.512571Z",
     "start_time": "2024-05-10T23:41:19.498208Z"
    }
   },
   "outputs": [],
   "source": [
    "fechas_21 = pd.merge(fechas_df, zafra2021, left_on='id', right_on='parcela')"
   ]
  },
  {
   "cell_type": "code",
   "execution_count": null,
   "id": "c0cbfbeb4f4ba36c",
   "metadata": {
    "ExecuteTime": {
     "end_time": "2024-05-10T23:41:19.526860Z",
     "start_time": "2024-05-10T23:41:19.514567Z"
    }
   },
   "outputs": [],
   "source": [
    "fechas_juntos = pd.merge(fechas_21, zafra2022, left_on='parcela', right_on='parcela')"
   ]
  },
  {
   "cell_type": "code",
   "execution_count": null,
   "id": "860bb38467bb8019",
   "metadata": {
    "ExecuteTime": {
     "end_time": "2024-05-10T23:42:41.194923Z",
     "start_time": "2024-05-10T23:42:41.180070Z"
    }
   },
   "outputs": [],
   "source": [
    "fechas_juntos"
   ]
  },
  {
   "cell_type": "markdown",
   "id": "817551a79333caa5",
   "metadata": {},
   "source": [
    "## Correlación"
   ]
  },
  {
   "cell_type": "code",
   "execution_count": null,
   "id": "851fac23ad4af8b2",
   "metadata": {
    "ExecuteTime": {
     "end_time": "2024-05-12T03:22:27.169603Z",
     "start_time": "2024-05-12T03:22:26.563351Z"
    }
   },
   "outputs": [],
   "source": [
    "ids = juntos['parcela'].unique()\n",
    "palette = sns.color_palette(\"hsv\", len(ids))\n",
    "var = 'ndvi_mean'\n",
    "\n",
    "plt.figure(figsize=(10, 10))\n",
    "sns.scatterplot(data=juntos, x=var, y='rendimiento', color='royalblue')\n",
    "#plt.scatter(zafra2022['lluvia_acum'], zafra2022['rendimiento'])\n",
    "plt.title(f'{var.split('_')[0].upper()}')\n",
    "plt.tight_layout()\n",
    "#plt.legend(title='Parcela')\n",
    "# plt.text(0.9, 0.9, f'Correlación: {df2[\"ndvi\"].corr(df2[\"Fecha\"], method=\"pearson\"):3f}', fontsize=12)\n",
    "#plt.savefig(PurePath(r\"C:\\Users\\Isai\\Documents\\Tesis\\code\\revision\\img\\juntos\\corr\", f'{var}_rendimiento_21.png'), dpi=300)\n",
    "plt.show()"
   ]
  },
  {
   "cell_type": "markdown",
   "id": "92f2a3e36704fca2",
   "metadata": {},
   "source": [
    "## Correlación entre vis y climaticos"
   ]
  },
  {
   "cell_type": "code",
   "execution_count": null,
   "id": "e200319e8fcdc264",
   "metadata": {
    "ExecuteTime": {
     "end_time": "2024-05-10T23:41:20.142062Z",
     "start_time": "2024-05-10T23:41:20.133434Z"
    }
   },
   "outputs": [],
   "source": [
    "lr_z22 = r\"C:\\Users\\Isai\\Documents\\Tesis\\code\\data_analysis\\datos\\model_predicts\\zafra2022\"\n",
    "lr_z21 = r\"C:\\Users\\Isai\\Documents\\Tesis\\code\\data_analysis\\datos\\model_predicts\\zafra2021\""
   ]
  },
  {
   "cell_type": "markdown",
   "id": "48a26947181c1739",
   "metadata": {},
   "source": [
    "## Diferencia de fechas de cosecha"
   ]
  },
  {
   "cell_type": "code",
   "execution_count": null,
   "id": "8ab945dfe4aa6bd9",
   "metadata": {
    "ExecuteTime": {
     "end_time": "2024-05-10T23:41:20.153925Z",
     "start_time": "2024-05-10T23:41:20.147049Z"
    }
   },
   "outputs": [],
   "source": [
    "fechas_juntos = fechas_juntos[['id', 'start', 'mid', 'end', 'ndvi_max_date_x', 'gndvi_max_date_x', 'ndvi_max_date_y', 'gndvi_max_date_y']]"
   ]
  },
  {
   "cell_type": "code",
   "execution_count": null,
   "id": "5ff20cf626cf6835",
   "metadata": {
    "ExecuteTime": {
     "end_time": "2024-05-10T23:41:20.168744Z",
     "start_time": "2024-05-10T23:41:20.158914Z"
    }
   },
   "outputs": [],
   "source": [
    "fechas_juntos['start'] = pd.to_datetime(fechas_juntos['start'])\n",
    "fechas_juntos['mid'] = pd.to_datetime(fechas_juntos['mid'])\n",
    "fechas_juntos['end'] = pd.to_datetime(fechas_juntos['end'])\n"
   ]
  },
  {
   "cell_type": "code",
   "execution_count": null,
   "id": "10eb7c5d50172989",
   "metadata": {
    "ExecuteTime": {
     "end_time": "2024-05-10T23:41:20.184313Z",
     "start_time": "2024-05-10T23:41:20.171732Z"
    }
   },
   "outputs": [],
   "source": [
    "fechas_juntos"
   ]
  },
  {
   "cell_type": "code",
   "execution_count": null,
   "id": "8f38906ca16f299f",
   "metadata": {
    "ExecuteTime": {
     "end_time": "2024-05-10T23:41:20.205902Z",
     "start_time": "2024-05-10T23:41:20.187302Z"
    }
   },
   "outputs": [],
   "source": [
    "fechas_juntos['dias_z21_ndvi'] = abs(fechas_juntos['ndvi_max_date_x'] - fechas_juntos['mid']).dt.days\n",
    "fechas_juntos['dias_z21_gndvi'] = abs(fechas_juntos['gndvi_max_date_x'] - fechas_juntos['mid']).dt.days\n",
    "fechas_juntos['dias_z22_ndvi'] = abs(fechas_juntos['ndvi_max_date_y'] - fechas_juntos['end']).dt.days\n",
    "fechas_juntos['dias_z22_gndvi'] = abs(fechas_juntos['gndvi_max_date_y'] - fechas_juntos['end']).dt.days"
   ]
  },
  {
   "cell_type": "code",
   "execution_count": null,
   "id": "148b07676c1f57c6",
   "metadata": {
    "ExecuteTime": {
     "end_time": "2024-05-10T23:41:20.223431Z",
     "start_time": "2024-05-10T23:41:20.207897Z"
    }
   },
   "outputs": [],
   "source": [
    "fechas_juntos"
   ]
  },
  {
   "cell_type": "code",
   "execution_count": null,
   "id": "1bdfe110991e9088",
   "metadata": {
    "ExecuteTime": {
     "end_time": "2024-05-10T23:41:20.809473Z",
     "start_time": "2024-05-10T23:41:20.226416Z"
    }
   },
   "outputs": [],
   "source": [
    "plt.figure(figsize=(10, 5))\n",
    "\n",
    "# Barra para la diferencia entre fecha2 y fecha1\n",
    "plt.bar(fechas_juntos['id'], fechas_juntos['dias_z21_ndvi'], width=0.4, color='red', label='2022/2023', alpha=0.2)\n",
    "\n",
    "# Barra para la diferencia entre fecha4 y fecha\n",
    "plt.bar(fechas_juntos['id'], fechas_juntos['dias_z22_ndvi'], width=0.4, color='blue', alpha=0.15, label='2021/2022')\n",
    "\n",
    "plt.xlabel('Parcela')\n",
    "plt.ylabel('días')\n",
    "plt.title('Max ndvi date vs harvest')\n",
    "plt.legend()\n",
    "plt.grid(True)\n",
    "\n",
    "plt.tight_layout()\n",
    "#plt.savefig(PurePath(r\"C:\\Users\\Isai\\Documents\\Tesis\\code\\revision\\img\\juntos\\corr\", 'ndvi_harvest_dates_diff.png'), dpi=300)\n",
    "plt.show()"
   ]
  },
  {
   "cell_type": "markdown",
   "id": "4f213779c2d00cc2",
   "metadata": {},
   "source": [
    "## Regresión"
   ]
  },
  {
   "cell_type": "code",
   "execution_count": null,
   "id": "5879ec0edef217cc",
   "metadata": {
    "ExecuteTime": {
     "end_time": "2024-05-13T04:30:17.416918Z",
     "start_time": "2024-05-13T04:30:17.410857Z"
    }
   },
   "outputs": [],
   "source": [
    "independent_var = 'msi_mean'\n",
    "ds = zafra2021"
   ]
  },
  {
   "cell_type": "code",
   "execution_count": null,
   "id": "e0836e9d88861e5d",
   "metadata": {
    "ExecuteTime": {
     "end_time": "2024-05-13T04:30:17.969020Z",
     "start_time": "2024-05-13T04:30:17.951849Z"
    }
   },
   "outputs": [],
   "source": [
    "metadata, models = linear_reg_model(data=ds, columns=[independent_var, 'rendimiento'], max_degree=3)"
   ]
  },
  {
   "cell_type": "code",
   "execution_count": null,
   "id": "c54ba59608f7e488",
   "metadata": {
    "ExecuteTime": {
     "end_time": "2024-05-13T04:30:18.861070Z",
     "start_time": "2024-05-13T04:30:18.849890Z"
    }
   },
   "outputs": [],
   "source": [
    "metadata"
   ]
  },
  {
   "cell_type": "code",
   "execution_count": null,
   "id": "ac649826e9f27d9",
   "metadata": {
    "ExecuteTime": {
     "end_time": "2024-05-13T04:16:37.560565Z",
     "start_time": "2024-05-13T04:16:37.554530Z"
    }
   },
   "outputs": [],
   "source": [
    "x = ds[independent_var].values.reshape(-1, 1)\n",
    "y = ds['rendimiento'].values"
   ]
  },
  {
   "cell_type": "code",
   "execution_count": null,
   "id": "df88923f09e15e7e",
   "metadata": {
    "ExecuteTime": {
     "end_time": "2024-05-13T04:16:38.004893Z",
     "start_time": "2024-05-13T04:16:38.001603Z"
    }
   },
   "outputs": [],
   "source": [
    "linear_model = models[2]\n",
    "poly_features = linear_model[1]\n",
    "model = linear_model[0]"
   ]
  },
  {
   "cell_type": "code",
   "execution_count": null,
   "id": "83f2340e926e5647",
   "metadata": {
    "ExecuteTime": {
     "end_time": "2024-05-13T04:16:38.520835Z",
     "start_time": "2024-05-13T04:16:38.514264Z"
    }
   },
   "outputs": [],
   "source": [
    "x_poly = poly_features.fit_transform(x)\n",
    "y_pred = model.predict(sm.add_constant(x_poly))\n",
    "ds[f'{independent_var}_pred'] = y_pred"
   ]
  },
  {
   "cell_type": "markdown",
   "id": "60cc14d78153c050",
   "metadata": {},
   "source": [
    "## Figuras"
   ]
  },
  {
   "cell_type": "code",
   "execution_count": null,
   "id": "ce861299028fd3df",
   "metadata": {
    "ExecuteTime": {
     "end_time": "2024-05-13T04:16:48.038617Z",
     "start_time": "2024-05-13T04:16:46.673088Z"
    }
   },
   "outputs": [],
   "source": [
    "plt.figure(figsize=(10, 10))\n",
    "sns.scatterplot(data=ds, x=independent_var, y='rendimiento', label='Datos de entrada', color='forestgreen')\n",
    "sns.lineplot(data=ds, x=independent_var, y=f'{independent_var}_pred', label='Modelo', color='firebrick')\n",
    "plt.legend()\n",
    "plt.tight_layout()\n",
    "plt.savefig(PurePath(r'C:\\Users\\Isai\\Documents\\Tesis\\code\\revision\\img\\2021\\yield', f'{independent_var}_2021.png'), dpi=200)\n",
    "plt.show()"
   ]
  },
  {
   "cell_type": "markdown",
   "id": "8028f3c76c5cf8e6",
   "metadata": {},
   "source": [
    "## Regresion multiple"
   ]
  },
  {
   "cell_type": "code",
   "execution_count": null,
   "id": "c089e7d6fa0edab1",
   "metadata": {
    "ExecuteTime": {
     "end_time": "2024-05-13T23:45:13.216594Z",
     "start_time": "2024-05-13T23:45:13.212595Z"
    }
   },
   "outputs": [],
   "source": [
    "independent_vars = ['gndvi_mean', 'msi_mean', 'etc_acum']\n",
    "dependent_var = 'rendimiento'\n",
    "ds = zafra2022"
   ]
  },
  {
   "cell_type": "code",
   "execution_count": null,
   "id": "b0bd650a9c96b6c3",
   "metadata": {
    "ExecuteTime": {
     "end_time": "2024-05-13T23:45:13.749874Z",
     "start_time": "2024-05-13T23:45:13.742778Z"
    }
   },
   "outputs": [],
   "source": [
    "x = ds[independent_vars]\n",
    "y = ds[dependent_var]"
   ]
  },
  {
   "cell_type": "code",
   "execution_count": null,
   "id": "9dd24f4bae2ad4d7",
   "metadata": {
    "ExecuteTime": {
     "end_time": "2024-05-13T23:45:14.348155Z",
     "start_time": "2024-05-13T23:45:14.336909Z"
    }
   },
   "outputs": [],
   "source": [
    "x_train, x_test, y_train, y_test = train_test_split(x, y, test_size=0.2, random_state=42)"
   ]
  },
  {
   "cell_type": "code",
   "execution_count": null,
   "id": "f78789ac4dbb0fbf",
   "metadata": {
    "ExecuteTime": {
     "end_time": "2024-05-13T23:45:14.879364Z",
     "start_time": "2024-05-13T23:45:14.871289Z"
    }
   },
   "outputs": [],
   "source": [
    "model = sm.OLS(y_train, sm.add_constant(x_train)).fit()"
   ]
  },
  {
   "cell_type": "code",
   "execution_count": null,
   "id": "e4001604f708065a",
   "metadata": {
    "ExecuteTime": {
     "end_time": "2024-05-13T23:45:15.570580Z",
     "start_time": "2024-05-13T23:45:15.527539Z"
    }
   },
   "outputs": [],
   "source": [
    "model.summary()"
   ]
  },
  {
   "cell_type": "code",
   "execution_count": null,
   "id": "a110e92a6b2dc253",
   "metadata": {},
   "outputs": [],
   "source": []
  }
 ],
 "metadata": {
  "kernelspec": {
   "display_name": "tesis-venv",
   "language": "python",
   "name": "tesis-venv"
  },
  "language_info": {
   "codemirror_mode": {
    "name": "ipython",
    "version": 3
   },
   "file_extension": ".py",
   "mimetype": "text/x-python",
   "name": "python",
   "nbconvert_exporter": "python",
   "pygments_lexer": "ipython3",
   "version": "3.12.4"
  }
 },
 "nbformat": 4,
 "nbformat_minor": 5
}
