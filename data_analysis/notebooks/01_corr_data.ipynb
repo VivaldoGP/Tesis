{
 "cells": [
  {
   "cell_type": "markdown",
   "id": "305887702ef8d75b",
   "metadata": {},
   "source": [
    "En este notebook vamos a verificar la correlación de los datos para visualizar la relación entre las variables."
   ]
  },
  {
   "cell_type": "markdown",
   "id": "6a7586e849d66459",
   "metadata": {
    "editable": true,
    "slideshow": {
     "slide_type": ""
    },
    "tags": []
   },
   "source": [
    "## Librerías"
   ]
  },
  {
   "cell_type": "code",
   "execution_count": 1,
   "id": "3c52043b138cd0d2",
   "metadata": {
    "ExecuteTime": {
     "end_time": "2024-05-13T23:43:45.165546Z",
     "start_time": "2024-05-13T23:43:45.159240Z"
    }
   },
   "outputs": [],
   "source": [
    "import pandas as pd\n",
    "import numpy as np\n",
    "import os\n",
    "from pathlib import PurePath\n",
    "import matplotlib.pyplot as plt\n",
    "import seaborn as sns"
   ]
  },
  {
   "cell_type": "markdown",
   "id": "93cf23c92ae6f7aa",
   "metadata": {},
   "source": [
    "## Carga de datos"
   ]
  },
  {
   "cell_type": "markdown",
   "id": "fd7d97c3-3052-4ed7-bea4-2c97040560de",
   "metadata": {},
   "source": [
    "Datos modelados"
   ]
  },
  {
   "cell_type": "code",
   "execution_count": 2,
   "id": "cd9f55e4800e4c88",
   "metadata": {
    "ExecuteTime": {
     "end_time": "2024-05-13T23:33:00.288288Z",
     "start_time": "2024-05-13T23:33:00.282565Z"
    }
   },
   "outputs": [],
   "source": [
    "root = r\"C:\\Users\\Isai\\Documents\\Tesis\\code\\data_analysis\\all_vars\\zafra2021\"\n",
    "root2 = r\"C:\\Users\\Isai\\Documents\\Tesis\\code\\data_analysis\\all_vars\\zafra2022\""
   ]
  },
  {
   "cell_type": "markdown",
   "id": "ed5bf9a6-6d96-4554-8746-82fbb16ad1d9",
   "metadata": {},
   "source": [
    "Datos reales"
   ]
  },
  {
   "cell_type": "code",
   "execution_count": 3,
   "id": "eb4eceee-1247-4086-bb8b-d4f317515402",
   "metadata": {},
   "outputs": [],
   "source": [
    "reales21 = r\"C:/Users/Isai/Documents/Tesis/code/datos/parcelas/ready_to_analyze/zafra2021/\"\n",
    "reales22 = r\"C:/Users/Isai/Documents/Tesis/code/datos/parcelas/ready_to_analyze/zafra2022/\""
   ]
  },
  {
   "cell_type": "code",
   "execution_count": 4,
   "id": "25410a72edc86578",
   "metadata": {
    "ExecuteTime": {
     "end_time": "2024-05-13T23:33:01.103871Z",
     "start_time": "2024-05-13T23:33:00.877389Z"
    }
   },
   "outputs": [],
   "source": [
    "dfs_21 = [(pd.read_csv(PurePath(root, f), parse_dates=True), int(f.split('.')[0].split('_')[1])) for f in os.listdir(root) if f.endswith(\".csv\")]\n",
    "dfs_22 = [(pd.read_csv(PurePath(root2, f), parse_dates=True), int(f.split('.')[0].split('_')[1])) for f in os.listdir(root2) if f.endswith(\".csv\")]\n",
    "dfs_21_r = [(pd.read_csv(PurePath(reales21, f), parse_dates=True), int(f.split('.')[0].split('_')[1])) for f in os.listdir(reales21) if f.endswith(\".csv\")]\n",
    "dfs_22_r = [(pd.read_csv(PurePath(reales22, f), parse_dates=True), int(f.split('.')[0].split('_')[1])) for f in os.listdir(reales22) if f.endswith(\".csv\")]"
   ]
  },
  {
   "cell_type": "markdown",
   "id": "c8f9380630a50a5e",
   "metadata": {},
   "source": [
    "### Dfs para las variables resumidas"
   ]
  },
  {
   "cell_type": "code",
   "execution_count": 5,
   "id": "e09b4cae1582b1fb",
   "metadata": {
    "ExecuteTime": {
     "end_time": "2024-05-13T23:33:02.536811Z",
     "start_time": "2024-05-13T23:33:02.524619Z"
    }
   },
   "outputs": [],
   "source": [
    "zafra2021_r = pd.DataFrame(columns=[\n",
    "    'parcela',\n",
    "    'ndvi_max',\n",
    "    'ndvi_max_date',\n",
    "    'ndvi_mean',\n",
    "    'gndvi_max',\n",
    "    'gndvi_max_date',\n",
    "    'gndvi_mean',\n",
    "    'cire_max',\n",
    "    'cire_mean',\n",
    "    'ndre1_max',\n",
    "    'ndre1_mean',\n",
    "    'msi_mean'\n",
    "])\n",
    "\n",
    "zafra2021_m = pd.DataFrame(columns=[\n",
    "    'parcela',\n",
    "    'ndvi_max',\n",
    "    'ndvi_mean',\n",
    "    'ndvi_max_date',\n",
    "    'gndvi_max',\n",
    "    'gndvi_mean',\n",
    "    'gndvi_max_date',\n",
    "    'cire_max',\n",
    "    'cire_mean',\n",
    "    'ndre1_max',\n",
    "    'ndre1_mean',\n",
    "    'msi_mean',\n",
    "    'lluvia_acum',\n",
    "    'etc_acum'\n",
    "])\n",
    "\n",
    "zafra2022_r = pd.DataFrame(columns=[\n",
    "    'parcela',\n",
    "    'ndvi_max',\n",
    "    'ndvi_max_date',\n",
    "    'ndvi_mean',\n",
    "    'gndvi_max',\n",
    "    'gndvi_max_date',\n",
    "    'gndvi_mean',\n",
    "    'cire_max',\n",
    "    'cire_mean',\n",
    "    'ndre1_max',\n",
    "    'ndre1_mean',\n",
    "    'msi_mean'\n",
    "])\n",
    "\n",
    "zafra2022_m = pd.DataFrame(columns=[\n",
    "    'parcela',\n",
    "    'ndvi_max',\n",
    "    'ndvi_mean',\n",
    "    'ndvi_max_date',\n",
    "    'gndvi_max',\n",
    "    'gndvi_mean',\n",
    "    'gndvi_max_date',\n",
    "    'cire_max',\n",
    "    'cire_mean',\n",
    "    'ndre1_max',\n",
    "    'ndre1_mean',\n",
    "    'msi_mean',\n",
    "    'lluvia_acum',\n",
    "    'etc_acum'\n",
    "])"
   ]
  },
  {
   "cell_type": "markdown",
   "id": "3b952a8e089aec24",
   "metadata": {},
   "source": [
    "### Asignación de los datos"
   ]
  },
  {
   "cell_type": "code",
   "execution_count": 6,
   "id": "94265b65aa73618e",
   "metadata": {
    "ExecuteTime": {
     "end_time": "2024-05-13T23:33:10.801367Z",
     "start_time": "2024-05-13T23:33:10.657728Z"
    }
   },
   "outputs": [
    {
     "name": "stderr",
     "output_type": "stream",
     "text": [
      "C:\\Users\\Isai\\AppData\\Local\\Temp\\ipykernel_10424\\1590858706.py:21: FutureWarning: The behavior of DataFrame concatenation with empty or all-NA entries is deprecated. In a future version, this will no longer exclude empty or all-NA columns when determining the result dtypes. To retain the old behavior, exclude the relevant entries before the concat operation.\n",
      "  zafra2021_m = zafra2021_m._append({\n",
      "C:\\Users\\Isai\\AppData\\Local\\Temp\\ipykernel_10424\\1590858706.py:59: FutureWarning: The behavior of DataFrame concatenation with empty or all-NA entries is deprecated. In a future version, this will no longer exclude empty or all-NA columns when determining the result dtypes. To retain the old behavior, exclude the relevant entries before the concat operation.\n",
      "  zafra2022_m = zafra2022_m._append({\n",
      "C:\\Users\\Isai\\AppData\\Local\\Temp\\ipykernel_10424\\1590858706.py:94: FutureWarning: The behavior of DataFrame concatenation with empty or all-NA entries is deprecated. In a future version, this will no longer exclude empty or all-NA columns when determining the result dtypes. To retain the old behavior, exclude the relevant entries before the concat operation.\n",
      "  zafra2021_r = zafra2021_r._append({\n",
      "C:\\Users\\Isai\\AppData\\Local\\Temp\\ipykernel_10424\\1590858706.py:127: FutureWarning: The behavior of DataFrame concatenation with empty or all-NA entries is deprecated. In a future version, this will no longer exclude empty or all-NA columns when determining the result dtypes. To retain the old behavior, exclude the relevant entries before the concat operation.\n",
      "  zafra2022_r = zafra2022_r._append({\n"
     ]
    }
   ],
   "source": [
    "for i in dfs_21:\n",
    "    i[0]['Fecha'] = pd.to_datetime(i[0]['Fecha'])\n",
    "    parcela_id = i[1]\n",
    "    ndvi_max = i[0]['ndvi'].max()\n",
    "    ndvi_max_date_loc = i[0]['ndvi'].idxmax()\n",
    "    ndvi_max_date = i[0].loc[ndvi_max_date_loc, 'Fecha']\n",
    "    ndvi_mean = i[0]['ndvi'].mean()\n",
    "    gndvi_max = i[0]['gndvi'].max()\n",
    "    gndvi_max_date_loc = i[0]['gndvi'].idxmax()\n",
    "    gndvi_max_date = i[0].loc[gndvi_max_date_loc, 'Fecha']\n",
    "    gndvi_mean = i[0]['gndvi'].mean()\n",
    "    cire_max = i[0]['cire'].max()\n",
    "    cire_mean = i[0]['cire'].mean()\n",
    "    ndre1_max = i[0]['ndre1'].max()\n",
    "    ndre1_mean = i[0]['ndre1'].mean()\n",
    "    msi_mean = i[0]['msi'].mean()\n",
    "    lluvia = i[0]['precip'].sum()\n",
    "    etc_acum = i[0]['etc'].sum()\n",
    "    \n",
    "    \n",
    "    zafra2021_m = zafra2021_m._append({\n",
    "        'parcela': parcela_id,\n",
    "        'ndvi_max': ndvi_max,\n",
    "        'ndvi_max_date': ndvi_max_date,\n",
    "        'ndvi_mean': ndvi_mean,\n",
    "        'gndvi_max': gndvi_max,\n",
    "        'gndvi_max_date': gndvi_max_date,\n",
    "        'gndvi_mean': gndvi_mean,\n",
    "        'cire_max': cire_max,\n",
    "        'cire_mean': cire_mean,\n",
    "        'ndre1_max': ndre1_max,\n",
    "        'ndre1_mean': ndre1_mean,\n",
    "        'msi_mean': msi_mean,\n",
    "        'lluvia_acum': lluvia,\n",
    "        'etc_acum': etc_acum\n",
    "    }, ignore_index=True) \n",
    "    \n",
    "    \n",
    "for i in dfs_22:\n",
    "    i[0]['Fecha'] = pd.to_datetime(i[0]['Fecha'])\n",
    "    parcela_id = i[1]\n",
    "    ndvi_max = i[0]['ndvi'].max()\n",
    "    ndvi_max_date_loc = i[0]['ndvi'].idxmax()\n",
    "    ndvi_max_date = i[0].loc[ndvi_max_date_loc, 'Fecha']\n",
    "    ndvi_mean = i[0]['ndvi'].mean()\n",
    "    gndvi_max = i[0]['gndvi'].max()\n",
    "    gndvi_max_date_loc = i[0]['gndvi'].idxmax()\n",
    "    gndvi_max_date = i[0].loc[gndvi_max_date_loc, 'Fecha']\n",
    "    gndvi_mean = i[0]['gndvi'].mean()\n",
    "    cire_max = i[0]['cire'].max()\n",
    "    cire_mean = i[0]['cire'].mean()\n",
    "    ndre1_max = i[0]['ndre1'].max()\n",
    "    ndre1_mean = i[0]['ndre1'].mean()\n",
    "    msi_mean = i[0]['msi'].mean()\n",
    "    lluvia = i[0]['precip'].sum()\n",
    "    etc_acum = i[0]['etc'].sum()\n",
    "    \n",
    "    \n",
    "    zafra2022_m = zafra2022_m._append({\n",
    "        'parcela': parcela_id,\n",
    "        'ndvi_max': ndvi_max,\n",
    "        'ndvi_max_date': ndvi_max_date,\n",
    "        'ndvi_mean': ndvi_mean,\n",
    "        'gndvi_max': gndvi_max,\n",
    "        'gndvi_max_date': gndvi_max_date,\n",
    "        'gndvi_mean': gndvi_mean,\n",
    "        'cire_max': cire_max,\n",
    "        'cire_mean': cire_mean,\n",
    "        'ndre1_max': ndre1_max,\n",
    "        'ndre1_mean': ndre1_mean,\n",
    "        'msi_mean': msi_mean,\n",
    "        'lluvia_acum': lluvia,\n",
    "        'etc_acum': etc_acum\n",
    "    }, ignore_index=True)\n",
    "\n",
    "for i in dfs_21_r:\n",
    "    i[0]['Fecha'] = pd.to_datetime(i[0]['Fecha'])\n",
    "    parcela_id = i[1]\n",
    "    ndvi_max = i[0]['ndvi_mean'].max()\n",
    "    ndvi_max_date_loc = i[0]['ndvi_mean'].idxmax()\n",
    "    ndvi_max_date = i[0].loc[ndvi_max_date_loc, 'Fecha']\n",
    "    ndvi_mean = i[0]['ndvi_max'].mean()\n",
    "    gndvi_max = i[0]['gndvi_mean'].max()\n",
    "    gndvi_max_date_loc = i[0]['gndvi_mean'].idxmax()\n",
    "    gndvi_max_date = i[0].loc[gndvi_max_date_loc, 'Fecha']\n",
    "    gndvi_mean = i[0]['gndvi_mean'].mean()\n",
    "    cire_max = i[0]['cire_mean'].max()\n",
    "    cire_mean = i[0]['cire_mean'].mean()\n",
    "    ndre1_max = i[0]['ndre1_mean'].max()\n",
    "    ndre1_mean = i[0]['ndre1_mean'].mean()\n",
    "    msi_mean = i[0]['msi_mean'].mean()\n",
    "    \n",
    "    \n",
    "    zafra2021_r = zafra2021_r._append({\n",
    "        'parcela': parcela_id,\n",
    "        'ndvi_max': ndvi_max,\n",
    "        'ndvi_max_date': ndvi_max_date,\n",
    "        'ndvi_mean': ndvi_mean,\n",
    "        'gndvi_max': gndvi_max,\n",
    "        'gndvi_max_date': gndvi_max_date,\n",
    "        'gndvi_mean': gndvi_mean,\n",
    "        'cire_max': cire_max,\n",
    "        'cire_mean': cire_mean,\n",
    "        'ndre1_max': ndre1_max,\n",
    "        'ndre1_mean': ndre1_mean,\n",
    "        'msi_mean': msi_mean\n",
    "    }, ignore_index=True)\n",
    "\n",
    "for i in dfs_22_r:\n",
    "    i[0]['Fecha'] = pd.to_datetime(i[0]['Fecha'])\n",
    "    parcela_id = i[1]\n",
    "    ndvi_max = i[0]['ndvi_mean'].max()\n",
    "    ndvi_max_date_loc = i[0]['ndvi_mean'].idxmax()\n",
    "    ndvi_max_date = i[0].loc[ndvi_max_date_loc, 'Fecha']\n",
    "    ndvi_mean = i[0]['ndvi_mean'].mean()\n",
    "    gndvi_max = i[0]['gndvi_mean'].max()\n",
    "    gndvi_max_date_loc = i[0]['gndvi_mean'].idxmax()\n",
    "    gndvi_max_date = i[0].loc[gndvi_max_date_loc, 'Fecha']\n",
    "    gndvi_mean = i[0]['gndvi_mean'].mean()\n",
    "    cire_max = i[0]['cire_mean'].max()\n",
    "    cire_mean = i[0]['cire_mean'].mean()\n",
    "    ndre1_max = i[0]['ndre1_mean'].max()\n",
    "    ndre1_mean = i[0]['ndre1_mean'].mean()\n",
    "    msi_mean = i[0]['msi_mean'].mean()\n",
    "    \n",
    "    \n",
    "    zafra2022_r = zafra2022_r._append({\n",
    "        'parcela': parcela_id,\n",
    "        'ndvi_max': ndvi_max,\n",
    "        'ndvi_max_date': ndvi_max_date,\n",
    "        'ndvi_mean': ndvi_mean,\n",
    "        'gndvi_max': gndvi_max,\n",
    "        'gndvi_max_date': gndvi_max_date,\n",
    "        'gndvi_mean': gndvi_mean,\n",
    "        'cire_max': cire_max,\n",
    "        'cire_mean': cire_mean,\n",
    "        'ndre1_max': ndre1_max,\n",
    "        'ndre1_mean': ndre1_mean,\n",
    "        'msi_mean': msi_mean\n",
    "    }, ignore_index=True) "
   ]
  },
  {
   "cell_type": "code",
   "execution_count": 7,
   "id": "26aa575124d1d1f3",
   "metadata": {
    "ExecuteTime": {
     "end_time": "2024-05-13T23:33:16.836352Z",
     "start_time": "2024-05-13T23:33:16.826058Z"
    }
   },
   "outputs": [],
   "source": [
    "zafra2021_r['rendimiento'] = pd.Series([49, 80, 73, 33, 56, 62, 32, 64, 48, 53, 78, 81, 68, 73, 71])\n",
    "zafra2022_r['rendimiento'] = pd.Series([48, 75, 75, 30, 50, 60, 25, 60, 45, 50, 75, 75, 75, 75, 75])\n",
    "zafra2021_m['rendimiento'] = pd.Series([49, 80, 73, 33, 56, 62, 32, 64, 48, 53, 78, 81, 68, 73, 71])\n",
    "zafra2022_m['rendimiento'] = pd.Series([48, 75, 75, 30, 50, 60, 25, 60, 45, 50, 75, 75, 75, 75, 75])"
   ]
  },
  {
   "cell_type": "markdown",
   "id": "dab93c5d-2672-4121-838c-c24c12cf1824",
   "metadata": {},
   "source": [
    "## Correlacion entre vis y rendimiento"
   ]
  },
  {
   "cell_type": "code",
   "execution_count": 8,
   "id": "5a5b770e-ce5b-4596-8569-6490217ff810",
   "metadata": {},
   "outputs": [],
   "source": [
    "zafra2021_m.drop(9)"
   ]
  },
  {
   "cell_type": "code",
   "execution_count": 9,
   "id": "ba384a84-704a-45e5-a414-bfc1a5718fbc",
   "metadata": {},
   "outputs": [
    {
     "data": {
      "text/html": [
       "<div>\n",
       "<style scoped>\n",
       "    .dataframe tbody tr th:only-of-type {\n",
       "        vertical-align: middle;\n",
       "    }\n",
       "\n",
       "    .dataframe tbody tr th {\n",
       "        vertical-align: top;\n",
       "    }\n",
       "\n",
       "    .dataframe thead th {\n",
       "        text-align: right;\n",
       "    }\n",
       "</style>\n",
       "<table border=\"1\" class=\"dataframe\">\n",
       "  <thead>\n",
       "    <tr style=\"text-align: right;\">\n",
       "      <th></th>\n",
       "      <th>parcela</th>\n",
       "      <th>ndvi_max</th>\n",
       "      <th>ndvi_mean</th>\n",
       "      <th>ndvi_max_date</th>\n",
       "      <th>gndvi_max</th>\n",
       "      <th>gndvi_mean</th>\n",
       "      <th>gndvi_max_date</th>\n",
       "      <th>cire_max</th>\n",
       "      <th>cire_mean</th>\n",
       "      <th>ndre1_max</th>\n",
       "      <th>ndre1_mean</th>\n",
       "      <th>msi_mean</th>\n",
       "      <th>lluvia_acum</th>\n",
       "      <th>etc_acum</th>\n",
       "      <th>rendimiento</th>\n",
       "    </tr>\n",
       "  </thead>\n",
       "  <tbody>\n",
       "    <tr>\n",
       "      <th>rendimiento</th>\n",
       "      <td>-0.244834</td>\n",
       "      <td>0.897611</td>\n",
       "      <td>0.853583</td>\n",
       "      <td>-0.023752</td>\n",
       "      <td>0.936820</td>\n",
       "      <td>0.932193</td>\n",
       "      <td>-0.180677</td>\n",
       "      <td>0.902790</td>\n",
       "      <td>0.886960</td>\n",
       "      <td>0.904620</td>\n",
       "      <td>0.858110</td>\n",
       "      <td>-0.774598</td>\n",
       "      <td>0.282389</td>\n",
       "      <td>0.637019</td>\n",
       "      <td>1.000000</td>\n",
       "    </tr>\n",
       "    <tr>\n",
       "      <th>gndvi_max</th>\n",
       "      <td>-0.170465</td>\n",
       "      <td>0.960145</td>\n",
       "      <td>0.897983</td>\n",
       "      <td>0.174652</td>\n",
       "      <td>1.000000</td>\n",
       "      <td>0.930978</td>\n",
       "      <td>0.057834</td>\n",
       "      <td>0.934807</td>\n",
       "      <td>0.930022</td>\n",
       "      <td>0.949405</td>\n",
       "      <td>0.917007</td>\n",
       "      <td>-0.801362</td>\n",
       "      <td>0.040245</td>\n",
       "      <td>0.441410</td>\n",
       "      <td>0.936820</td>\n",
       "    </tr>\n",
       "    <tr>\n",
       "      <th>gndvi_mean</th>\n",
       "      <td>-0.183951</td>\n",
       "      <td>0.940011</td>\n",
       "      <td>0.959531</td>\n",
       "      <td>-0.108954</td>\n",
       "      <td>0.930978</td>\n",
       "      <td>1.000000</td>\n",
       "      <td>-0.202921</td>\n",
       "      <td>0.951572</td>\n",
       "      <td>0.968428</td>\n",
       "      <td>0.955250</td>\n",
       "      <td>0.958734</td>\n",
       "      <td>-0.891344</td>\n",
       "      <td>0.036328</td>\n",
       "      <td>0.597482</td>\n",
       "      <td>0.932193</td>\n",
       "    </tr>\n",
       "    <tr>\n",
       "      <th>ndre1_max</th>\n",
       "      <td>-0.216365</td>\n",
       "      <td>0.983323</td>\n",
       "      <td>0.951217</td>\n",
       "      <td>-0.043749</td>\n",
       "      <td>0.949405</td>\n",
       "      <td>0.955250</td>\n",
       "      <td>-0.093792</td>\n",
       "      <td>0.983665</td>\n",
       "      <td>0.990252</td>\n",
       "      <td>1.000000</td>\n",
       "      <td>0.978341</td>\n",
       "      <td>-0.881237</td>\n",
       "      <td>0.045395</td>\n",
       "      <td>0.582903</td>\n",
       "      <td>0.904620</td>\n",
       "    </tr>\n",
       "    <tr>\n",
       "      <th>cire_max</th>\n",
       "      <td>-0.210979</td>\n",
       "      <td>0.946142</td>\n",
       "      <td>0.911176</td>\n",
       "      <td>-0.112083</td>\n",
       "      <td>0.934807</td>\n",
       "      <td>0.951572</td>\n",
       "      <td>-0.146974</td>\n",
       "      <td>1.000000</td>\n",
       "      <td>0.989451</td>\n",
       "      <td>0.983665</td>\n",
       "      <td>0.945964</td>\n",
       "      <td>-0.828906</td>\n",
       "      <td>0.109260</td>\n",
       "      <td>0.634207</td>\n",
       "      <td>0.902790</td>\n",
       "    </tr>\n",
       "    <tr>\n",
       "      <th>ndvi_max</th>\n",
       "      <td>-0.170663</td>\n",
       "      <td>1.000000</td>\n",
       "      <td>0.962893</td>\n",
       "      <td>0.069658</td>\n",
       "      <td>0.960145</td>\n",
       "      <td>0.940011</td>\n",
       "      <td>-0.009920</td>\n",
       "      <td>0.946142</td>\n",
       "      <td>0.961853</td>\n",
       "      <td>0.983323</td>\n",
       "      <td>0.973127</td>\n",
       "      <td>-0.907821</td>\n",
       "      <td>-0.020963</td>\n",
       "      <td>0.470211</td>\n",
       "      <td>0.897611</td>\n",
       "    </tr>\n",
       "    <tr>\n",
       "      <th>cire_mean</th>\n",
       "      <td>-0.196951</td>\n",
       "      <td>0.961853</td>\n",
       "      <td>0.952908</td>\n",
       "      <td>-0.098439</td>\n",
       "      <td>0.930022</td>\n",
       "      <td>0.968428</td>\n",
       "      <td>-0.138860</td>\n",
       "      <td>0.989451</td>\n",
       "      <td>1.000000</td>\n",
       "      <td>0.990252</td>\n",
       "      <td>0.979680</td>\n",
       "      <td>-0.884110</td>\n",
       "      <td>0.005861</td>\n",
       "      <td>0.592727</td>\n",
       "      <td>0.886960</td>\n",
       "    </tr>\n",
       "    <tr>\n",
       "      <th>ndre1_mean</th>\n",
       "      <td>-0.193591</td>\n",
       "      <td>0.973127</td>\n",
       "      <td>0.988746</td>\n",
       "      <td>-0.030801</td>\n",
       "      <td>0.917007</td>\n",
       "      <td>0.958734</td>\n",
       "      <td>-0.077026</td>\n",
       "      <td>0.945964</td>\n",
       "      <td>0.979680</td>\n",
       "      <td>0.978341</td>\n",
       "      <td>1.000000</td>\n",
       "      <td>-0.939978</td>\n",
       "      <td>-0.096276</td>\n",
       "      <td>0.501471</td>\n",
       "      <td>0.858110</td>\n",
       "    </tr>\n",
       "    <tr>\n",
       "      <th>ndvi_mean</th>\n",
       "      <td>-0.176482</td>\n",
       "      <td>0.962893</td>\n",
       "      <td>1.000000</td>\n",
       "      <td>-0.033957</td>\n",
       "      <td>0.897983</td>\n",
       "      <td>0.959531</td>\n",
       "      <td>-0.097847</td>\n",
       "      <td>0.911176</td>\n",
       "      <td>0.952908</td>\n",
       "      <td>0.951217</td>\n",
       "      <td>0.988746</td>\n",
       "      <td>-0.966828</td>\n",
       "      <td>-0.107652</td>\n",
       "      <td>0.468298</td>\n",
       "      <td>0.853583</td>\n",
       "    </tr>\n",
       "    <tr>\n",
       "      <th>etc_acum</th>\n",
       "      <td>-0.291923</td>\n",
       "      <td>0.470211</td>\n",
       "      <td>0.468298</td>\n",
       "      <td>-0.680005</td>\n",
       "      <td>0.441410</td>\n",
       "      <td>0.597482</td>\n",
       "      <td>-0.687164</td>\n",
       "      <td>0.634207</td>\n",
       "      <td>0.592727</td>\n",
       "      <td>0.582903</td>\n",
       "      <td>0.501471</td>\n",
       "      <td>-0.430757</td>\n",
       "      <td>0.633831</td>\n",
       "      <td>1.000000</td>\n",
       "      <td>0.637019</td>\n",
       "    </tr>\n",
       "    <tr>\n",
       "      <th>lluvia_acum</th>\n",
       "      <td>-0.413163</td>\n",
       "      <td>-0.020963</td>\n",
       "      <td>-0.107652</td>\n",
       "      <td>-0.358871</td>\n",
       "      <td>0.040245</td>\n",
       "      <td>0.036328</td>\n",
       "      <td>-0.351839</td>\n",
       "      <td>0.109260</td>\n",
       "      <td>0.005861</td>\n",
       "      <td>0.045395</td>\n",
       "      <td>-0.096276</td>\n",
       "      <td>0.138425</td>\n",
       "      <td>1.000000</td>\n",
       "      <td>0.633831</td>\n",
       "      <td>0.282389</td>\n",
       "    </tr>\n",
       "    <tr>\n",
       "      <th>ndvi_max_date</th>\n",
       "      <td>0.112988</td>\n",
       "      <td>0.069658</td>\n",
       "      <td>-0.033957</td>\n",
       "      <td>1.000000</td>\n",
       "      <td>0.174652</td>\n",
       "      <td>-0.108954</td>\n",
       "      <td>0.923342</td>\n",
       "      <td>-0.112083</td>\n",
       "      <td>-0.098439</td>\n",
       "      <td>-0.043749</td>\n",
       "      <td>-0.030801</td>\n",
       "      <td>0.055797</td>\n",
       "      <td>-0.358871</td>\n",
       "      <td>-0.680005</td>\n",
       "      <td>-0.023752</td>\n",
       "    </tr>\n",
       "    <tr>\n",
       "      <th>gndvi_max_date</th>\n",
       "      <td>0.048539</td>\n",
       "      <td>-0.009920</td>\n",
       "      <td>-0.097847</td>\n",
       "      <td>0.923342</td>\n",
       "      <td>0.057834</td>\n",
       "      <td>-0.202921</td>\n",
       "      <td>1.000000</td>\n",
       "      <td>-0.146974</td>\n",
       "      <td>-0.138860</td>\n",
       "      <td>-0.093792</td>\n",
       "      <td>-0.077026</td>\n",
       "      <td>0.112689</td>\n",
       "      <td>-0.351839</td>\n",
       "      <td>-0.687164</td>\n",
       "      <td>-0.180677</td>\n",
       "    </tr>\n",
       "    <tr>\n",
       "      <th>parcela</th>\n",
       "      <td>1.000000</td>\n",
       "      <td>-0.170663</td>\n",
       "      <td>-0.176482</td>\n",
       "      <td>0.112988</td>\n",
       "      <td>-0.170465</td>\n",
       "      <td>-0.183951</td>\n",
       "      <td>0.048539</td>\n",
       "      <td>-0.210979</td>\n",
       "      <td>-0.196951</td>\n",
       "      <td>-0.216365</td>\n",
       "      <td>-0.193591</td>\n",
       "      <td>0.066643</td>\n",
       "      <td>-0.413163</td>\n",
       "      <td>-0.291923</td>\n",
       "      <td>-0.244834</td>\n",
       "    </tr>\n",
       "    <tr>\n",
       "      <th>msi_mean</th>\n",
       "      <td>0.066643</td>\n",
       "      <td>-0.907821</td>\n",
       "      <td>-0.966828</td>\n",
       "      <td>0.055797</td>\n",
       "      <td>-0.801362</td>\n",
       "      <td>-0.891344</td>\n",
       "      <td>0.112689</td>\n",
       "      <td>-0.828906</td>\n",
       "      <td>-0.884110</td>\n",
       "      <td>-0.881237</td>\n",
       "      <td>-0.939978</td>\n",
       "      <td>1.000000</td>\n",
       "      <td>0.138425</td>\n",
       "      <td>-0.430757</td>\n",
       "      <td>-0.774598</td>\n",
       "    </tr>\n",
       "  </tbody>\n",
       "</table>\n",
       "</div>"
      ],
      "text/plain": [
       "                 parcela  ndvi_max  ndvi_mean  ndvi_max_date  gndvi_max  \\\n",
       "rendimiento    -0.244834  0.897611   0.853583      -0.023752   0.936820   \n",
       "gndvi_max      -0.170465  0.960145   0.897983       0.174652   1.000000   \n",
       "gndvi_mean     -0.183951  0.940011   0.959531      -0.108954   0.930978   \n",
       "ndre1_max      -0.216365  0.983323   0.951217      -0.043749   0.949405   \n",
       "cire_max       -0.210979  0.946142   0.911176      -0.112083   0.934807   \n",
       "ndvi_max       -0.170663  1.000000   0.962893       0.069658   0.960145   \n",
       "cire_mean      -0.196951  0.961853   0.952908      -0.098439   0.930022   \n",
       "ndre1_mean     -0.193591  0.973127   0.988746      -0.030801   0.917007   \n",
       "ndvi_mean      -0.176482  0.962893   1.000000      -0.033957   0.897983   \n",
       "etc_acum       -0.291923  0.470211   0.468298      -0.680005   0.441410   \n",
       "lluvia_acum    -0.413163 -0.020963  -0.107652      -0.358871   0.040245   \n",
       "ndvi_max_date   0.112988  0.069658  -0.033957       1.000000   0.174652   \n",
       "gndvi_max_date  0.048539 -0.009920  -0.097847       0.923342   0.057834   \n",
       "parcela         1.000000 -0.170663  -0.176482       0.112988  -0.170465   \n",
       "msi_mean        0.066643 -0.907821  -0.966828       0.055797  -0.801362   \n",
       "\n",
       "                gndvi_mean  gndvi_max_date  cire_max  cire_mean  ndre1_max  \\\n",
       "rendimiento       0.932193       -0.180677  0.902790   0.886960   0.904620   \n",
       "gndvi_max         0.930978        0.057834  0.934807   0.930022   0.949405   \n",
       "gndvi_mean        1.000000       -0.202921  0.951572   0.968428   0.955250   \n",
       "ndre1_max         0.955250       -0.093792  0.983665   0.990252   1.000000   \n",
       "cire_max          0.951572       -0.146974  1.000000   0.989451   0.983665   \n",
       "ndvi_max          0.940011       -0.009920  0.946142   0.961853   0.983323   \n",
       "cire_mean         0.968428       -0.138860  0.989451   1.000000   0.990252   \n",
       "ndre1_mean        0.958734       -0.077026  0.945964   0.979680   0.978341   \n",
       "ndvi_mean         0.959531       -0.097847  0.911176   0.952908   0.951217   \n",
       "etc_acum          0.597482       -0.687164  0.634207   0.592727   0.582903   \n",
       "lluvia_acum       0.036328       -0.351839  0.109260   0.005861   0.045395   \n",
       "ndvi_max_date    -0.108954        0.923342 -0.112083  -0.098439  -0.043749   \n",
       "gndvi_max_date   -0.202921        1.000000 -0.146974  -0.138860  -0.093792   \n",
       "parcela          -0.183951        0.048539 -0.210979  -0.196951  -0.216365   \n",
       "msi_mean         -0.891344        0.112689 -0.828906  -0.884110  -0.881237   \n",
       "\n",
       "                ndre1_mean  msi_mean  lluvia_acum  etc_acum  rendimiento  \n",
       "rendimiento       0.858110 -0.774598     0.282389  0.637019     1.000000  \n",
       "gndvi_max         0.917007 -0.801362     0.040245  0.441410     0.936820  \n",
       "gndvi_mean        0.958734 -0.891344     0.036328  0.597482     0.932193  \n",
       "ndre1_max         0.978341 -0.881237     0.045395  0.582903     0.904620  \n",
       "cire_max          0.945964 -0.828906     0.109260  0.634207     0.902790  \n",
       "ndvi_max          0.973127 -0.907821    -0.020963  0.470211     0.897611  \n",
       "cire_mean         0.979680 -0.884110     0.005861  0.592727     0.886960  \n",
       "ndre1_mean        1.000000 -0.939978    -0.096276  0.501471     0.858110  \n",
       "ndvi_mean         0.988746 -0.966828    -0.107652  0.468298     0.853583  \n",
       "etc_acum          0.501471 -0.430757     0.633831  1.000000     0.637019  \n",
       "lluvia_acum      -0.096276  0.138425     1.000000  0.633831     0.282389  \n",
       "ndvi_max_date    -0.030801  0.055797    -0.358871 -0.680005    -0.023752  \n",
       "gndvi_max_date   -0.077026  0.112689    -0.351839 -0.687164    -0.180677  \n",
       "parcela          -0.193591  0.066643    -0.413163 -0.291923    -0.244834  \n",
       "msi_mean         -0.939978  1.000000     0.138425 -0.430757    -0.774598  "
      ]
     },
     "execution_count": 9,
     "metadata": {},
     "output_type": "execute_result"
    }
   ],
   "source": [
    "zafra2022_m.corr().sort_values(by='rendimiento', ascending=False)"
   ]
  },
  {
   "cell_type": "code",
   "execution_count": 23,
   "id": "28ba1ca1-b134-41f0-80fe-2706e8218a1a",
   "metadata": {},
   "outputs": [],
   "source": [
    "zafras_r = pd.concat([zafra2021_r, zafra2022_r])\n",
    "zafras_m = pd.concat([zafra2021_m, zafra2022_m])"
   ]
  },
  {
   "cell_type": "code",
   "execution_count": 11,
   "id": "edaf2f05-6fde-4ce6-8a50-58f3a142ccf6",
   "metadata": {},
   "outputs": [
    {
     "data": {
      "text/html": [
       "<div>\n",
       "<style scoped>\n",
       "    .dataframe tbody tr th:only-of-type {\n",
       "        vertical-align: middle;\n",
       "    }\n",
       "\n",
       "    .dataframe tbody tr th {\n",
       "        vertical-align: top;\n",
       "    }\n",
       "\n",
       "    .dataframe thead th {\n",
       "        text-align: right;\n",
       "    }\n",
       "</style>\n",
       "<table border=\"1\" class=\"dataframe\">\n",
       "  <thead>\n",
       "    <tr style=\"text-align: right;\">\n",
       "      <th></th>\n",
       "      <th>parcela</th>\n",
       "      <th>ndvi_max</th>\n",
       "      <th>ndvi_mean</th>\n",
       "      <th>ndvi_max_date</th>\n",
       "      <th>gndvi_max</th>\n",
       "      <th>gndvi_mean</th>\n",
       "      <th>gndvi_max_date</th>\n",
       "      <th>cire_max</th>\n",
       "      <th>cire_mean</th>\n",
       "      <th>ndre1_max</th>\n",
       "      <th>ndre1_mean</th>\n",
       "      <th>msi_mean</th>\n",
       "      <th>lluvia_acum</th>\n",
       "      <th>etc_acum</th>\n",
       "      <th>rendimiento</th>\n",
       "    </tr>\n",
       "  </thead>\n",
       "  <tbody>\n",
       "    <tr>\n",
       "      <th>rendimiento</th>\n",
       "      <td>-0.256700</td>\n",
       "      <td>0.717810</td>\n",
       "      <td>0.739591</td>\n",
       "      <td>-0.023471</td>\n",
       "      <td>0.756689</td>\n",
       "      <td>0.859890</td>\n",
       "      <td>-0.035701</td>\n",
       "      <td>0.757262</td>\n",
       "      <td>0.765103</td>\n",
       "      <td>0.735540</td>\n",
       "      <td>0.737205</td>\n",
       "      <td>-0.657108</td>\n",
       "      <td>0.092818</td>\n",
       "      <td>0.068420</td>\n",
       "      <td>1.000000</td>\n",
       "    </tr>\n",
       "    <tr>\n",
       "      <th>gndvi_mean</th>\n",
       "      <td>-0.073314</td>\n",
       "      <td>0.846451</td>\n",
       "      <td>0.918834</td>\n",
       "      <td>0.074954</td>\n",
       "      <td>0.837437</td>\n",
       "      <td>1.000000</td>\n",
       "      <td>0.063005</td>\n",
       "      <td>0.890009</td>\n",
       "      <td>0.930394</td>\n",
       "      <td>0.880851</td>\n",
       "      <td>0.917571</td>\n",
       "      <td>-0.827236</td>\n",
       "      <td>-0.062156</td>\n",
       "      <td>0.060321</td>\n",
       "      <td>0.859890</td>\n",
       "    </tr>\n",
       "    <tr>\n",
       "      <th>cire_mean</th>\n",
       "      <td>-0.037027</td>\n",
       "      <td>0.921446</td>\n",
       "      <td>0.914597</td>\n",
       "      <td>0.065327</td>\n",
       "      <td>0.882545</td>\n",
       "      <td>0.930394</td>\n",
       "      <td>0.065330</td>\n",
       "      <td>0.970219</td>\n",
       "      <td>1.000000</td>\n",
       "      <td>0.965081</td>\n",
       "      <td>0.968501</td>\n",
       "      <td>-0.830651</td>\n",
       "      <td>-0.058064</td>\n",
       "      <td>0.153127</td>\n",
       "      <td>0.765103</td>\n",
       "    </tr>\n",
       "    <tr>\n",
       "      <th>cire_max</th>\n",
       "      <td>-0.006899</td>\n",
       "      <td>0.948637</td>\n",
       "      <td>0.832220</td>\n",
       "      <td>0.056288</td>\n",
       "      <td>0.931764</td>\n",
       "      <td>0.890009</td>\n",
       "      <td>0.056143</td>\n",
       "      <td>1.000000</td>\n",
       "      <td>0.970219</td>\n",
       "      <td>0.983313</td>\n",
       "      <td>0.899944</td>\n",
       "      <td>-0.743402</td>\n",
       "      <td>-0.027366</td>\n",
       "      <td>0.152858</td>\n",
       "      <td>0.757262</td>\n",
       "    </tr>\n",
       "    <tr>\n",
       "      <th>gndvi_max</th>\n",
       "      <td>0.057835</td>\n",
       "      <td>0.961502</td>\n",
       "      <td>0.771275</td>\n",
       "      <td>0.186360</td>\n",
       "      <td>1.000000</td>\n",
       "      <td>0.837437</td>\n",
       "      <td>0.182251</td>\n",
       "      <td>0.931764</td>\n",
       "      <td>0.882545</td>\n",
       "      <td>0.939433</td>\n",
       "      <td>0.826620</td>\n",
       "      <td>-0.680379</td>\n",
       "      <td>-0.144558</td>\n",
       "      <td>-0.061098</td>\n",
       "      <td>0.756689</td>\n",
       "    </tr>\n",
       "    <tr>\n",
       "      <th>ndvi_mean</th>\n",
       "      <td>-0.038129</td>\n",
       "      <td>0.853333</td>\n",
       "      <td>1.000000</td>\n",
       "      <td>0.089359</td>\n",
       "      <td>0.771275</td>\n",
       "      <td>0.918834</td>\n",
       "      <td>0.085297</td>\n",
       "      <td>0.832220</td>\n",
       "      <td>0.914597</td>\n",
       "      <td>0.873038</td>\n",
       "      <td>0.978975</td>\n",
       "      <td>-0.956835</td>\n",
       "      <td>-0.101188</td>\n",
       "      <td>0.095089</td>\n",
       "      <td>0.739591</td>\n",
       "    </tr>\n",
       "    <tr>\n",
       "      <th>ndre1_mean</th>\n",
       "      <td>-0.044118</td>\n",
       "      <td>0.896742</td>\n",
       "      <td>0.978975</td>\n",
       "      <td>0.088079</td>\n",
       "      <td>0.826620</td>\n",
       "      <td>0.917571</td>\n",
       "      <td>0.087732</td>\n",
       "      <td>0.899944</td>\n",
       "      <td>0.968501</td>\n",
       "      <td>0.928393</td>\n",
       "      <td>1.000000</td>\n",
       "      <td>-0.917317</td>\n",
       "      <td>-0.096495</td>\n",
       "      <td>0.125078</td>\n",
       "      <td>0.737205</td>\n",
       "    </tr>\n",
       "    <tr>\n",
       "      <th>ndre1_max</th>\n",
       "      <td>0.029766</td>\n",
       "      <td>0.982135</td>\n",
       "      <td>0.873038</td>\n",
       "      <td>0.082929</td>\n",
       "      <td>0.939433</td>\n",
       "      <td>0.880851</td>\n",
       "      <td>0.082883</td>\n",
       "      <td>0.983313</td>\n",
       "      <td>0.965081</td>\n",
       "      <td>1.000000</td>\n",
       "      <td>0.928393</td>\n",
       "      <td>-0.802443</td>\n",
       "      <td>-0.061247</td>\n",
       "      <td>0.132797</td>\n",
       "      <td>0.735540</td>\n",
       "    </tr>\n",
       "    <tr>\n",
       "      <th>ndvi_max</th>\n",
       "      <td>0.086174</td>\n",
       "      <td>1.000000</td>\n",
       "      <td>0.853333</td>\n",
       "      <td>0.121807</td>\n",
       "      <td>0.961502</td>\n",
       "      <td>0.846451</td>\n",
       "      <td>0.120411</td>\n",
       "      <td>0.948637</td>\n",
       "      <td>0.921446</td>\n",
       "      <td>0.982135</td>\n",
       "      <td>0.896742</td>\n",
       "      <td>-0.796606</td>\n",
       "      <td>-0.098007</td>\n",
       "      <td>0.037548</td>\n",
       "      <td>0.717810</td>\n",
       "    </tr>\n",
       "    <tr>\n",
       "      <th>lluvia_acum</th>\n",
       "      <td>-0.042506</td>\n",
       "      <td>-0.098007</td>\n",
       "      <td>-0.101188</td>\n",
       "      <td>-0.976134</td>\n",
       "      <td>-0.144558</td>\n",
       "      <td>-0.062156</td>\n",
       "      <td>-0.974578</td>\n",
       "      <td>-0.027366</td>\n",
       "      <td>-0.058064</td>\n",
       "      <td>-0.061247</td>\n",
       "      <td>-0.096495</td>\n",
       "      <td>0.092507</td>\n",
       "      <td>1.000000</td>\n",
       "      <td>0.732531</td>\n",
       "      <td>0.092818</td>\n",
       "    </tr>\n",
       "    <tr>\n",
       "      <th>etc_acum</th>\n",
       "      <td>-0.048042</td>\n",
       "      <td>0.037548</td>\n",
       "      <td>0.095089</td>\n",
       "      <td>-0.708970</td>\n",
       "      <td>-0.061098</td>\n",
       "      <td>0.060321</td>\n",
       "      <td>-0.699616</td>\n",
       "      <td>0.152858</td>\n",
       "      <td>0.153127</td>\n",
       "      <td>0.132797</td>\n",
       "      <td>0.125078</td>\n",
       "      <td>-0.148754</td>\n",
       "      <td>0.732531</td>\n",
       "      <td>1.000000</td>\n",
       "      <td>0.068420</td>\n",
       "    </tr>\n",
       "    <tr>\n",
       "      <th>ndvi_max_date</th>\n",
       "      <td>-0.031219</td>\n",
       "      <td>0.121807</td>\n",
       "      <td>0.089359</td>\n",
       "      <td>1.000000</td>\n",
       "      <td>0.186360</td>\n",
       "      <td>0.074954</td>\n",
       "      <td>0.998693</td>\n",
       "      <td>0.056288</td>\n",
       "      <td>0.065327</td>\n",
       "      <td>0.082929</td>\n",
       "      <td>0.088079</td>\n",
       "      <td>-0.073933</td>\n",
       "      <td>-0.976134</td>\n",
       "      <td>-0.708970</td>\n",
       "      <td>-0.023471</td>\n",
       "    </tr>\n",
       "    <tr>\n",
       "      <th>gndvi_max_date</th>\n",
       "      <td>-0.033751</td>\n",
       "      <td>0.120411</td>\n",
       "      <td>0.085297</td>\n",
       "      <td>0.998693</td>\n",
       "      <td>0.182251</td>\n",
       "      <td>0.063005</td>\n",
       "      <td>1.000000</td>\n",
       "      <td>0.056143</td>\n",
       "      <td>0.065330</td>\n",
       "      <td>0.082883</td>\n",
       "      <td>0.087732</td>\n",
       "      <td>-0.073780</td>\n",
       "      <td>-0.974578</td>\n",
       "      <td>-0.699616</td>\n",
       "      <td>-0.035701</td>\n",
       "    </tr>\n",
       "    <tr>\n",
       "      <th>parcela</th>\n",
       "      <td>1.000000</td>\n",
       "      <td>0.086174</td>\n",
       "      <td>-0.038129</td>\n",
       "      <td>-0.031219</td>\n",
       "      <td>0.057835</td>\n",
       "      <td>-0.073314</td>\n",
       "      <td>-0.033751</td>\n",
       "      <td>-0.006899</td>\n",
       "      <td>-0.037027</td>\n",
       "      <td>0.029766</td>\n",
       "      <td>-0.044118</td>\n",
       "      <td>-0.069631</td>\n",
       "      <td>-0.042506</td>\n",
       "      <td>-0.048042</td>\n",
       "      <td>-0.256700</td>\n",
       "    </tr>\n",
       "    <tr>\n",
       "      <th>msi_mean</th>\n",
       "      <td>-0.069631</td>\n",
       "      <td>-0.796606</td>\n",
       "      <td>-0.956835</td>\n",
       "      <td>-0.073933</td>\n",
       "      <td>-0.680379</td>\n",
       "      <td>-0.827236</td>\n",
       "      <td>-0.073780</td>\n",
       "      <td>-0.743402</td>\n",
       "      <td>-0.830651</td>\n",
       "      <td>-0.802443</td>\n",
       "      <td>-0.917317</td>\n",
       "      <td>1.000000</td>\n",
       "      <td>0.092507</td>\n",
       "      <td>-0.148754</td>\n",
       "      <td>-0.657108</td>\n",
       "    </tr>\n",
       "  </tbody>\n",
       "</table>\n",
       "</div>"
      ],
      "text/plain": [
       "                 parcela  ndvi_max  ndvi_mean  ndvi_max_date  gndvi_max  \\\n",
       "rendimiento    -0.256700  0.717810   0.739591      -0.023471   0.756689   \n",
       "gndvi_mean     -0.073314  0.846451   0.918834       0.074954   0.837437   \n",
       "cire_mean      -0.037027  0.921446   0.914597       0.065327   0.882545   \n",
       "cire_max       -0.006899  0.948637   0.832220       0.056288   0.931764   \n",
       "gndvi_max       0.057835  0.961502   0.771275       0.186360   1.000000   \n",
       "ndvi_mean      -0.038129  0.853333   1.000000       0.089359   0.771275   \n",
       "ndre1_mean     -0.044118  0.896742   0.978975       0.088079   0.826620   \n",
       "ndre1_max       0.029766  0.982135   0.873038       0.082929   0.939433   \n",
       "ndvi_max        0.086174  1.000000   0.853333       0.121807   0.961502   \n",
       "lluvia_acum    -0.042506 -0.098007  -0.101188      -0.976134  -0.144558   \n",
       "etc_acum       -0.048042  0.037548   0.095089      -0.708970  -0.061098   \n",
       "ndvi_max_date  -0.031219  0.121807   0.089359       1.000000   0.186360   \n",
       "gndvi_max_date -0.033751  0.120411   0.085297       0.998693   0.182251   \n",
       "parcela         1.000000  0.086174  -0.038129      -0.031219   0.057835   \n",
       "msi_mean       -0.069631 -0.796606  -0.956835      -0.073933  -0.680379   \n",
       "\n",
       "                gndvi_mean  gndvi_max_date  cire_max  cire_mean  ndre1_max  \\\n",
       "rendimiento       0.859890       -0.035701  0.757262   0.765103   0.735540   \n",
       "gndvi_mean        1.000000        0.063005  0.890009   0.930394   0.880851   \n",
       "cire_mean         0.930394        0.065330  0.970219   1.000000   0.965081   \n",
       "cire_max          0.890009        0.056143  1.000000   0.970219   0.983313   \n",
       "gndvi_max         0.837437        0.182251  0.931764   0.882545   0.939433   \n",
       "ndvi_mean         0.918834        0.085297  0.832220   0.914597   0.873038   \n",
       "ndre1_mean        0.917571        0.087732  0.899944   0.968501   0.928393   \n",
       "ndre1_max         0.880851        0.082883  0.983313   0.965081   1.000000   \n",
       "ndvi_max          0.846451        0.120411  0.948637   0.921446   0.982135   \n",
       "lluvia_acum      -0.062156       -0.974578 -0.027366  -0.058064  -0.061247   \n",
       "etc_acum          0.060321       -0.699616  0.152858   0.153127   0.132797   \n",
       "ndvi_max_date     0.074954        0.998693  0.056288   0.065327   0.082929   \n",
       "gndvi_max_date    0.063005        1.000000  0.056143   0.065330   0.082883   \n",
       "parcela          -0.073314       -0.033751 -0.006899  -0.037027   0.029766   \n",
       "msi_mean         -0.827236       -0.073780 -0.743402  -0.830651  -0.802443   \n",
       "\n",
       "                ndre1_mean  msi_mean  lluvia_acum  etc_acum  rendimiento  \n",
       "rendimiento       0.737205 -0.657108     0.092818  0.068420     1.000000  \n",
       "gndvi_mean        0.917571 -0.827236    -0.062156  0.060321     0.859890  \n",
       "cire_mean         0.968501 -0.830651    -0.058064  0.153127     0.765103  \n",
       "cire_max          0.899944 -0.743402    -0.027366  0.152858     0.757262  \n",
       "gndvi_max         0.826620 -0.680379    -0.144558 -0.061098     0.756689  \n",
       "ndvi_mean         0.978975 -0.956835    -0.101188  0.095089     0.739591  \n",
       "ndre1_mean        1.000000 -0.917317    -0.096495  0.125078     0.737205  \n",
       "ndre1_max         0.928393 -0.802443    -0.061247  0.132797     0.735540  \n",
       "ndvi_max          0.896742 -0.796606    -0.098007  0.037548     0.717810  \n",
       "lluvia_acum      -0.096495  0.092507     1.000000  0.732531     0.092818  \n",
       "etc_acum          0.125078 -0.148754     0.732531  1.000000     0.068420  \n",
       "ndvi_max_date     0.088079 -0.073933    -0.976134 -0.708970    -0.023471  \n",
       "gndvi_max_date    0.087732 -0.073780    -0.974578 -0.699616    -0.035701  \n",
       "parcela          -0.044118 -0.069631    -0.042506 -0.048042    -0.256700  \n",
       "msi_mean         -0.917317  1.000000     0.092507 -0.148754    -0.657108  "
      ]
     },
     "execution_count": 11,
     "metadata": {},
     "output_type": "execute_result"
    }
   ],
   "source": [
    "zafras_m.corr().sort_values(by='rendimiento', ascending=False)"
   ]
  },
  {
   "cell_type": "markdown",
   "id": "26566cc8-03f6-40fb-8caf-2c71bd62367a",
   "metadata": {},
   "source": [
    "### Exportar datos"
   ]
  },
  {
   "cell_type": "code",
   "execution_count": 16,
   "id": "b09f6a38-4137-40a8-b819-e3c381923a8d",
   "metadata": {},
   "outputs": [],
   "source": [
    "zafra2021_r.drop(9, inplace=True)"
   ]
  },
  {
   "cell_type": "code",
   "execution_count": null,
   "id": "ab7f65f7-96bd-46d3-8445-17597ddc9280",
   "metadata": {},
   "outputs": [],
   "source": []
  },
  {
   "cell_type": "code",
   "execution_count": 24,
   "id": "e7e330c5-4908-4dad-9bef-e37166b2cc10",
   "metadata": {},
   "outputs": [],
   "source": [
    "zafras_r.to_csv(r'C:/Users/Isai/Documents/Tesis/code/results/yield_data/zafras_real.csv', index=False)"
   ]
  },
  {
   "cell_type": "markdown",
   "id": "4a402a09-bfaa-455f-b93d-1d53158a4d59",
   "metadata": {},
   "source": [
    "### Imagenes de corr"
   ]
  },
  {
   "cell_type": "code",
   "execution_count": 110,
   "id": "8efafd08-e8a9-41d0-b09c-62f730bc50b8",
   "metadata": {},
   "outputs": [
    {
     "name": "stderr",
     "output_type": "stream",
     "text": [
      "<>:10: SyntaxWarning: invalid escape sequence '\\c'\n",
      "<>:10: SyntaxWarning: invalid escape sequence '\\c'\n",
      "C:\\Users\\Isai\\AppData\\Local\\Temp\\ipykernel_7560\\1973080756.py:10: SyntaxWarning: invalid escape sequence '\\c'\n",
      "  plt.ylabel('Rendimiento $ton \\cdot ha^{-1}$')\n",
      "No artists with labels found to put in legend.  Note that artists whose label start with an underscore are ignored when legend() is called with no argument.\n"
     ]
    },
    {
     "data": {
      "image/png": "[encoded data removed]",
      "text/plain": [
       "<Figure size 1000x1000 with 1 Axes>"
      ]
     },
     "metadata": {},
     "output_type": "display_data"
    }
   ],
   "source": [
    "main_var = 'lluvia_acum'\n",
    "ds = zafras_r\n",
    "ds2 = zafras_m\n",
    "plt.figure(figsize=(10, 10))\n",
    "#plt.scatter(zafras_r[main_var], zafras_r['rendimiento'], color=(150/255, 0, 24/255), label='Reales')\n",
    "#plt.scatter(zafras_m[main_var], zafras_m['rendimiento'], color='g', label='Modelados')\n",
    "#plt.scatter(zafra2021_m[main_var], zafra2021_m['rendimiento'], color=(150/255, 0, 24/255), label='21/22')\n",
    "plt.scatter(zafra2021_m[main_var], zafra2021_m['rendimiento'], color='royalblue')\n",
    "plt.xlabel(f'{main_var.upper()}')\n",
    "plt.ylabel('Rendimiento $ton \\cdot ha^{-1}$')\n",
    "plt.legend()\n",
    "plt.tight_layout()\n",
    "plt.savefig(rf'C:/Users/Isai/Documents/Tesis/code/tesis_img/yield_corr/{main_var}_21.pdf' ,dpi=100, format='pdf')\n",
    "plt.show()"
   ]
  },
  {
   "cell_type": "code",
   "execution_count": null,
   "id": "ab2ec873acc58b97",
   "metadata": {
    "ExecuteTime": {
     "end_time": "2024-05-13T23:33:17.307382Z",
     "start_time": "2024-05-13T23:33:17.299155Z"
    }
   },
   "outputs": [],
   "source": [
    "zafra2021 = zafra2021.drop(9)"
   ]
  },
  {
   "cell_type": "code",
   "execution_count": null,
   "id": "384c0a174ea943f2",
   "metadata": {
    "ExecuteTime": {
     "end_time": "2024-05-13T23:33:18.241279Z",
     "start_time": "2024-05-13T23:33:18.215774Z"
    }
   },
   "outputs": [],
   "source": [
    "zafra2021"
   ]
  },
  {
   "cell_type": "code",
   "execution_count": null,
   "id": "205fef49086fe641",
   "metadata": {
    "ExecuteTime": {
     "end_time": "2024-05-12T03:21:24.545877Z",
     "start_time": "2024-05-12T03:21:24.523243Z"
    }
   },
   "outputs": [],
   "source": [
    "to_concat_21 = []\n",
    "for i in dfs_21:\n",
    "    i[0]['Fecha'] = pd.to_datetime(i[0]['Fecha'])\n",
    "    to_concat_21.append(i[0])\n",
    "    \n",
    "df_21 = pd.concat(to_concat_21, ignore_index=True, axis=0)"
   ]
  },
  {
   "cell_type": "code",
   "execution_count": null,
   "id": "3c1915790a24549c",
   "metadata": {
    "ExecuteTime": {
     "end_time": "2024-05-12T03:21:25.253235Z",
     "start_time": "2024-05-12T03:21:25.231314Z"
    }
   },
   "outputs": [],
   "source": [
    "to_concat_22 = []\n",
    "for i in dfs_22:\n",
    "    i[0]['Fecha'] = pd.to_datetime(i[0]['Fecha'])\n",
    "    to_concat_22.append(i[0])\n",
    "    \n",
    "df_22= pd.concat(to_concat_22, ignore_index=True, axis=0)"
   ]
  },
  {
   "cell_type": "code",
   "execution_count": null,
   "id": "976b911ff9bc537b",
   "metadata": {
    "ExecuteTime": {
     "end_time": "2024-05-12T03:21:26.487632Z",
     "start_time": "2024-05-12T03:21:26.425376Z"
    }
   },
   "outputs": [],
   "source": [
    "df_22.corr()"
   ]
  },
  {
   "cell_type": "code",
   "execution_count": null,
   "id": "1b692adb92113700",
   "metadata": {
    "ExecuteTime": {
     "end_time": "2024-05-13T23:33:28.782556Z",
     "start_time": "2024-05-13T23:33:28.775042Z"
    }
   },
   "outputs": [],
   "source": [
    "juntos = pd.concat([zafra2021, zafra2022], ignore_index=True, axis=0)"
   ]
  },
  {
   "cell_type": "code",
   "execution_count": null,
   "id": "9ce119225fa8f323",
   "metadata": {
    "ExecuteTime": {
     "end_time": "2024-05-13T23:33:29.213178Z",
     "start_time": "2024-05-13T23:33:29.186240Z"
    }
   },
   "outputs": [],
   "source": [
    "juntos.corr()"
   ]
  },
  {
   "cell_type": "code",
   "execution_count": null,
   "id": "eef6a0e3d5e8f7fe",
   "metadata": {
    "ExecuteTime": {
     "end_time": "2024-05-13T23:33:33.193075Z",
     "start_time": "2024-05-13T23:33:33.165028Z"
    }
   },
   "outputs": [],
   "source": [
    "juntos.corr(method='pearson')"
   ]
  },
  {
   "cell_type": "code",
   "execution_count": null,
   "id": "acd6103f212a9778",
   "metadata": {
    "ExecuteTime": {
     "end_time": "2024-05-10T23:41:19.496217Z",
     "start_time": "2024-05-10T23:41:19.470898Z"
    }
   },
   "outputs": [],
   "source": [
    "fechas = r\"C:\\Users\\Isai\\Documents\\Tesis\\code\\fechas_claves\\harvest.json\"\n",
    "fechas_df = pd.read_json(fechas)\n",
    "fechas_df"
   ]
  },
  {
   "cell_type": "code",
   "execution_count": null,
   "id": "a8517add33a72533",
   "metadata": {
    "ExecuteTime": {
     "end_time": "2024-05-10T23:41:19.512571Z",
     "start_time": "2024-05-10T23:41:19.498208Z"
    }
   },
   "outputs": [],
   "source": [
    "fechas_21 = pd.merge(fechas_df, zafra2021, left_on='id', right_on='parcela')"
   ]
  },
  {
   "cell_type": "code",
   "execution_count": null,
   "id": "c0cbfbeb4f4ba36c",
   "metadata": {
    "ExecuteTime": {
     "end_time": "2024-05-10T23:41:19.526860Z",
     "start_time": "2024-05-10T23:41:19.514567Z"
    }
   },
   "outputs": [],
   "source": [
    "fechas_juntos = pd.merge(fechas_21, zafra2022, left_on='parcela', right_on='parcela')"
   ]
  },
  {
   "cell_type": "code",
   "execution_count": null,
   "id": "860bb38467bb8019",
   "metadata": {
    "ExecuteTime": {
     "end_time": "2024-05-10T23:42:41.194923Z",
     "start_time": "2024-05-10T23:42:41.180070Z"
    }
   },
   "outputs": [],
   "source": [
    "fechas_juntos"
   ]
  },
  {
   "cell_type": "markdown",
   "id": "817551a79333caa5",
   "metadata": {},
   "source": [
    "## Correlación"
   ]
  },
  {
   "cell_type": "code",
   "execution_count": null,
   "id": "851fac23ad4af8b2",
   "metadata": {
    "ExecuteTime": {
     "end_time": "2024-05-12T03:22:27.169603Z",
     "start_time": "2024-05-12T03:22:26.563351Z"
    }
   },
   "outputs": [],
   "source": [
    "ids = juntos['parcela'].unique()\n",
    "palette = sns.color_palette(\"hsv\", len(ids))\n",
    "var = 'ndvi_mean'\n",
    "\n",
    "plt.figure(figsize=(10, 10))\n",
    "sns.scatterplot(data=juntos, x=var, y='rendimiento', color='royalblue')\n",
    "#plt.scatter(zafra2022['lluvia_acum'], zafra2022['rendimiento'])\n",
    "plt.title(f'{var.split('_')[0].upper()}')\n",
    "plt.tight_layout()\n",
    "#plt.legend(title='Parcela')\n",
    "# plt.text(0.9, 0.9, f'Correlación: {df2[\"ndvi\"].corr(df2[\"Fecha\"], method=\"pearson\"):3f}', fontsize=12)\n",
    "#plt.savefig(PurePath(r\"C:\\Users\\Isai\\Documents\\Tesis\\code\\revision\\img\\juntos\\corr\", f'{var}_rendimiento_21.png'), dpi=300)\n",
    "plt.show()"
   ]
  },
  {
   "cell_type": "markdown",
   "id": "92f2a3e36704fca2",
   "metadata": {},
   "source": [
    "## Correlación entre vis y climaticos"
   ]
  },
  {
   "cell_type": "code",
   "execution_count": null,
   "id": "e200319e8fcdc264",
   "metadata": {
    "ExecuteTime": {
     "end_time": "2024-05-10T23:41:20.142062Z",
     "start_time": "2024-05-10T23:41:20.133434Z"
    }
   },
   "outputs": [],
   "source": [
    "lr_z22 = r\"C:\\Users\\Isai\\Documents\\Tesis\\code\\data_analysis\\datos\\model_predicts\\zafra2022\"\n",
    "lr_z21 = r\"C:\\Users\\Isai\\Documents\\Tesis\\code\\data_analysis\\datos\\model_predicts\\zafra2021\""
   ]
  },
  {
   "cell_type": "markdown",
   "id": "48a26947181c1739",
   "metadata": {},
   "source": [
    "## Diferencia de fechas de cosecha"
   ]
  },
  {
   "cell_type": "code",
   "execution_count": null,
   "id": "8ab945dfe4aa6bd9",
   "metadata": {
    "ExecuteTime": {
     "end_time": "2024-05-10T23:41:20.153925Z",
     "start_time": "2024-05-10T23:41:20.147049Z"
    }
   },
   "outputs": [],
   "source": [
    "fechas_juntos = fechas_juntos[['id', 'start', 'mid', 'end', 'ndvi_max_date_x', 'gndvi_max_date_x', 'ndvi_max_date_y', 'gndvi_max_date_y']]"
   ]
  },
  {
   "cell_type": "code",
   "execution_count": null,
   "id": "5ff20cf626cf6835",
   "metadata": {
    "ExecuteTime": {
     "end_time": "2024-05-10T23:41:20.168744Z",
     "start_time": "2024-05-10T23:41:20.158914Z"
    }
   },
   "outputs": [],
   "source": [
    "fechas_juntos['start'] = pd.to_datetime(fechas_juntos['start'])\n",
    "fechas_juntos['mid'] = pd.to_datetime(fechas_juntos['mid'])\n",
    "fechas_juntos['end'] = pd.to_datetime(fechas_juntos['end'])\n"
   ]
  },
  {
   "cell_type": "code",
   "execution_count": null,
   "id": "10eb7c5d50172989",
   "metadata": {
    "ExecuteTime": {
     "end_time": "2024-05-10T23:41:20.184313Z",
     "start_time": "2024-05-10T23:41:20.171732Z"
    }
   },
   "outputs": [],
   "source": [
    "fechas_juntos"
   ]
  },
  {
   "cell_type": "code",
   "execution_count": null,
   "id": "8f38906ca16f299f",
   "metadata": {
    "ExecuteTime": {
     "end_time": "2024-05-10T23:41:20.205902Z",
     "start_time": "2024-05-10T23:41:20.187302Z"
    }
   },
   "outputs": [],
   "source": [
    "fechas_juntos['dias_z21_ndvi'] = abs(fechas_juntos['ndvi_max_date_x'] - fechas_juntos['mid']).dt.days\n",
    "fechas_juntos['dias_z21_gndvi'] = abs(fechas_juntos['gndvi_max_date_x'] - fechas_juntos['mid']).dt.days\n",
    "fechas_juntos['dias_z22_ndvi'] = abs(fechas_juntos['ndvi_max_date_y'] - fechas_juntos['end']).dt.days\n",
    "fechas_juntos['dias_z22_gndvi'] = abs(fechas_juntos['gndvi_max_date_y'] - fechas_juntos['end']).dt.days"
   ]
  },
  {
   "cell_type": "code",
   "execution_count": null,
   "id": "148b07676c1f57c6",
   "metadata": {
    "ExecuteTime": {
     "end_time": "2024-05-10T23:41:20.223431Z",
     "start_time": "2024-05-10T23:41:20.207897Z"
    }
   },
   "outputs": [],
   "source": [
    "fechas_juntos"
   ]
  },
  {
   "cell_type": "code",
   "execution_count": null,
   "id": "1bdfe110991e9088",
   "metadata": {
    "ExecuteTime": {
     "end_time": "2024-05-10T23:41:20.809473Z",
     "start_time": "2024-05-10T23:41:20.226416Z"
    }
   },
   "outputs": [],
   "source": [
    "plt.figure(figsize=(10, 5))\n",
    "\n",
    "# Barra para la diferencia entre fecha2 y fecha1\n",
    "plt.bar(fechas_juntos['id'], fechas_juntos['dias_z21_ndvi'], width=0.4, color='red', label='2022/2023', alpha=0.2)\n",
    "\n",
    "# Barra para la diferencia entre fecha4 y fecha\n",
    "plt.bar(fechas_juntos['id'], fechas_juntos['dias_z22_ndvi'], width=0.4, color='blue', alpha=0.15, label='2021/2022')\n",
    "\n",
    "plt.xlabel('Parcela')\n",
    "plt.ylabel('días')\n",
    "plt.title('Max ndvi date vs harvest')\n",
    "plt.legend()\n",
    "plt.grid(True)\n",
    "\n",
    "plt.tight_layout()\n",
    "#plt.savefig(PurePath(r\"C:\\Users\\Isai\\Documents\\Tesis\\code\\revision\\img\\juntos\\corr\", 'ndvi_harvest_dates_diff.png'), dpi=300)\n",
    "plt.show()"
   ]
  },
  {
   "cell_type": "markdown",
   "id": "4f213779c2d00cc2",
   "metadata": {},
   "source": [
    "## Regresión"
   ]
  },
  {
   "cell_type": "code",
   "execution_count": null,
   "id": "5879ec0edef217cc",
   "metadata": {
    "ExecuteTime": {
     "end_time": "2024-05-13T04:30:17.416918Z",
     "start_time": "2024-05-13T04:30:17.410857Z"
    }
   },
   "outputs": [],
   "source": [
    "independent_var = 'msi_mean'\n",
    "ds = zafra2021"
   ]
  },
  {
   "cell_type": "code",
   "execution_count": null,
   "id": "e0836e9d88861e5d",
   "metadata": {
    "ExecuteTime": {
     "end_time": "2024-05-13T04:30:17.969020Z",
     "start_time": "2024-05-13T04:30:17.951849Z"
    }
   },
   "outputs": [],
   "source": [
    "metadata, models = linear_reg_model(data=ds, columns=[independent_var, 'rendimiento'], max_degree=3)"
   ]
  },
  {
   "cell_type": "code",
   "execution_count": null,
   "id": "c54ba59608f7e488",
   "metadata": {
    "ExecuteTime": {
     "end_time": "2024-05-13T04:30:18.861070Z",
     "start_time": "2024-05-13T04:30:18.849890Z"
    }
   },
   "outputs": [],
   "source": [
    "metadata"
   ]
  },
  {
   "cell_type": "code",
   "execution_count": null,
   "id": "ac649826e9f27d9",
   "metadata": {
    "ExecuteTime": {
     "end_time": "2024-05-13T04:16:37.560565Z",
     "start_time": "2024-05-13T04:16:37.554530Z"
    }
   },
   "outputs": [],
   "source": [
    "x = ds[independent_var].values.reshape(-1, 1)\n",
    "y = ds['rendimiento'].values"
   ]
  },
  {
   "cell_type": "code",
   "execution_count": null,
   "id": "df88923f09e15e7e",
   "metadata": {
    "ExecuteTime": {
     "end_time": "2024-05-13T04:16:38.004893Z",
     "start_time": "2024-05-13T04:16:38.001603Z"
    }
   },
   "outputs": [],
   "source": [
    "linear_model = models[2]\n",
    "poly_features = linear_model[1]\n",
    "model = linear_model[0]"
   ]
  },
  {
   "cell_type": "code",
   "execution_count": null,
   "id": "83f2340e926e5647",
   "metadata": {
    "ExecuteTime": {
     "end_time": "2024-05-13T04:16:38.520835Z",
     "start_time": "2024-05-13T04:16:38.514264Z"
    }
   },
   "outputs": [],
   "source": [
    "x_poly = poly_features.fit_transform(x)\n",
    "y_pred = model.predict(sm.add_constant(x_poly))\n",
    "ds[f'{independent_var}_pred'] = y_pred"
   ]
  },
  {
   "cell_type": "markdown",
   "id": "60cc14d78153c050",
   "metadata": {},
   "source": [
    "## Figuras"
   ]
  },
  {
   "cell_type": "code",
   "execution_count": null,
   "id": "ce861299028fd3df",
   "metadata": {
    "ExecuteTime": {
     "end_time": "2024-05-13T04:16:48.038617Z",
     "start_time": "2024-05-13T04:16:46.673088Z"
    }
   },
   "outputs": [],
   "source": [
    "plt.figure(figsize=(10, 10))\n",
    "sns.scatterplot(data=ds, x=independent_var, y='rendimiento', label='Datos de entrada', color='forestgreen')\n",
    "sns.lineplot(data=ds, x=independent_var, y=f'{independent_var}_pred', label='Modelo', color='firebrick')\n",
    "plt.legend()\n",
    "plt.tight_layout()\n",
    "plt.savefig(PurePath(r'C:\\Users\\Isai\\Documents\\Tesis\\code\\revision\\img\\2021\\yield', f'{independent_var}_2021.png'), dpi=200)\n",
    "plt.show()"
   ]
  },
  {
   "cell_type": "markdown",
   "id": "8028f3c76c5cf8e6",
   "metadata": {},
   "source": [
    "## Regresion multiple"
   ]
  },
  {
   "cell_type": "code",
   "execution_count": null,
   "id": "c089e7d6fa0edab1",
   "metadata": {
    "ExecuteTime": {
     "end_time": "2024-05-13T23:45:13.216594Z",
     "start_time": "2024-05-13T23:45:13.212595Z"
    }
   },
   "outputs": [],
   "source": [
    "independent_vars = ['gndvi_mean', 'msi_mean', 'etc_acum']\n",
    "dependent_var = 'rendimiento'\n",
    "ds = zafra2022"
   ]
  },
  {
   "cell_type": "code",
   "execution_count": null,
   "id": "b0bd650a9c96b6c3",
   "metadata": {
    "ExecuteTime": {
     "end_time": "2024-05-13T23:45:13.749874Z",
     "start_time": "2024-05-13T23:45:13.742778Z"
    }
   },
   "outputs": [],
   "source": [
    "x = ds[independent_vars]\n",
    "y = ds[dependent_var]"
   ]
  },
  {
   "cell_type": "code",
   "execution_count": null,
   "id": "9dd24f4bae2ad4d7",
   "metadata": {
    "ExecuteTime": {
     "end_time": "2024-05-13T23:45:14.348155Z",
     "start_time": "2024-05-13T23:45:14.336909Z"
    }
   },
   "outputs": [],
   "source": [
    "x_train, x_test, y_train, y_test = train_test_split(x, y, test_size=0.2, random_state=42)"
   ]
  },
  {
   "cell_type": "code",
   "execution_count": null,
   "id": "f78789ac4dbb0fbf",
   "metadata": {
    "ExecuteTime": {
     "end_time": "2024-05-13T23:45:14.879364Z",
     "start_time": "2024-05-13T23:45:14.871289Z"
    }
   },
   "outputs": [],
   "source": [
    "model = sm.OLS(y_train, sm.add_constant(x_train)).fit()"
   ]
  },
  {
   "cell_type": "code",
   "execution_count": null,
   "id": "e4001604f708065a",
   "metadata": {
    "ExecuteTime": {
     "end_time": "2024-05-13T23:45:15.570580Z",
     "start_time": "2024-05-13T23:45:15.527539Z"
    }
   },
   "outputs": [],
   "source": [
    "model.summary()"
   ]
  },
  {
   "cell_type": "code",
   "execution_count": null,
   "id": "a110e92a6b2dc253",
   "metadata": {},
   "outputs": [],
   "source": []
  }
 ],
 "metadata": {
  "kernelspec": {
   "display_name": "tesisvenv",
   "language": "python",
   "name": "tesisvenv"
  },
  "language_info": {
   "codemirror_mode": {
    "name": "ipython",
    "version": 3
   },
   "file_extension": ".py",
   "mimetype": "text/x-python",
   "name": "python",
   "nbconvert_exporter": "python",
   "pygments_lexer": "ipython3",
   "version": "3.12.1"
  }
 },
 "nbformat": 4,
 "nbformat_minor": 5
}
