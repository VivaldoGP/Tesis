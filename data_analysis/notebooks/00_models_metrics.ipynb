{
 "cells": [
  {
   "metadata": {},
   "cell_type": "markdown",
   "source": "En este notebook se van a comparar las metricas de precisión de los modelos generados anteriormente.",
   "id": "29e7d4ec48a93b2f"
  },
  {
   "metadata": {},
   "cell_type": "markdown",
   "source": "## Importar librerias",
   "id": "1d94bb489c122aba"
  },
  {
   "metadata": {
    "ExecuteTime": {
     "end_time": "2024-04-16T06:55:07.542208Z",
     "start_time": "2024-04-16T06:55:07.537728Z"
    }
   },
   "cell_type": "code",
   "source": [
    "import os\n",
    "from pathlib import PurePath\n",
    "import json\n",
    "import pandas as pd\n",
    "import matplotlib.pyplot as plt"
   ],
   "id": "c60c7da898f3648a",
   "outputs": [],
   "execution_count": 24
  },
  {
   "metadata": {},
   "cell_type": "markdown",
   "source": "## Busqueda de los ficheros de metricas",
   "id": "95dda32bceb5b2be"
  },
  {
   "metadata": {
    "ExecuteTime": {
     "end_time": "2024-04-16T06:33:51.335144Z",
     "start_time": "2024-04-16T06:33:51.331673Z"
    }
   },
   "cell_type": "code",
   "source": "root = r\"C:\\Users\\Isai\\Documents\\Tesis\\code\\data_analysis\\linear_reg\\coeficientes\\zafra2022\\ndvi_mean\"",
   "id": "94ce4d323b8069b3",
   "outputs": [],
   "execution_count": 2
  },
  {
   "metadata": {
    "ExecuteTime": {
     "end_time": "2024-04-16T06:33:52.541246Z",
     "start_time": "2024-04-16T06:33:52.515330Z"
    }
   },
   "cell_type": "code",
   "source": "files = [(json.load(open(PurePath(root, file), \"r\")), int(file.split('.')[0].split('_')[1])) for file in os.listdir(root) if file.endswith(\".json\")]",
   "id": "f22fd94684bfddd3",
   "outputs": [],
   "execution_count": 3
  },
  {
   "metadata": {
    "ExecuteTime": {
     "end_time": "2024-04-16T06:33:53.890966Z",
     "start_time": "2024-04-16T06:33:53.883261Z"
    }
   },
   "cell_type": "code",
   "source": [
    "raw_data = {\n",
    "    'parcela': [],\n",
    "    'mse': [],\n",
    "    'aic': [],\n",
    "    'rsquared': []\n",
    "}\n",
    "\n",
    "for i in files:\n",
    "    raw_data['parcela'].append(i[1])\n",
    "    raw_data['mse'].append(i[0][1]['mse'])\n",
    "    raw_data['aic'].append(i[0][1]['aic'])\n",
    "    raw_data['rsquared'].append(i[0][1]['rsquared'])\n",
    "\n",
    "df = pd.DataFrame(raw_data)\n",
    "    "
   ],
   "id": "847dcfb7994bded7",
   "outputs": [],
   "execution_count": 4
  },
  {
   "metadata": {},
   "cell_type": "markdown",
   "source": "## Visualización de los datos modelados y los reales",
   "id": "93e7d3a6fe44460e"
  },
  {
   "metadata": {
    "ExecuteTime": {
     "end_time": "2024-04-16T06:38:11.437827Z",
     "start_time": "2024-04-16T06:38:11.430887Z"
    }
   },
   "cell_type": "code",
   "source": [
    "modelados = r\"C:\\Users\\Isai\\Documents\\Tesis\\code\\data_analysis\\all_vars\\zafra2022\"\n",
    "reales = r\"C:\\Users\\Isai\\Documents\\Tesis\\code\\datos\\parcelas\\ready_to_analyze\\zafra2022\""
   ],
   "id": "79e5dc849fab4542",
   "outputs": [],
   "execution_count": 7
  },
  {
   "metadata": {
    "ExecuteTime": {
     "end_time": "2024-04-16T06:42:37.354378Z",
     "start_time": "2024-04-16T06:42:37.193937Z"
    }
   },
   "cell_type": "code",
   "source": [
    "modelados_files = [(pd.read_csv(PurePath(modelados, file), parse_dates=True),int(file.split('.')[0].split('_')[1])) for file in os.listdir(modelados) if file.endswith(\".csv\")]\n",
    "reales_files = [(pd.read_csv(PurePath(reales, file), parse_dates=True),int(file.split('.')[0].split('_')[1])) for file in os.listdir(reales) if file.endswith(\".csv\")]"
   ],
   "id": "ee20fd09d60799f9",
   "outputs": [],
   "execution_count": 15
  },
  {
   "metadata": {},
   "cell_type": "code",
   "source": [
    "var = 'msi'\n",
    "for i in modelados_files:\n",
    "    for j in reales_files:\n",
    "        if i[1] == j[1]:\n",
    "            print(i[1])\n",
    "            fig, ax = plt.subplots(figsize=(15, 5))\n",
    "            plt.plot(pd.to_datetime(i[0]['Fecha']), i[0][var], label='Modelado')\n",
    "            plt.plot(pd.to_datetime(j[0]['Fecha']), j[0][f'{var}_mean'], label='Real')\n",
    "            ax.set_xlabel('Fecha')\n",
    "            ax.set_ylabel(f'{var.upper()}')\n",
    "            plt.title(f\"Parcela {i[1]}\")\n",
    "            plt.legend()\n",
    "            des_path = PurePath(rf\"C:\\Users\\Isai\\Documents\\Tesis\\code\\revision\\img\\{var}\")\n",
    "            if not os.path.exists(des_path):\n",
    "                os.makedirs(des_path)\n",
    "            plt.savefig(PurePath(des_path, f\"parcela_{i[1]}.png\"))\n",
    "            plt.show()"
   ],
   "id": "50d3c77ceae88dfa",
   "outputs": [],
   "execution_count": null
  },
  {
   "metadata": {},
   "cell_type": "code",
   "source": [
    "var_2 = 'ndvi'\n",
    "folder = 'ndvi_precip_acum'\n",
    "var_mod = 'precip_acum'\n",
    "for i in modelados_files:\n",
    "    fig, ax = plt.subplots(figsize=(15, 5))\n",
    "    ax.plot(pd.to_datetime(i[0]['Fecha']), i[0][var_2], label=f'{var_2}')\n",
    "    ax.set_xlabel('Fecha')\n",
    "    ax.set_ylabel(f'{var_2.upper()}')\n",
    "    ax2 = ax.twinx()\n",
    "    ax2.plot(pd.to_datetime(i[0]['Fecha']), i[0][var_mod], label=f'{var_mod}', color='red')\n",
    "    ax2.set_ylabel(f'{var_mod.upper()}')\n",
    "    plt.title(f\"Parcela {i[1]}\")\n",
    "    des_path = PurePath(rf\"C:\\Users\\Isai\\Documents\\Tesis\\code\\revision\\img\\{folder}\")\n",
    "    if not os.path.exists(des_path):\n",
    "        os.makedirs(des_path)\n",
    "    plt.savefig(PurePath(des_path, f\"parcela_{i[1]}.png\"))\n",
    "    plt.show()"
   ],
   "id": "7dd33b52dc77a0ba",
   "outputs": [],
   "execution_count": null
  },
  {
   "metadata": {},
   "cell_type": "code",
   "outputs": [],
   "execution_count": null,
   "source": "",
   "id": "550bf0097e4c22c7"
  }
 ],
 "metadata": {
  "kernelspec": {
   "display_name": "Python 3",
   "language": "python",
   "name": "python3"
  },
  "language_info": {
   "codemirror_mode": {
    "name": "ipython",
    "version": 2
   },
   "file_extension": ".py",
   "mimetype": "text/x-python",
   "name": "python",
   "nbconvert_exporter": "python",
   "pygments_lexer": "ipython2",
   "version": "2.7.6"
  }
 },
 "nbformat": 4,
 "nbformat_minor": 5
}
