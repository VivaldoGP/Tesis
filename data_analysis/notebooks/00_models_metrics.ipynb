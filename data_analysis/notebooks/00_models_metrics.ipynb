{
 "cells": [
  {
   "metadata": {},
   "cell_type": "markdown",
   "source": "En este notebook se van a comparar las metricas de precisión de los modelos generados anteriormente.",
   "id": "29e7d4ec48a93b2f"
  },
  {
   "metadata": {},
   "cell_type": "markdown",
   "source": "## Importar librerias",
   "id": "1d94bb489c122aba"
  },
  {
   "metadata": {
    "ExecuteTime": {
     "end_time": "2024-04-14T20:18:52.505107Z",
     "start_time": "2024-04-14T20:18:51.611737Z"
    }
   },
   "cell_type": "code",
   "source": [
    "import os\n",
    "from pathlib import PurePath\n",
    "import json\n",
    "import pandas as pd"
   ],
   "id": "c60c7da898f3648a",
   "outputs": [],
   "execution_count": 1
  },
  {
   "metadata": {},
   "cell_type": "markdown",
   "source": "## Busqueda de los ficheros de metricas",
   "id": "95dda32bceb5b2be"
  },
  {
   "metadata": {
    "ExecuteTime": {
     "end_time": "2024-04-14T20:18:56.455186Z",
     "start_time": "2024-04-14T20:18:56.451700Z"
    }
   },
   "cell_type": "code",
   "source": "root = r\"C:\\Users\\Isai\\Documents\\Tesis\\code\\data_analysis\\linear_reg\\coeficientes\\zafra2022\\ndvi_mean\"",
   "id": "94ce4d323b8069b3",
   "outputs": [],
   "execution_count": 2
  },
  {
   "metadata": {
    "ExecuteTime": {
     "end_time": "2024-04-14T20:18:57.400461Z",
     "start_time": "2024-04-14T20:18:57.375713Z"
    }
   },
   "cell_type": "code",
   "source": "files = [(json.load(open(PurePath(root, file), \"r\")), int(file.split('.')[0].split('_')[1])) for file in os.listdir(root) if file.endswith(\".json\")]",
   "id": "f22fd94684bfddd3",
   "outputs": [],
   "execution_count": 3
  },
  {
   "metadata": {
    "ExecuteTime": {
     "end_time": "2024-04-14T20:18:59.260396Z",
     "start_time": "2024-04-14T20:18:59.250126Z"
    }
   },
   "cell_type": "code",
   "source": [
    "raw_data = {\n",
    "    'parcela': [],\n",
    "    'mse': [],\n",
    "    'aic': [],\n",
    "    'rsquared': []\n",
    "}\n",
    "\n",
    "for i in files:\n",
    "    raw_data['parcela'].append(i[1])\n",
    "    raw_data['mse'].append(i[0][1]['mse'])\n",
    "    raw_data['aic'].append(i[0][1]['aic'])\n",
    "    raw_data['rsquared'].append(i[0][1]['rsquared'])\n",
    "\n",
    "df = pd.DataFrame(raw_data)\n",
    "    "
   ],
   "id": "847dcfb7994bded7",
   "outputs": [],
   "execution_count": 4
  },
  {
   "metadata": {
    "ExecuteTime": {
     "end_time": "2024-04-14T20:19:30.243584Z",
     "start_time": "2024-04-14T20:19:30.219020Z"
    }
   },
   "cell_type": "code",
   "source": "df.describe()",
   "id": "a365d4ae5ad0ca2e",
   "outputs": [
    {
     "data": {
      "text/plain": [
       "         parcela        mse         aic   rsquared\n",
       "count  15.000000  15.000000   15.000000  15.000000\n",
       "mean    8.266667   0.488976  -80.239085   0.923261\n",
       "std     4.832430   0.134259   19.189412   0.050621\n",
       "min     1.000000   0.252783 -118.682431   0.817460\n",
       "25%     4.500000   0.401106  -95.439949   0.898419\n",
       "50%     8.000000   0.496827  -78.994767   0.930419\n",
       "75%    12.000000   0.570783  -65.250206   0.962592\n",
       "max    16.000000   0.737323  -55.981649   0.985646"
      ],
      "text/html": [
       "<div>\n",
       "<style scoped>\n",
       "    .dataframe tbody tr th:only-of-type {\n",
       "        vertical-align: middle;\n",
       "    }\n",
       "\n",
       "    .dataframe tbody tr th {\n",
       "        vertical-align: top;\n",
       "    }\n",
       "\n",
       "    .dataframe thead th {\n",
       "        text-align: right;\n",
       "    }\n",
       "</style>\n",
       "<table border=\"1\" class=\"dataframe\">\n",
       "  <thead>\n",
       "    <tr style=\"text-align: right;\">\n",
       "      <th></th>\n",
       "      <th>parcela</th>\n",
       "      <th>mse</th>\n",
       "      <th>aic</th>\n",
       "      <th>rsquared</th>\n",
       "    </tr>\n",
       "  </thead>\n",
       "  <tbody>\n",
       "    <tr>\n",
       "      <th>count</th>\n",
       "      <td>15.000000</td>\n",
       "      <td>15.000000</td>\n",
       "      <td>15.000000</td>\n",
       "      <td>15.000000</td>\n",
       "    </tr>\n",
       "    <tr>\n",
       "      <th>mean</th>\n",
       "      <td>8.266667</td>\n",
       "      <td>0.488976</td>\n",
       "      <td>-80.239085</td>\n",
       "      <td>0.923261</td>\n",
       "    </tr>\n",
       "    <tr>\n",
       "      <th>std</th>\n",
       "      <td>4.832430</td>\n",
       "      <td>0.134259</td>\n",
       "      <td>19.189412</td>\n",
       "      <td>0.050621</td>\n",
       "    </tr>\n",
       "    <tr>\n",
       "      <th>min</th>\n",
       "      <td>1.000000</td>\n",
       "      <td>0.252783</td>\n",
       "      <td>-118.682431</td>\n",
       "      <td>0.817460</td>\n",
       "    </tr>\n",
       "    <tr>\n",
       "      <th>25%</th>\n",
       "      <td>4.500000</td>\n",
       "      <td>0.401106</td>\n",
       "      <td>-95.439949</td>\n",
       "      <td>0.898419</td>\n",
       "    </tr>\n",
       "    <tr>\n",
       "      <th>50%</th>\n",
       "      <td>8.000000</td>\n",
       "      <td>0.496827</td>\n",
       "      <td>-78.994767</td>\n",
       "      <td>0.930419</td>\n",
       "    </tr>\n",
       "    <tr>\n",
       "      <th>75%</th>\n",
       "      <td>12.000000</td>\n",
       "      <td>0.570783</td>\n",
       "      <td>-65.250206</td>\n",
       "      <td>0.962592</td>\n",
       "    </tr>\n",
       "    <tr>\n",
       "      <th>max</th>\n",
       "      <td>16.000000</td>\n",
       "      <td>0.737323</td>\n",
       "      <td>-55.981649</td>\n",
       "      <td>0.985646</td>\n",
       "    </tr>\n",
       "  </tbody>\n",
       "</table>\n",
       "</div>"
      ]
     },
     "execution_count": 6,
     "metadata": {},
     "output_type": "execute_result"
    }
   ],
   "execution_count": 6
  },
  {
   "metadata": {},
   "cell_type": "code",
   "outputs": [],
   "execution_count": null,
   "source": "",
   "id": "49dc44db26c34472"
  }
 ],
 "metadata": {
  "kernelspec": {
   "display_name": "Python 3",
   "language": "python",
   "name": "python3"
  },
  "language_info": {
   "codemirror_mode": {
    "name": "ipython",
    "version": 2
   },
   "file_extension": ".py",
   "mimetype": "text/x-python",
   "name": "python",
   "nbconvert_exporter": "python",
   "pygments_lexer": "ipython2",
   "version": "2.7.6"
  }
 },
 "nbformat": 4,
 "nbformat_minor": 5
}
