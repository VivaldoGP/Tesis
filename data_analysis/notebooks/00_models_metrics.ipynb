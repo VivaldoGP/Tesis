{
 "cells": [
  {
   "cell_type": "markdown",
   "id": "29e7d4ec48a93b2f",
   "metadata": {},
   "source": [
    "En este notebook se van a comparar las metricas de precisión de los modelos generados anteriormente."
   ]
  },
  {
   "cell_type": "markdown",
   "id": "1d94bb489c122aba",
   "metadata": {},
   "source": [
    "## Importar librerias"
   ]
  },
  {
   "cell_type": "code",
   "execution_count": 1,
   "id": "c60c7da898f3648a",
   "metadata": {
    "ExecuteTime": {
     "end_time": "2024-05-13T22:03:56.126267Z",
     "start_time": "2024-05-13T22:03:53.904942Z"
    }
   },
   "outputs": [],
   "source": [
    "import os\n",
    "from pathlib import PurePath\n",
    "import json\n",
    "import pandas as pd\n",
    "import matplotlib.pyplot as plt"
   ]
  },
  {
   "cell_type": "markdown",
   "id": "95dda32bceb5b2be",
   "metadata": {},
   "source": [
    "# Métricas de validación para los datos agrometeorologicos"
   ]
  },
  {
   "cell_type": "markdown",
   "id": "7907ff42-0fdd-4d7e-9e5d-83a4143aab3b",
   "metadata": {},
   "source": [
    "Aplica para cualquier metodo, fourier, arima y holt."
   ]
  },
  {
   "cell_type": "code",
   "execution_count": 25,
   "id": "95f7e732-c997-4570-b09c-b2024c4587bd",
   "metadata": {},
   "outputs": [],
   "source": [
    "climate_vars = ['evapotranspiration', 'solar_radiation', 'temperature', 'relative_humidity']"
   ]
  },
  {
   "cell_type": "code",
   "execution_count": 39,
   "id": "b6cf7f97-201f-475b-a772-85c88bb097fc",
   "metadata": {
    "scrolled": true
   },
   "outputs": [
    {
     "name": "stdout",
     "output_type": "stream",
     "text": [
      "Variable: evapotranspiration, mse promedio: 0.8233066464598118, r2: 0.6069494927219782\n",
      "Variable: solar_radiation, mse promedio: 15947921266393.629, r2: 0.4971708377325017\n",
      "Variable: temperature, mse promedio: 7.959922202802799, r2: 0.615857256817256\n",
      "Variable: relative_humidity, mse promedio: 94.93728922402566, r2: 0.13477953070798224\n"
     ]
    }
   ],
   "source": [
    "for var in climate_vars:\n",
    "    var_path = rf'../../data_analysis/fourier/parametros/{var}'\n",
    "    files = [(json.load(open(PurePath(var_path, file), \"r\")), int(file.split('.')[0].split('_')[1])) for file in os.listdir(var_path) if file.endswith(\".json\")]\n",
    "\n",
    "    metrics = {\n",
    "        'parcela': [],\n",
    "        'mse': [],\n",
    "        'rsquared': []\n",
    "    }\n",
    "    \n",
    "    for i in files:\n",
    "        metrics['parcela'].append(i[1])\n",
    "        metrics['mse'].append(i[0]['mse'])\n",
    "        metrics['rsquared'].append(i[0]['r2'])\n",
    "\n",
    "    df = pd.DataFrame(metrics)\n",
    "    print(f'Variable: {var}, mse promedio: {df['mse'].mean()}, r2: {df['rsquared'].mean()}')"
   ]
  },
  {
   "cell_type": "markdown",
   "id": "e13a7c1e-a6fd-4c8d-80f4-475a6660afb7",
   "metadata": {},
   "source": [
    "# Métricas de validación para los modelos cuadraticos de los índices espectrales"
   ]
  },
  {
   "cell_type": "code",
   "execution_count": 2,
   "id": "febc5273-f016-4520-aa61-4199abe487f9",
   "metadata": {},
   "outputs": [],
   "source": [
    "z21 = r'../../results/metrics/zafra_vis_metrics/zafra2021_vis_metrics.csv'\n",
    "z22 = r'../../results/metrics/zafra_vis_metrics/zafra2022_vis_metrics.csv'\n",
    "z23 = r'../../results/metrics/zafra_vis_metrics/zafra2023_vis_metrics.csv'"
   ]
  },
  {
   "cell_type": "code",
   "execution_count": 3,
   "id": "85911b48-075b-4b86-b074-c6706378fb4d",
   "metadata": {},
   "outputs": [],
   "source": [
    "z21_df = pd.read_csv(z21)\n",
    "z22_df = pd.read_csv(z22)\n",
    "z23_df = pd.read_csv(z23)"
   ]
  },
  {
   "cell_type": "code",
   "execution_count": 4,
   "id": "b39fc1ec-3771-4970-b2cd-cc48b43fa0e9",
   "metadata": {},
   "outputs": [],
   "source": [
    "zafras = pd.concat([z21_df, z22_df, z23_df])\n",
    "zafras_mean = zafras.groupby('indice').mean()"
   ]
  },
  {
   "cell_type": "code",
   "execution_count": 6,
   "id": "7ecea9e4-4408-4df9-9291-c42185586b49",
   "metadata": {},
   "outputs": [
    {
     "data": {
      "text/html": [
       "<div>\n",
       "<style scoped>\n",
       "    .dataframe tbody tr th:only-of-type {\n",
       "        vertical-align: middle;\n",
       "    }\n",
       "\n",
       "    .dataframe tbody tr th {\n",
       "        vertical-align: top;\n",
       "    }\n",
       "\n",
       "    .dataframe thead th {\n",
       "        text-align: right;\n",
       "    }\n",
       "</style>\n",
       "<table border=\"1\" class=\"dataframe\">\n",
       "  <thead>\n",
       "    <tr style=\"text-align: right;\">\n",
       "      <th></th>\n",
       "      <th>parcela_id</th>\n",
       "      <th>a</th>\n",
       "      <th>b</th>\n",
       "      <th>c</th>\n",
       "      <th>r2</th>\n",
       "      <th>mse</th>\n",
       "      <th>rmse</th>\n",
       "    </tr>\n",
       "    <tr>\n",
       "      <th>indice</th>\n",
       "      <th></th>\n",
       "      <th></th>\n",
       "      <th></th>\n",
       "      <th></th>\n",
       "      <th></th>\n",
       "      <th></th>\n",
       "      <th></th>\n",
       "    </tr>\n",
       "  </thead>\n",
       "  <tbody>\n",
       "    <tr>\n",
       "      <th>cire_mean</th>\n",
       "      <td>8.266667</td>\n",
       "      <td>-0.000041</td>\n",
       "      <td>0.018442</td>\n",
       "      <td>-0.171034</td>\n",
       "      <td>0.837225</td>\n",
       "      <td>8.119712</td>\n",
       "      <td>2.734348</td>\n",
       "    </tr>\n",
       "    <tr>\n",
       "      <th>gndvi_mean</th>\n",
       "      <td>8.266667</td>\n",
       "      <td>-0.000006</td>\n",
       "      <td>0.002867</td>\n",
       "      <td>0.242104</td>\n",
       "      <td>0.877599</td>\n",
       "      <td>0.222998</td>\n",
       "      <td>0.458442</td>\n",
       "    </tr>\n",
       "    <tr>\n",
       "      <th>msi_mean</th>\n",
       "      <td>8.266667</td>\n",
       "      <td>0.000014</td>\n",
       "      <td>-0.007448</td>\n",
       "      <td>1.650012</td>\n",
       "      <td>0.895987</td>\n",
       "      <td>2.033968</td>\n",
       "      <td>1.363448</td>\n",
       "    </tr>\n",
       "    <tr>\n",
       "      <th>ndmi_mean</th>\n",
       "      <td>8.266667</td>\n",
       "      <td>-0.000007</td>\n",
       "      <td>0.003709</td>\n",
       "      <td>-0.278705</td>\n",
       "      <td>0.899926</td>\n",
       "      <td>0.494653</td>\n",
       "      <td>0.677806</td>\n",
       "    </tr>\n",
       "    <tr>\n",
       "      <th>ndre1_mean</th>\n",
       "      <td>8.266667</td>\n",
       "      <td>-0.000007</td>\n",
       "      <td>0.003436</td>\n",
       "      <td>0.007630</td>\n",
       "      <td>0.906125</td>\n",
       "      <td>0.285334</td>\n",
       "      <td>0.520221</td>\n",
       "    </tr>\n",
       "    <tr>\n",
       "      <th>ndvi_mean</th>\n",
       "      <td>8.266667</td>\n",
       "      <td>-0.000009</td>\n",
       "      <td>0.004585</td>\n",
       "      <td>0.133981</td>\n",
       "      <td>0.924251</td>\n",
       "      <td>0.550596</td>\n",
       "      <td>0.725493</td>\n",
       "    </tr>\n",
       "  </tbody>\n",
       "</table>\n",
       "</div>"
      ],
      "text/plain": [
       "            parcela_id         a         b         c        r2       mse  \\\n",
       "indice                                                                     \n",
       "cire_mean     8.266667 -0.000041  0.018442 -0.171034  0.837225  8.119712   \n",
       "gndvi_mean    8.266667 -0.000006  0.002867  0.242104  0.877599  0.222998   \n",
       "msi_mean      8.266667  0.000014 -0.007448  1.650012  0.895987  2.033968   \n",
       "ndmi_mean     8.266667 -0.000007  0.003709 -0.278705  0.899926  0.494653   \n",
       "ndre1_mean    8.266667 -0.000007  0.003436  0.007630  0.906125  0.285334   \n",
       "ndvi_mean     8.266667 -0.000009  0.004585  0.133981  0.924251  0.550596   \n",
       "\n",
       "                rmse  \n",
       "indice                \n",
       "cire_mean   2.734348  \n",
       "gndvi_mean  0.458442  \n",
       "msi_mean    1.363448  \n",
       "ndmi_mean   0.677806  \n",
       "ndre1_mean  0.520221  \n",
       "ndvi_mean   0.725493  "
      ]
     },
     "execution_count": 6,
     "metadata": {},
     "output_type": "execute_result"
    }
   ],
   "source": [
    "zafras_mean"
   ]
  },
  {
   "cell_type": "code",
   "execution_count": 18,
   "id": "d8c0b33d-24ac-4c1f-bd10-92cb810e21f8",
   "metadata": {},
   "outputs": [
    {
     "data": {
      "image/png": "[encoded data removed]",
      "text/plain": [
       "<Figure size 1000x1000 with 1 Axes>"
      ]
     },
     "metadata": {},
     "output_type": "display_data"
    }
   ],
   "source": [
    "plt.figure(figsize=(10, 10))\n",
    "plt.bar(zafras_mean.index, zafras_mean['rmse'], color='#BE3455', alpha=1)\n",
    "plt.ylabel('RMSE')\n",
    "plt.xlabel('Variable')\n",
    "plt.tight_layout()\n",
    "plt.savefig(r'../../tesis_img/metricas/vis_rmse.pdf', dpi=150)\n",
    "plt.show()"
   ]
  },
  {
   "cell_type": "markdown",
   "id": "c8f527ebb242abe3",
   "metadata": {},
   "source": [
    "## Comparación de las metricas de los modelos de rendimientos"
   ]
  },
  {
   "cell_type": "code",
   "execution_count": 7,
   "id": "59b9a58cc235649b",
   "metadata": {
    "ExecuteTime": {
     "end_time": "2024-05-13T22:00:13.640481Z",
     "start_time": "2024-05-13T22:00:13.632347Z"
    }
   },
   "outputs": [],
   "source": [
    "with open(r\"C:\\Users\\Isai\\Documents\\Tesis\\code\\data_analysis\\lr_metrics\\lr_juntos_max.json\", \"r\") as file:\n",
    "    metrics_max = json.load(file)\n",
    "    \n",
    "with open(r\"C:\\Users\\Isai\\Documents\\Tesis\\code\\data_analysis\\lr_metrics\\lr_juntos_mean.json\", \"r\") as file:\n",
    "    metrics_mean = json.load(file)"
   ]
  },
  {
   "cell_type": "code",
   "execution_count": 8,
   "id": "6a155f0bc0025061",
   "metadata": {
    "ExecuteTime": {
     "end_time": "2024-05-13T22:00:14.263563Z",
     "start_time": "2024-05-13T22:00:14.252989Z"
    }
   },
   "outputs": [
    {
     "data": {
      "text/plain": [
       "[{'var': 'ndvi_max', 'r2': 0.571676, 'mse': 3688.252318, 'rmse': 60.73},\n",
       " {'var': 'cire_max', 'r2': 0.62443, 'mse': 4028.6035, 'rmse': 63.47},\n",
       " {'var': 'gndvi_max', 'r2': 0.67642, 'mse': 4363.381202, 'rmse': 66.05},\n",
       " {'var': 'ndre1_max', 'r2': 0.587777, 'mse': 3792.134169, 'rmse': 61.58}]"
      ]
     },
     "execution_count": 8,
     "metadata": {},
     "output_type": "execute_result"
    }
   ],
   "source": [
    "metrics_max"
   ]
  },
  {
   "cell_type": "code",
   "execution_count": 12,
   "id": "6f13525fc5d45996",
   "metadata": {
    "ExecuteTime": {
     "end_time": "2024-05-13T22:03:10.954308Z",
     "start_time": "2024-05-13T22:03:10.947777Z"
    }
   },
   "outputs": [],
   "source": [
    "df_max = pd.DataFrame(metrics_max)\n",
    "df_mean = pd.DataFrame(metrics_mean)"
   ]
  },
  {
   "cell_type": "code",
   "execution_count": 36,
   "id": "f6f104674cf4fa68",
   "metadata": {
    "ExecuteTime": {
     "end_time": "2024-05-13T22:24:21.279285Z",
     "start_time": "2024-05-13T22:24:21.272729Z"
    }
   },
   "outputs": [],
   "source": [
    "df_dif = pd.DataFrame()"
   ]
  },
  {
   "cell_type": "code",
   "execution_count": 57,
   "id": "691d6b8aebebef6",
   "metadata": {
    "ExecuteTime": {
     "end_time": "2024-05-13T22:32:08.773704Z",
     "start_time": "2024-05-13T22:32:08.763506Z"
    }
   },
   "outputs": [],
   "source": [
    "df_dif['r2'] = abs(df_max['r2'] - df_mean['r2'])/df_mean['r2'] * 100\n",
    "df_dif['mse'] = abs(df_max['mse'] - df_mean['mse'])/df_mean['mse'] * 100\n",
    "df_dif['rmse'] = abs(df_max['rmse'] - df_mean['rmse'])/df_mean['rmse'] * 100\n",
    "df_dif['var'] = df_max['var'].apply(lambda x: x.split('_')[0])"
   ]
  },
  {
   "cell_type": "code",
   "execution_count": 58,
   "id": "fa0afb5c3ce65bdb",
   "metadata": {
    "ExecuteTime": {
     "end_time": "2024-05-13T22:32:09.490433Z",
     "start_time": "2024-05-13T22:32:09.471710Z"
    }
   },
   "outputs": [
    {
     "data": {
      "text/html": [
       "<div>\n",
       "<style scoped>\n",
       "    .dataframe tbody tr th:only-of-type {\n",
       "        vertical-align: middle;\n",
       "    }\n",
       "\n",
       "    .dataframe tbody tr th {\n",
       "        vertical-align: top;\n",
       "    }\n",
       "\n",
       "    .dataframe thead th {\n",
       "        text-align: right;\n",
       "    }\n",
       "</style>\n",
       "<table border=\"1\" class=\"dataframe\">\n",
       "  <thead>\n",
       "    <tr style=\"text-align: right;\">\n",
       "      <th></th>\n",
       "      <th>r2</th>\n",
       "      <th>mse</th>\n",
       "      <th>rmse</th>\n",
       "      <th>var</th>\n",
       "    </tr>\n",
       "  </thead>\n",
       "  <tbody>\n",
       "    <tr>\n",
       "      <th>0</th>\n",
       "      <td>1.512095</td>\n",
       "      <td>1.512078</td>\n",
       "      <td>0.751757</td>\n",
       "      <td>ndvi</td>\n",
       "    </tr>\n",
       "    <tr>\n",
       "      <th>1</th>\n",
       "      <td>3.787159</td>\n",
       "      <td>3.787168</td>\n",
       "      <td>1.901082</td>\n",
       "      <td>cire</td>\n",
       "    </tr>\n",
       "    <tr>\n",
       "      <th>2</th>\n",
       "      <td>11.269980</td>\n",
       "      <td>11.283070</td>\n",
       "      <td>5.817767</td>\n",
       "      <td>gndvi</td>\n",
       "    </tr>\n",
       "    <tr>\n",
       "      <th>3</th>\n",
       "      <td>3.300386</td>\n",
       "      <td>3.300332</td>\n",
       "      <td>1.660811</td>\n",
       "      <td>ndre1</td>\n",
       "    </tr>\n",
       "  </tbody>\n",
       "</table>\n",
       "</div>"
      ],
      "text/plain": [
       "          r2        mse      rmse    var\n",
       "0   1.512095   1.512078  0.751757   ndvi\n",
       "1   3.787159   3.787168  1.901082   cire\n",
       "2  11.269980  11.283070  5.817767  gndvi\n",
       "3   3.300386   3.300332  1.660811  ndre1"
      ]
     },
     "execution_count": 58,
     "metadata": {},
     "output_type": "execute_result"
    }
   ],
   "source": [
    "df_dif.dropna()"
   ]
  },
  {
   "cell_type": "code",
   "execution_count": 83,
   "id": "af1ac89850f9b6c6",
   "metadata": {
    "ExecuteTime": {
     "end_time": "2024-05-13T22:40:12.750651Z",
     "start_time": "2024-05-13T22:40:12.288542Z"
    }
   },
   "outputs": [
    {
     "data": {
      "image/png": "[encoded data removed]",
      "text/plain": [
       "<Figure size 1000x1000 with 1 Axes>"
      ]
     },
     "metadata": {},
     "output_type": "display_data"
    }
   ],
   "source": [
    "metric_var = 'rmse' \n",
    "plt.figure(figsize=(10, 10))\n",
    "sns.set_theme(style=\"whitegrid\")\n",
    "sns.barplot(x='var', y=metric_var, data=df_dif, color='red', edgecolor='black', alpha=0.7)\n",
    "plt.title(f'Diferencia de {metric_var.upper()} entre modelos')\n",
    "plt.xlabel('Índice')\n",
    "plt.ylabel('% de diferencia')\n",
    "plt.tight_layout()\n",
    "plt.savefig(PurePath(rf\"C:\\Users\\Isai\\Documents\\Tesis\\code\\revision\\img\\juntos\\metrics\\{metric_var}_dif.png\"), dpi=100)\n",
    "plt.show()"
   ]
  },
  {
   "cell_type": "code",
   "execution_count": null,
   "id": "a6ddacbc11cb868a",
   "metadata": {},
   "outputs": [],
   "source": []
  }
 ],
 "metadata": {
  "kernelspec": {
   "display_name": "tesis-venv",
   "language": "python",
   "name": "tesis-venv"
  },
  "language_info": {
   "codemirror_mode": {
    "name": "ipython",
    "version": 3
   },
   "file_extension": ".py",
   "mimetype": "text/x-python",
   "name": "python",
   "nbconvert_exporter": "python",
   "pygments_lexer": "ipython3",
   "version": "3.12.4"
  }
 },
 "nbformat": 4,
 "nbformat_minor": 5
}
