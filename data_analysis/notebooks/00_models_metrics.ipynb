{
 "cells": [
  {
   "metadata": {},
   "cell_type": "markdown",
   "source": "En este notebook se van a comparar las metricas de precisión de los modelos generados anteriormente.",
   "id": "29e7d4ec48a93b2f"
  },
  {
   "metadata": {},
   "cell_type": "markdown",
   "source": "## Importar librerias",
   "id": "1d94bb489c122aba"
  },
  {
   "metadata": {
    "ExecuteTime": {
     "end_time": "2024-05-13T22:03:56.126267Z",
     "start_time": "2024-05-13T22:03:53.904942Z"
    }
   },
   "cell_type": "code",
   "source": [
    "import os\n",
    "from pathlib import PurePath\n",
    "import json\n",
    "import pandas as pd\n",
    "import matplotlib.pyplot as plt\n",
    "import seaborn as sns"
   ],
   "id": "c60c7da898f3648a",
   "outputs": [],
   "execution_count": 15
  },
  {
   "metadata": {},
   "cell_type": "markdown",
   "source": "## Busqueda de los ficheros de metricas",
   "id": "95dda32bceb5b2be"
  },
  {
   "metadata": {
    "ExecuteTime": {
     "end_time": "2024-05-03T06:09:56.206017Z",
     "start_time": "2024-05-03T06:09:56.201772Z"
    }
   },
   "cell_type": "code",
   "source": "root = r\"C:\\Users\\Isai\\Documents\\Tesis\\code\\data_analysis\\fourier\\parametros\\evapotranspiration\"",
   "id": "94ce4d323b8069b3",
   "outputs": [],
   "execution_count": 27
  },
  {
   "metadata": {
    "ExecuteTime": {
     "end_time": "2024-05-03T06:09:57.516863Z",
     "start_time": "2024-05-03T06:09:57.492449Z"
    }
   },
   "cell_type": "code",
   "source": "files = [(json.load(open(PurePath(root, file), \"r\")), int(file.split('.')[0].split('_')[1])) for file in os.listdir(root) if file.endswith(\".json\")]",
   "id": "f22fd94684bfddd3",
   "outputs": [],
   "execution_count": 28
  },
  {
   "metadata": {
    "ExecuteTime": {
     "end_time": "2024-05-03T06:09:58.465751Z",
     "start_time": "2024-05-03T06:09:58.458770Z"
    }
   },
   "cell_type": "code",
   "source": "files[0][0]",
   "id": "395c03cd0e980e5a",
   "outputs": [
    {
     "data": {
      "text/plain": [
       "{'A': 1.6597466853706044,\n",
       " 'omega': 0.01713267832848069,\n",
       " 'phi': -1.2778403976259856,\n",
       " 'offset': 4.5755328854618185,\n",
       " 'mse': 0.8698965381981325,\n",
       " 'r2': 0.6120512961339877}"
      ]
     },
     "execution_count": 29,
     "metadata": {},
     "output_type": "execute_result"
    }
   ],
   "execution_count": 29
  },
  {
   "metadata": {
    "ExecuteTime": {
     "end_time": "2024-05-03T06:10:09.026058Z",
     "start_time": "2024-05-03T06:10:09.018189Z"
    }
   },
   "cell_type": "code",
   "source": [
    "raw_data = {\n",
    "    'parcela': [],\n",
    "    'mse': [],\n",
    "    'rsquared': []\n",
    "}\n",
    "\n",
    "for i in files:\n",
    "    raw_data['parcela'].append(i[1])\n",
    "    raw_data['mse'].append(i[0]['mse'])\n",
    "    raw_data['rsquared'].append(i[0]['r2'])\n",
    "\n",
    "df = pd.DataFrame(raw_data)"
   ],
   "id": "847dcfb7994bded7",
   "outputs": [],
   "execution_count": 30
  },
  {
   "metadata": {
    "ExecuteTime": {
     "end_time": "2024-05-03T06:10:10.105992Z",
     "start_time": "2024-05-03T06:10:10.076554Z"
    }
   },
   "cell_type": "code",
   "source": "df.describe()",
   "id": "54b45d218bde95a7",
   "outputs": [
    {
     "data": {
      "text/plain": [
       "         parcela        mse   rsquared\n",
       "count  15.000000  15.000000  15.000000\n",
       "mean    8.266667   0.823307   0.606949\n",
       "std     4.832430   0.110857   0.020996\n",
       "min     1.000000   0.725758   0.556072\n",
       "25%     4.500000   0.725758   0.610135\n",
       "50%     8.000000   0.853711   0.612051\n",
       "75%    12.000000   0.869897   0.618208\n",
       "max    16.000000   1.041145   0.618208"
      ],
      "text/html": [
       "<div>\n",
       "<style scoped>\n",
       "    .dataframe tbody tr th:only-of-type {\n",
       "        vertical-align: middle;\n",
       "    }\n",
       "\n",
       "    .dataframe tbody tr th {\n",
       "        vertical-align: top;\n",
       "    }\n",
       "\n",
       "    .dataframe thead th {\n",
       "        text-align: right;\n",
       "    }\n",
       "</style>\n",
       "<table border=\"1\" class=\"dataframe\">\n",
       "  <thead>\n",
       "    <tr style=\"text-align: right;\">\n",
       "      <th></th>\n",
       "      <th>parcela</th>\n",
       "      <th>mse</th>\n",
       "      <th>rsquared</th>\n",
       "    </tr>\n",
       "  </thead>\n",
       "  <tbody>\n",
       "    <tr>\n",
       "      <th>count</th>\n",
       "      <td>15.000000</td>\n",
       "      <td>15.000000</td>\n",
       "      <td>15.000000</td>\n",
       "    </tr>\n",
       "    <tr>\n",
       "      <th>mean</th>\n",
       "      <td>8.266667</td>\n",
       "      <td>0.823307</td>\n",
       "      <td>0.606949</td>\n",
       "    </tr>\n",
       "    <tr>\n",
       "      <th>std</th>\n",
       "      <td>4.832430</td>\n",
       "      <td>0.110857</td>\n",
       "      <td>0.020996</td>\n",
       "    </tr>\n",
       "    <tr>\n",
       "      <th>min</th>\n",
       "      <td>1.000000</td>\n",
       "      <td>0.725758</td>\n",
       "      <td>0.556072</td>\n",
       "    </tr>\n",
       "    <tr>\n",
       "      <th>25%</th>\n",
       "      <td>4.500000</td>\n",
       "      <td>0.725758</td>\n",
       "      <td>0.610135</td>\n",
       "    </tr>\n",
       "    <tr>\n",
       "      <th>50%</th>\n",
       "      <td>8.000000</td>\n",
       "      <td>0.853711</td>\n",
       "      <td>0.612051</td>\n",
       "    </tr>\n",
       "    <tr>\n",
       "      <th>75%</th>\n",
       "      <td>12.000000</td>\n",
       "      <td>0.869897</td>\n",
       "      <td>0.618208</td>\n",
       "    </tr>\n",
       "    <tr>\n",
       "      <th>max</th>\n",
       "      <td>16.000000</td>\n",
       "      <td>1.041145</td>\n",
       "      <td>0.618208</td>\n",
       "    </tr>\n",
       "  </tbody>\n",
       "</table>\n",
       "</div>"
      ]
     },
     "execution_count": 31,
     "metadata": {},
     "output_type": "execute_result"
    }
   ],
   "execution_count": 31
  },
  {
   "metadata": {},
   "cell_type": "markdown",
   "source": "## Visualización de los datos modelados y los reales",
   "id": "93e7d3a6fe44460e"
  },
  {
   "metadata": {
    "ExecuteTime": {
     "end_time": "2024-04-29T02:59:57.521852Z",
     "start_time": "2024-04-29T02:59:57.513929Z"
    }
   },
   "cell_type": "code",
   "source": [
    "modelados = r\"C:\\Users\\Isai\\Documents\\Tesis\\code\\data_analysis\\all_vars\\zafra2022\"\n",
    "reales = r\"C:\\Users\\Isai\\Documents\\Tesis\\code\\datos\\parcelas\\ready_to_analyze\\zafra2022\""
   ],
   "id": "79e5dc849fab4542",
   "outputs": [],
   "execution_count": 6
  },
  {
   "metadata": {
    "ExecuteTime": {
     "end_time": "2024-04-29T02:59:59.832196Z",
     "start_time": "2024-04-29T02:59:59.584024Z"
    }
   },
   "cell_type": "code",
   "source": [
    "modelados_files = [(pd.read_csv(PurePath(modelados, file), parse_dates=True),int(file.split('.')[0].split('_')[1])) for file in os.listdir(modelados) if file.endswith(\".csv\")]\n",
    "reales_files = [(pd.read_csv(PurePath(reales, file), parse_dates=True),int(file.split('.')[0].split('_')[1])) for file in os.listdir(reales) if file.endswith(\".csv\")]"
   ],
   "id": "ee20fd09d60799f9",
   "outputs": [],
   "execution_count": 7
  },
  {
   "metadata": {},
   "cell_type": "code",
   "source": [
    "var = 'ndvi'\n",
    "for i in modelados_files:\n",
    "    for j in reales_files:\n",
    "        if i[1] == j[1]:\n",
    "            print(i[1])\n",
    "            fig, ax = plt.subplots(figsize=(15, 5))\n",
    "            plt.plot(pd.to_datetime(i[0]['Fecha']), i[0][var], label='Modelado')\n",
    "            plt.plot(pd.to_datetime(j[0]['Fecha']), j[0][f'{var}_mean'], label='Real')\n",
    "            ax.set_xlabel('Fecha')\n",
    "            ax.set_ylabel(f'{var.upper()}')\n",
    "            plt.title(f\"Parcela {i[1]}\")\n",
    "            plt.legend()\n",
    "            plt.tight_layout()\n",
    "            des_path = PurePath(rf\"C:\\Users\\Isai\\Documents\\Tesis\\code\\revision\\img\\{var}\")\n",
    "            if not os.path.exists(des_path):\n",
    "                os.makedirs(des_path)\n",
    "            plt.savefig(PurePath(des_path, f\"parcela_{i[1]}.png\"))\n",
    "            plt.show()"
   ],
   "id": "50d3c77ceae88dfa",
   "outputs": [],
   "execution_count": null
  },
  {
   "metadata": {},
   "cell_type": "code",
   "source": [
    "var_2 = 'ndvi'\n",
    "folder = 'ndvi_precip_acum'\n",
    "var_mod = 'precip_acum'\n",
    "for i in modelados_files:\n",
    "    fig, ax = plt.subplots(figsize=(15, 5))\n",
    "    ax.plot(pd.to_datetime(i[0]['Fecha']), i[0][var_2], label=f'{var_2}')\n",
    "    ax.set_xlabel('Fecha')\n",
    "    ax.set_ylabel(f'{var_2.upper()}')\n",
    "    ax2 = ax.twinx()\n",
    "    ax2.plot(pd.to_datetime(i[0]['Fecha']), i[0][var_mod], label=f'{var_mod}', color='red')\n",
    "    ax2.set_ylabel(f'{var_mod.upper()}')\n",
    "    plt.title(f\"Parcela {i[1]}\")\n",
    "    des_path = PurePath(rf\"C:\\Users\\Isai\\Documents\\Tesis\\code\\revision\\img\\{folder}\")\n",
    "    if not os.path.exists(des_path):\n",
    "        os.makedirs(des_path)\n",
    "    #plt.savefig(PurePath(des_path, f\"parcela_{i[1]}.png\"))\n",
    "    plt.show()"
   ],
   "id": "7dd33b52dc77a0ba",
   "outputs": [],
   "execution_count": null
  },
  {
   "metadata": {},
   "cell_type": "markdown",
   "source": "## Comparación de las metricas de los modelos de rendimientos",
   "id": "c8f527ebb242abe3"
  },
  {
   "metadata": {
    "ExecuteTime": {
     "end_time": "2024-05-13T22:00:13.640481Z",
     "start_time": "2024-05-13T22:00:13.632347Z"
    }
   },
   "cell_type": "code",
   "source": [
    "with open(r\"C:\\Users\\Isai\\Documents\\Tesis\\code\\data_analysis\\lr_metrics\\lr_juntos_max.json\", \"r\") as file:\n",
    "    metrics_max = json.load(file)\n",
    "    \n",
    "with open(r\"C:\\Users\\Isai\\Documents\\Tesis\\code\\data_analysis\\lr_metrics\\lr_juntos_mean.json\", \"r\") as file:\n",
    "    metrics_mean = json.load(file)"
   ],
   "id": "59b9a58cc235649b",
   "outputs": [],
   "execution_count": 7
  },
  {
   "metadata": {
    "ExecuteTime": {
     "end_time": "2024-05-13T22:00:14.263563Z",
     "start_time": "2024-05-13T22:00:14.252989Z"
    }
   },
   "cell_type": "code",
   "source": "metrics_max",
   "id": "6a155f0bc0025061",
   "outputs": [
    {
     "data": {
      "text/plain": [
       "[{'var': 'ndvi_max', 'r2': 0.571676, 'mse': 3688.252318, 'rmse': 60.73},\n",
       " {'var': 'cire_max', 'r2': 0.62443, 'mse': 4028.6035, 'rmse': 63.47},\n",
       " {'var': 'gndvi_max', 'r2': 0.67642, 'mse': 4363.381202, 'rmse': 66.05},\n",
       " {'var': 'ndre1_max', 'r2': 0.587777, 'mse': 3792.134169, 'rmse': 61.58}]"
      ]
     },
     "execution_count": 8,
     "metadata": {},
     "output_type": "execute_result"
    }
   ],
   "execution_count": 8
  },
  {
   "metadata": {
    "ExecuteTime": {
     "end_time": "2024-05-13T22:03:10.954308Z",
     "start_time": "2024-05-13T22:03:10.947777Z"
    }
   },
   "cell_type": "code",
   "source": [
    "df_max = pd.DataFrame(metrics_max)\n",
    "df_mean = pd.DataFrame(metrics_mean)"
   ],
   "id": "6f13525fc5d45996",
   "outputs": [],
   "execution_count": 12
  },
  {
   "metadata": {
    "ExecuteTime": {
     "end_time": "2024-05-13T22:24:21.279285Z",
     "start_time": "2024-05-13T22:24:21.272729Z"
    }
   },
   "cell_type": "code",
   "source": "df_dif = pd.DataFrame()",
   "id": "f6f104674cf4fa68",
   "outputs": [],
   "execution_count": 36
  },
  {
   "metadata": {
    "ExecuteTime": {
     "end_time": "2024-05-13T22:32:08.773704Z",
     "start_time": "2024-05-13T22:32:08.763506Z"
    }
   },
   "cell_type": "code",
   "source": [
    "df_dif['r2'] = abs(df_max['r2'] - df_mean['r2'])/df_mean['r2'] * 100\n",
    "df_dif['mse'] = abs(df_max['mse'] - df_mean['mse'])/df_mean['mse'] * 100\n",
    "df_dif['rmse'] = abs(df_max['rmse'] - df_mean['rmse'])/df_mean['rmse'] * 100\n",
    "df_dif['var'] = df_max['var'].apply(lambda x: x.split('_')[0])"
   ],
   "id": "691d6b8aebebef6",
   "outputs": [],
   "execution_count": 57
  },
  {
   "metadata": {
    "ExecuteTime": {
     "end_time": "2024-05-13T22:32:09.490433Z",
     "start_time": "2024-05-13T22:32:09.471710Z"
    }
   },
   "cell_type": "code",
   "source": "df_dif.dropna()",
   "id": "fa0afb5c3ce65bdb",
   "outputs": [
    {
     "data": {
      "text/plain": [
       "          r2        mse      rmse    var\n",
       "0   1.512095   1.512078  0.751757   ndvi\n",
       "1   3.787159   3.787168  1.901082   cire\n",
       "2  11.269980  11.283070  5.817767  gndvi\n",
       "3   3.300386   3.300332  1.660811  ndre1"
      ],
      "text/html": [
       "<div>\n",
       "<style scoped>\n",
       "    .dataframe tbody tr th:only-of-type {\n",
       "        vertical-align: middle;\n",
       "    }\n",
       "\n",
       "    .dataframe tbody tr th {\n",
       "        vertical-align: top;\n",
       "    }\n",
       "\n",
       "    .dataframe thead th {\n",
       "        text-align: right;\n",
       "    }\n",
       "</style>\n",
       "<table border=\"1\" class=\"dataframe\">\n",
       "  <thead>\n",
       "    <tr style=\"text-align: right;\">\n",
       "      <th></th>\n",
       "      <th>r2</th>\n",
       "      <th>mse</th>\n",
       "      <th>rmse</th>\n",
       "      <th>var</th>\n",
       "    </tr>\n",
       "  </thead>\n",
       "  <tbody>\n",
       "    <tr>\n",
       "      <th>0</th>\n",
       "      <td>1.512095</td>\n",
       "      <td>1.512078</td>\n",
       "      <td>0.751757</td>\n",
       "      <td>ndvi</td>\n",
       "    </tr>\n",
       "    <tr>\n",
       "      <th>1</th>\n",
       "      <td>3.787159</td>\n",
       "      <td>3.787168</td>\n",
       "      <td>1.901082</td>\n",
       "      <td>cire</td>\n",
       "    </tr>\n",
       "    <tr>\n",
       "      <th>2</th>\n",
       "      <td>11.269980</td>\n",
       "      <td>11.283070</td>\n",
       "      <td>5.817767</td>\n",
       "      <td>gndvi</td>\n",
       "    </tr>\n",
       "    <tr>\n",
       "      <th>3</th>\n",
       "      <td>3.300386</td>\n",
       "      <td>3.300332</td>\n",
       "      <td>1.660811</td>\n",
       "      <td>ndre1</td>\n",
       "    </tr>\n",
       "  </tbody>\n",
       "</table>\n",
       "</div>"
      ]
     },
     "execution_count": 58,
     "metadata": {},
     "output_type": "execute_result"
    }
   ],
   "execution_count": 58
  },
  {
   "metadata": {
    "ExecuteTime": {
     "end_time": "2024-05-13T22:40:12.750651Z",
     "start_time": "2024-05-13T22:40:12.288542Z"
    }
   },
   "cell_type": "code",
   "source": [
    "metric_var = 'rmse' \n",
    "plt.figure(figsize=(10, 10))\n",
    "sns.set_theme(style=\"whitegrid\")\n",
    "sns.barplot(x='var', y=metric_var, data=df_dif, color='red', edgecolor='black', alpha=0.7)\n",
    "plt.title(f'Diferencia de {metric_var.upper()} entre modelos')\n",
    "plt.xlabel('Índice')\n",
    "plt.ylabel('% de diferencia')\n",
    "plt.tight_layout()\n",
    "plt.savefig(PurePath(rf\"C:\\Users\\Isai\\Documents\\Tesis\\code\\revision\\img\\juntos\\metrics\\{metric_var}_dif.png\"), dpi=100)\n",
    "plt.show()"
   ],
   "id": "af1ac89850f9b6c6",
   "outputs": [
    {
     "data": {
      "text/plain": [
       "<Figure size 1000x1000 with 1 Axes>"
      ],
      "image/png": "[encoded data removed]"
     },
     "metadata": {},
     "output_type": "display_data"
    }
   ],
   "execution_count": 83
  },
  {
   "metadata": {},
   "cell_type": "code",
   "outputs": [],
   "execution_count": null,
   "source": "",
   "id": "a6ddacbc11cb868a"
  }
 ],
 "metadata": {
  "kernelspec": {
   "display_name": "Python 3",
   "language": "python",
   "name": "python3"
  },
  "language_info": {
   "codemirror_mode": {
    "name": "ipython",
    "version": 2
   },
   "file_extension": ".py",
   "mimetype": "text/x-python",
   "name": "python",
   "nbconvert_exporter": "python",
   "pygments_lexer": "ipython2",
   "version": "2.7.6"
  }
 },
 "nbformat": 4,
 "nbformat_minor": 5
}
