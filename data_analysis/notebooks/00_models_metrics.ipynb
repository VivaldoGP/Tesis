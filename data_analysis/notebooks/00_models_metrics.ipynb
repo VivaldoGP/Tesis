{
 "cells": [
  {
   "metadata": {},
   "cell_type": "markdown",
   "source": "En este notebook se van a comparar las metricas de precisión de los modelos generados anteriormente.",
   "id": "29e7d4ec48a93b2f"
  },
  {
   "metadata": {},
   "cell_type": "markdown",
   "source": "## Importar librerias",
   "id": "1d94bb489c122aba"
  },
  {
   "metadata": {
    "ExecuteTime": {
     "end_time": "2024-04-14T06:28:31.621042Z",
     "start_time": "2024-04-14T06:28:30.550805Z"
    }
   },
   "cell_type": "code",
   "source": [
    "import os\n",
    "from pathlib import PurePath\n",
    "import json\n",
    "import pandas as pd"
   ],
   "id": "c60c7da898f3648a",
   "outputs": [],
   "execution_count": 57
  },
  {
   "metadata": {},
   "cell_type": "markdown",
   "source": "## Busqueda de los ficheros de metricas",
   "id": "95dda32bceb5b2be"
  },
  {
   "metadata": {
    "ExecuteTime": {
     "end_time": "2024-04-14T05:53:47.157321Z",
     "start_time": "2024-04-14T05:53:47.152332Z"
    }
   },
   "cell_type": "code",
   "source": "root = r\"C:\\Users\\Isai\\Documents\\Tesis\\code\\data_analysis\\linear_reg\\coeficientes\\zafra2022\\ndvi_mean\"",
   "id": "94ce4d323b8069b3",
   "outputs": [],
   "execution_count": 5
  },
  {
   "metadata": {
    "ExecuteTime": {
     "end_time": "2024-04-14T06:20:36.265211Z",
     "start_time": "2024-04-14T06:20:36.254592Z"
    }
   },
   "cell_type": "code",
   "source": "files = [(json.load(open(PurePath(root, file), \"r\")), int(file.split('.')[0].split('_')[1])) for file in os.listdir(root) if file.endswith(\".json\")]",
   "id": "f22fd94684bfddd3",
   "outputs": [],
   "execution_count": 49
  },
  {
   "metadata": {
    "ExecuteTime": {
     "end_time": "2024-04-14T06:28:35.066862Z",
     "start_time": "2024-04-14T06:28:35.060761Z"
    }
   },
   "cell_type": "code",
   "source": [
    "raw_data = {\n",
    "    'parcela': [],\n",
    "    'mse': [],\n",
    "    'aic': [],\n",
    "    'rsquared': []\n",
    "}\n",
    "\n",
    "for i in files:\n",
    "    raw_data['parcela'].append(i[1])\n",
    "    raw_data['mse'].append(i[0][1]['mse'])\n",
    "    raw_data['aic'].append(i[0][1]['aic'])\n",
    "    raw_data['rsquared'].append(i[0][1]['rsquared'])\n",
    "\n",
    "df = pd.DataFrame(raw_data)\n",
    "    "
   ],
   "id": "847dcfb7994bded7",
   "outputs": [],
   "execution_count": 58
  },
  {
   "metadata": {
    "ExecuteTime": {
     "end_time": "2024-04-14T06:28:37.254381Z",
     "start_time": "2024-04-14T06:28:37.237416Z"
    }
   },
   "cell_type": "code",
   "source": "df",
   "id": "68bac43c02dd79b1",
   "outputs": [
    {
     "data": {
      "text/plain": [
       "    parcela       mse         aic  rsquared\n",
       "0         1  0.496827  -84.236959  0.864638\n",
       "1        10  0.514777  -69.381488  0.902648\n",
       "2        11  0.400837  -58.308521  0.845898\n",
       "3        13  0.451330 -103.541139  0.970594\n",
       "4        14  0.589735  -78.994767  0.919450\n",
       "5        15  0.655389 -118.682431  0.985646\n",
       "6        16  0.252783  -65.260307  0.817460\n",
       "7         2  0.565664  -97.159558  0.983399\n",
       "8         3  0.257205 -102.237096  0.970829\n",
       "9         4  0.737323  -82.241002  0.954590\n",
       "10        5  0.545285  -93.720340  0.952389\n",
       "11        6  0.496506  -65.240105  0.932210\n",
       "12        7  0.575902  -67.148372  0.894189\n",
       "13        8  0.401376  -61.452538  0.930419\n",
       "14        9  0.393705  -55.981649  0.924551"
      ],
      "text/html": [
       "<div>\n",
       "<style scoped>\n",
       "    .dataframe tbody tr th:only-of-type {\n",
       "        vertical-align: middle;\n",
       "    }\n",
       "\n",
       "    .dataframe tbody tr th {\n",
       "        vertical-align: top;\n",
       "    }\n",
       "\n",
       "    .dataframe thead th {\n",
       "        text-align: right;\n",
       "    }\n",
       "</style>\n",
       "<table border=\"1\" class=\"dataframe\">\n",
       "  <thead>\n",
       "    <tr style=\"text-align: right;\">\n",
       "      <th></th>\n",
       "      <th>parcela</th>\n",
       "      <th>mse</th>\n",
       "      <th>aic</th>\n",
       "      <th>rsquared</th>\n",
       "    </tr>\n",
       "  </thead>\n",
       "  <tbody>\n",
       "    <tr>\n",
       "      <th>0</th>\n",
       "      <td>1</td>\n",
       "      <td>0.496827</td>\n",
       "      <td>-84.236959</td>\n",
       "      <td>0.864638</td>\n",
       "    </tr>\n",
       "    <tr>\n",
       "      <th>1</th>\n",
       "      <td>10</td>\n",
       "      <td>0.514777</td>\n",
       "      <td>-69.381488</td>\n",
       "      <td>0.902648</td>\n",
       "    </tr>\n",
       "    <tr>\n",
       "      <th>2</th>\n",
       "      <td>11</td>\n",
       "      <td>0.400837</td>\n",
       "      <td>-58.308521</td>\n",
       "      <td>0.845898</td>\n",
       "    </tr>\n",
       "    <tr>\n",
       "      <th>3</th>\n",
       "      <td>13</td>\n",
       "      <td>0.451330</td>\n",
       "      <td>-103.541139</td>\n",
       "      <td>0.970594</td>\n",
       "    </tr>\n",
       "    <tr>\n",
       "      <th>4</th>\n",
       "      <td>14</td>\n",
       "      <td>0.589735</td>\n",
       "      <td>-78.994767</td>\n",
       "      <td>0.919450</td>\n",
       "    </tr>\n",
       "    <tr>\n",
       "      <th>5</th>\n",
       "      <td>15</td>\n",
       "      <td>0.655389</td>\n",
       "      <td>-118.682431</td>\n",
       "      <td>0.985646</td>\n",
       "    </tr>\n",
       "    <tr>\n",
       "      <th>6</th>\n",
       "      <td>16</td>\n",
       "      <td>0.252783</td>\n",
       "      <td>-65.260307</td>\n",
       "      <td>0.817460</td>\n",
       "    </tr>\n",
       "    <tr>\n",
       "      <th>7</th>\n",
       "      <td>2</td>\n",
       "      <td>0.565664</td>\n",
       "      <td>-97.159558</td>\n",
       "      <td>0.983399</td>\n",
       "    </tr>\n",
       "    <tr>\n",
       "      <th>8</th>\n",
       "      <td>3</td>\n",
       "      <td>0.257205</td>\n",
       "      <td>-102.237096</td>\n",
       "      <td>0.970829</td>\n",
       "    </tr>\n",
       "    <tr>\n",
       "      <th>9</th>\n",
       "      <td>4</td>\n",
       "      <td>0.737323</td>\n",
       "      <td>-82.241002</td>\n",
       "      <td>0.954590</td>\n",
       "    </tr>\n",
       "    <tr>\n",
       "      <th>10</th>\n",
       "      <td>5</td>\n",
       "      <td>0.545285</td>\n",
       "      <td>-93.720340</td>\n",
       "      <td>0.952389</td>\n",
       "    </tr>\n",
       "    <tr>\n",
       "      <th>11</th>\n",
       "      <td>6</td>\n",
       "      <td>0.496506</td>\n",
       "      <td>-65.240105</td>\n",
       "      <td>0.932210</td>\n",
       "    </tr>\n",
       "    <tr>\n",
       "      <th>12</th>\n",
       "      <td>7</td>\n",
       "      <td>0.575902</td>\n",
       "      <td>-67.148372</td>\n",
       "      <td>0.894189</td>\n",
       "    </tr>\n",
       "    <tr>\n",
       "      <th>13</th>\n",
       "      <td>8</td>\n",
       "      <td>0.401376</td>\n",
       "      <td>-61.452538</td>\n",
       "      <td>0.930419</td>\n",
       "    </tr>\n",
       "    <tr>\n",
       "      <th>14</th>\n",
       "      <td>9</td>\n",
       "      <td>0.393705</td>\n",
       "      <td>-55.981649</td>\n",
       "      <td>0.924551</td>\n",
       "    </tr>\n",
       "  </tbody>\n",
       "</table>\n",
       "</div>"
      ]
     },
     "execution_count": 59,
     "metadata": {},
     "output_type": "execute_result"
    }
   ],
   "execution_count": 59
  },
  {
   "metadata": {},
   "cell_type": "code",
   "outputs": [],
   "execution_count": null,
   "source": "",
   "id": "a365d4ae5ad0ca2e"
  }
 ],
 "metadata": {
  "kernelspec": {
   "display_name": "Python 3",
   "language": "python",
   "name": "python3"
  },
  "language_info": {
   "codemirror_mode": {
    "name": "ipython",
    "version": 2
   },
   "file_extension": ".py",
   "mimetype": "text/x-python",
   "name": "python",
   "nbconvert_exporter": "python",
   "pygments_lexer": "ipython2",
   "version": "2.7.6"
  }
 },
 "nbformat": 4,
 "nbformat_minor": 5
}
