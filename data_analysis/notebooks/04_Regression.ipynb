{
 "cells": [
  {
   "metadata": {},
   "cell_type": "markdown",
   "source": [
    "En este notebook se realizará la implementación de un modelo de regresión lineal o multiple para predecir el rendimiento de un cultivo con base a diferentes\n",
    "varaibles predictoras."
   ],
   "id": "c5374fbdd1c8223d"
  },
  {
   "metadata": {
    "ExecuteTime": {
     "end_time": "2024-04-14T21:57:02.891400Z",
     "start_time": "2024-04-14T21:57:02.882208Z"
    }
   },
   "cell_type": "code",
   "source": "# Importar librerias",
   "id": "4b10706fdd89342f",
   "outputs": [],
   "execution_count": 1
  },
  {
   "metadata": {
    "ExecuteTime": {
     "end_time": "2024-04-15T02:00:27.324470Z",
     "start_time": "2024-04-15T02:00:26.033587Z"
    }
   },
   "cell_type": "code",
   "source": [
    "import pandas as pd\n",
    "import geopandas as gpd\n",
    "import os\n",
    "from pathlib import PurePath\n",
    "import statsmodels.api as sm\n",
    "from statsmodels.tools.eval_measures import mse, rmse\n",
    "from sklearn.model_selection import train_test_split\n",
    "from sklearn.metrics import mean_squared_error, r2_score\n",
    "import seaborn as sns"
   ],
   "id": "e96994dbda3b0248",
   "outputs": [],
   "execution_count": 106
  },
  {
   "metadata": {},
   "cell_type": "markdown",
   "source": "## Cargar datos",
   "id": "94cb1de956f03777"
  },
  {
   "metadata": {
    "ExecuteTime": {
     "end_time": "2024-04-14T22:09:37.082Z",
     "start_time": "2024-04-14T22:09:36.941448Z"
    }
   },
   "cell_type": "code",
   "source": [
    "vis_22 = r\"C:\\Users\\Isai\\Documents\\Tesis\\code\\data_analysis\\all_vars\\zafra2022\"\n",
    "gdf = gpd.read_file(r\"C:\\Users\\Isai\\Documents\\Tesis\\code\\Parcelas\\poligonos_parcelas.geojson\")"
   ],
   "id": "51c67f60523ebf97",
   "outputs": [],
   "execution_count": 4
  },
  {
   "metadata": {
    "ExecuteTime": {
     "end_time": "2024-04-15T02:16:40.212903Z",
     "start_time": "2024-04-15T02:16:40.203662Z"
    }
   },
   "cell_type": "code",
   "source": [
    "vis_df = pd.DataFrame(columns=[\n",
    "    'parcela',\n",
    "    'vis_value',\n",
    "    'precip',\n",
    "    'etc', \n",
    "    'dias'\n",
    "])"
   ],
   "id": "2956f045136908f7",
   "outputs": [],
   "execution_count": 124
  },
  {
   "metadata": {
    "ExecuteTime": {
     "end_time": "2024-04-15T02:16:51.515738Z",
     "start_time": "2024-04-15T02:16:51.359713Z"
    }
   },
   "cell_type": "code",
   "source": [
    "for i in os.listdir(vis_22):\n",
    "    if i.endswith('.csv'):\n",
    "        df = pd.read_csv(PurePath(vis_22, i))\n",
    "        df['Fecha'] = pd.to_datetime(df['Fecha'])\n",
    "        parcela_id = int(i.split('_')[1].split('.')[0])\n",
    "        id_max_value = df['ndvi'].idxmax()\n",
    "        date_max_value = df.loc[id_max_value, 'Fecha']\n",
    "        print(parcela_id, date_max_value)\n",
    "        vis_value = df.loc[id_max_value, 'ndvi']\n",
    "        lluvia = df.loc[id_max_value, 'precip_acum']\n",
    "        etc_acum = df.loc[id_max_value, 'etc_acum']\n",
    "        days = (date_max_value - df['Fecha'].min()).days\n",
    "        \n",
    "        \n",
    "        vis_df = vis_df._append({\n",
    "            'parcela': parcela_id,\n",
    "            'vis_value': vis_value,\n",
    "            'precip': lluvia,\n",
    "            'etc': etc_acum,\n",
    "            'dias': days\n",
    "        }, ignore_index=True)"
   ],
   "id": "f8c8e72d076169b1",
   "outputs": [
    {
     "name": "stdout",
     "output_type": "stream",
     "text": [
      "1 2022-10-25 00:00:00\n",
      "10 2022-10-13 00:00:00\n",
      "11 2022-09-30 00:00:00\n",
      "13 2022-11-13 00:00:00\n",
      "14 2022-11-19 00:00:00\n",
      "15 2022-11-25 00:00:00\n",
      "16 2022-11-16 00:00:00\n",
      "2 2022-11-22 00:00:00\n",
      "3 2022-10-11 00:00:00\n",
      "4 2022-11-28 00:00:00\n",
      "5 2022-11-06 00:00:00\n",
      "6 2022-12-08 00:00:00\n",
      "7 2022-09-29 00:00:00\n",
      "8 2022-12-05 00:00:00\n",
      "9 2022-12-07 00:00:00\n"
     ]
    },
    {
     "name": "stderr",
     "output_type": "stream",
     "text": [
      "C:\\Users\\Isai\\AppData\\Local\\Temp\\ipykernel_3956\\1495001679.py:15: FutureWarning: The behavior of DataFrame concatenation with empty or all-NA entries is deprecated. In a future version, this will no longer exclude empty or all-NA columns when determining the result dtypes. To retain the old behavior, exclude the relevant entries before the concat operation.\n",
      "  vis_df = vis_df._append({\n"
     ]
    }
   ],
   "execution_count": 125
  },
  {
   "metadata": {
    "ExecuteTime": {
     "end_time": "2024-04-14T22:19:55.858715Z",
     "start_time": "2024-04-14T22:19:55.849262Z"
    }
   },
   "cell_type": "code",
   "source": "merged_df = pd.merge(gdf, vis_df, left_on='Id', right_on='parcela', how='inner')",
   "id": "a10ed8105ddb9289",
   "outputs": [],
   "execution_count": 23
  },
  {
   "metadata": {
    "ExecuteTime": {
     "end_time": "2024-04-14T22:20:32.689445Z",
     "start_time": "2024-04-14T22:20:32.684020Z"
    }
   },
   "cell_type": "code",
   "source": "merged_df.drop(columns=['Productor', 'Ciclo', 'Riego', 'Variedad', 'Siembra', 'Cosecha', 'geometry'], inplace=True)",
   "id": "e4321d165abd2256",
   "outputs": [],
   "execution_count": 25
  },
  {
   "metadata": {
    "ExecuteTime": {
     "end_time": "2024-04-14T22:20:43.158580Z",
     "start_time": "2024-04-14T22:20:43.140311Z"
    }
   },
   "cell_type": "code",
   "source": "merged_df.corr(method='pearson')",
   "id": "1120f5f612756506",
   "outputs": [
    {
     "data": {
      "text/plain": [
       "                   Id  Rendimiento   parcela  vis_value    precip       etc  \\\n",
       "Id           1.000000    -0.244834  1.000000  -0.213486  0.179818 -0.086144   \n",
       "Rendimiento -0.244834     1.000000 -0.244834   0.895832 -0.530568  0.150955   \n",
       "parcela      1.000000    -0.244834  1.000000  -0.213486  0.179818 -0.086144   \n",
       "vis_value   -0.213486     0.895832 -0.213486   1.000000 -0.433723  0.231282   \n",
       "precip       0.179818    -0.530568  0.179818  -0.433723  1.000000 -0.235985   \n",
       "etc         -0.086144     0.150955 -0.086144   0.231282 -0.235985  1.000000   \n",
       "dias         0.097254    -0.060357  0.097254   0.014450  0.206619  0.871624   \n",
       "\n",
       "                 dias  \n",
       "Id           0.097254  \n",
       "Rendimiento -0.060357  \n",
       "parcela      0.097254  \n",
       "vis_value    0.014450  \n",
       "precip       0.206619  \n",
       "etc          0.871624  \n",
       "dias         1.000000  "
      ],
      "text/html": [
       "<div>\n",
       "<style scoped>\n",
       "    .dataframe tbody tr th:only-of-type {\n",
       "        vertical-align: middle;\n",
       "    }\n",
       "\n",
       "    .dataframe tbody tr th {\n",
       "        vertical-align: top;\n",
       "    }\n",
       "\n",
       "    .dataframe thead th {\n",
       "        text-align: right;\n",
       "    }\n",
       "</style>\n",
       "<table border=\"1\" class=\"dataframe\">\n",
       "  <thead>\n",
       "    <tr style=\"text-align: right;\">\n",
       "      <th></th>\n",
       "      <th>Id</th>\n",
       "      <th>Rendimiento</th>\n",
       "      <th>parcela</th>\n",
       "      <th>vis_value</th>\n",
       "      <th>precip</th>\n",
       "      <th>etc</th>\n",
       "      <th>dias</th>\n",
       "    </tr>\n",
       "  </thead>\n",
       "  <tbody>\n",
       "    <tr>\n",
       "      <th>Id</th>\n",
       "      <td>1.000000</td>\n",
       "      <td>-0.244834</td>\n",
       "      <td>1.000000</td>\n",
       "      <td>-0.213486</td>\n",
       "      <td>0.179818</td>\n",
       "      <td>-0.086144</td>\n",
       "      <td>0.097254</td>\n",
       "    </tr>\n",
       "    <tr>\n",
       "      <th>Rendimiento</th>\n",
       "      <td>-0.244834</td>\n",
       "      <td>1.000000</td>\n",
       "      <td>-0.244834</td>\n",
       "      <td>0.895832</td>\n",
       "      <td>-0.530568</td>\n",
       "      <td>0.150955</td>\n",
       "      <td>-0.060357</td>\n",
       "    </tr>\n",
       "    <tr>\n",
       "      <th>parcela</th>\n",
       "      <td>1.000000</td>\n",
       "      <td>-0.244834</td>\n",
       "      <td>1.000000</td>\n",
       "      <td>-0.213486</td>\n",
       "      <td>0.179818</td>\n",
       "      <td>-0.086144</td>\n",
       "      <td>0.097254</td>\n",
       "    </tr>\n",
       "    <tr>\n",
       "      <th>vis_value</th>\n",
       "      <td>-0.213486</td>\n",
       "      <td>0.895832</td>\n",
       "      <td>-0.213486</td>\n",
       "      <td>1.000000</td>\n",
       "      <td>-0.433723</td>\n",
       "      <td>0.231282</td>\n",
       "      <td>0.014450</td>\n",
       "    </tr>\n",
       "    <tr>\n",
       "      <th>precip</th>\n",
       "      <td>0.179818</td>\n",
       "      <td>-0.530568</td>\n",
       "      <td>0.179818</td>\n",
       "      <td>-0.433723</td>\n",
       "      <td>1.000000</td>\n",
       "      <td>-0.235985</td>\n",
       "      <td>0.206619</td>\n",
       "    </tr>\n",
       "    <tr>\n",
       "      <th>etc</th>\n",
       "      <td>-0.086144</td>\n",
       "      <td>0.150955</td>\n",
       "      <td>-0.086144</td>\n",
       "      <td>0.231282</td>\n",
       "      <td>-0.235985</td>\n",
       "      <td>1.000000</td>\n",
       "      <td>0.871624</td>\n",
       "    </tr>\n",
       "    <tr>\n",
       "      <th>dias</th>\n",
       "      <td>0.097254</td>\n",
       "      <td>-0.060357</td>\n",
       "      <td>0.097254</td>\n",
       "      <td>0.014450</td>\n",
       "      <td>0.206619</td>\n",
       "      <td>0.871624</td>\n",
       "      <td>1.000000</td>\n",
       "    </tr>\n",
       "  </tbody>\n",
       "</table>\n",
       "</div>"
      ]
     },
     "execution_count": 26,
     "metadata": {},
     "output_type": "execute_result"
    }
   ],
   "execution_count": 26
  },
  {
   "metadata": {},
   "cell_type": "markdown",
   "source": "## Modelo de regresión lineal",
   "id": "ee6932d53cb8a462"
  },
  {
   "metadata": {
    "ExecuteTime": {
     "end_time": "2024-04-15T04:00:07.900482Z",
     "start_time": "2024-04-15T04:00:07.896256Z"
    }
   },
   "cell_type": "code",
   "source": [
    "X = merged_df['vis_value']\n",
    "y = merged_df['Rendimiento']"
   ],
   "id": "ab560c3b5ab9edf6",
   "outputs": [],
   "execution_count": 146
  },
  {
   "metadata": {
    "ExecuteTime": {
     "end_time": "2024-04-15T04:00:08.206073Z",
     "start_time": "2024-04-15T04:00:08.197507Z"
    }
   },
   "cell_type": "code",
   "source": "X_train, X_test, y_train, y_test = train_test_split(X, y, test_size=0.2, random_state=42)",
   "id": "ec2f77e28cc683ac",
   "outputs": [],
   "execution_count": 147
  },
  {
   "metadata": {
    "ExecuteTime": {
     "end_time": "2024-04-15T04:00:08.507658Z",
     "start_time": "2024-04-15T04:00:08.500256Z"
    }
   },
   "cell_type": "code",
   "source": "X_train = sm.add_constant(X_train)",
   "id": "d4e1ed804a861c1a",
   "outputs": [],
   "execution_count": 148
  },
  {
   "metadata": {
    "ExecuteTime": {
     "end_time": "2024-04-15T04:00:08.843210Z",
     "start_time": "2024-04-15T04:00:08.837763Z"
    }
   },
   "cell_type": "code",
   "source": "model = sm.OLS(y_train, X_train).fit()",
   "id": "d0c0cb4dced58b2",
   "outputs": [],
   "execution_count": 149
  },
  {
   "metadata": {
    "ExecuteTime": {
     "end_time": "2024-04-15T04:00:09.284219Z",
     "start_time": "2024-04-15T04:00:09.260446Z"
    }
   },
   "cell_type": "code",
   "source": "model.summary()",
   "id": "25215b561c84b1a9",
   "outputs": [
    {
     "name": "stderr",
     "output_type": "stream",
     "text": [
      "C:\\Users\\Isai\\Documents\\Tesis\\code\\.venv\\Lib\\site-packages\\scipy\\stats\\_stats_py.py:1971: UserWarning: kurtosistest only valid for n>=20 ... continuing anyway, n=12\n",
      "  k, _ = kurtosistest(a, axis)\n"
     ]
    },
    {
     "data": {
      "text/plain": [
       "<class 'statsmodels.iolib.summary.Summary'>\n",
       "\"\"\"\n",
       "                            OLS Regression Results                            \n",
       "==============================================================================\n",
       "Dep. Variable:            Rendimiento   R-squared:                       0.819\n",
       "Model:                            OLS   Adj. R-squared:                  0.801\n",
       "Method:                 Least Squares   F-statistic:                     45.26\n",
       "Date:                Sun, 14 Apr 2024   Prob (F-statistic):           5.18e-05\n",
       "Time:                        22:00:09   Log-Likelihood:                -39.832\n",
       "No. Observations:                  12   AIC:                             83.66\n",
       "Df Residuals:                      10   BIC:                             84.63\n",
       "Df Model:                           1                                         \n",
       "Covariance Type:            nonrobust                                         \n",
       "==============================================================================\n",
       "                 coef    std err          t      P>|t|      [0.025      0.975]\n",
       "------------------------------------------------------------------------------\n",
       "const       -131.3543     28.768     -4.566      0.001    -195.453     -67.256\n",
       "vis_value    259.9565     38.639      6.728      0.000     173.864     346.049\n",
       "==============================================================================\n",
       "Omnibus:                        3.048   Durbin-Watson:                   1.755\n",
       "Prob(Omnibus):                  0.218   Jarque-Bera (JB):                1.834\n",
       "Skew:                          -0.943   Prob(JB):                        0.400\n",
       "Kurtosis:                       2.662   Cond. No.                         28.4\n",
       "==============================================================================\n",
       "\n",
       "Notes:\n",
       "[1] Standard Errors assume that the covariance matrix of the errors is correctly specified.\n",
       "\"\"\""
      ],
      "text/html": [
       "<table class=\"simpletable\">\n",
       "<caption>OLS Regression Results</caption>\n",
       "<tr>\n",
       "  <th>Dep. Variable:</th>       <td>Rendimiento</td>   <th>  R-squared:         </th> <td>   0.819</td>\n",
       "</tr>\n",
       "<tr>\n",
       "  <th>Model:</th>                   <td>OLS</td>       <th>  Adj. R-squared:    </th> <td>   0.801</td>\n",
       "</tr>\n",
       "<tr>\n",
       "  <th>Method:</th>             <td>Least Squares</td>  <th>  F-statistic:       </th> <td>   45.26</td>\n",
       "</tr>\n",
       "<tr>\n",
       "  <th>Date:</th>             <td>Sun, 14 Apr 2024</td> <th>  Prob (F-statistic):</th> <td>5.18e-05</td>\n",
       "</tr>\n",
       "<tr>\n",
       "  <th>Time:</th>                 <td>22:00:09</td>     <th>  Log-Likelihood:    </th> <td> -39.832</td>\n",
       "</tr>\n",
       "<tr>\n",
       "  <th>No. Observations:</th>      <td>    12</td>      <th>  AIC:               </th> <td>   83.66</td>\n",
       "</tr>\n",
       "<tr>\n",
       "  <th>Df Residuals:</th>          <td>    10</td>      <th>  BIC:               </th> <td>   84.63</td>\n",
       "</tr>\n",
       "<tr>\n",
       "  <th>Df Model:</th>              <td>     1</td>      <th>                     </th>     <td> </td>   \n",
       "</tr>\n",
       "<tr>\n",
       "  <th>Covariance Type:</th>      <td>nonrobust</td>    <th>                     </th>     <td> </td>   \n",
       "</tr>\n",
       "</table>\n",
       "<table class=\"simpletable\">\n",
       "<tr>\n",
       "      <td></td>         <th>coef</th>     <th>std err</th>      <th>t</th>      <th>P>|t|</th>  <th>[0.025</th>    <th>0.975]</th>  \n",
       "</tr>\n",
       "<tr>\n",
       "  <th>const</th>     <td> -131.3543</td> <td>   28.768</td> <td>   -4.566</td> <td> 0.001</td> <td> -195.453</td> <td>  -67.256</td>\n",
       "</tr>\n",
       "<tr>\n",
       "  <th>vis_value</th> <td>  259.9565</td> <td>   38.639</td> <td>    6.728</td> <td> 0.000</td> <td>  173.864</td> <td>  346.049</td>\n",
       "</tr>\n",
       "</table>\n",
       "<table class=\"simpletable\">\n",
       "<tr>\n",
       "  <th>Omnibus:</th>       <td> 3.048</td> <th>  Durbin-Watson:     </th> <td>   1.755</td>\n",
       "</tr>\n",
       "<tr>\n",
       "  <th>Prob(Omnibus):</th> <td> 0.218</td> <th>  Jarque-Bera (JB):  </th> <td>   1.834</td>\n",
       "</tr>\n",
       "<tr>\n",
       "  <th>Skew:</th>          <td>-0.943</td> <th>  Prob(JB):          </th> <td>   0.400</td>\n",
       "</tr>\n",
       "<tr>\n",
       "  <th>Kurtosis:</th>      <td> 2.662</td> <th>  Cond. No.          </th> <td>    28.4</td>\n",
       "</tr>\n",
       "</table><br/><br/>Notes:<br/>[1] Standard Errors assume that the covariance matrix of the errors is correctly specified."
      ],
      "text/latex": "\\begin{center}\n\\begin{tabular}{lclc}\n\\toprule\n\\textbf{Dep. Variable:}    &   Rendimiento    & \\textbf{  R-squared:         } &     0.819   \\\\\n\\textbf{Model:}            &       OLS        & \\textbf{  Adj. R-squared:    } &     0.801   \\\\\n\\textbf{Method:}           &  Least Squares   & \\textbf{  F-statistic:       } &     45.26   \\\\\n\\textbf{Date:}             & Sun, 14 Apr 2024 & \\textbf{  Prob (F-statistic):} &  5.18e-05   \\\\\n\\textbf{Time:}             &     22:00:09     & \\textbf{  Log-Likelihood:    } &   -39.832   \\\\\n\\textbf{No. Observations:} &          12      & \\textbf{  AIC:               } &     83.66   \\\\\n\\textbf{Df Residuals:}     &          10      & \\textbf{  BIC:               } &     84.63   \\\\\n\\textbf{Df Model:}         &           1      & \\textbf{                     } &             \\\\\n\\textbf{Covariance Type:}  &    nonrobust     & \\textbf{                     } &             \\\\\n\\bottomrule\n\\end{tabular}\n\\begin{tabular}{lcccccc}\n                    & \\textbf{coef} & \\textbf{std err} & \\textbf{t} & \\textbf{P$> |$t$|$} & \\textbf{[0.025} & \\textbf{0.975]}  \\\\\n\\midrule\n\\textbf{const}      &    -131.3543  &       28.768     &    -4.566  &         0.001        &     -195.453    &      -67.256     \\\\\n\\textbf{vis\\_value} &     259.9565  &       38.639     &     6.728  &         0.000        &      173.864    &      346.049     \\\\\n\\bottomrule\n\\end{tabular}\n\\begin{tabular}{lclc}\n\\textbf{Omnibus:}       &  3.048 & \\textbf{  Durbin-Watson:     } &    1.755  \\\\\n\\textbf{Prob(Omnibus):} &  0.218 & \\textbf{  Jarque-Bera (JB):  } &    1.834  \\\\\n\\textbf{Skew:}          & -0.943 & \\textbf{  Prob(JB):          } &    0.400  \\\\\n\\textbf{Kurtosis:}      &  2.662 & \\textbf{  Cond. No.          } &     28.4  \\\\\n\\bottomrule\n\\end{tabular}\n%\\caption{OLS Regression Results}\n\\end{center}\n\nNotes: \\newline\n [1] Standard Errors assume that the covariance matrix of the errors is correctly specified."
     },
     "execution_count": 150,
     "metadata": {},
     "output_type": "execute_result"
    }
   ],
   "execution_count": 150
  },
  {
   "metadata": {
    "ExecuteTime": {
     "end_time": "2024-04-15T04:00:11.016793Z",
     "start_time": "2024-04-15T04:00:11.009901Z"
    }
   },
   "cell_type": "code",
   "source": [
    "X_test = sm.add_constant(X_test)\n",
    "y_pred = model.predict(X_test)"
   ],
   "id": "652e5de9cea41a6a",
   "outputs": [],
   "execution_count": 151
  },
  {
   "metadata": {
    "ExecuteTime": {
     "end_time": "2024-04-15T04:00:11.816667Z",
     "start_time": "2024-04-15T04:00:11.810835Z"
    }
   },
   "cell_type": "code",
   "source": "print(model.mse_total)",
   "id": "ed2371be9775df42",
   "outputs": [
    {
     "name": "stdout",
     "output_type": "stream",
     "text": [
      "269.69696969696963\n"
     ]
    }
   ],
   "execution_count": 152
  },
  {
   "metadata": {
    "ExecuteTime": {
     "end_time": "2024-04-15T04:00:12.553618Z",
     "start_time": "2024-04-15T04:00:12.542621Z"
    }
   },
   "cell_type": "code",
   "source": "mean_squared_error(model.predict(sm.add_constant(X)), y)",
   "id": "bdbd3a9040d13528",
   "outputs": [
    {
     "data": {
      "text/plain": [
       "56.25643141484825"
      ]
     },
     "execution_count": 153,
     "metadata": {},
     "output_type": "execute_result"
    }
   ],
   "execution_count": 153
  },
  {
   "metadata": {
    "ExecuteTime": {
     "end_time": "2024-04-15T04:00:13.114044Z",
     "start_time": "2024-04-15T04:00:13.105024Z"
    }
   },
   "cell_type": "code",
   "source": "mse(y, model.predict(sm.add_constant(X)))",
   "id": "83eb059dc4992e94",
   "outputs": [
    {
     "data": {
      "text/plain": [
       "56.25643141484825"
      ]
     },
     "execution_count": 154,
     "metadata": {},
     "output_type": "execute_result"
    }
   ],
   "execution_count": 154
  },
  {
   "metadata": {
    "ExecuteTime": {
     "end_time": "2024-04-15T04:00:13.587579Z",
     "start_time": "2024-04-15T04:00:13.578205Z"
    }
   },
   "cell_type": "code",
   "source": "rmse(y, model.predict(sm.add_constant(X)))",
   "id": "f71329f08355afac",
   "outputs": [
    {
     "data": {
      "text/plain": [
       "7.500428748734851"
      ]
     },
     "execution_count": 155,
     "metadata": {},
     "output_type": "execute_result"
    }
   ],
   "execution_count": 155
  },
  {
   "metadata": {
    "ExecuteTime": {
     "end_time": "2024-04-15T04:00:14.167430Z",
     "start_time": "2024-04-15T04:00:14.160973Z"
    }
   },
   "cell_type": "code",
   "source": [
    "data = pd.DataFrame({\n",
    "    'y': y,\n",
    "    'y_pred': model.predict(sm.add_constant(X))\n",
    "})"
   ],
   "id": "26b69086920be155",
   "outputs": [],
   "execution_count": 156
  },
  {
   "metadata": {
    "ExecuteTime": {
     "end_time": "2024-04-15T04:00:15.076288Z",
     "start_time": "2024-04-15T04:00:15.065544Z"
    }
   },
   "cell_type": "code",
   "source": "data",
   "id": "e0089fadaec28123",
   "outputs": [
    {
     "data": {
      "text/plain": [
       "     y     y_pred\n",
       "0   48  36.455172\n",
       "1   60  70.328160\n",
       "2   45  44.426993\n",
       "3   50  64.478570\n",
       "4   75  69.478924\n",
       "5   75  68.432860\n",
       "6   75  74.519684\n",
       "7   75  68.096597\n",
       "8   75  69.129089\n",
       "9   75  69.807213\n",
       "10  75  70.816617\n",
       "11  30  42.115242\n",
       "12  50  49.669336\n",
       "13  60  66.736258\n",
       "14  25  23.886911"
      ],
      "text/html": [
       "<div>\n",
       "<style scoped>\n",
       "    .dataframe tbody tr th:only-of-type {\n",
       "        vertical-align: middle;\n",
       "    }\n",
       "\n",
       "    .dataframe tbody tr th {\n",
       "        vertical-align: top;\n",
       "    }\n",
       "\n",
       "    .dataframe thead th {\n",
       "        text-align: right;\n",
       "    }\n",
       "</style>\n",
       "<table border=\"1\" class=\"dataframe\">\n",
       "  <thead>\n",
       "    <tr style=\"text-align: right;\">\n",
       "      <th></th>\n",
       "      <th>y</th>\n",
       "      <th>y_pred</th>\n",
       "    </tr>\n",
       "  </thead>\n",
       "  <tbody>\n",
       "    <tr>\n",
       "      <th>0</th>\n",
       "      <td>48</td>\n",
       "      <td>36.455172</td>\n",
       "    </tr>\n",
       "    <tr>\n",
       "      <th>1</th>\n",
       "      <td>60</td>\n",
       "      <td>70.328160</td>\n",
       "    </tr>\n",
       "    <tr>\n",
       "      <th>2</th>\n",
       "      <td>45</td>\n",
       "      <td>44.426993</td>\n",
       "    </tr>\n",
       "    <tr>\n",
       "      <th>3</th>\n",
       "      <td>50</td>\n",
       "      <td>64.478570</td>\n",
       "    </tr>\n",
       "    <tr>\n",
       "      <th>4</th>\n",
       "      <td>75</td>\n",
       "      <td>69.478924</td>\n",
       "    </tr>\n",
       "    <tr>\n",
       "      <th>5</th>\n",
       "      <td>75</td>\n",
       "      <td>68.432860</td>\n",
       "    </tr>\n",
       "    <tr>\n",
       "      <th>6</th>\n",
       "      <td>75</td>\n",
       "      <td>74.519684</td>\n",
       "    </tr>\n",
       "    <tr>\n",
       "      <th>7</th>\n",
       "      <td>75</td>\n",
       "      <td>68.096597</td>\n",
       "    </tr>\n",
       "    <tr>\n",
       "      <th>8</th>\n",
       "      <td>75</td>\n",
       "      <td>69.129089</td>\n",
       "    </tr>\n",
       "    <tr>\n",
       "      <th>9</th>\n",
       "      <td>75</td>\n",
       "      <td>69.807213</td>\n",
       "    </tr>\n",
       "    <tr>\n",
       "      <th>10</th>\n",
       "      <td>75</td>\n",
       "      <td>70.816617</td>\n",
       "    </tr>\n",
       "    <tr>\n",
       "      <th>11</th>\n",
       "      <td>30</td>\n",
       "      <td>42.115242</td>\n",
       "    </tr>\n",
       "    <tr>\n",
       "      <th>12</th>\n",
       "      <td>50</td>\n",
       "      <td>49.669336</td>\n",
       "    </tr>\n",
       "    <tr>\n",
       "      <th>13</th>\n",
       "      <td>60</td>\n",
       "      <td>66.736258</td>\n",
       "    </tr>\n",
       "    <tr>\n",
       "      <th>14</th>\n",
       "      <td>25</td>\n",
       "      <td>23.886911</td>\n",
       "    </tr>\n",
       "  </tbody>\n",
       "</table>\n",
       "</div>"
      ]
     },
     "execution_count": 157,
     "metadata": {},
     "output_type": "execute_result"
    }
   ],
   "execution_count": 157
  },
  {
   "metadata": {
    "ExecuteTime": {
     "end_time": "2024-04-15T04:00:16.211155Z",
     "start_time": "2024-04-15T04:00:16.203665Z"
    }
   },
   "cell_type": "code",
   "source": "merged_df['pred'] = model.predict(sm.add_constant(X))",
   "id": "1848d63eb3d4e40",
   "outputs": [],
   "execution_count": 158
  },
  {
   "metadata": {
    "ExecuteTime": {
     "end_time": "2024-04-15T04:00:17.078045Z",
     "start_time": "2024-04-15T04:00:17.057695Z"
    }
   },
   "cell_type": "code",
   "source": "merged_df",
   "id": "c5a79c3c24d407c3",
   "outputs": [
    {
     "data": {
      "text/plain": [
       "    Id  Rendimiento  parcela  vis_value  precip          etc   dias       pred\n",
       "0    1           48      1.0   0.645529  582.23   826.524579  222.0  36.455172\n",
       "1    2           60      2.0   0.775832  564.31   830.085568  205.0  70.328160\n",
       "2    3           45      3.0   0.676195  547.55   948.437513  223.0  44.426993\n",
       "3    4           50      4.0   0.753330  613.87   969.000817  256.0  64.478570\n",
       "4    5           75      5.0   0.772565  588.12   921.097184  229.0  69.478924\n",
       "5    6           75      6.0   0.768541  573.43   729.633043  206.0  68.432860\n",
       "6    7           75      7.0   0.791956  547.35  1016.987247  241.0  74.519684\n",
       "7    8           75      8.0   0.767247  571.98   696.859270  198.0  68.096597\n",
       "8    9           75      9.0   0.771219  572.84   693.788541  200.0  69.129089\n",
       "9   10           75     10.0   0.773828  558.62  1058.780065  255.0  69.807213\n",
       "10  11           75     11.0   0.777711  547.35  1043.041168  242.0  70.816617\n",
       "11  13           30     13.0   0.667302  597.18   824.900115  226.0  42.115242\n",
       "12  14           50     14.0   0.696361  604.58   965.992823  262.0  49.669336\n",
       "13  15           60     15.0   0.762014  564.96   808.632257  208.0  66.736258\n",
       "14  16           25     16.0   0.597182  596.73   731.115263  214.0  23.886911"
      ],
      "text/html": [
       "<div>\n",
       "<style scoped>\n",
       "    .dataframe tbody tr th:only-of-type {\n",
       "        vertical-align: middle;\n",
       "    }\n",
       "\n",
       "    .dataframe tbody tr th {\n",
       "        vertical-align: top;\n",
       "    }\n",
       "\n",
       "    .dataframe thead th {\n",
       "        text-align: right;\n",
       "    }\n",
       "</style>\n",
       "<table border=\"1\" class=\"dataframe\">\n",
       "  <thead>\n",
       "    <tr style=\"text-align: right;\">\n",
       "      <th></th>\n",
       "      <th>Id</th>\n",
       "      <th>Rendimiento</th>\n",
       "      <th>parcela</th>\n",
       "      <th>vis_value</th>\n",
       "      <th>precip</th>\n",
       "      <th>etc</th>\n",
       "      <th>dias</th>\n",
       "      <th>pred</th>\n",
       "    </tr>\n",
       "  </thead>\n",
       "  <tbody>\n",
       "    <tr>\n",
       "      <th>0</th>\n",
       "      <td>1</td>\n",
       "      <td>48</td>\n",
       "      <td>1.0</td>\n",
       "      <td>0.645529</td>\n",
       "      <td>582.23</td>\n",
       "      <td>826.524579</td>\n",
       "      <td>222.0</td>\n",
       "      <td>36.455172</td>\n",
       "    </tr>\n",
       "    <tr>\n",
       "      <th>1</th>\n",
       "      <td>2</td>\n",
       "      <td>60</td>\n",
       "      <td>2.0</td>\n",
       "      <td>0.775832</td>\n",
       "      <td>564.31</td>\n",
       "      <td>830.085568</td>\n",
       "      <td>205.0</td>\n",
       "      <td>70.328160</td>\n",
       "    </tr>\n",
       "    <tr>\n",
       "      <th>2</th>\n",
       "      <td>3</td>\n",
       "      <td>45</td>\n",
       "      <td>3.0</td>\n",
       "      <td>0.676195</td>\n",
       "      <td>547.55</td>\n",
       "      <td>948.437513</td>\n",
       "      <td>223.0</td>\n",
       "      <td>44.426993</td>\n",
       "    </tr>\n",
       "    <tr>\n",
       "      <th>3</th>\n",
       "      <td>4</td>\n",
       "      <td>50</td>\n",
       "      <td>4.0</td>\n",
       "      <td>0.753330</td>\n",
       "      <td>613.87</td>\n",
       "      <td>969.000817</td>\n",
       "      <td>256.0</td>\n",
       "      <td>64.478570</td>\n",
       "    </tr>\n",
       "    <tr>\n",
       "      <th>4</th>\n",
       "      <td>5</td>\n",
       "      <td>75</td>\n",
       "      <td>5.0</td>\n",
       "      <td>0.772565</td>\n",
       "      <td>588.12</td>\n",
       "      <td>921.097184</td>\n",
       "      <td>229.0</td>\n",
       "      <td>69.478924</td>\n",
       "    </tr>\n",
       "    <tr>\n",
       "      <th>5</th>\n",
       "      <td>6</td>\n",
       "      <td>75</td>\n",
       "      <td>6.0</td>\n",
       "      <td>0.768541</td>\n",
       "      <td>573.43</td>\n",
       "      <td>729.633043</td>\n",
       "      <td>206.0</td>\n",
       "      <td>68.432860</td>\n",
       "    </tr>\n",
       "    <tr>\n",
       "      <th>6</th>\n",
       "      <td>7</td>\n",
       "      <td>75</td>\n",
       "      <td>7.0</td>\n",
       "      <td>0.791956</td>\n",
       "      <td>547.35</td>\n",
       "      <td>1016.987247</td>\n",
       "      <td>241.0</td>\n",
       "      <td>74.519684</td>\n",
       "    </tr>\n",
       "    <tr>\n",
       "      <th>7</th>\n",
       "      <td>8</td>\n",
       "      <td>75</td>\n",
       "      <td>8.0</td>\n",
       "      <td>0.767247</td>\n",
       "      <td>571.98</td>\n",
       "      <td>696.859270</td>\n",
       "      <td>198.0</td>\n",
       "      <td>68.096597</td>\n",
       "    </tr>\n",
       "    <tr>\n",
       "      <th>8</th>\n",
       "      <td>9</td>\n",
       "      <td>75</td>\n",
       "      <td>9.0</td>\n",
       "      <td>0.771219</td>\n",
       "      <td>572.84</td>\n",
       "      <td>693.788541</td>\n",
       "      <td>200.0</td>\n",
       "      <td>69.129089</td>\n",
       "    </tr>\n",
       "    <tr>\n",
       "      <th>9</th>\n",
       "      <td>10</td>\n",
       "      <td>75</td>\n",
       "      <td>10.0</td>\n",
       "      <td>0.773828</td>\n",
       "      <td>558.62</td>\n",
       "      <td>1058.780065</td>\n",
       "      <td>255.0</td>\n",
       "      <td>69.807213</td>\n",
       "    </tr>\n",
       "    <tr>\n",
       "      <th>10</th>\n",
       "      <td>11</td>\n",
       "      <td>75</td>\n",
       "      <td>11.0</td>\n",
       "      <td>0.777711</td>\n",
       "      <td>547.35</td>\n",
       "      <td>1043.041168</td>\n",
       "      <td>242.0</td>\n",
       "      <td>70.816617</td>\n",
       "    </tr>\n",
       "    <tr>\n",
       "      <th>11</th>\n",
       "      <td>13</td>\n",
       "      <td>30</td>\n",
       "      <td>13.0</td>\n",
       "      <td>0.667302</td>\n",
       "      <td>597.18</td>\n",
       "      <td>824.900115</td>\n",
       "      <td>226.0</td>\n",
       "      <td>42.115242</td>\n",
       "    </tr>\n",
       "    <tr>\n",
       "      <th>12</th>\n",
       "      <td>14</td>\n",
       "      <td>50</td>\n",
       "      <td>14.0</td>\n",
       "      <td>0.696361</td>\n",
       "      <td>604.58</td>\n",
       "      <td>965.992823</td>\n",
       "      <td>262.0</td>\n",
       "      <td>49.669336</td>\n",
       "    </tr>\n",
       "    <tr>\n",
       "      <th>13</th>\n",
       "      <td>15</td>\n",
       "      <td>60</td>\n",
       "      <td>15.0</td>\n",
       "      <td>0.762014</td>\n",
       "      <td>564.96</td>\n",
       "      <td>808.632257</td>\n",
       "      <td>208.0</td>\n",
       "      <td>66.736258</td>\n",
       "    </tr>\n",
       "    <tr>\n",
       "      <th>14</th>\n",
       "      <td>16</td>\n",
       "      <td>25</td>\n",
       "      <td>16.0</td>\n",
       "      <td>0.597182</td>\n",
       "      <td>596.73</td>\n",
       "      <td>731.115263</td>\n",
       "      <td>214.0</td>\n",
       "      <td>23.886911</td>\n",
       "    </tr>\n",
       "  </tbody>\n",
       "</table>\n",
       "</div>"
      ]
     },
     "execution_count": 159,
     "metadata": {},
     "output_type": "execute_result"
    }
   ],
   "execution_count": 159
  },
  {
   "metadata": {
    "ExecuteTime": {
     "end_time": "2024-04-15T04:00:20.678193Z",
     "start_time": "2024-04-15T04:00:20.342423Z"
    }
   },
   "cell_type": "code",
   "source": "sns.lmplot(x='Rendimiento', y='pred', data=merged_df)",
   "id": "f12ada4929c4c900",
   "outputs": [
    {
     "data": {
      "text/plain": [
       "<seaborn.axisgrid.FacetGrid at 0x179c3c67e00>"
      ]
     },
     "execution_count": 160,
     "metadata": {},
     "output_type": "execute_result"
    },
    {
     "data": {
      "text/plain": [
       "<Figure size 500x500 with 1 Axes>"
      ],
      "image/png": "[encoded data removed]"
     },
     "metadata": {},
     "output_type": "display_data"
    }
   ],
   "execution_count": 160
  },
  {
   "metadata": {},
   "cell_type": "code",
   "outputs": [],
   "execution_count": null,
   "source": "",
   "id": "b4a1f7910ad3f20"
  }
 ],
 "metadata": {
  "kernelspec": {
   "display_name": "Python 3",
   "language": "python",
   "name": "python3"
  },
  "language_info": {
   "codemirror_mode": {
    "name": "ipython",
    "version": 2
   },
   "file_extension": ".py",
   "mimetype": "text/x-python",
   "name": "python",
   "nbconvert_exporter": "python",
   "pygments_lexer": "ipython2",
   "version": "2.7.6"
  }
 },
 "nbformat": 4,
 "nbformat_minor": 5
}
