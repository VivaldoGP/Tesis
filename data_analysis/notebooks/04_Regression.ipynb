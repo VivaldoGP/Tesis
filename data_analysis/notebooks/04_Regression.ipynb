{
 "cells": [
  {
   "cell_type": "markdown",
   "id": "c5374fbdd1c8223d",
   "metadata": {},
   "source": [
    "En este notebook se realizará la implementación de un modelo de regresión lineal o multiple para predecir el rendimiento de un cultivo con base a diferentes\n",
    "varaibles predictoras."
   ]
  },
  {
   "cell_type": "code",
   "execution_count": 1,
   "id": "4b10706fdd89342f",
   "metadata": {
    "ExecuteTime": {
     "end_time": "2024-04-16T08:05:24.390279Z",
     "start_time": "2024-04-16T08:05:24.385523Z"
    }
   },
   "outputs": [],
   "source": [
    "# Importar librerias"
   ]
  },
  {
   "cell_type": "code",
   "execution_count": 1,
   "id": "e96994dbda3b0248",
   "metadata": {
    "ExecuteTime": {
     "end_time": "2024-04-16T18:02:53.517802Z",
     "start_time": "2024-04-16T18:02:52.334952Z"
    }
   },
   "outputs": [],
   "source": [
    "import pandas as pd\n",
    "import geopandas as gpd\n",
    "import os\n",
    "from pathlib import PurePath\n",
    "import statsmodels.api as sm\n",
    "from statsmodels.tools.eval_measures import mse, rmse\n",
    "from sklearn.model_selection import train_test_split\n",
    "from sklearn.metrics import mean_squared_error, r2_score\n",
    "import seaborn as sns\n",
    "import matplotlib.pyplot as plt"
   ]
  },
  {
   "cell_type": "markdown",
   "id": "94cb1de956f03777",
   "metadata": {},
   "source": [
    "## Cargar datos"
   ]
  },
  {
   "cell_type": "code",
   "execution_count": 2,
   "id": "51c67f60523ebf97",
   "metadata": {
    "ExecuteTime": {
     "end_time": "2024-04-16T18:02:56.447425Z",
     "start_time": "2024-04-16T18:02:56.018445Z"
    }
   },
   "outputs": [],
   "source": [
    "vis_22 = r\"C:\\Users\\Isai\\Documents\\Tesis\\code\\data_analysis\\all_vars\\zafra2022\"\n",
    "gdf = gpd.read_file(r\"C:\\Users\\Isai\\Documents\\Tesis\\code\\Parcelas\\poligonos_parcelas.geojson\")"
   ]
  },
  {
   "cell_type": "code",
   "execution_count": 3,
   "id": "2956f045136908f7",
   "metadata": {
    "ExecuteTime": {
     "end_time": "2024-04-16T18:02:56.771418Z",
     "start_time": "2024-04-16T18:02:56.765024Z"
    }
   },
   "outputs": [],
   "source": [
    "vis_df = pd.DataFrame(columns=[\n",
    "    'parcela',\n",
    "    'vis_value',\n",
    "    'precip',\n",
    "    'etc', \n",
    "    'dias'\n",
    "])"
   ]
  },
  {
   "cell_type": "code",
   "execution_count": 4,
   "id": "f8c8e72d076169b1",
   "metadata": {
    "ExecuteTime": {
     "end_time": "2024-04-16T18:02:57.556710Z",
     "start_time": "2024-04-16T18:02:57.374144Z"
    }
   },
   "outputs": [
    {
     "name": "stdout",
     "output_type": "stream",
     "text": [
      "1 2022-10-25 00:00:00\n",
      "10 2022-10-13 00:00:00\n",
      "11 2022-09-30 00:00:00\n",
      "13 2022-11-13 00:00:00\n",
      "14 2022-11-19 00:00:00\n",
      "15 2022-11-25 00:00:00\n",
      "16 2022-11-16 00:00:00\n",
      "2 2022-11-22 00:00:00\n",
      "3 2022-10-11 00:00:00\n",
      "4 2022-11-28 00:00:00\n",
      "5 2022-11-06 00:00:00\n",
      "6 2022-12-08 00:00:00\n",
      "7 2022-09-29 00:00:00\n",
      "8 2022-12-05 00:00:00\n",
      "9 2022-12-07 00:00:00\n"
     ]
    },
    {
     "name": "stderr",
     "output_type": "stream",
     "text": [
      "C:\\Users\\Isai\\AppData\\Local\\Temp\\ipykernel_9076\\1799128995.py:15: FutureWarning: The behavior of DataFrame concatenation with empty or all-NA entries is deprecated. In a future version, this will no longer exclude empty or all-NA columns when determining the result dtypes. To retain the old behavior, exclude the relevant entries before the concat operation.\n",
      "  vis_df = vis_df._append({\n"
     ]
    }
   ],
   "source": [
    "for i in os.listdir(vis_22):\n",
    "    if i.endswith('.csv'):\n",
    "        df = pd.read_csv(PurePath(vis_22, i))\n",
    "        df['Fecha'] = pd.to_datetime(df['Fecha'])\n",
    "        parcela_id = int(i.split('_')[1].split('.')[0])\n",
    "        id_max_value = df['ndvi'].idxmax()\n",
    "        date_max_value = df.loc[id_max_value, 'Fecha']\n",
    "        print(parcela_id, date_max_value)\n",
    "        vis_value = df.loc[id_max_value, 'ndvi']\n",
    "        lluvia = df.loc[id_max_value, 'precip_acum']\n",
    "        etc_acum = df['etc'].sum()\n",
    "        days = (date_max_value - df['Fecha'].min()).days\n",
    "        \n",
    "        \n",
    "        vis_df = vis_df._append({\n",
    "            'parcela': parcela_id,\n",
    "            'vis_value': vis_value,\n",
    "            'precip': lluvia,\n",
    "            'etc': etc_acum,\n",
    "            'dias': days\n",
    "        }, ignore_index=True)"
   ]
  },
  {
   "cell_type": "code",
   "execution_count": 5,
   "id": "a10ed8105ddb9289",
   "metadata": {
    "ExecuteTime": {
     "end_time": "2024-04-16T18:02:58.716844Z",
     "start_time": "2024-04-16T18:02:58.704523Z"
    }
   },
   "outputs": [],
   "source": [
    "merged_df = pd.merge(gdf, vis_df, left_on='Id', right_on='parcela', how='inner')"
   ]
  },
  {
   "cell_type": "code",
   "execution_count": 6,
   "id": "e4321d165abd2256",
   "metadata": {
    "ExecuteTime": {
     "end_time": "2024-04-16T18:02:59.626970Z",
     "start_time": "2024-04-16T18:02:59.617725Z"
    }
   },
   "outputs": [],
   "source": [
    "merged_df.drop(columns=['Productor', 'Ciclo', 'Riego', 'Variedad', 'Siembra', 'Cosecha', 'geometry'], inplace=True)"
   ]
  },
  {
   "cell_type": "code",
   "execution_count": 7,
   "id": "1120f5f612756506",
   "metadata": {
    "ExecuteTime": {
     "end_time": "2024-04-16T18:03:00.291184Z",
     "start_time": "2024-04-16T18:03:00.267631Z"
    }
   },
   "outputs": [
    {
     "data": {
      "text/html": [
       "<div>\n",
       "<style scoped>\n",
       "    .dataframe tbody tr th:only-of-type {\n",
       "        vertical-align: middle;\n",
       "    }\n",
       "\n",
       "    .dataframe tbody tr th {\n",
       "        vertical-align: top;\n",
       "    }\n",
       "\n",
       "    .dataframe thead th {\n",
       "        text-align: right;\n",
       "    }\n",
       "</style>\n",
       "<table border=\"1\" class=\"dataframe\">\n",
       "  <thead>\n",
       "    <tr style=\"text-align: right;\">\n",
       "      <th></th>\n",
       "      <th>Id</th>\n",
       "      <th>Rendimiento</th>\n",
       "      <th>parcela</th>\n",
       "      <th>vis_value</th>\n",
       "      <th>precip</th>\n",
       "      <th>etc</th>\n",
       "      <th>dias</th>\n",
       "    </tr>\n",
       "  </thead>\n",
       "  <tbody>\n",
       "    <tr>\n",
       "      <th>Id</th>\n",
       "      <td>1.000000</td>\n",
       "      <td>-0.244834</td>\n",
       "      <td>1.000000</td>\n",
       "      <td>-0.213486</td>\n",
       "      <td>0.179818</td>\n",
       "      <td>-0.251858</td>\n",
       "      <td>0.097254</td>\n",
       "    </tr>\n",
       "    <tr>\n",
       "      <th>Rendimiento</th>\n",
       "      <td>-0.244834</td>\n",
       "      <td>1.000000</td>\n",
       "      <td>-0.244834</td>\n",
       "      <td>0.895832</td>\n",
       "      <td>-0.530568</td>\n",
       "      <td>0.612164</td>\n",
       "      <td>-0.060357</td>\n",
       "    </tr>\n",
       "    <tr>\n",
       "      <th>parcela</th>\n",
       "      <td>1.000000</td>\n",
       "      <td>-0.244834</td>\n",
       "      <td>1.000000</td>\n",
       "      <td>-0.213486</td>\n",
       "      <td>0.179818</td>\n",
       "      <td>-0.251858</td>\n",
       "      <td>0.097254</td>\n",
       "    </tr>\n",
       "    <tr>\n",
       "      <th>vis_value</th>\n",
       "      <td>-0.213486</td>\n",
       "      <td>0.895832</td>\n",
       "      <td>-0.213486</td>\n",
       "      <td>1.000000</td>\n",
       "      <td>-0.433723</td>\n",
       "      <td>0.427193</td>\n",
       "      <td>0.014450</td>\n",
       "    </tr>\n",
       "    <tr>\n",
       "      <th>precip</th>\n",
       "      <td>0.179818</td>\n",
       "      <td>-0.530568</td>\n",
       "      <td>0.179818</td>\n",
       "      <td>-0.433723</td>\n",
       "      <td>1.000000</td>\n",
       "      <td>-0.502967</td>\n",
       "      <td>0.206619</td>\n",
       "    </tr>\n",
       "    <tr>\n",
       "      <th>etc</th>\n",
       "      <td>-0.251858</td>\n",
       "      <td>0.612164</td>\n",
       "      <td>-0.251858</td>\n",
       "      <td>0.427193</td>\n",
       "      <td>-0.502967</td>\n",
       "      <td>1.000000</td>\n",
       "      <td>0.508103</td>\n",
       "    </tr>\n",
       "    <tr>\n",
       "      <th>dias</th>\n",
       "      <td>0.097254</td>\n",
       "      <td>-0.060357</td>\n",
       "      <td>0.097254</td>\n",
       "      <td>0.014450</td>\n",
       "      <td>0.206619</td>\n",
       "      <td>0.508103</td>\n",
       "      <td>1.000000</td>\n",
       "    </tr>\n",
       "  </tbody>\n",
       "</table>\n",
       "</div>"
      ],
      "text/plain": [
       "                   Id  Rendimiento   parcela  vis_value    precip       etc  \\\n",
       "Id           1.000000    -0.244834  1.000000  -0.213486  0.179818 -0.251858   \n",
       "Rendimiento -0.244834     1.000000 -0.244834   0.895832 -0.530568  0.612164   \n",
       "parcela      1.000000    -0.244834  1.000000  -0.213486  0.179818 -0.251858   \n",
       "vis_value   -0.213486     0.895832 -0.213486   1.000000 -0.433723  0.427193   \n",
       "precip       0.179818    -0.530568  0.179818  -0.433723  1.000000 -0.502967   \n",
       "etc         -0.251858     0.612164 -0.251858   0.427193 -0.502967  1.000000   \n",
       "dias         0.097254    -0.060357  0.097254   0.014450  0.206619  0.508103   \n",
       "\n",
       "                 dias  \n",
       "Id           0.097254  \n",
       "Rendimiento -0.060357  \n",
       "parcela      0.097254  \n",
       "vis_value    0.014450  \n",
       "precip       0.206619  \n",
       "etc          0.508103  \n",
       "dias         1.000000  "
      ]
     },
     "execution_count": 7,
     "metadata": {},
     "output_type": "execute_result"
    }
   ],
   "source": [
    "merged_df.corr(method='pearson')"
   ]
  },
  {
   "cell_type": "markdown",
   "id": "ee6932d53cb8a462",
   "metadata": {},
   "source": [
    "## Modelo de regresión lineal"
   ]
  },
  {
   "cell_type": "code",
   "execution_count": 8,
   "id": "ab560c3b5ab9edf6",
   "metadata": {
    "ExecuteTime": {
     "end_time": "2024-04-16T18:03:02.592917Z",
     "start_time": "2024-04-16T18:03:02.583949Z"
    }
   },
   "outputs": [],
   "source": [
    "X = merged_df[['etc', 'vis_value']]\n",
    "y = merged_df['Rendimiento']"
   ]
  },
  {
   "cell_type": "code",
   "execution_count": 9,
   "id": "ec2f77e28cc683ac",
   "metadata": {
    "ExecuteTime": {
     "end_time": "2024-04-16T18:03:03.123150Z",
     "start_time": "2024-04-16T18:03:03.113258Z"
    }
   },
   "outputs": [],
   "source": [
    "X_train, X_test, y_train, y_test = train_test_split(X, y, test_size=0.2, random_state=42)"
   ]
  },
  {
   "cell_type": "code",
   "execution_count": 10,
   "id": "d4e1ed804a861c1a",
   "metadata": {
    "ExecuteTime": {
     "end_time": "2024-04-16T18:03:03.557433Z",
     "start_time": "2024-04-16T18:03:03.547943Z"
    }
   },
   "outputs": [],
   "source": [
    "X_train = sm.add_constant(X_train)"
   ]
  },
  {
   "cell_type": "code",
   "execution_count": 11,
   "id": "d0c0cb4dced58b2",
   "metadata": {
    "ExecuteTime": {
     "end_time": "2024-04-16T18:03:04.115103Z",
     "start_time": "2024-04-16T18:03:04.094159Z"
    }
   },
   "outputs": [],
   "source": [
    "model = sm.OLS(y_train, X_train).fit()"
   ]
  },
  {
   "cell_type": "code",
   "execution_count": 12,
   "id": "25215b561c84b1a9",
   "metadata": {
    "ExecuteTime": {
     "end_time": "2024-04-16T18:03:04.790155Z",
     "start_time": "2024-04-16T18:03:04.737282Z"
    }
   },
   "outputs": [
    {
     "name": "stderr",
     "output_type": "stream",
     "text": [
      "C:\\Users\\Isai\\Documents\\Tesis\\code\\.venv\\Lib\\site-packages\\scipy\\stats\\_stats_py.py:1971: UserWarning: kurtosistest only valid for n>=20 ... continuing anyway, n=12\n",
      "  k, _ = kurtosistest(a, axis)\n"
     ]
    },
    {
     "data": {
      "text/html": [
       "<table class=\"simpletable\">\n",
       "<caption>OLS Regression Results</caption>\n",
       "<tr>\n",
       "  <th>Dep. Variable:</th>       <td>Rendimiento</td>   <th>  R-squared:         </th> <td>   0.848</td>\n",
       "</tr>\n",
       "<tr>\n",
       "  <th>Model:</th>                   <td>OLS</td>       <th>  Adj. R-squared:    </th> <td>   0.815</td>\n",
       "</tr>\n",
       "<tr>\n",
       "  <th>Method:</th>             <td>Least Squares</td>  <th>  F-statistic:       </th> <td>   25.20</td>\n",
       "</tr>\n",
       "<tr>\n",
       "  <th>Date:</th>             <td>Tue, 16 Apr 2024</td> <th>  Prob (F-statistic):</th> <td>0.000205</td>\n",
       "</tr>\n",
       "<tr>\n",
       "  <th>Time:</th>                 <td>12:03:04</td>     <th>  Log-Likelihood:    </th> <td> -38.766</td>\n",
       "</tr>\n",
       "<tr>\n",
       "  <th>No. Observations:</th>      <td>    12</td>      <th>  AIC:               </th> <td>   83.53</td>\n",
       "</tr>\n",
       "<tr>\n",
       "  <th>Df Residuals:</th>          <td>     9</td>      <th>  BIC:               </th> <td>   84.99</td>\n",
       "</tr>\n",
       "<tr>\n",
       "  <th>Df Model:</th>              <td>     2</td>      <th>                     </th>     <td> </td>   \n",
       "</tr>\n",
       "<tr>\n",
       "  <th>Covariance Type:</th>      <td>nonrobust</td>    <th>                     </th>     <td> </td>   \n",
       "</tr>\n",
       "</table>\n",
       "<table class=\"simpletable\">\n",
       "<tr>\n",
       "      <td></td>         <th>coef</th>     <th>std err</th>      <th>t</th>      <th>P>|t|</th>  <th>[0.025</th>    <th>0.975]</th>  \n",
       "</tr>\n",
       "<tr>\n",
       "  <th>const</th>     <td> -144.9187</td> <td>   29.582</td> <td>   -4.899</td> <td> 0.001</td> <td> -211.837</td> <td>  -78.001</td>\n",
       "</tr>\n",
       "<tr>\n",
       "  <th>etc</th>       <td>    0.0238</td> <td>    0.018</td> <td>    1.323</td> <td> 0.219</td> <td>   -0.017</td> <td>    0.064</td>\n",
       "</tr>\n",
       "<tr>\n",
       "  <th>vis_value</th> <td>  237.7525</td> <td>   40.874</td> <td>    5.817</td> <td> 0.000</td> <td>  145.288</td> <td>  330.217</td>\n",
       "</tr>\n",
       "</table>\n",
       "<table class=\"simpletable\">\n",
       "<tr>\n",
       "  <th>Omnibus:</th>       <td> 0.077</td> <th>  Durbin-Watson:     </th> <td>   1.526</td>\n",
       "</tr>\n",
       "<tr>\n",
       "  <th>Prob(Omnibus):</th> <td> 0.962</td> <th>  Jarque-Bera (JB):  </th> <td>   0.263</td>\n",
       "</tr>\n",
       "<tr>\n",
       "  <th>Skew:</th>          <td>-0.139</td> <th>  Prob(JB):          </th> <td>   0.877</td>\n",
       "</tr>\n",
       "<tr>\n",
       "  <th>Kurtosis:</th>      <td> 2.330</td> <th>  Cond. No.          </th> <td>2.93e+04</td>\n",
       "</tr>\n",
       "</table><br/><br/>Notes:<br/>[1] Standard Errors assume that the covariance matrix of the errors is correctly specified.<br/>[2] The condition number is large, 2.93e+04. This might indicate that there are<br/>strong multicollinearity or other numerical problems."
      ],
      "text/latex": [
       "\\begin{center}\n",
       "\\begin{tabular}{lclc}\n",
       "\\toprule\n",
       "\\textbf{Dep. Variable:}    &   Rendimiento    & \\textbf{  R-squared:         } &     0.848   \\\\\n",
       "\\textbf{Model:}            &       OLS        & \\textbf{  Adj. R-squared:    } &     0.815   \\\\\n",
       "\\textbf{Method:}           &  Least Squares   & \\textbf{  F-statistic:       } &     25.20   \\\\\n",
       "\\textbf{Date:}             & Tue, 16 Apr 2024 & \\textbf{  Prob (F-statistic):} &  0.000205   \\\\\n",
       "\\textbf{Time:}             &     12:03:04     & \\textbf{  Log-Likelihood:    } &   -38.766   \\\\\n",
       "\\textbf{No. Observations:} &          12      & \\textbf{  AIC:               } &     83.53   \\\\\n",
       "\\textbf{Df Residuals:}     &           9      & \\textbf{  BIC:               } &     84.99   \\\\\n",
       "\\textbf{Df Model:}         &           2      & \\textbf{                     } &             \\\\\n",
       "\\textbf{Covariance Type:}  &    nonrobust     & \\textbf{                     } &             \\\\\n",
       "\\bottomrule\n",
       "\\end{tabular}\n",
       "\\begin{tabular}{lcccccc}\n",
       "                    & \\textbf{coef} & \\textbf{std err} & \\textbf{t} & \\textbf{P$> |$t$|$} & \\textbf{[0.025} & \\textbf{0.975]}  \\\\\n",
       "\\midrule\n",
       "\\textbf{const}      &    -144.9187  &       29.582     &    -4.899  &         0.001        &     -211.837    &      -78.001     \\\\\n",
       "\\textbf{etc}        &       0.0238  &        0.018     &     1.323  &         0.219        &       -0.017    &        0.064     \\\\\n",
       "\\textbf{vis\\_value} &     237.7525  &       40.874     &     5.817  &         0.000        &      145.288    &      330.217     \\\\\n",
       "\\bottomrule\n",
       "\\end{tabular}\n",
       "\\begin{tabular}{lclc}\n",
       "\\textbf{Omnibus:}       &  0.077 & \\textbf{  Durbin-Watson:     } &    1.526  \\\\\n",
       "\\textbf{Prob(Omnibus):} &  0.962 & \\textbf{  Jarque-Bera (JB):  } &    0.263  \\\\\n",
       "\\textbf{Skew:}          & -0.139 & \\textbf{  Prob(JB):          } &    0.877  \\\\\n",
       "\\textbf{Kurtosis:}      &  2.330 & \\textbf{  Cond. No.          } & 2.93e+04  \\\\\n",
       "\\bottomrule\n",
       "\\end{tabular}\n",
       "%\\caption{OLS Regression Results}\n",
       "\\end{center}\n",
       "\n",
       "Notes: \\newline\n",
       " [1] Standard Errors assume that the covariance matrix of the errors is correctly specified. \\newline\n",
       " [2] The condition number is large, 2.93e+04. This might indicate that there are \\newline\n",
       " strong multicollinearity or other numerical problems."
      ],
      "text/plain": [
       "<class 'statsmodels.iolib.summary.Summary'>\n",
       "\"\"\"\n",
       "                            OLS Regression Results                            \n",
       "==============================================================================\n",
       "Dep. Variable:            Rendimiento   R-squared:                       0.848\n",
       "Model:                            OLS   Adj. R-squared:                  0.815\n",
       "Method:                 Least Squares   F-statistic:                     25.20\n",
       "Date:                Tue, 16 Apr 2024   Prob (F-statistic):           0.000205\n",
       "Time:                        12:03:04   Log-Likelihood:                -38.766\n",
       "No. Observations:                  12   AIC:                             83.53\n",
       "Df Residuals:                       9   BIC:                             84.99\n",
       "Df Model:                           2                                         \n",
       "Covariance Type:            nonrobust                                         \n",
       "==============================================================================\n",
       "                 coef    std err          t      P>|t|      [0.025      0.975]\n",
       "------------------------------------------------------------------------------\n",
       "const       -144.9187     29.582     -4.899      0.001    -211.837     -78.001\n",
       "etc            0.0238      0.018      1.323      0.219      -0.017       0.064\n",
       "vis_value    237.7525     40.874      5.817      0.000     145.288     330.217\n",
       "==============================================================================\n",
       "Omnibus:                        0.077   Durbin-Watson:                   1.526\n",
       "Prob(Omnibus):                  0.962   Jarque-Bera (JB):                0.263\n",
       "Skew:                          -0.139   Prob(JB):                        0.877\n",
       "Kurtosis:                       2.330   Cond. No.                     2.93e+04\n",
       "==============================================================================\n",
       "\n",
       "Notes:\n",
       "[1] Standard Errors assume that the covariance matrix of the errors is correctly specified.\n",
       "[2] The condition number is large, 2.93e+04. This might indicate that there are\n",
       "strong multicollinearity or other numerical problems.\n",
       "\"\"\""
      ]
     },
     "execution_count": 12,
     "metadata": {},
     "output_type": "execute_result"
    }
   ],
   "source": [
    "model.summary()"
   ]
  },
  {
   "cell_type": "code",
   "execution_count": 13,
   "id": "652e5de9cea41a6a",
   "metadata": {
    "ExecuteTime": {
     "end_time": "2024-04-16T18:03:08.956198Z",
     "start_time": "2024-04-16T18:03:08.945172Z"
    }
   },
   "outputs": [],
   "source": [
    "X_test = sm.add_constant(X_test)\n",
    "y_pred = model.predict(X_test)"
   ]
  },
  {
   "cell_type": "code",
   "execution_count": 14,
   "id": "ed2371be9775df42",
   "metadata": {
    "ExecuteTime": {
     "end_time": "2024-04-16T18:03:09.743822Z",
     "start_time": "2024-04-16T18:03:09.739313Z"
    }
   },
   "outputs": [
    {
     "name": "stdout",
     "output_type": "stream",
     "text": [
      "269.69696969696963\n"
     ]
    }
   ],
   "source": [
    "print(model.mse_total)"
   ]
  },
  {
   "cell_type": "code",
   "execution_count": 15,
   "id": "bdbd3a9040d13528",
   "metadata": {
    "ExecuteTime": {
     "end_time": "2024-04-16T18:03:10.305378Z",
     "start_time": "2024-04-16T18:03:10.293398Z"
    }
   },
   "outputs": [
    {
     "data": {
      "text/plain": [
       "39.994303496456126"
      ]
     },
     "execution_count": 15,
     "metadata": {},
     "output_type": "execute_result"
    }
   ],
   "source": [
    "mean_squared_error(model.predict(sm.add_constant(X)), y)"
   ]
  },
  {
   "cell_type": "code",
   "execution_count": 16,
   "id": "83eb059dc4992e94",
   "metadata": {
    "ExecuteTime": {
     "end_time": "2024-04-16T18:03:10.802862Z",
     "start_time": "2024-04-16T18:03:10.791207Z"
    }
   },
   "outputs": [
    {
     "data": {
      "text/plain": [
       "39.994303496456126"
      ]
     },
     "execution_count": 16,
     "metadata": {},
     "output_type": "execute_result"
    }
   ],
   "source": [
    "mse(y, model.predict(sm.add_constant(X)))"
   ]
  },
  {
   "cell_type": "code",
   "execution_count": 17,
   "id": "f71329f08355afac",
   "metadata": {
    "ExecuteTime": {
     "end_time": "2024-04-16T18:03:11.312325Z",
     "start_time": "2024-04-16T18:03:11.298400Z"
    }
   },
   "outputs": [
    {
     "data": {
      "text/plain": [
       "6.3241049561543585"
      ]
     },
     "execution_count": 17,
     "metadata": {},
     "output_type": "execute_result"
    }
   ],
   "source": [
    "rmse(y, model.predict(sm.add_constant(X)))"
   ]
  },
  {
   "cell_type": "code",
   "execution_count": 18,
   "id": "26b69086920be155",
   "metadata": {
    "ExecuteTime": {
     "end_time": "2024-04-16T18:03:11.832614Z",
     "start_time": "2024-04-16T18:03:11.825139Z"
    }
   },
   "outputs": [],
   "source": [
    "data = pd.DataFrame({\n",
    "    'y': y,\n",
    "    'y_pred': model.predict(sm.add_constant(X))\n",
    "})"
   ]
  },
  {
   "cell_type": "code",
   "execution_count": 19,
   "id": "e0089fadaec28123",
   "metadata": {
    "ExecuteTime": {
     "end_time": "2024-04-16T18:03:12.527797Z",
     "start_time": "2024-04-16T18:03:12.516837Z"
    }
   },
   "outputs": [
    {
     "data": {
      "text/html": [
       "<div>\n",
       "<style scoped>\n",
       "    .dataframe tbody tr th:only-of-type {\n",
       "        vertical-align: middle;\n",
       "    }\n",
       "\n",
       "    .dataframe tbody tr th {\n",
       "        vertical-align: top;\n",
       "    }\n",
       "\n",
       "    .dataframe thead th {\n",
       "        text-align: right;\n",
       "    }\n",
       "</style>\n",
       "<table border=\"1\" class=\"dataframe\">\n",
       "  <thead>\n",
       "    <tr style=\"text-align: right;\">\n",
       "      <th></th>\n",
       "      <th>y</th>\n",
       "      <th>y_pred</th>\n",
       "    </tr>\n",
       "  </thead>\n",
       "  <tbody>\n",
       "    <tr>\n",
       "      <th>0</th>\n",
       "      <td>48</td>\n",
       "      <td>39.917070</td>\n",
       "    </tr>\n",
       "    <tr>\n",
       "      <th>1</th>\n",
       "      <td>60</td>\n",
       "      <td>67.379436</td>\n",
       "    </tr>\n",
       "    <tr>\n",
       "      <th>2</th>\n",
       "      <td>45</td>\n",
       "      <td>46.712456</td>\n",
       "    </tr>\n",
       "    <tr>\n",
       "      <th>3</th>\n",
       "      <td>50</td>\n",
       "      <td>61.969981</td>\n",
       "    </tr>\n",
       "    <tr>\n",
       "      <th>4</th>\n",
       "      <td>75</td>\n",
       "      <td>72.976432</td>\n",
       "    </tr>\n",
       "    <tr>\n",
       "      <th>5</th>\n",
       "      <td>75</td>\n",
       "      <td>67.101842</td>\n",
       "    </tr>\n",
       "    <tr>\n",
       "      <th>6</th>\n",
       "      <td>75</td>\n",
       "      <td>77.872729</td>\n",
       "    </tr>\n",
       "    <tr>\n",
       "      <th>7</th>\n",
       "      <td>75</td>\n",
       "      <td>65.904099</td>\n",
       "    </tr>\n",
       "    <tr>\n",
       "      <th>8</th>\n",
       "      <td>75</td>\n",
       "      <td>66.746218</td>\n",
       "    </tr>\n",
       "    <tr>\n",
       "      <th>9</th>\n",
       "      <td>75</td>\n",
       "      <td>73.121224</td>\n",
       "    </tr>\n",
       "    <tr>\n",
       "      <th>10</th>\n",
       "      <td>75</td>\n",
       "      <td>74.989848</td>\n",
       "    </tr>\n",
       "    <tr>\n",
       "      <th>11</th>\n",
       "      <td>30</td>\n",
       "      <td>39.032944</td>\n",
       "    </tr>\n",
       "    <tr>\n",
       "      <th>12</th>\n",
       "      <td>50</td>\n",
       "      <td>51.762694</td>\n",
       "    </tr>\n",
       "    <tr>\n",
       "      <th>13</th>\n",
       "      <td>60</td>\n",
       "      <td>63.861099</td>\n",
       "    </tr>\n",
       "    <tr>\n",
       "      <th>14</th>\n",
       "      <td>25</td>\n",
       "      <td>22.723167</td>\n",
       "    </tr>\n",
       "  </tbody>\n",
       "</table>\n",
       "</div>"
      ],
      "text/plain": [
       "     y     y_pred\n",
       "0   48  39.917070\n",
       "1   60  67.379436\n",
       "2   45  46.712456\n",
       "3   50  61.969981\n",
       "4   75  72.976432\n",
       "5   75  67.101842\n",
       "6   75  77.872729\n",
       "7   75  65.904099\n",
       "8   75  66.746218\n",
       "9   75  73.121224\n",
       "10  75  74.989848\n",
       "11  30  39.032944\n",
       "12  50  51.762694\n",
       "13  60  63.861099\n",
       "14  25  22.723167"
      ]
     },
     "execution_count": 19,
     "metadata": {},
     "output_type": "execute_result"
    }
   ],
   "source": [
    "data"
   ]
  },
  {
   "cell_type": "code",
   "execution_count": 20,
   "id": "1848d63eb3d4e40",
   "metadata": {
    "ExecuteTime": {
     "end_time": "2024-04-16T18:03:13.633293Z",
     "start_time": "2024-04-16T18:03:13.624343Z"
    }
   },
   "outputs": [],
   "source": [
    "merged_df['pred'] = model.predict(sm.add_constant(X))"
   ]
  },
  {
   "cell_type": "code",
   "execution_count": 21,
   "id": "9f0334d0a1a5eedd",
   "metadata": {
    "ExecuteTime": {
     "end_time": "2024-04-16T18:03:14.511929Z",
     "start_time": "2024-04-16T18:03:14.474070Z"
    }
   },
   "outputs": [
    {
     "data": {
      "text/html": [
       "<div>\n",
       "<style scoped>\n",
       "    .dataframe tbody tr th:only-of-type {\n",
       "        vertical-align: middle;\n",
       "    }\n",
       "\n",
       "    .dataframe tbody tr th {\n",
       "        vertical-align: top;\n",
       "    }\n",
       "\n",
       "    .dataframe thead th {\n",
       "        text-align: right;\n",
       "    }\n",
       "</style>\n",
       "<table border=\"1\" class=\"dataframe\">\n",
       "  <thead>\n",
       "    <tr style=\"text-align: right;\">\n",
       "      <th></th>\n",
       "      <th>Id</th>\n",
       "      <th>Rendimiento</th>\n",
       "      <th>parcela</th>\n",
       "      <th>vis_value</th>\n",
       "      <th>precip</th>\n",
       "      <th>etc</th>\n",
       "      <th>dias</th>\n",
       "      <th>pred</th>\n",
       "    </tr>\n",
       "  </thead>\n",
       "  <tbody>\n",
       "    <tr>\n",
       "      <th>count</th>\n",
       "      <td>15.000000</td>\n",
       "      <td>15.000000</td>\n",
       "      <td>15.000000</td>\n",
       "      <td>15.000000</td>\n",
       "      <td>15.000000</td>\n",
       "      <td>15.000000</td>\n",
       "      <td>15.000000</td>\n",
       "      <td>15.000000</td>\n",
       "    </tr>\n",
       "    <tr>\n",
       "      <th>mean</th>\n",
       "      <td>8.266667</td>\n",
       "      <td>59.533333</td>\n",
       "      <td>8.266667</td>\n",
       "      <td>0.733121</td>\n",
       "      <td>575.406667</td>\n",
       "      <td>1265.134257</td>\n",
       "      <td>225.800000</td>\n",
       "      <td>59.471416</td>\n",
       "    </tr>\n",
       "    <tr>\n",
       "      <th>std</th>\n",
       "      <td>4.832430</td>\n",
       "      <td>17.455522</td>\n",
       "      <td>4.832430</td>\n",
       "      <td>0.060164</td>\n",
       "      <td>21.304100</td>\n",
       "      <td>135.521656</td>\n",
       "      <td>21.247521</td>\n",
       "      <td>15.949608</td>\n",
       "    </tr>\n",
       "    <tr>\n",
       "      <th>min</th>\n",
       "      <td>1.000000</td>\n",
       "      <td>25.000000</td>\n",
       "      <td>1.000000</td>\n",
       "      <td>0.597182</td>\n",
       "      <td>547.350000</td>\n",
       "      <td>1063.731786</td>\n",
       "      <td>198.000000</td>\n",
       "      <td>22.723167</td>\n",
       "    </tr>\n",
       "    <tr>\n",
       "      <th>25%</th>\n",
       "      <td>4.500000</td>\n",
       "      <td>49.000000</td>\n",
       "      <td>4.500000</td>\n",
       "      <td>0.686278</td>\n",
       "      <td>561.465000</td>\n",
       "      <td>1169.420565</td>\n",
       "      <td>207.000000</td>\n",
       "      <td>49.237575</td>\n",
       "    </tr>\n",
       "    <tr>\n",
       "      <th>50%</th>\n",
       "      <td>8.000000</td>\n",
       "      <td>60.000000</td>\n",
       "      <td>8.000000</td>\n",
       "      <td>0.767247</td>\n",
       "      <td>572.840000</td>\n",
       "      <td>1231.884026</td>\n",
       "      <td>223.000000</td>\n",
       "      <td>65.904099</td>\n",
       "    </tr>\n",
       "    <tr>\n",
       "      <th>75%</th>\n",
       "      <td>12.000000</td>\n",
       "      <td>75.000000</td>\n",
       "      <td>12.000000</td>\n",
       "      <td>0.773196</td>\n",
       "      <td>592.425000</td>\n",
       "      <td>1375.347214</td>\n",
       "      <td>241.500000</td>\n",
       "      <td>70.177934</td>\n",
       "    </tr>\n",
       "    <tr>\n",
       "      <th>max</th>\n",
       "      <td>16.000000</td>\n",
       "      <td>75.000000</td>\n",
       "      <td>16.000000</td>\n",
       "      <td>0.791956</td>\n",
       "      <td>613.870000</td>\n",
       "      <td>1471.880669</td>\n",
       "      <td>262.000000</td>\n",
       "      <td>77.872729</td>\n",
       "    </tr>\n",
       "  </tbody>\n",
       "</table>\n",
       "</div>"
      ],
      "text/plain": [
       "              Id  Rendimiento    parcela  vis_value      precip          etc  \\\n",
       "count  15.000000    15.000000  15.000000  15.000000   15.000000    15.000000   \n",
       "mean    8.266667    59.533333   8.266667   0.733121  575.406667  1265.134257   \n",
       "std     4.832430    17.455522   4.832430   0.060164   21.304100   135.521656   \n",
       "min     1.000000    25.000000   1.000000   0.597182  547.350000  1063.731786   \n",
       "25%     4.500000    49.000000   4.500000   0.686278  561.465000  1169.420565   \n",
       "50%     8.000000    60.000000   8.000000   0.767247  572.840000  1231.884026   \n",
       "75%    12.000000    75.000000  12.000000   0.773196  592.425000  1375.347214   \n",
       "max    16.000000    75.000000  16.000000   0.791956  613.870000  1471.880669   \n",
       "\n",
       "             dias       pred  \n",
       "count   15.000000  15.000000  \n",
       "mean   225.800000  59.471416  \n",
       "std     21.247521  15.949608  \n",
       "min    198.000000  22.723167  \n",
       "25%    207.000000  49.237575  \n",
       "50%    223.000000  65.904099  \n",
       "75%    241.500000  70.177934  \n",
       "max    262.000000  77.872729  "
      ]
     },
     "execution_count": 21,
     "metadata": {},
     "output_type": "execute_result"
    }
   ],
   "source": [
    "merged_df.describe()"
   ]
  },
  {
   "cell_type": "code",
   "execution_count": 27,
   "id": "c5a79c3c24d407c3",
   "metadata": {
    "ExecuteTime": {
     "end_time": "2024-04-16T19:00:53.616927Z",
     "start_time": "2024-04-16T19:00:53.584536Z"
    }
   },
   "outputs": [
    {
     "data": {
      "text/html": [
       "<div>\n",
       "<style scoped>\n",
       "    .dataframe tbody tr th:only-of-type {\n",
       "        vertical-align: middle;\n",
       "    }\n",
       "\n",
       "    .dataframe tbody tr th {\n",
       "        vertical-align: top;\n",
       "    }\n",
       "\n",
       "    .dataframe thead th {\n",
       "        text-align: right;\n",
       "    }\n",
       "</style>\n",
       "<table border=\"1\" class=\"dataframe\">\n",
       "  <thead>\n",
       "    <tr style=\"text-align: right;\">\n",
       "      <th></th>\n",
       "      <th>Id</th>\n",
       "      <th>Rendimiento</th>\n",
       "      <th>parcela</th>\n",
       "      <th>vis_value</th>\n",
       "      <th>precip</th>\n",
       "      <th>etc</th>\n",
       "      <th>dias</th>\n",
       "      <th>pred</th>\n",
       "    </tr>\n",
       "  </thead>\n",
       "  <tbody>\n",
       "    <tr>\n",
       "      <th>0</th>\n",
       "      <td>1</td>\n",
       "      <td>48</td>\n",
       "      <td>1.0</td>\n",
       "      <td>0.645529</td>\n",
       "      <td>582.23</td>\n",
       "      <td>1318.566277</td>\n",
       "      <td>222.0</td>\n",
       "      <td>39.917070</td>\n",
       "    </tr>\n",
       "    <tr>\n",
       "      <th>1</th>\n",
       "      <td>2</td>\n",
       "      <td>60</td>\n",
       "      <td>2.0</td>\n",
       "      <td>0.775832</td>\n",
       "      <td>564.31</td>\n",
       "      <td>1170.671495</td>\n",
       "      <td>205.0</td>\n",
       "      <td>67.379436</td>\n",
       "    </tr>\n",
       "    <tr>\n",
       "      <th>2</th>\n",
       "      <td>3</td>\n",
       "      <td>45</td>\n",
       "      <td>3.0</td>\n",
       "      <td>0.676195</td>\n",
       "      <td>547.55</td>\n",
       "      <td>1297.730937</td>\n",
       "      <td>223.0</td>\n",
       "      <td>46.712456</td>\n",
       "    </tr>\n",
       "    <tr>\n",
       "      <th>3</th>\n",
       "      <td>4</td>\n",
       "      <td>50</td>\n",
       "      <td>4.0</td>\n",
       "      <td>0.753330</td>\n",
       "      <td>613.87</td>\n",
       "      <td>1168.169636</td>\n",
       "      <td>256.0</td>\n",
       "      <td>61.969981</td>\n",
       "    </tr>\n",
       "    <tr>\n",
       "      <th>4</th>\n",
       "      <td>5</td>\n",
       "      <td>75</td>\n",
       "      <td>5.0</td>\n",
       "      <td>0.772565</td>\n",
       "      <td>588.12</td>\n",
       "      <td>1438.664551</td>\n",
       "      <td>229.0</td>\n",
       "      <td>72.976432</td>\n",
       "    </tr>\n",
       "    <tr>\n",
       "      <th>5</th>\n",
       "      <td>6</td>\n",
       "      <td>75</td>\n",
       "      <td>6.0</td>\n",
       "      <td>0.768541</td>\n",
       "      <td>573.43</td>\n",
       "      <td>1231.884026</td>\n",
       "      <td>206.0</td>\n",
       "      <td>67.101842</td>\n",
       "    </tr>\n",
       "    <tr>\n",
       "      <th>6</th>\n",
       "      <td>7</td>\n",
       "      <td>75</td>\n",
       "      <td>7.0</td>\n",
       "      <td>0.791956</td>\n",
       "      <td>547.35</td>\n",
       "      <td>1450.693650</td>\n",
       "      <td>241.0</td>\n",
       "      <td>77.872729</td>\n",
       "    </tr>\n",
       "    <tr>\n",
       "      <th>7</th>\n",
       "      <td>8</td>\n",
       "      <td>75</td>\n",
       "      <td>8.0</td>\n",
       "      <td>0.767247</td>\n",
       "      <td>571.98</td>\n",
       "      <td>1194.453985</td>\n",
       "      <td>198.0</td>\n",
       "      <td>65.904099</td>\n",
       "    </tr>\n",
       "    <tr>\n",
       "      <th>8</th>\n",
       "      <td>9</td>\n",
       "      <td>75</td>\n",
       "      <td>9.0</td>\n",
       "      <td>0.771219</td>\n",
       "      <td>572.84</td>\n",
       "      <td>1190.157430</td>\n",
       "      <td>200.0</td>\n",
       "      <td>66.746218</td>\n",
       "    </tr>\n",
       "    <tr>\n",
       "      <th>9</th>\n",
       "      <td>10</td>\n",
       "      <td>75</td>\n",
       "      <td>10.0</td>\n",
       "      <td>0.773828</td>\n",
       "      <td>558.62</td>\n",
       "      <td>1432.128150</td>\n",
       "      <td>255.0</td>\n",
       "      <td>73.121224</td>\n",
       "    </tr>\n",
       "    <tr>\n",
       "      <th>10</th>\n",
       "      <td>11</td>\n",
       "      <td>75</td>\n",
       "      <td>11.0</td>\n",
       "      <td>0.777711</td>\n",
       "      <td>547.35</td>\n",
       "      <td>1471.880669</td>\n",
       "      <td>242.0</td>\n",
       "      <td>74.989848</td>\n",
       "    </tr>\n",
       "    <tr>\n",
       "      <th>11</th>\n",
       "      <td>13</td>\n",
       "      <td>30</td>\n",
       "      <td>13.0</td>\n",
       "      <td>0.667302</td>\n",
       "      <td>597.18</td>\n",
       "      <td>1063.731786</td>\n",
       "      <td>226.0</td>\n",
       "      <td>39.032944</td>\n",
       "    </tr>\n",
       "    <tr>\n",
       "      <th>12</th>\n",
       "      <td>14</td>\n",
       "      <td>50</td>\n",
       "      <td>14.0</td>\n",
       "      <td>0.696361</td>\n",
       "      <td>604.58</td>\n",
       "      <td>1308.480779</td>\n",
       "      <td>262.0</td>\n",
       "      <td>51.762694</td>\n",
       "    </tr>\n",
       "    <tr>\n",
       "      <th>13</th>\n",
       "      <td>15</td>\n",
       "      <td>60</td>\n",
       "      <td>15.0</td>\n",
       "      <td>0.762014</td>\n",
       "      <td>564.96</td>\n",
       "      <td>1160.864772</td>\n",
       "      <td>208.0</td>\n",
       "      <td>63.861099</td>\n",
       "    </tr>\n",
       "    <tr>\n",
       "      <th>14</th>\n",
       "      <td>16</td>\n",
       "      <td>25</td>\n",
       "      <td>16.0</td>\n",
       "      <td>0.597182</td>\n",
       "      <td>596.73</td>\n",
       "      <td>1078.935716</td>\n",
       "      <td>214.0</td>\n",
       "      <td>22.723167</td>\n",
       "    </tr>\n",
       "  </tbody>\n",
       "</table>\n",
       "</div>"
      ],
      "text/plain": [
       "    Id  Rendimiento  parcela  vis_value  precip          etc   dias       pred\n",
       "0    1           48      1.0   0.645529  582.23  1318.566277  222.0  39.917070\n",
       "1    2           60      2.0   0.775832  564.31  1170.671495  205.0  67.379436\n",
       "2    3           45      3.0   0.676195  547.55  1297.730937  223.0  46.712456\n",
       "3    4           50      4.0   0.753330  613.87  1168.169636  256.0  61.969981\n",
       "4    5           75      5.0   0.772565  588.12  1438.664551  229.0  72.976432\n",
       "5    6           75      6.0   0.768541  573.43  1231.884026  206.0  67.101842\n",
       "6    7           75      7.0   0.791956  547.35  1450.693650  241.0  77.872729\n",
       "7    8           75      8.0   0.767247  571.98  1194.453985  198.0  65.904099\n",
       "8    9           75      9.0   0.771219  572.84  1190.157430  200.0  66.746218\n",
       "9   10           75     10.0   0.773828  558.62  1432.128150  255.0  73.121224\n",
       "10  11           75     11.0   0.777711  547.35  1471.880669  242.0  74.989848\n",
       "11  13           30     13.0   0.667302  597.18  1063.731786  226.0  39.032944\n",
       "12  14           50     14.0   0.696361  604.58  1308.480779  262.0  51.762694\n",
       "13  15           60     15.0   0.762014  564.96  1160.864772  208.0  63.861099\n",
       "14  16           25     16.0   0.597182  596.73  1078.935716  214.0  22.723167"
      ]
     },
     "execution_count": 27,
     "metadata": {},
     "output_type": "execute_result"
    }
   ],
   "source": [
    "merged_df"
   ]
  },
  {
   "cell_type": "code",
   "execution_count": 41,
   "id": "f12ada4929c4c900",
   "metadata": {
    "ExecuteTime": {
     "end_time": "2024-04-16T08:15:47.314430Z",
     "start_time": "2024-04-16T08:15:46.149143Z"
    }
   },
   "outputs": [
    {
     "data": {
      "text/plain": [
       "<Figure size 1200x1200 with 0 Axes>"
      ]
     },
     "metadata": {},
     "output_type": "display_data"
    },
    {
     "data": {
      "image/png": "[encoded data removed]",
      "text/plain": [
       "<Figure size 500x500 with 1 Axes>"
      ]
     },
     "metadata": {},
     "output_type": "display_data"
    }
   ],
   "source": [
    "plt.figure(figsize=(12, 12))\n",
    "sns.lmplot(x='Rendimiento', y='pred', data=merged_df)\n",
    "plt.title('Rendimiento vs Predicción')\n",
    "plt.text(70, 20, f'MSE: {rmse(y, model.predict(sm.add_constant(X))):.2f}', color='b')\n",
    "plt.savefig(PurePath(r\"C:\\Users\\Isai\\Documents\\Tesis\\code\\revision\\img\\2022\\rendimiento\", 'rendimiento_vs_pred.png'), dpi=300)\n",
    "plt.tight_layout()\n",
    "plt.show()"
   ]
  },
  {
   "cell_type": "code",
   "execution_count": 23,
   "id": "b4a1f7910ad3f20",
   "metadata": {
    "ExecuteTime": {
     "end_time": "2024-04-16T18:48:03.272190Z",
     "start_time": "2024-04-16T18:48:03.244952Z"
    }
   },
   "outputs": [],
   "source": [
    "par4 = pd.read_csv(r'C:\\Users\\Isai\\Documents\\Tesis\\code\\datos\\parcelas\\indices_stats_cleaned\\parcela_4.csv')"
   ]
  },
  {
   "cell_type": "code",
   "execution_count": 24,
   "id": "8d27608572e037de",
   "metadata": {
    "ExecuteTime": {
     "end_time": "2024-04-16T18:48:05.996391Z",
     "start_time": "2024-04-16T18:48:05.983491Z"
    }
   },
   "outputs": [],
   "source": [
    "par4['Fecha'] = pd.to_datetime(par4['Fecha'])"
   ]
  },
  {
   "cell_type": "code",
   "execution_count": 25,
   "id": "1517e0d042bc4b7f",
   "metadata": {
    "ExecuteTime": {
     "end_time": "2024-04-16T18:48:19.751824Z",
     "start_time": "2024-04-16T18:48:17.853808Z"
    }
   },
   "outputs": [
    {
     "data": {
      "text/plain": [
       "[<matplotlib.lines.Line2D at 0x24910261eb0>]"
      ]
     },
     "execution_count": 25,
     "metadata": {},
     "output_type": "execute_result"
    },
    {
     "data": {
      "image/png": "[encoded data removed]",
      "text/plain": [
       "<Figure size 640x480 with 1 Axes>"
      ]
     },
     "metadata": {},
     "output_type": "display_data"
    }
   ],
   "source": [
    "plt.plot(par4['Fecha'], par4['ndvi_mean'])"
   ]
  },
  {
   "cell_type": "code",
   "execution_count": null,
   "id": "717984169eb2bffe",
   "metadata": {},
   "outputs": [],
   "source": []
  }
 ],
 "metadata": {
  "kernelspec": {
   "display_name": "Python 3 (ipykernel)",
   "language": "python",
   "name": "python3"
  },
  "language_info": {
   "codemirror_mode": {
    "name": "ipython",
    "version": 3
   },
   "file_extension": ".py",
   "mimetype": "text/x-python",
   "name": "python",
   "nbconvert_exporter": "python",
   "pygments_lexer": "ipython3",
   "version": "3.12.4"
  }
 },
 "nbformat": 4,
 "nbformat_minor": 5
}
