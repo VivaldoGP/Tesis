{
 "cells": [
  {
   "cell_type": "markdown",
   "id": "ab69826f-c227-4b2d-9846-3009a38bb5d5",
   "metadata": {},
   "source": [
    "# Feno markers"
   ]
  },
  {
   "cell_type": "code",
   "execution_count": 1,
   "id": "86222b14-f8f3-4619-8265-3e53d1726465",
   "metadata": {},
   "outputs": [],
   "source": [
    "import pandas as pd\n",
    "import matplotlib.pyplot as plt"
   ]
  },
  {
   "cell_type": "code",
   "execution_count": 2,
   "id": "a3955113-3734-4a3c-b7d4-5404c881bc18",
   "metadata": {},
   "outputs": [],
   "source": [
    "feno_21 = pd.read_csv(r'zafra2021_ndvi.csv', parse_dates=True)\n",
    "feno_22 = pd.read_csv(r'zafra2022_ndvi.csv', parse_dates=True)\n",
    "feno_23 = pd.read_csv(r'zafra2023_ndvi.csv', parse_dates=True)"
   ]
  },
  {
   "cell_type": "markdown",
   "id": "79a5c611-764d-4fc2-b3e4-ba4ab3c5624f",
   "metadata": {},
   "source": [
    "## Valores máximos del ndvi"
   ]
  },
  {
   "cell_type": "code",
   "execution_count": 8,
   "id": "699f3363-2d73-4467-ad01-8e7ea17206a4",
   "metadata": {
    "scrolled": true
   },
   "outputs": [
    {
     "data": {
      "text/html": [
       "<div>\n",
       "<style scoped>\n",
       "    .dataframe tbody tr th:only-of-type {\n",
       "        vertical-align: middle;\n",
       "    }\n",
       "\n",
       "    .dataframe tbody tr th {\n",
       "        vertical-align: top;\n",
       "    }\n",
       "\n",
       "    .dataframe thead th {\n",
       "        text-align: right;\n",
       "    }\n",
       "</style>\n",
       "<table border=\"1\" class=\"dataframe\">\n",
       "  <thead>\n",
       "    <tr style=\"text-align: right;\">\n",
       "      <th></th>\n",
       "      <th>parcela</th>\n",
       "      <th>model_pos_date</th>\n",
       "      <th>model_pos</th>\n",
       "    </tr>\n",
       "  </thead>\n",
       "  <tbody>\n",
       "    <tr>\n",
       "      <th>0</th>\n",
       "      <td>1</td>\n",
       "      <td>2024-04-10</td>\n",
       "      <td>0.911</td>\n",
       "    </tr>\n",
       "    <tr>\n",
       "      <th>1</th>\n",
       "      <td>10</td>\n",
       "      <td>2023-10-22</td>\n",
       "      <td>0.794</td>\n",
       "    </tr>\n",
       "    <tr>\n",
       "      <th>2</th>\n",
       "      <td>11</td>\n",
       "      <td>2023-10-19</td>\n",
       "      <td>0.808</td>\n",
       "    </tr>\n",
       "    <tr>\n",
       "      <th>3</th>\n",
       "      <td>13</td>\n",
       "      <td>2023-10-19</td>\n",
       "      <td>0.706</td>\n",
       "    </tr>\n",
       "    <tr>\n",
       "      <th>4</th>\n",
       "      <td>14</td>\n",
       "      <td>2024-07-14</td>\n",
       "      <td>0.910</td>\n",
       "    </tr>\n",
       "    <tr>\n",
       "      <th>5</th>\n",
       "      <td>15</td>\n",
       "      <td>2023-11-08</td>\n",
       "      <td>0.769</td>\n",
       "    </tr>\n",
       "    <tr>\n",
       "      <th>6</th>\n",
       "      <td>16</td>\n",
       "      <td>2024-04-15</td>\n",
       "      <td>0.610</td>\n",
       "    </tr>\n",
       "    <tr>\n",
       "      <th>7</th>\n",
       "      <td>2</td>\n",
       "      <td>2023-11-08</td>\n",
       "      <td>0.727</td>\n",
       "    </tr>\n",
       "    <tr>\n",
       "      <th>8</th>\n",
       "      <td>3</td>\n",
       "      <td>2023-09-27</td>\n",
       "      <td>0.718</td>\n",
       "    </tr>\n",
       "    <tr>\n",
       "      <th>9</th>\n",
       "      <td>4</td>\n",
       "      <td>2023-10-26</td>\n",
       "      <td>0.689</td>\n",
       "    </tr>\n",
       "    <tr>\n",
       "      <th>10</th>\n",
       "      <td>5</td>\n",
       "      <td>2023-11-18</td>\n",
       "      <td>0.809</td>\n",
       "    </tr>\n",
       "    <tr>\n",
       "      <th>11</th>\n",
       "      <td>6</td>\n",
       "      <td>2024-07-14</td>\n",
       "      <td>0.818</td>\n",
       "    </tr>\n",
       "    <tr>\n",
       "      <th>12</th>\n",
       "      <td>7</td>\n",
       "      <td>2023-11-06</td>\n",
       "      <td>0.791</td>\n",
       "    </tr>\n",
       "    <tr>\n",
       "      <th>13</th>\n",
       "      <td>8</td>\n",
       "      <td>2023-11-23</td>\n",
       "      <td>0.835</td>\n",
       "    </tr>\n",
       "    <tr>\n",
       "      <th>14</th>\n",
       "      <td>9</td>\n",
       "      <td>2024-03-10</td>\n",
       "      <td>0.706</td>\n",
       "    </tr>\n",
       "  </tbody>\n",
       "</table>\n",
       "</div>"
      ],
      "text/plain": [
       "    parcela model_pos_date  model_pos\n",
       "0         1     2024-04-10      0.911\n",
       "1        10     2023-10-22      0.794\n",
       "2        11     2023-10-19      0.808\n",
       "3        13     2023-10-19      0.706\n",
       "4        14     2024-07-14      0.910\n",
       "5        15     2023-11-08      0.769\n",
       "6        16     2024-04-15      0.610\n",
       "7         2     2023-11-08      0.727\n",
       "8         3     2023-09-27      0.718\n",
       "9         4     2023-10-26      0.689\n",
       "10        5     2023-11-18      0.809\n",
       "11        6     2024-07-14      0.818\n",
       "12        7     2023-11-06      0.791\n",
       "13        8     2023-11-23      0.835\n",
       "14        9     2024-03-10      0.706"
      ]
     },
     "execution_count": 8,
     "metadata": {},
     "output_type": "execute_result"
    }
   ],
   "source": [
    "feno_23[['parcela', 'model_pos_date', 'model_pos']].round(decimals=3)"
   ]
  },
  {
   "cell_type": "markdown",
   "id": "9c244ccc-1ff6-4a51-aa9f-504ab6207ab6",
   "metadata": {},
   "source": [
    "## Duración de la temporada"
   ]
  },
  {
   "cell_type": "code",
   "execution_count": 16,
   "id": "3ff85974-f262-4dc7-a054-38c10eb76080",
   "metadata": {},
   "outputs": [
    {
     "data": {
      "text/plain": [
       "np.float64(0.7357409418399998)"
      ]
     },
     "execution_count": 16,
     "metadata": {},
     "output_type": "execute_result"
    }
   ],
   "source": [
    "feno_22['model_pos'].mean()"
   ]
  },
  {
   "cell_type": "code",
   "execution_count": 22,
   "id": "9baa65c9-6e30-4c84-84e1-1f9d9817ebda",
   "metadata": {},
   "outputs": [
    {
     "data": {
      "text/html": [
       "<div>\n",
       "<style scoped>\n",
       "    .dataframe tbody tr th:only-of-type {\n",
       "        vertical-align: middle;\n",
       "    }\n",
       "\n",
       "    .dataframe tbody tr th {\n",
       "        vertical-align: top;\n",
       "    }\n",
       "\n",
       "    .dataframe thead th {\n",
       "        text-align: right;\n",
       "    }\n",
       "</style>\n",
       "<table border=\"1\" class=\"dataframe\">\n",
       "  <thead>\n",
       "    <tr style=\"text-align: right;\">\n",
       "      <th></th>\n",
       "      <th>parcela</th>\n",
       "      <th>season_length_real</th>\n",
       "    </tr>\n",
       "  </thead>\n",
       "  <tbody>\n",
       "    <tr>\n",
       "      <th>0</th>\n",
       "      <td>1</td>\n",
       "      <td>335</td>\n",
       "    </tr>\n",
       "    <tr>\n",
       "      <th>7</th>\n",
       "      <td>2</td>\n",
       "      <td>315</td>\n",
       "    </tr>\n",
       "    <tr>\n",
       "      <th>8</th>\n",
       "      <td>3</td>\n",
       "      <td>390</td>\n",
       "    </tr>\n",
       "    <tr>\n",
       "      <th>9</th>\n",
       "      <td>4</td>\n",
       "      <td>405</td>\n",
       "    </tr>\n",
       "    <tr>\n",
       "      <th>10</th>\n",
       "      <td>5</td>\n",
       "      <td>335</td>\n",
       "    </tr>\n",
       "    <tr>\n",
       "      <th>11</th>\n",
       "      <td>6</td>\n",
       "      <td>365</td>\n",
       "    </tr>\n",
       "    <tr>\n",
       "      <th>12</th>\n",
       "      <td>7</td>\n",
       "      <td>395</td>\n",
       "    </tr>\n",
       "    <tr>\n",
       "      <th>13</th>\n",
       "      <td>8</td>\n",
       "      <td>320</td>\n",
       "    </tr>\n",
       "    <tr>\n",
       "      <th>14</th>\n",
       "      <td>9</td>\n",
       "      <td>290</td>\n",
       "    </tr>\n",
       "    <tr>\n",
       "      <th>1</th>\n",
       "      <td>10</td>\n",
       "      <td>370</td>\n",
       "    </tr>\n",
       "    <tr>\n",
       "      <th>2</th>\n",
       "      <td>11</td>\n",
       "      <td>365</td>\n",
       "    </tr>\n",
       "    <tr>\n",
       "      <th>3</th>\n",
       "      <td>13</td>\n",
       "      <td>395</td>\n",
       "    </tr>\n",
       "    <tr>\n",
       "      <th>4</th>\n",
       "      <td>14</td>\n",
       "      <td>435</td>\n",
       "    </tr>\n",
       "    <tr>\n",
       "      <th>5</th>\n",
       "      <td>15</td>\n",
       "      <td>365</td>\n",
       "    </tr>\n",
       "    <tr>\n",
       "      <th>6</th>\n",
       "      <td>16</td>\n",
       "      <td>220</td>\n",
       "    </tr>\n",
       "  </tbody>\n",
       "</table>\n",
       "</div>"
      ],
      "text/plain": [
       "    parcela  season_length_real\n",
       "0         1                 335\n",
       "7         2                 315\n",
       "8         3                 390\n",
       "9         4                 405\n",
       "10        5                 335\n",
       "11        6                 365\n",
       "12        7                 395\n",
       "13        8                 320\n",
       "14        9                 290\n",
       "1        10                 370\n",
       "2        11                 365\n",
       "3        13                 395\n",
       "4        14                 435\n",
       "5        15                 365\n",
       "6        16                 220"
      ]
     },
     "execution_count": 22,
     "metadata": {},
     "output_type": "execute_result"
    }
   ],
   "source": [
    "feno_23[['parcela', 'season_length_real']].sort_values(by='parcela')"
   ]
  },
  {
   "cell_type": "code",
   "execution_count": 3,
   "id": "ed2cd0f0-2c3d-49b0-aa37-dfac3dd7f794",
   "metadata": {},
   "outputs": [],
   "source": [
    "col_name = 'real_pos_date'"
   ]
  },
  {
   "cell_type": "code",
   "execution_count": 5,
   "id": "f916cfd2-124e-4009-9484-3331a4c0cf47",
   "metadata": {},
   "outputs": [],
   "source": [
    "feno_21[col_name] = pd.to_datetime(feno_21[col_name])\n",
    "feno_22[col_name] = pd.to_datetime(feno_22[col_name])"
   ]
  },
  {
   "cell_type": "code",
   "execution_count": null,
   "id": "fb72bbeb-3007-46c5-91c1-6586ee84b46c",
   "metadata": {
    "scrolled": true
   },
   "outputs": [],
   "source": [
    "plt.figure(figsize=(10, 10))\n",
    "plt.hist(feno_22[col_name], bins=5, color=(150/255, 0, 24/255), alpha=0.8, align='left', width=10, label='Reales')\n",
    "plt.hist(feno_22['model_pos_date'], bins=5, align='right', width=10, color='royalblue', alpha=0.8, label='Modelado')\n",
    "plt.xlabel('Fecha')\n",
    "plt.ylabel('Frecuencia')\n",
    "#plt.title('Histograma de Fechas')\n",
    "plt.xticks(rotation=45)\n",
    "plt.tight_layout()\n",
    "plt.legend()\n",
    "#plt.savefig(r'../../tesis_img/feno_markers/feno_22_hist_pos.pdf', dpi=200)\n",
    "plt.show()"
   ]
  },
  {
   "cell_type": "markdown",
   "id": "7b8c4f96-5cfc-4401-9c1b-9a9bbe958651",
   "metadata": {},
   "source": [
    "### Revisión de la evolución del pos"
   ]
  },
  {
   "cell_type": "code",
   "execution_count": 34,
   "id": "f863efd8-490e-42b4-9d28-2f1ad3eeba2a",
   "metadata": {},
   "outputs": [],
   "source": [
    "col_name = 'real_pos_date'\n",
    "feno_21[col_name] = pd.to_datetime(feno_21[col_name])\n",
    "feno_22[col_name] = pd.to_datetime(feno_22[col_name])\n",
    "feno_23[col_name] = pd.to_datetime(feno_23[col_name])"
   ]
  },
  {
   "cell_type": "code",
   "execution_count": 35,
   "id": "26b75401-ce90-4030-826a-dfbd5b35e522",
   "metadata": {},
   "outputs": [
    {
     "data": {
      "image/png": "[encoded data removed]",
      "text/plain": [
       "<Figure size 1200x600 with 1 Axes>"
      ]
     },
     "metadata": {},
     "output_type": "display_data"
    }
   ],
   "source": [
    "fig, ax = plt.subplots(figsize=(12, 6))\n",
    "plt.scatter(feno_21[col_name], feno_21['real_pos'])\n",
    "plt.scatter(feno_22[col_name], feno_22['real_pos'])\n",
    "plt.scatter(feno_23[col_name], feno_23['real_pos'])\n",
    "plt.tight_layout()\n",
    "plt.show()"
   ]
  },
  {
   "cell_type": "code",
   "execution_count": null,
   "id": "06ce0720-32c4-4d9e-a01a-ed5ae10112b4",
   "metadata": {},
   "outputs": [],
   "source": []
  }
 ],
 "metadata": {
  "kernelspec": {
   "display_name": "tesis-venv",
   "language": "python",
   "name": "tesis-venv"
  },
  "language_info": {
   "codemirror_mode": {
    "name": "ipython",
    "version": 3
   },
   "file_extension": ".py",
   "mimetype": "text/x-python",
   "name": "python",
   "nbconvert_exporter": "python",
   "pygments_lexer": "ipython3",
   "version": "3.12.4"
  }
 },
 "nbformat": 4,
 "nbformat_minor": 5
}
