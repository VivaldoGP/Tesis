{
 "cells": [
  {
   "cell_type": "code",
   "execution_count": 1,
   "id": "9bf55c61-7a23-4a2c-9419-b4b1e08e1e30",
   "metadata": {},
   "outputs": [],
   "source": [
    "import pandas as pd\n",
    "import matplotlib.pyplot as plt"
   ]
  },
  {
   "cell_type": "markdown",
   "id": "dc2b4cf1-9b17-4105-a222-8f44851c7e59",
   "metadata": {},
   "source": [
    "# Metricas de los agroclimates"
   ]
  },
  {
   "cell_type": "code",
   "execution_count": 17,
   "id": "59fcfeef-d754-429c-9ac3-3556c7a29c76",
   "metadata": {},
   "outputs": [],
   "source": [
    "m = pd.read_csv(r'../metrics/holtwinters_agro_metrics/holtwinters_agroclimate_metrics.csv')"
   ]
  },
  {
   "cell_type": "code",
   "execution_count": 18,
   "id": "1bf9cce6-138f-46b7-9b1e-001278456ac9",
   "metadata": {},
   "outputs": [],
   "source": [
    "model_metric = m.groupby('variable').mean()"
   ]
  },
  {
   "cell_type": "code",
   "execution_count": 19,
   "id": "9ee08247-32e3-4694-bff8-32c4c40ca454",
   "metadata": {},
   "outputs": [
    {
     "data": {
      "text/html": [
       "<div>\n",
       "<style scoped>\n",
       "    .dataframe tbody tr th:only-of-type {\n",
       "        vertical-align: middle;\n",
       "    }\n",
       "\n",
       "    .dataframe tbody tr th {\n",
       "        vertical-align: top;\n",
       "    }\n",
       "\n",
       "    .dataframe thead th {\n",
       "        text-align: right;\n",
       "    }\n",
       "</style>\n",
       "<table border=\"1\" class=\"dataframe\">\n",
       "  <thead>\n",
       "    <tr style=\"text-align: right;\">\n",
       "      <th></th>\n",
       "      <th>parcela_id</th>\n",
       "      <th>r2</th>\n",
       "      <th>mse</th>\n",
       "      <th>rmse</th>\n",
       "      <th>aic</th>\n",
       "    </tr>\n",
       "    <tr>\n",
       "      <th>variable</th>\n",
       "      <th></th>\n",
       "      <th></th>\n",
       "      <th></th>\n",
       "      <th></th>\n",
       "      <th></th>\n",
       "    </tr>\n",
       "  </thead>\n",
       "  <tbody>\n",
       "    <tr>\n",
       "      <th>evapotranspiration</th>\n",
       "      <td>8.267</td>\n",
       "      <td>0.779</td>\n",
       "      <td>4.950000e-01</td>\n",
       "      <td>0.702</td>\n",
       "      <td>-451.405</td>\n",
       "    </tr>\n",
       "    <tr>\n",
       "      <th>relative_humidity</th>\n",
       "      <td>8.267</td>\n",
       "      <td>0.482</td>\n",
       "      <td>6.068900e+01</td>\n",
       "      <td>7.789</td>\n",
       "      <td>7606.106</td>\n",
       "    </tr>\n",
       "    <tr>\n",
       "      <th>solar_radiation</th>\n",
       "      <td>8.267</td>\n",
       "      <td>0.602</td>\n",
       "      <td>1.273865e+13</td>\n",
       "      <td>3569085.927</td>\n",
       "      <td>51221.810</td>\n",
       "    </tr>\n",
       "    <tr>\n",
       "      <th>temperature</th>\n",
       "      <td>8.267</td>\n",
       "      <td>0.850</td>\n",
       "      <td>3.251000e+00</td>\n",
       "      <td>1.803</td>\n",
       "      <td>2709.942</td>\n",
       "    </tr>\n",
       "  </tbody>\n",
       "</table>\n",
       "</div>"
      ],
      "text/plain": [
       "                    parcela_id     r2           mse         rmse        aic\n",
       "variable                                                                   \n",
       "evapotranspiration       8.267  0.779  4.950000e-01        0.702   -451.405\n",
       "relative_humidity        8.267  0.482  6.068900e+01        7.789   7606.106\n",
       "solar_radiation          8.267  0.602  1.273865e+13  3569085.927  51221.810\n",
       "temperature              8.267  0.850  3.251000e+00        1.803   2709.942"
      ]
     },
     "execution_count": 19,
     "metadata": {},
     "output_type": "execute_result"
    }
   ],
   "source": [
    "model_metric.round(decimals=3)"
   ]
  },
  {
   "cell_type": "markdown",
   "id": "17dec881-2064-444d-8880-5440abcca90f",
   "metadata": {},
   "source": [
    "## Métricas de validación para los modelos de las parcelas"
   ]
  },
  {
   "cell_type": "code",
   "execution_count": 2,
   "id": "cfc10b7e-56c2-4cc1-8796-5187f723bf5f",
   "metadata": {},
   "outputs": [],
   "source": [
    "z21 = r'../../results/metrics/zafra_vis_metrics/zafra2021_vis_metrics.csv'\n",
    "z22 = r'../../results/metrics/zafra_vis_metrics/zafra2022_vis_metrics.csv'\n",
    "z23 = r'../../results/metrics/zafra_vis_metrics/zafra2023_vis_metrics.csv'"
   ]
  },
  {
   "cell_type": "code",
   "execution_count": 3,
   "id": "0a17a5d3-d1a6-43f3-8516-1bd4b55afec4",
   "metadata": {},
   "outputs": [],
   "source": [
    "z21_df = pd.read_csv(z21)\n",
    "z22_df = pd.read_csv(z22)\n",
    "z23_df = pd.read_csv(z23)"
   ]
  },
  {
   "cell_type": "code",
   "execution_count": 32,
   "id": "a3fe4565-6dba-4e51-976d-193b4905eff3",
   "metadata": {},
   "outputs": [],
   "source": [
    "zafras = pd.concat([z21_df, z22_df, z23_df])\n",
    "zafras_mean = zafras.groupby('indice').mean()\n",
    "zafras_mean['new_index'] = zafras_mean.index.str.split('_').str[0].str.upper()\n",
    "zafras_mean = zafras_mean.set_index('new_index')"
   ]
  },
  {
   "cell_type": "code",
   "execution_count": 33,
   "id": "11c2fca2-cf21-49de-a3b4-86e8d78ea72d",
   "metadata": {},
   "outputs": [
    {
     "data": {
      "text/html": [
       "<div>\n",
       "<style scoped>\n",
       "    .dataframe tbody tr th:only-of-type {\n",
       "        vertical-align: middle;\n",
       "    }\n",
       "\n",
       "    .dataframe tbody tr th {\n",
       "        vertical-align: top;\n",
       "    }\n",
       "\n",
       "    .dataframe thead th {\n",
       "        text-align: right;\n",
       "    }\n",
       "</style>\n",
       "<table border=\"1\" class=\"dataframe\">\n",
       "  <thead>\n",
       "    <tr style=\"text-align: right;\">\n",
       "      <th></th>\n",
       "      <th>parcela_id</th>\n",
       "      <th>a</th>\n",
       "      <th>b</th>\n",
       "      <th>c</th>\n",
       "      <th>r2</th>\n",
       "      <th>r2_adj</th>\n",
       "      <th>mse</th>\n",
       "      <th>rmse</th>\n",
       "    </tr>\n",
       "    <tr>\n",
       "      <th>new_index</th>\n",
       "      <th></th>\n",
       "      <th></th>\n",
       "      <th></th>\n",
       "      <th></th>\n",
       "      <th></th>\n",
       "      <th></th>\n",
       "      <th></th>\n",
       "      <th></th>\n",
       "    </tr>\n",
       "  </thead>\n",
       "  <tbody>\n",
       "    <tr>\n",
       "      <th>CIRE</th>\n",
       "      <td>8.267</td>\n",
       "      <td>-0.0</td>\n",
       "      <td>0.018</td>\n",
       "      <td>-0.164</td>\n",
       "      <td>0.843</td>\n",
       "      <td>0.831</td>\n",
       "      <td>8.049</td>\n",
       "      <td>2.721</td>\n",
       "    </tr>\n",
       "    <tr>\n",
       "      <th>GNDVI</th>\n",
       "      <td>8.267</td>\n",
       "      <td>-0.0</td>\n",
       "      <td>0.003</td>\n",
       "      <td>0.245</td>\n",
       "      <td>0.881</td>\n",
       "      <td>0.872</td>\n",
       "      <td>0.220</td>\n",
       "      <td>0.456</td>\n",
       "    </tr>\n",
       "    <tr>\n",
       "      <th>MSI</th>\n",
       "      <td>8.267</td>\n",
       "      <td>0.0</td>\n",
       "      <td>-0.007</td>\n",
       "      <td>1.626</td>\n",
       "      <td>0.895</td>\n",
       "      <td>0.887</td>\n",
       "      <td>1.935</td>\n",
       "      <td>1.337</td>\n",
       "    </tr>\n",
       "    <tr>\n",
       "      <th>NDMI</th>\n",
       "      <td>8.267</td>\n",
       "      <td>-0.0</td>\n",
       "      <td>0.004</td>\n",
       "      <td>-0.271</td>\n",
       "      <td>0.901</td>\n",
       "      <td>0.894</td>\n",
       "      <td>0.476</td>\n",
       "      <td>0.667</td>\n",
       "    </tr>\n",
       "    <tr>\n",
       "      <th>NDRE1</th>\n",
       "      <td>8.267</td>\n",
       "      <td>-0.0</td>\n",
       "      <td>0.003</td>\n",
       "      <td>0.010</td>\n",
       "      <td>0.911</td>\n",
       "      <td>0.904</td>\n",
       "      <td>0.281</td>\n",
       "      <td>0.516</td>\n",
       "    </tr>\n",
       "    <tr>\n",
       "      <th>NDRE</th>\n",
       "      <td>8.267</td>\n",
       "      <td>-0.0</td>\n",
       "      <td>0.003</td>\n",
       "      <td>0.064</td>\n",
       "      <td>0.906</td>\n",
       "      <td>0.900</td>\n",
       "      <td>0.310</td>\n",
       "      <td>0.541</td>\n",
       "    </tr>\n",
       "    <tr>\n",
       "      <th>NDVI</th>\n",
       "      <td>8.267</td>\n",
       "      <td>-0.0</td>\n",
       "      <td>0.005</td>\n",
       "      <td>0.138</td>\n",
       "      <td>0.927</td>\n",
       "      <td>0.922</td>\n",
       "      <td>0.542</td>\n",
       "      <td>0.720</td>\n",
       "    </tr>\n",
       "  </tbody>\n",
       "</table>\n",
       "</div>"
      ],
      "text/plain": [
       "           parcela_id    a      b      c     r2  r2_adj    mse   rmse\n",
       "new_index                                                            \n",
       "CIRE            8.267 -0.0  0.018 -0.164  0.843   0.831  8.049  2.721\n",
       "GNDVI           8.267 -0.0  0.003  0.245  0.881   0.872  0.220  0.456\n",
       "MSI             8.267  0.0 -0.007  1.626  0.895   0.887  1.935  1.337\n",
       "NDMI            8.267 -0.0  0.004 -0.271  0.901   0.894  0.476  0.667\n",
       "NDRE1           8.267 -0.0  0.003  0.010  0.911   0.904  0.281  0.516\n",
       "NDRE            8.267 -0.0  0.003  0.064  0.906   0.900  0.310  0.541\n",
       "NDVI            8.267 -0.0  0.005  0.138  0.927   0.922  0.542  0.720"
      ]
     },
     "execution_count": 33,
     "metadata": {},
     "output_type": "execute_result"
    }
   ],
   "source": [
    "zafras_mean.round(decimals=3)"
   ]
  },
  {
   "cell_type": "markdown",
   "id": "bb11acea-edd5-426a-9ce7-c892d85c9507",
   "metadata": {},
   "source": [
    "### Gráficas"
   ]
  },
  {
   "cell_type": "code",
   "execution_count": 45,
   "id": "415cf823-ba61-405e-b902-278fe49ab203",
   "metadata": {},
   "outputs": [
    {
     "data": {
      "image/png": "[encoded data removed]",
      "text/plain": [
       "<Figure size 1000x1000 with 1 Axes>"
      ]
     },
     "metadata": {},
     "output_type": "display_data"
    }
   ],
   "source": [
    "plt.figure(figsize=(10, 10))\n",
    "plt.bar(zafras_mean.index, zafras_mean['rmse'], color='#BE3455', alpha=1)\n",
    "plt.ylabel('RMSE', fontsize=12)\n",
    "plt.xlabel('Variable', fontsize=12)\n",
    "plt.xticks(fontsize=14)\n",
    "plt.yticks(fontsize=12)\n",
    "plt.tight_layout()\n",
    "plt.savefig(r'../../tesis_img/metricas/vis_rmse.pdf', dpi=100)\n",
    "plt.show()"
   ]
  },
  {
   "cell_type": "code",
   "execution_count": null,
   "id": "0521d259-6501-4a75-851d-55c9edc002a0",
   "metadata": {},
   "outputs": [],
   "source": []
  }
 ],
 "metadata": {
  "kernelspec": {
   "display_name": "Python 3 (ipykernel)",
   "language": "python",
   "name": "python3"
  },
  "language_info": {
   "codemirror_mode": {
    "name": "ipython",
    "version": 3
   },
   "file_extension": ".py",
   "mimetype": "text/x-python",
   "name": "python",
   "nbconvert_exporter": "python",
   "pygments_lexer": "ipython3",
   "version": "3.12.4"
  }
 },
 "nbformat": 4,
 "nbformat_minor": 5
}
